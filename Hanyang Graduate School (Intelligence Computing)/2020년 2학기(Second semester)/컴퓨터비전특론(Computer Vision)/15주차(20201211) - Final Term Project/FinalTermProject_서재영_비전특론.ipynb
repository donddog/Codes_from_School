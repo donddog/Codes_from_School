{
 "cells": [
  {
   "cell_type": "code",
   "execution_count": 1,
   "metadata": {
    "id": "wioJMqX93dCv"
   },
   "outputs": [],
   "source": [
    "import numpy as np\n",
    "import pandas as pd\n",
    "import warnings\n",
    "\n",
    "from sklearn.metrics import accuracy_score\n",
    "from sklearn.model_selection import train_test_split\n",
    "from sklearn.ensemble import RandomForestClassifier\n",
    "from sklearn.metrics import classification_report\n",
    "\n",
    "warnings.filterwarnings('ignore')\n",
    "np.random.seed(1234)"
   ]
  },
  {
   "cell_type": "code",
   "execution_count": 2,
   "metadata": {
    "id": "7o3L5W3cb_Sj"
   },
   "outputs": [],
   "source": [
    "dataset = pd.read_excel('/content/drive/MyDrive/dataset_final_exam.xlsx') # 엑셀 파일은 MyDrive 위에 있다는 가정 하에 진행하였습니다."
   ]
  },
  {
   "cell_type": "code",
   "execution_count": 3,
   "metadata": {
    "id": "FcK_oglq3Y0I"
   },
   "outputs": [],
   "source": [
    "dataset['(in1)'] = dataset['(in1)'].replace(['F','M'],[0,1])\n",
    "dataset['(in1)'] = dataset['(in1)'].replace(['F ',' F'],[0,0])\n",
    "dataset['(in15)'] = dataset['(in15)'].fillna(130) # 15에서 값이 점진적으로 상향되고 있는 마지막 값이 130이다\n",
    "dataset['(in16)'] = dataset['(in16)'].fillna(0) # Variation이 있지만 데이터 보면 0이 많은 것으로 보아 0으로 채움\n",
    "dataset['(in22)'] = dataset['(in22)'].fillna(value = dataset['(in22)'].mean()) # 규칙찾기가 어려워 보편적인 평균값을 채워 넣음\n",
    "dataset['(in21)'] = dataset['(in21)'].fillna(value = dataset['(in21)'].mean()) # 규칙찾기가 어려워 보편적인 평균값을 채워 넣음\n",
    "dataset[['(in17)', '(in18)', '(in19)', '(in20)']] = dataset[['(in17)', '(in18)', '(in19)', '(in20)']].fillna(0)#17,18,19,20는 대부분 5단위로 되어 있어 평균값은 이 5단위로 나오지 않을 가능성이 있어서 0으로 채움\n",
    "dataset['(in3)'] = dataset['(in3)'].fillna(0) # 0 또는 1이어서 임의로 정함 \n",
    "dataset[['(in14)', '(in21)']] = dataset[['(in14)', '(in21)']].round(decimals=1)\n",
    "dataset[['(in2) ', '(in3)', '(in4)', '(in5)', '(in6)', '(in7)', '(in8)',\n",
    "       '(in9)', '(in10)', '(in11)', '(in12)', '(in13)', '(in15)',\n",
    "       '(in16)', '(in17)', '(in18)', '(in19)', '(in20)', '(in22)']] = dataset[['(in2) ', '(in3)', '(in4)', '(in5)', '(in6)', '(in7)', '(in8)',\n",
    "                                                                               '(in9)', '(in10)', '(in11)', '(in12)', '(in13)', '(in15)',\n",
    "                                                                               '(in16)', '(in17)', '(in18)', '(in19)', '(in20)', '(in22)']].astype(int)"
   ]
  },
  {
   "cell_type": "code",
   "execution_count": 4,
   "metadata": {
    "id": "t3k9rnKK3mUA"
   },
   "outputs": [],
   "source": [
    "new_train_data = pd.DataFrame(data=dataset.iloc[:760])\n",
    "new_test_data = pd.DataFrame(data=dataset.iloc[760:])"
   ]
  },
  {
   "cell_type": "code",
   "execution_count": 5,
   "metadata": {
    "id": "PirajhvL3mWx"
   },
   "outputs": [],
   "source": [
    "X = new_train_data[['(in1)', '(in2) ', '(in3)', '(in4)', '(in5)', '(in6)', '(in7)', '(in8)',\n",
    "       '(in9)', '(in10)', '(in11)', '(in12)', '(in13)', '(in14)', '(in15)',\n",
    "       '(in16)', '(in17)', '(in18)', '(in19)', '(in20)', '(in21)', '(in22)']]\n",
    "       \n",
    "Y = new_train_data['(Label)']"
   ]
  },
  {
   "cell_type": "code",
   "execution_count": 6,
   "metadata": {
    "id": "XL_Kej6O3maK"
   },
   "outputs": [],
   "source": [
    "test_X = new_test_data[['(in1)', '(in2) ', '(in3)', '(in4)', '(in5)', '(in6)', '(in7)', '(in8)', '(in9)', '(in10)',\n",
    "                    '(in11)', '(in12)', '(in13)', '(in14)', '(in15)', '(in16)', '(in17)', '(in18)', '(in19)', '(in20)', '(in21)', '(in22)']]"
   ]
  },
  {
   "cell_type": "code",
   "execution_count": 7,
   "metadata": {
    "id": "VEKU-6gb3r3m"
   },
   "outputs": [],
   "source": [
    "X_train, X_test, y_train, y_test = train_test_split(X,Y, test_size=0.2)"
   ]
  },
  {
   "cell_type": "code",
   "execution_count": 8,
   "metadata": {
    "id": "ygU-HMet4ZEE"
   },
   "outputs": [],
   "source": [
    "random_forest = RandomForestClassifier()\n",
    "model = random_forest.fit(X_train, y_train)"
   ]
  },
  {
   "cell_type": "code",
   "execution_count": 9,
   "metadata": {
    "colab": {
     "base_uri": "https://localhost:8080/"
    },
    "id": "rcKXzRpouWo-",
    "outputId": "0dcdd0ce-d144-4346-8019-2d08d791b52d"
   },
   "outputs": [
    {
     "name": "stdout",
     "output_type": "stream",
     "text": [
      "RandomForestClassifier(bootstrap=True, ccp_alpha=0.0, class_weight=None,\n",
      "                       criterion='gini', max_depth=None, max_features='auto',\n",
      "                       max_leaf_nodes=None, max_samples=None,\n",
      "                       min_impurity_decrease=0.0, min_impurity_split=None,\n",
      "                       min_samples_leaf=1, min_samples_split=2,\n",
      "                       min_weight_fraction_leaf=0.0, n_estimators=100,\n",
      "                       n_jobs=None, oob_score=False, random_state=None,\n",
      "                       verbose=0, warm_start=False)\n"
     ]
    }
   ],
   "source": [
    "print(model)"
   ]
  },
  {
   "cell_type": "code",
   "execution_count": 10,
   "metadata": {
    "colab": {
     "base_uri": "https://localhost:8080/"
    },
    "id": "wpb68lOW3r6R",
    "outputId": "413d3e9a-c1ca-498f-89bd-0dd22d8598e8"
   },
   "outputs": [
    {
     "name": "stdout",
     "output_type": "stream",
     "text": [
      "acc : 0.796\n",
      "              precision    recall  f1-score   support\n",
      "\n",
      "         0.0       0.84      0.61      0.70        61\n",
      "         1.0       0.78      0.92      0.84        91\n",
      "\n",
      "    accuracy                           0.80       152\n",
      "   macro avg       0.81      0.76      0.77       152\n",
      "weighted avg       0.80      0.80      0.79       152\n",
      "\n"
     ]
    }
   ],
   "source": [
    "prediction = model.predict(X_test)\n",
    "\n",
    "print(\"acc : %.3f\" % accuracy_score(y_test, prediction))\n",
    "print(classification_report(y_test, prediction))"
   ]
  },
  {
   "cell_type": "code",
   "execution_count": 11,
   "metadata": {
    "colab": {
     "base_uri": "https://localhost:8080/"
    },
    "id": "PBgOeBeu3r89",
    "outputId": "13e4c522-2f01-46f7-b266-9ca4f24df8f2"
   },
   "outputs": [
    {
     "name": "stdout",
     "output_type": "stream",
     "text": [
      "[1. 1. 1. 0. 0. 1. 0. 1. 1. 1. 1. 1. 1. 1. 1. 1. 1. 1. 1. 1. 1. 1. 1. 1.\n",
      " 1. 1. 1. 1. 1. 1. 1. 1. 1. 1. 0. 1. 0. 1. 0. 0.]\n"
     ]
    }
   ],
   "source": [
    "real_prediction = model.predict(test_X)\n",
    "\n",
    "print(real_prediction)"
   ]
  },
  {
   "cell_type": "code",
   "execution_count": 11,
   "metadata": {
    "id": "DmgZPvddchEj"
   },
   "outputs": [],
   "source": []
  }
 ],
 "metadata": {
  "colab": {
   "collapsed_sections": [],
   "name": "FinalTermProject_서재영_비전특론.ipynb",
   "provenance": []
  },
  "kernelspec": {
   "display_name": "Python 3",
   "language": "python",
   "name": "python3"
  },
  "language_info": {
   "codemirror_mode": {
    "name": "ipython",
    "version": 3
   },
   "file_extension": ".py",
   "mimetype": "text/x-python",
   "name": "python",
   "nbconvert_exporter": "python",
   "pygments_lexer": "ipython3",
   "version": "3.7.9"
  }
 },
 "nbformat": 4,
 "nbformat_minor": 1
}
