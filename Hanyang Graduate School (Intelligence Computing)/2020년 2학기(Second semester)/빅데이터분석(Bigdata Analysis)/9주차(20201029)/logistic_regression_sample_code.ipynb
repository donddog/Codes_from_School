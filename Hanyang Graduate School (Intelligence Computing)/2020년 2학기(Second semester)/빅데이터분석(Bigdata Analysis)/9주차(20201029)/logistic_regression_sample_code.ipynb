{
 "cells": [
  {
   "cell_type": "code",
   "execution_count": 1,
   "metadata": {},
   "outputs": [],
   "source": [
    "import pandas as pd\n",
    "import warnings\n",
    "\n",
    "warnings.filterwarnings(action='ignore')\n",
    "\n",
    "data = pd.read_csv('ctr_data_20000.csv')"
   ]
  },
  {
   "cell_type": "code",
   "execution_count": 2,
   "metadata": {},
   "outputs": [],
   "source": [
    "data = data.drop(['id','hour','device_id','device_ip'], axis=1)\n",
    "\n",
    "X = data.loc[:, data.columns != 'click'].astype('str')\n",
    "y = data.loc[:, data.columns == 'click'].astype('int').values.ravel()\n",
    "\n",
    "X_dic = X.to_dict('records')"
   ]
  },
  {
   "cell_type": "code",
   "execution_count": 3,
   "metadata": {},
   "outputs": [],
   "source": [
    "from sklearn.feature_extraction import DictVectorizer\n",
    "\n",
    "one_hot_encoder = DictVectorizer()\n",
    "\n",
    "onehot_X = one_hot_encoder.fit_transform(X_dic)"
   ]
  },
  {
   "cell_type": "code",
   "execution_count": 4,
   "metadata": {},
   "outputs": [],
   "source": [
    "from sklearn.linear_model import LogisticRegression\n",
    "from sklearn.metrics import classification_report\n",
    "\n",
    "train_X, test_X = onehot_X[0:15000], onehot_X[15000:]\n",
    "train_y, test_y = y[0:15000], y[15000:]\n",
    "\n",
    "lg_model = LogisticRegression()\n",
    "\n",
    "lg_model.fit(train_X, train_y)\n",
    "\n",
    "prediction = lg_model.predict(test_X)"
   ]
  },
  {
   "cell_type": "code",
   "execution_count": 5,
   "metadata": {},
   "outputs": [
    {
     "name": "stdout",
     "output_type": "stream",
     "text": [
      "              precision    recall  f1-score   support\n",
      "\n",
      "           0       0.84      0.97      0.90      4141\n",
      "           1       0.46      0.12      0.20       859\n",
      "\n",
      "    accuracy                           0.82      5000\n",
      "   macro avg       0.65      0.55      0.55      5000\n",
      "weighted avg       0.78      0.82      0.78      5000\n",
      "\n"
     ]
    }
   ],
   "source": [
    "print(classification_report(test_y, prediction))"
   ]
  },
  {
   "cell_type": "code",
   "execution_count": 6,
   "metadata": {},
   "outputs": [],
   "source": [
    "from sklearn.linear_model import SGDClassifier\n",
    "\n",
    "train_X, test_X = onehot_X[0:15000], onehot_X[15000:]\n",
    "train_y, test_y = y[0:15000], y[15000:]\n",
    "\n",
    "sgd_lg_model = SGDClassifier(loss='log', eta0=0.01, alpha=1e-04, fit_intercept=True, penalty='l1')\n",
    "\n",
    "sgd_lg_model.fit(train_X, train_y)\n",
    "\n",
    "prediction = sgd_lg_model.predict(test_X)"
   ]
  },
  {
   "cell_type": "code",
   "execution_count": 7,
   "metadata": {},
   "outputs": [
    {
     "name": "stdout",
     "output_type": "stream",
     "text": [
      "              precision    recall  f1-score   support\n",
      "\n",
      "           0       0.84      0.97      0.90      4141\n",
      "           1       0.49      0.13      0.20       859\n",
      "\n",
      "    accuracy                           0.83      5000\n",
      "   macro avg       0.67      0.55      0.55      5000\n",
      "weighted avg       0.78      0.83      0.78      5000\n",
      "\n"
     ]
    }
   ],
   "source": [
    "print(classification_report(test_y, prediction))"
   ]
  },
  {
   "cell_type": "code",
   "execution_count": null,
   "metadata": {},
   "outputs": [],
   "source": []
  }
 ],
 "metadata": {
  "kernelspec": {
   "display_name": "Python 3",
   "language": "python",
   "name": "python3"
  },
  "language_info": {
   "codemirror_mode": {
    "name": "ipython",
    "version": 3
   },
   "file_extension": ".py",
   "mimetype": "text/x-python",
   "name": "python",
   "nbconvert_exporter": "python",
   "pygments_lexer": "ipython3",
   "version": "3.7.9"
  }
 },
 "nbformat": 4,
 "nbformat_minor": 4
}
