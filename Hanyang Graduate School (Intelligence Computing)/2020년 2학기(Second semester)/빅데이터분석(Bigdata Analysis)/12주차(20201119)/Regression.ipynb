{
 "cells": [
  {
   "cell_type": "code",
   "execution_count": 1,
   "metadata": {},
   "outputs": [
    {
     "name": "stdout",
     "output_type": "stream",
     "text": [
      "(442, 10)\n"
     ]
    }
   ],
   "source": [
    "from sklearn import datasets\n",
    "\n",
    "diabetes = datasets.load_diabetes()\n",
    "\n",
    "print(diabetes.data.shape)"
   ]
  },
  {
   "cell_type": "code",
   "execution_count": 2,
   "metadata": {},
   "outputs": [],
   "source": [
    "import numpy as np\n",
    "\n",
    "train_ratio = 0.9\n",
    "idx = np.random.choice(np.arange(diabetes.data.shape[0]), int(diabetes.data.shape[0] * train_ratio), replace = False)\n",
    "\n",
    "train_X01 = diabetes.data[idx]\n",
    "train_y01 = diabetes.target[idx]\n",
    "\n",
    "test_X01 = np.delete(diabetes.data, idx, axis=0)\n",
    "test_y01 = np.delete(diabetes.target, idx, axis=0)"
   ]
  },
  {
   "cell_type": "code",
   "execution_count": 3,
   "metadata": {},
   "outputs": [
    {
     "name": "stdout",
     "output_type": "stream",
     "text": [
      "[169.53829152 184.20899092 118.32727946 264.03532087 103.29831215\n",
      " 144.00051716 164.42171782 137.5407504   88.35273472 108.69374624\n",
      " 140.9261205  202.23184594 144.7248104  212.22731749  81.79233418\n",
      " 122.0648094  227.8004687  133.30132261 184.55741562 209.64005931\n",
      "  81.85539974 164.89509494  69.40449448 108.84020714 113.85084925\n",
      "  95.58282581 184.43429079 197.72591696 126.587865    72.89596986\n",
      " 152.39394577  76.90759293 179.47512002 117.32496071 127.33164676\n",
      " 107.59693902 124.23898587 200.82138462 163.39559126 114.7264768\n",
      " 163.34404552  95.66996189 134.76094866 252.95631594 136.64360166]\n"
     ]
    }
   ],
   "source": [
    "from sklearn.linear_model import SGDRegressor\n",
    "\n",
    "regressor01 = SGDRegressor(loss='squared_loss', penalty = 'l2', alpha = 0.0001, learning_rate='constant', eta0 = 0.01)\n",
    "\n",
    "regressor01.fit(train_X01, train_y01)\n",
    "\n",
    "predictions01 = regressor01.predict(test_X01)\n",
    "\n",
    "print(predictions01)"
   ]
  },
  {
   "cell_type": "code",
   "execution_count": 4,
   "metadata": {},
   "outputs": [
    {
     "name": "stdout",
     "output_type": "stream",
     "text": [
      "MSE: 2495.30389355357\n",
      "MAE: 42.93605091994346\n",
      "R squared: 0.48165207078535255\n"
     ]
    }
   ],
   "source": [
    "from sklearn.metrics import mean_squared_error\n",
    "from sklearn.metrics import mean_absolute_error\n",
    "from sklearn.metrics import r2_score\n",
    "\n",
    "print('MSE: {}'.format(mean_squared_error(test_y01, predictions01)))\n",
    "print('MAE: {}'.format(mean_absolute_error(test_y01, predictions01)))\n",
    "print('R squared: {}'.format(r2_score(test_y01, predictions01)))"
   ]
  },
  {
   "cell_type": "code",
   "execution_count": 5,
   "metadata": {},
   "outputs": [
    {
     "name": "stdout",
     "output_type": "stream",
     "text": [
      "(506, 13)\n"
     ]
    }
   ],
   "source": [
    "from sklearn import datasets\n",
    "\n",
    "boston = datasets.load_boston()\n",
    "\n",
    "print(boston.data.shape)"
   ]
  },
  {
   "cell_type": "code",
   "execution_count": 6,
   "metadata": {},
   "outputs": [],
   "source": [
    "import numpy as np\n",
    "\n",
    "train_ratio = 0.9\n",
    "\n",
    "idx = np.random.choice(np.arange(boston.data.shape[0]), int(boston.data.shape[0] * train_ratio), replace = False)\n",
    "\n",
    "train_X02 = boston.data[idx]\n",
    "train_y02 = boston.target[idx]\n",
    "\n",
    "test_X02 = np.delete(boston.data, idx, axis=0)\n",
    "test_y02 = np.delete(boston.target, idx, axis=0)"
   ]
  },
  {
   "cell_type": "code",
   "execution_count": 7,
   "metadata": {},
   "outputs": [
    {
     "name": "stdout",
     "output_type": "stream",
     "text": [
      "[17.45       21.10769231 35.775      24.08       28.2        24.8\n",
      " 23.015625   30.08333333 19.43333333 50.         28.         28.2\n",
      " 39.25       15.05       18.89090909 23.3        31.9        23.015625\n",
      " 27.5        31.55       22.33333333 27.5        23.015625   24.\n",
      " 18.7        23.3        18.89090909 18.89090909 23.015625   24.\n",
      " 24.         24.         23.015625   24.         13.92857143 16.15\n",
      " 17.61818182 14.75       50.         14.1         6.9        10.5\n",
      " 11.3        13.92857143  8.8        10.5        10.5         8.4\n",
      " 13.92857143 10.5         6.9       ]\n"
     ]
    }
   ],
   "source": [
    "from sklearn.tree import DecisionTreeRegressor\n",
    "\n",
    "regressor02 = DecisionTreeRegressor(max_depth = 10, min_samples_split=3)\n",
    "\n",
    "regressor02.fit(train_X02, train_y02)\n",
    "\n",
    "predictions02 = regressor02.predict(test_X02)\n",
    "\n",
    "print(predictions02)"
   ]
  },
  {
   "cell_type": "code",
   "execution_count": 8,
   "metadata": {},
   "outputs": [
    {
     "name": "stdout",
     "output_type": "stream",
     "text": [
      "MSE: 16.670238724329483\n",
      "MAE: 3.0489448092756914\n",
      "R squared: 0.8389909927727424\n"
     ]
    }
   ],
   "source": [
    "from sklearn.metrics import mean_squared_error\n",
    "from sklearn.metrics import mean_absolute_error\n",
    "from sklearn.metrics import r2_score\n",
    "\n",
    "print('MSE: {}'.format(mean_squared_error(test_y02, predictions02)))\n",
    "print('MAE: {}'.format(mean_absolute_error(test_y02, predictions02)))\n",
    "print('R squared: {}'.format(r2_score(test_y02, predictions02)))"
   ]
  },
  {
   "cell_type": "code",
   "execution_count": 9,
   "metadata": {},
   "outputs": [
    {
     "name": "stdout",
     "output_type": "stream",
     "text": [
      "[16.13537228 21.33701212 24.02732975 24.41338124 25.58320417 24.36879959\n",
      " 24.3128795  28.34486557 21.97774861 33.31343537 26.05226015 28.35347821\n",
      " 33.5403036  11.97465695 19.73516933 27.25858548 30.47925    23.38880143\n",
      " 27.07605348 32.79947878 26.68546446 26.58903426 22.82752004 29.72007259\n",
      " 18.58479771 24.27567322 17.46741644 18.45436695 23.74523909 22.32401108\n",
      " 29.10897802 28.69914799 19.85846763 28.01344315 17.84061313 22.91870767\n",
      " 18.62372705  8.76478857 27.19302729 22.42534033  5.54169543 13.67239323\n",
      " 16.81109386 18.87406521 10.68910193 16.37115542 11.31980596  5.4984813\n",
      " 18.39037868  8.1082274   4.80472707]\n"
     ]
    }
   ],
   "source": [
    "from sklearn.svm import SVR\n",
    "\n",
    "regressor03 = SVR(C = 0.1, epsilon = 0.02, kernel = 'linear')\n",
    "\n",
    "regressor03.fit(train_X02, train_y02)\n",
    "\n",
    "predictions03 = regressor03.predict(test_X02)\n",
    "\n",
    "print(predictions03)"
   ]
  },
  {
   "cell_type": "code",
   "execution_count": 10,
   "metadata": {},
   "outputs": [
    {
     "name": "stdout",
     "output_type": "stream",
     "text": [
      "MSE: 41.10421172432103\n",
      "MAE: 4.340915086322403\n",
      "R squared: 0.6029961878750401\n"
     ]
    }
   ],
   "source": [
    "from sklearn.metrics import mean_squared_error\n",
    "from sklearn.metrics import mean_absolute_error\n",
    "from sklearn.metrics import r2_score\n",
    "\n",
    "print('MSE: {}'.format(mean_squared_error(test_y02, predictions03)))\n",
    "print('MAE: {}'.format(mean_absolute_error(test_y02, predictions03)))\n",
    "print('R squared: {}'.format(r2_score(test_y02, predictions03)))"
   ]
  },
  {
   "cell_type": "code",
   "execution_count": null,
   "metadata": {},
   "outputs": [],
   "source": []
  }
 ],
 "metadata": {
  "kernelspec": {
   "display_name": "Python 3",
   "language": "python",
   "name": "python3"
  },
  "language_info": {
   "codemirror_mode": {
    "name": "ipython",
    "version": 3
   },
   "file_extension": ".py",
   "mimetype": "text/x-python",
   "name": "python",
   "nbconvert_exporter": "python",
   "pygments_lexer": "ipython3",
   "version": "3.7.9"
  }
 },
 "nbformat": 4,
 "nbformat_minor": 4
}
