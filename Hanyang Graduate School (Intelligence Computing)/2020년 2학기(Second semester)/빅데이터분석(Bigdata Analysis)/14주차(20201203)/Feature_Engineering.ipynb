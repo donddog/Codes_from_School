{
 "cells": [
  {
   "cell_type": "code",
   "execution_count": 1,
   "metadata": {},
   "outputs": [
    {
     "data": {
      "text/html": [
       "<div>\n",
       "<style scoped>\n",
       "    .dataframe tbody tr th:only-of-type {\n",
       "        vertical-align: middle;\n",
       "    }\n",
       "\n",
       "    .dataframe tbody tr th {\n",
       "        vertical-align: top;\n",
       "    }\n",
       "\n",
       "    .dataframe thead th {\n",
       "        text-align: right;\n",
       "    }\n",
       "</style>\n",
       "<table border=\"1\" class=\"dataframe\">\n",
       "  <thead>\n",
       "    <tr style=\"text-align: right;\">\n",
       "      <th></th>\n",
       "      <th>Date</th>\n",
       "      <th>Open</th>\n",
       "      <th>High</th>\n",
       "      <th>Low</th>\n",
       "      <th>Close</th>\n",
       "      <th>Volume</th>\n",
       "    </tr>\n",
       "  </thead>\n",
       "  <tbody>\n",
       "    <tr>\n",
       "      <th>0</th>\n",
       "      <td>2003-01-20</td>\n",
       "      <td>41.55</td>\n",
       "      <td>41.99</td>\n",
       "      <td>41.39</td>\n",
       "      <td>41.39</td>\n",
       "      <td>2454991.0</td>\n",
       "    </tr>\n",
       "    <tr>\n",
       "      <th>1</th>\n",
       "      <td>2003-01-21</td>\n",
       "      <td>41.70</td>\n",
       "      <td>42.02</td>\n",
       "      <td>40.33</td>\n",
       "      <td>40.40</td>\n",
       "      <td>3279902.0</td>\n",
       "    </tr>\n",
       "    <tr>\n",
       "      <th>2</th>\n",
       "      <td>2003-01-22</td>\n",
       "      <td>40.40</td>\n",
       "      <td>40.95</td>\n",
       "      <td>38.32</td>\n",
       "      <td>38.75</td>\n",
       "      <td>4568929.0</td>\n",
       "    </tr>\n",
       "    <tr>\n",
       "      <th>3</th>\n",
       "      <td>2003-01-23</td>\n",
       "      <td>38.89</td>\n",
       "      <td>39.50</td>\n",
       "      <td>38.32</td>\n",
       "      <td>38.70</td>\n",
       "      <td>3879946.0</td>\n",
       "    </tr>\n",
       "    <tr>\n",
       "      <th>4</th>\n",
       "      <td>2003-01-24</td>\n",
       "      <td>38.77</td>\n",
       "      <td>38.92</td>\n",
       "      <td>36.66</td>\n",
       "      <td>36.93</td>\n",
       "      <td>5196923.0</td>\n",
       "    </tr>\n",
       "  </tbody>\n",
       "</table>\n",
       "</div>"
      ],
      "text/plain": [
       "         Date   Open   High    Low  Close     Volume\n",
       "0  2003-01-20  41.55  41.99  41.39  41.39  2454991.0\n",
       "1  2003-01-21  41.70  42.02  40.33  40.40  3279902.0\n",
       "2  2003-01-22  40.40  40.95  38.32  38.75  4568929.0\n",
       "3  2003-01-23  38.89  39.50  38.32  38.70  3879946.0\n",
       "4  2003-01-24  38.77  38.92  36.66  36.93  5196923.0"
      ]
     },
     "execution_count": 1,
     "metadata": {},
     "output_type": "execute_result"
    }
   ],
   "source": [
    "import pandas as pd\n",
    "\n",
    "df = pd.read_csv('stockmarket.csv')\n",
    "\n",
    "df.head()"
   ]
  },
  {
   "cell_type": "code",
   "execution_count": 2,
   "metadata": {},
   "outputs": [],
   "source": [
    "df_new = pd.DataFrame()\n",
    "\n",
    "df_new['open'] = df['Open']\n",
    "df_new['date'] = df['Date']\n",
    "\n",
    "df_new['open_1'] = df['Open'].shift(1)\n",
    "df_new['close_1'] = df['Close'].shift(1)\n",
    "df_new['high_1'] = df['High'].shift(1)\n",
    "df_new['low_1'] = df['Low'].shift(1)\n",
    "df_new['volume_1'] = df['Volume'].shift(1)"
   ]
  },
  {
   "cell_type": "code",
   "execution_count": 3,
   "metadata": {},
   "outputs": [],
   "source": [
    "df_new['avg_price_7'] = df['Close'].rolling(window = 5).mean().shift(1)\n",
    "df_new['avg_price_30'] = df['Close'].rolling(window = 20).mean().shift(1)\n",
    "df_new['avg_price_365'] = df['Close'].rolling(window = 240).mean().shift(1)"
   ]
  },
  {
   "cell_type": "code",
   "execution_count": 4,
   "metadata": {},
   "outputs": [],
   "source": [
    "df_new['avg_volume_5'] = df['Close'].rolling(window = 5).mean().shift(1)\n",
    "df_new['avg_volume_30'] = df['Close'].rolling(window = 20).mean().shift(1)\n",
    "df_new['avg_volume_365'] = df['Close'].rolling(window = 240).mean().shift(1)"
   ]
  },
  {
   "cell_type": "code",
   "execution_count": 5,
   "metadata": {},
   "outputs": [],
   "source": [
    "df_new['ratio_avg_volume_5_30'] = df_new['avg_volume_5'] / df_new['avg_volume_30']\n",
    "df_new['ratio_avg_volume_5_365'] = df_new['avg_volume_5'] / df_new['avg_volume_30']\n",
    "df_new['ratio_avg_volume_30_365'] = df_new['avg_volume_30'] / df_new['avg_volume_365']"
   ]
  },
  {
   "cell_type": "code",
   "execution_count": 6,
   "metadata": {},
   "outputs": [],
   "source": [
    "df_new['std_price_5'] = df['Close'].rolling(window = 5).std().shift(1)\n",
    "df_new['std_price_30'] = df['Close'].rolling(window = 20).std().shift(1)\n",
    "df_new['std_price_365'] = df['Close'].rolling(window = 240).std().shift(1)"
   ]
  },
  {
   "cell_type": "code",
   "execution_count": 7,
   "metadata": {},
   "outputs": [],
   "source": [
    "df_new['ratio_std_price_5_30'] = df_new['std_price_5'] / df_new['std_price_30']\n",
    "df_new['ratio_std_price_5_365'] = df_new['std_price_5'] / df_new['std_price_365']\n",
    "df_new['ratio_std_price_30_365'] = df_new['std_price_30'] / df_new['std_price_365']"
   ]
  },
  {
   "cell_type": "code",
   "execution_count": 8,
   "metadata": {},
   "outputs": [],
   "source": [
    "df_new['std_volume_5'] = df['Close'].rolling(window = 5).std().shift(1)\n",
    "df_new['std_volume_30'] = df['Close'].rolling(window = 20).std().shift(1)\n",
    "df_new['std_volume_365'] = df['Close'].rolling(window = 240).std().shift(1)"
   ]
  },
  {
   "cell_type": "code",
   "execution_count": 9,
   "metadata": {},
   "outputs": [],
   "source": [
    "df_new['ratio_std_volume_5_30'] = df_new['std_volume_5'] / df_new['std_volume_30']\n",
    "df_new['ratio_std_volume_5_365'] = df_new['std_volume_5'] / df_new['std_volume_365']\n",
    "df_new['ratio_std_volume_30_365'] = df_new['std_volume_30'] / df_new['std_volume_365']"
   ]
  },
  {
   "cell_type": "code",
   "execution_count": 10,
   "metadata": {},
   "outputs": [],
   "source": [
    "df_new['return_1']=((df['Close'].shift(1)) / df['Close'].shift(1)).shift(1)\n",
    "df_new['return_5']=((df['Close'].shift(5)) / df['Close'].shift(5)).shift(1)\n",
    "df_new['return_30']=((df['Close'].shift(20)) / df['Close'].shift(20)).shift(1)\n",
    "df_new['return_30']=((df['Close'].shift(240)) / df['Close'].shift(240)).shift(1)"
   ]
  },
  {
   "cell_type": "code",
   "execution_count": 11,
   "metadata": {},
   "outputs": [],
   "source": [
    "df_new['moving_avg_5'] = df_new['return_1'].rolling(window = 5).mean().shift(1)\n",
    "df_new['moving_avg_30'] = df_new['return_1'].rolling(window = 5).mean().shift(20)\n",
    "df_new['moving_avg_365'] = df_new['return_1'].rolling(window = 5).mean().shift(240)"
   ]
  },
  {
   "cell_type": "code",
   "execution_count": 12,
   "metadata": {},
   "outputs": [],
   "source": [
    "df_new['close'] = df['Close']\n",
    "df_new['date'] = df['Date']\n",
    "df_new = df_new.dropna(axis= 0)"
   ]
  },
  {
   "cell_type": "code",
   "execution_count": 13,
   "metadata": {},
   "outputs": [],
   "source": [
    "train_data = df_new[df_new['date'] <= '2016-12-31']\n",
    "test_data = df_new[df_new['date'] <= '2017-01-01']"
   ]
  },
  {
   "cell_type": "code",
   "execution_count": 14,
   "metadata": {},
   "outputs": [],
   "source": [
    "x_train_data = train_data.drop(['close', 'date'], axis=1)\n",
    "y_train_data = train_data['close']\n",
    "\n",
    "x_test_data = test_data.drop(['close', 'date'], axis=1)\n",
    "y_test_data = test_data['close']"
   ]
  },
  {
   "cell_type": "code",
   "execution_count": 15,
   "metadata": {},
   "outputs": [],
   "source": [
    "from sklearn.preprocessing import StandardScaler\n",
    "\n",
    "scaler = StandardScaler()\n",
    "\n",
    "x_scaled_train = scaler.fit_transform(x_train_data)\n",
    "x_scaled_test = scaler.transform(x_test_data)"
   ]
  },
  {
   "cell_type": "code",
   "execution_count": 16,
   "metadata": {},
   "outputs": [
    {
     "name": "stdout",
     "output_type": "stream",
     "text": [
      "{'alpha': 1e-05, 'eta0': 0.01}\n"
     ]
    }
   ],
   "source": [
    "from sklearn.linear_model import SGDRegressor\n",
    "from sklearn.model_selection import GridSearchCV\n",
    "\n",
    "param_grid = {'alpha' : [3e-06, 1e-5, 3e-5], 'eta0' : [0.01, 0.03, 0.1]}\n",
    "\n",
    "lr = SGDRegressor(penalty='l2')\n",
    "\n",
    "grid_search = GridSearchCV(lr, param_grid, cv=5, scoring= 'neg_mean_absolute_error')\n",
    "\n",
    "grid_search.fit(x_scaled_train, y_train_data)\n",
    "\n",
    "print(grid_search.best_params_)"
   ]
  },
  {
   "cell_type": "code",
   "execution_count": 17,
   "metadata": {},
   "outputs": [
    {
     "name": "stdout",
     "output_type": "stream",
     "text": [
      "MSE: 1.681664142871937\n",
      "MAE:0.5186458365354135\n",
      "R squared:0.9988925242025897\n"
     ]
    }
   ],
   "source": [
    "from sklearn.metrics import mean_squared_error\n",
    "from sklearn.metrics import mean_absolute_error\n",
    "from sklearn.metrics import r2_score\n",
    "\n",
    "lr_best = grid_search.best_estimator_\n",
    "\n",
    "predictions = lr_best.predict(x_scaled_test)\n",
    "\n",
    "print('MSE: {}'.format(mean_squared_error(y_test_data,predictions)))\n",
    "print('MAE:{}'.format(mean_absolute_error(y_test_data,predictions)))\n",
    "print('R squared:{}'.format(r2_score(y_test_data,predictions)))"
   ]
  },
  {
   "cell_type": "code",
   "execution_count": null,
   "metadata": {},
   "outputs": [],
   "source": []
  }
 ],
 "metadata": {
  "kernelspec": {
   "display_name": "Python 3",
   "language": "python",
   "name": "python3"
  },
  "language_info": {
   "codemirror_mode": {
    "name": "ipython",
    "version": 3
   },
   "file_extension": ".py",
   "mimetype": "text/x-python",
   "name": "python",
   "nbconvert_exporter": "python",
   "pygments_lexer": "ipython3",
   "version": "3.7.9"
  }
 },
 "nbformat": 4,
 "nbformat_minor": 4
}
