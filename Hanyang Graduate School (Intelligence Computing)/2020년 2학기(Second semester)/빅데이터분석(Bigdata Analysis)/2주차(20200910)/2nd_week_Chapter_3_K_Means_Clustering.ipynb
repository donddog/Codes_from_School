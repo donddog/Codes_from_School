{
 "cells": [
  {
   "cell_type": "code",
   "execution_count": 1,
   "metadata": {},
   "outputs": [],
   "source": [
    "from sklearn.datasets import fetch_20newsgroups\n",
    "\n",
    "groups = fetch_20newsgroups()"
   ]
  },
  {
   "cell_type": "code",
   "execution_count": 2,
   "metadata": {},
   "outputs": [],
   "source": [
    "lowercased_data = [post.lower() for post in groups.data]"
   ]
  },
  {
   "cell_type": "code",
   "execution_count": 3,
   "metadata": {},
   "outputs": [],
   "source": [
    "from nltk.stem import WordNetLemmatizer\n",
    "\n",
    "lemmatizer = WordNetLemmatizer()\n",
    "lemmatized_data = [lemmatizer.lemmatize(post) for post in lowercased_data]"
   ]
  },
  {
   "cell_type": "code",
   "execution_count": 4,
   "metadata": {},
   "outputs": [
    {
     "name": "stderr",
     "output_type": "stream",
     "text": [
      "[nltk_data] Downloading package names to\n",
      "[nltk_data]     C:\\Users\\Jae\\AppData\\Roaming\\nltk_data...\n",
      "[nltk_data]   Package names is already up-to-date!\n"
     ]
    }
   ],
   "source": [
    "import nltk\n",
    "from nltk.corpus import names\n",
    "\n",
    "nltk.download('names')\n",
    "\n",
    "all_names = set(names.words())\n",
    "clean_data = []\n",
    "\n",
    "for post in lemmatized_data:\n",
    "    processed_words = [word for word in post.split() if word.isalpha() and word not in all_names]\n",
    "    clean_data += [' '.join(processed_words)]"
   ]
  },
  {
   "cell_type": "code",
   "execution_count": 5,
   "metadata": {},
   "outputs": [],
   "source": [
    "from sklearn.feature_extraction.text import TfidfVectorizer\n",
    "\n",
    "tfidfv = TfidfVectorizer(max_features=100, stop_words='english')\n",
    "tfidfv_model = tfidfv.fit(clean_data)\n",
    "tfidfv_result = tfidfv_model.transform(clean_data)"
   ]
  },
  {
   "cell_type": "code",
   "execution_count": 6,
   "metadata": {},
   "outputs": [
    {
     "data": {
      "text/plain": [
       "array([[0.01279041, 0.03671423, 0.04553413, ..., 0.02045444, 0.00352498,\n",
       "        0.00101151],\n",
       "       [0.01020255, 0.01042891, 0.36699647, ..., 0.05976586, 0.00374708,\n",
       "        0.02448904],\n",
       "       [0.01450935, 0.01877916, 0.06238384, ..., 0.04010643, 0.01089007,\n",
       "        0.02700873],\n",
       "       ...,\n",
       "       [0.02750952, 0.00963447, 0.07991702, ..., 0.03824256, 0.00459305,\n",
       "        0.01778151],\n",
       "       [0.01709696, 0.0279293 , 0.02744539, ..., 0.04275721, 0.00370452,\n",
       "        0.02083363],\n",
       "       [0.0142794 , 0.00505671, 0.08719144, ..., 0.02954265, 0.46950149,\n",
       "        0.05461986]])"
      ]
     },
     "execution_count": 6,
     "metadata": {},
     "output_type": "execute_result"
    }
   ],
   "source": [
    "from sklearn.cluster import KMeans\n",
    "\n",
    "km = KMeans(n_clusters=20)\n",
    "km_model = km.fit(tfidfv_result)\n",
    "\n",
    "km_model.cluster_centers_"
   ]
  },
  {
   "cell_type": "code",
   "execution_count": 7,
   "metadata": {},
   "outputs": [],
   "source": [
    "km_result = km_model.transform(tfidfv_result)"
   ]
  },
  {
   "cell_type": "code",
   "execution_count": 8,
   "metadata": {},
   "outputs": [
    {
     "data": {
      "text/plain": [
       "array([1.15628523, 1.06767401, 1.18474668, 1.11426632, 1.00776351,\n",
       "       1.11483515, 0.58374271, 1.09934949, 1.10162618, 1.06033742,\n",
       "       1.10298846, 1.17331082, 1.16974802, 1.16240533, 1.15777172,\n",
       "       1.05369281, 1.09446916, 1.09288474, 1.00971007, 1.10061973])"
      ]
     },
     "execution_count": 8,
     "metadata": {},
     "output_type": "execute_result"
    }
   ],
   "source": [
    "km_result[0]"
   ]
  },
  {
   "cell_type": "code",
   "execution_count": 9,
   "metadata": {},
   "outputs": [
    {
     "data": {
      "text/plain": [
       "6"
      ]
     },
     "execution_count": 9,
     "metadata": {},
     "output_type": "execute_result"
    }
   ],
   "source": [
    "import numpy as np\n",
    "\n",
    "np.argmin(km_result[0])"
   ]
  },
  {
   "cell_type": "code",
   "execution_count": null,
   "metadata": {},
   "outputs": [],
   "source": []
  }
 ],
 "metadata": {
  "kernelspec": {
   "display_name": "Python 3",
   "language": "python",
   "name": "python3"
  },
  "language_info": {
   "codemirror_mode": {
    "name": "ipython",
    "version": 3
   },
   "file_extension": ".py",
   "mimetype": "text/x-python",
   "name": "python",
   "nbconvert_exporter": "python",
   "pygments_lexer": "ipython3",
   "version": "3.7.9"
  }
 },
 "nbformat": 4,
 "nbformat_minor": 4
}
