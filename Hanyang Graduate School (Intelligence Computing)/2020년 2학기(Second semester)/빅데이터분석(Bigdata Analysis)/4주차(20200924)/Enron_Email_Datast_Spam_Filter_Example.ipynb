{
 "cells": [
  {
   "cell_type": "code",
   "execution_count": 1,
   "metadata": {},
   "outputs": [],
   "source": [
    "file_path = 'enron1/ham/0007.1999-12-14.farmer.ham.txt'\n",
    "\n",
    "with open(file_path, 'r') as infile:\n",
    "    ham_sample = infile.read()\n",
    "    \n",
    "print(ham_sample)"
   ]
  },
  {
   "cell_type": "code",
   "execution_count": 2,
   "metadata": {},
   "outputs": [],
   "source": [
    "import glob\n",
    "\n",
    "mails = []\n",
    "labels = []\n",
    "\n",
    "for filename in glob.glob('enron1/spam/*.txt'):\n",
    "    with open(filename, 'r', encoding='iso-8859-1') as infile:\n",
    "        mails += [infile.read()]\n",
    "        labels += [1]\n",
    "        \n",
    "for filename in glob.glob('enron1/ham/*.txt'):\n",
    "    with open(filename, 'r', encoding='iso-8859-1') as infile:\n",
    "        mails += [infile.read()]\n",
    "        labels += [0]"
   ]
  },
  {
   "cell_type": "code",
   "execution_count": 3,
   "metadata": {},
   "outputs": [
    {
     "name": "stderr",
     "output_type": "stream",
     "text": [
      "[nltk_data] Downloading package names to\n",
      "[nltk_data]     C:\\Users\\Jae\\AppData\\Roaming\\nltk_data...\n",
      "[nltk_data]   Package names is already up-to-date!\n",
      "[nltk_data] Downloading package wordnet to\n",
      "[nltk_data]     C:\\Users\\Jae\\AppData\\Roaming\\nltk_data...\n",
      "[nltk_data]   Package wordnet is already up-to-date!\n"
     ]
    },
    {
     "data": {
      "text/plain": [
       "True"
      ]
     },
     "execution_count": 3,
     "metadata": {},
     "output_type": "execute_result"
    }
   ],
   "source": [
    "import nltk\n",
    "\n",
    "nltk.download('names')\n",
    "nltk.download('wordnet')"
   ]
  },
  {
   "cell_type": "code",
   "execution_count": 4,
   "metadata": {},
   "outputs": [],
   "source": [
    "from nltk.corpus import names\n",
    "from nltk.stem import WordNetLemmatizer\n",
    "\n",
    "all_names = set(names.words())\n",
    "lemmatizer = WordNetLemmatizer()\n",
    "\n",
    "def clean_text(docs):\n",
    "    cleaned_docs = []\n",
    "    for doc in docs:\n",
    "        lemmatized_list = [lemmatizer.lemmatize(word.lower()) for word in doc.split() \n",
    "                           if word.isalpha() and word not in all_names]\n",
    "        cleaned_docs += [' '.join(lemmatized_list)]\n",
    "        \n",
    "    return cleaned_docs\n",
    "\n",
    "cleaned_mails = clean_text(mails)"
   ]
  },
  {
   "cell_type": "code",
   "execution_count": 5,
   "metadata": {},
   "outputs": [
    {
     "data": {
      "text/plain": [
       "'dobmeos with hgh my energy level ha gone up stukm introducing doctor formulated hgh human growth hormone also called hgh is referred to in medical science a the master hormone it is very plentiful when we are young but near the age of twenty one our body begin to produce le of it by the time we are forty nearly everyone is deficient in hgh and at eighty our production ha normally diminished at least advantage of hgh increased muscle strength loss in body fat increased bone density lower blood pressure quickens wound healing reduces cellulite improved vision wrinkle disappearance increased skin thickness texture increased energy level improved sleep and emotional stability improved memory and mental alertness increased sexual potency resistance to common illness strengthened heart muscle controlled cholesterol controlled mood swing new hair growth and color restore read more at this website unsubscribe'"
      ]
     },
     "execution_count": 5,
     "metadata": {},
     "output_type": "execute_result"
    }
   ],
   "source": [
    "cleaned_mails[0]"
   ]
  },
  {
   "cell_type": "code",
   "execution_count": 6,
   "metadata": {},
   "outputs": [],
   "source": [
    "from sklearn.model_selection import train_test_split\n",
    "\n",
    "X_train, X_test, y_train, y_test = train_test_split(cleaned_mails,\n",
    "                                                   labels,\n",
    "                                                   test_size = 0.2,\n",
    "                                                   random_state = 0)"
   ]
  },
  {
   "cell_type": "code",
   "execution_count": 7,
   "metadata": {},
   "outputs": [],
   "source": [
    "from sklearn.feature_extraction.text import CountVectorizer\n",
    "\n",
    "cv = CountVectorizer(stop_words='english', max_features=500)\n",
    "term_docs_train = cv.fit_transform(X_train)\n",
    "term_docs_test = cv.transform(X_test)"
   ]
  },
  {
   "cell_type": "code",
   "execution_count": 8,
   "metadata": {},
   "outputs": [
    {
     "data": {
      "text/plain": [
       "MultinomialNB()"
      ]
     },
     "execution_count": 8,
     "metadata": {},
     "output_type": "execute_result"
    }
   ],
   "source": [
    "from sklearn.naive_bayes import MultinomialNB\n",
    "\n",
    "clf = MultinomialNB(alpha= 1.0, fit_prior= True)\n",
    "clf.fit(term_docs_train, y_train)"
   ]
  },
  {
   "cell_type": "code",
   "execution_count": 9,
   "metadata": {},
   "outputs": [
    {
     "data": {
      "text/plain": [
       "array([[1.00000000e+00, 2.76054897e-11],\n",
       "       [2.14389262e-02, 9.78561074e-01],\n",
       "       [3.86654914e-13, 1.00000000e+00],\n",
       "       ...,\n",
       "       [3.52881971e-07, 9.99999647e-01],\n",
       "       [1.00000000e+00, 8.26919077e-30],\n",
       "       [1.00000000e+00, 2.66928620e-10]])"
      ]
     },
     "execution_count": 9,
     "metadata": {},
     "output_type": "execute_result"
    }
   ],
   "source": [
    "prediction_prob = clf.predict_proba(term_docs_test)\n",
    "prediction_prob"
   ]
  },
  {
   "cell_type": "code",
   "execution_count": 10,
   "metadata": {},
   "outputs": [
    {
     "data": {
      "text/plain": [
       "array([0, 1, 1, ..., 1, 0, 0])"
      ]
     },
     "execution_count": 10,
     "metadata": {},
     "output_type": "execute_result"
    }
   ],
   "source": [
    "prediction = clf.predict(term_docs_test)\n",
    "prediction"
   ]
  },
  {
   "cell_type": "code",
   "execution_count": 11,
   "metadata": {},
   "outputs": [
    {
     "data": {
      "text/plain": [
       "array([[674,  51],\n",
       "       [ 36, 274]], dtype=int64)"
      ]
     },
     "execution_count": 11,
     "metadata": {},
     "output_type": "execute_result"
    }
   ],
   "source": [
    "from sklearn.metrics import confusion_matrix\n",
    "\n",
    "prediction = clf.predict(term_docs_test)\n",
    "confusion_matrix(y_test, prediction, labels = [0,1])"
   ]
  },
  {
   "cell_type": "code",
   "execution_count": 12,
   "metadata": {},
   "outputs": [
    {
     "name": "stdout",
     "output_type": "stream",
     "text": [
      "Accuracy: 91.6%\n",
      "Precision: 84.3%\n",
      "Recall: 84.3%\n",
      "F1-score: 84.3%\n"
     ]
    }
   ],
   "source": [
    "from sklearn.metrics import precision_score, recall_score, f1_score\n",
    "\n",
    "accuracy = clf.score(term_docs_test, y_test)\n",
    "print('Accuracy: {:.1f}%'.format(accuracy*100))\n",
    "\n",
    "precision = precision_score(y_test, prediction, pos_label=1)\n",
    "print('Precision: {:.1f}%'.format(precision*100))\n",
    "\n",
    "recall = precision_score(y_test, prediction, pos_label=1)\n",
    "print('Recall: {:.1f}%'.format(recall*100))\n",
    "\n",
    "f1 = precision_score(y_test, prediction, pos_label=1)\n",
    "print('F1-score: {:.1f}%'.format(f1*100))"
   ]
  },
  {
   "cell_type": "code",
   "execution_count": 13,
   "metadata": {},
   "outputs": [
    {
     "name": "stdout",
     "output_type": "stream",
     "text": [
      "              precision    recall  f1-score   support\n",
      "\n",
      "           0       0.95      0.93      0.94       725\n",
      "           1       0.84      0.88      0.86       310\n",
      "\n",
      "    accuracy                           0.92      1035\n",
      "   macro avg       0.90      0.91      0.90      1035\n",
      "weighted avg       0.92      0.92      0.92      1035\n",
      "\n"
     ]
    }
   ],
   "source": [
    "from sklearn.metrics import classification_report\n",
    "\n",
    "print(classification_report(y_test, prediction))"
   ]
  },
  {
   "cell_type": "code",
   "execution_count": 14,
   "metadata": {},
   "outputs": [
    {
     "data": {
      "image/png": "[encoded data removed]",
      "text/plain": [
       "<Figure size 504x504 with 1 Axes>"
      ]
     },
     "metadata": {
      "needs_background": "light"
     },
     "output_type": "display_data"
    }
   ],
   "source": [
    "from sklearn import metrics\n",
    "import matplotlib.pyplot as plt\n",
    "\n",
    "fpr, tpr, thresholds = metrics.roc_curve(y_test,\n",
    "                                        prediction_prob[:,1],\n",
    "                                        pos_label=1)\n",
    "fig, ax = plt.subplots(figsize=(7,7))\n",
    "ax.plot([0,1], [0,1], 'k--')\n",
    "ax.plot(fpr, tpr)\n",
    "plt.xlabel('1-Specificity')\n",
    "plt.ylabel('Sensitivity')\n",
    "plt.title('ROC curve')\n",
    "\n",
    "auc = metrics.roc_auc_score(y_test, prediction_prob[:,1])\n",
    "textstr = 'AUC = {:.3f}'.format(auc)\n",
    "props = dict(boxstyle='round', facecolor='wheat', alpha=0.5)\n",
    "ax.text(0.5, 0.1, textstr, fontsize=14, bbox=props)\n",
    "\n",
    "plt.show()"
   ]
  },
  {
   "cell_type": "code",
   "execution_count": 15,
   "metadata": {},
   "outputs": [],
   "source": [
    "from sklearn.model_selection import StratifiedKFold\n",
    "import numpy as np\n",
    "\n",
    "k_fold = StratifiedKFold(n_splits=5)\n",
    "cleaned_mails_arr, labels_arr = np.array(cleaned_mails), np.array(labels)"
   ]
  },
  {
   "cell_type": "code",
   "execution_count": 16,
   "metadata": {},
   "outputs": [
    {
     "name": "stdout",
     "output_type": "stream",
     "text": [
      "#1 Accuracy: 0.9140\n",
      "#2 Accuracy: 0.9372\n",
      "#3 Accuracy: 0.9284\n",
      "#4 Accuracy: 0.9159\n",
      "#5 Accuracy: 0.8878\n"
     ]
    }
   ],
   "source": [
    "for k, (cv_trn_idx, cv_test_idx) in enumerate(k_fold.split(cleaned_mails_arr, labels_arr)):\n",
    "    cv_train_X = cleaned_mails_arr[cv_trn_idx]\n",
    "    cv_train_y = labels_arr[cv_trn_idx]\n",
    "    cv_term_docs_train = cv.fit_transform(cv_train_X)\n",
    "    \n",
    "    clf.fit(cv_term_docs_train, cv_train_y)\n",
    "    \n",
    "    cv_test_X = cleaned_mails_arr[cv_test_idx]\n",
    "    cv_test_y = labels_arr[cv_test_idx]\n",
    "    cv_term_docs_test = cv.transform(cv_test_X)\n",
    "    \n",
    "    accuracy = clf.score(cv_term_docs_test, cv_test_y)\n",
    "    \n",
    "    print('#{} Accuracy: {:.4f}'.format(k+1, accuracy))"
   ]
  },
  {
   "cell_type": "code",
   "execution_count": 17,
   "metadata": {},
   "outputs": [
    {
     "data": {
      "text/plain": [
       "0.8878143133462283"
      ]
     },
     "execution_count": 17,
     "metadata": {},
     "output_type": "execute_result"
    }
   ],
   "source": [
    "accuracy.mean()"
   ]
  },
  {
   "cell_type": "code",
   "execution_count": null,
   "metadata": {},
   "outputs": [],
   "source": []
  }
 ],
 "metadata": {
  "kernelspec": {
   "display_name": "tensorflow2_py37",
   "language": "python",
   "name": "tensorflow2_py37"
  },
  "language_info": {
   "codemirror_mode": {
    "name": "ipython",
    "version": 3
   },
   "file_extension": ".py",
   "mimetype": "text/x-python",
   "name": "python",
   "nbconvert_exporter": "python",
   "pygments_lexer": "ipython3",
   "version": "3.7.9"
  }
 },
 "nbformat": 4,
 "nbformat_minor": 4
}
