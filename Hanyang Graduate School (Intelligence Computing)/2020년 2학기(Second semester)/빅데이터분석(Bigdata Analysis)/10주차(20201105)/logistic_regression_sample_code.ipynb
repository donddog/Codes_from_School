{
 "cells": [
  {
   "cell_type": "code",
   "execution_count": 1,
   "metadata": {},
   "outputs": [
    {
     "name": "stderr",
     "output_type": "stream",
     "text": [
      "C:\\Anaconda\\lib\\importlib\\_bootstrap.py:219: RuntimeWarning: numpy.ufunc size changed, may indicate binary incompatibility. Expected 192 from C header, got 216 from PyObject\n",
      "  return f(*args, **kwds)\n"
     ]
    }
   ],
   "source": [
    "import pandas as pd\n",
    "import warnings\n",
    "\n",
    "warnings.filterwarnings(action='ignore')\n",
    "\n",
    "data = pd.read_csv('ctr_data_20000.csv')"
   ]
  },
  {
   "cell_type": "code",
   "execution_count": 2,
   "metadata": {},
   "outputs": [],
   "source": [
    "data = data.drop(['id','hour','device_id','device_ip'], axis=1)\n",
    "\n",
    "X = data.loc[:, data.columns != 'click'].astype('str')\n",
    "y = data.loc[:, data.columns == 'click'].astype('int').values.ravel()\n",
    "\n",
    "X_dic = X.to_dict('records')"
   ]
  },
  {
   "cell_type": "code",
   "execution_count": 3,
   "metadata": {},
   "outputs": [],
   "source": [
    "from sklearn.feature_extraction import DictVectorizer\n",
    "\n",
    "one_hot_encoder = DictVectorizer()\n",
    "\n",
    "onehot_X = one_hot_encoder.fit_transform(X_dic)"
   ]
  },
  {
   "cell_type": "code",
   "execution_count": 5,
   "metadata": {},
   "outputs": [],
   "source": [
    "from sklearn.neural_network import MLPClassifier\n",
    "from sklearn.metrics import classification_report\n",
    "\n",
    "train_X, test_X = onehot_X[0:15000], onehot_X[15000:]\n",
    "train_y, test_y = y[0:15000], y[15000:]\n",
    "\n",
    "nn_model = MLPClassifier()\n",
    "\n",
    "nn_model.fit(train_X, train_y)\n",
    "\n",
    "prediction = nn_model.predict(test_X)"
   ]
  },
  {
   "cell_type": "code",
   "execution_count": 6,
   "metadata": {},
   "outputs": [
    {
     "name": "stdout",
     "output_type": "stream",
     "text": [
      "              precision    recall  f1-score   support\n",
      "\n",
      "           0       0.84      0.91      0.87      4141\n",
      "           1       0.30      0.19      0.23       859\n",
      "\n",
      "    accuracy                           0.78      5000\n",
      "   macro avg       0.57      0.55      0.55      5000\n",
      "weighted avg       0.75      0.78      0.76      5000\n",
      "\n"
     ]
    }
   ],
   "source": [
    "print(classification_report(test_y, prediction))"
   ]
  },
  {
   "cell_type": "code",
   "execution_count": null,
   "metadata": {},
   "outputs": [],
   "source": []
  }
 ],
 "metadata": {
  "kernelspec": {
   "display_name": "Python 3",
   "language": "python",
   "name": "python3"
  },
  "language_info": {
   "codemirror_mode": {
    "name": "ipython",
    "version": 3
   },
   "file_extension": ".py",
   "mimetype": "text/x-python",
   "name": "python",
   "nbconvert_exporter": "python",
   "pygments_lexer": "ipython3",
   "version": "3.7.9"
  }
 },
 "nbformat": 4,
 "nbformat_minor": 4
}
