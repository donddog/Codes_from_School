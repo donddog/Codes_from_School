{
 "cells": [
  {
   "cell_type": "code",
   "execution_count": 1,
   "metadata": {},
   "outputs": [],
   "source": [
    "import warnings\n",
    "warnings.filterwarnings(action='ignore')"
   ]
  },
  {
   "cell_type": "markdown",
   "metadata": {},
   "source": [
    "Q1: How to import pandas? Show the example with Python"
   ]
  },
  {
   "cell_type": "code",
   "execution_count": 2,
   "metadata": {},
   "outputs": [],
   "source": [
    "import pandas as pd"
   ]
  },
  {
   "cell_type": "markdown",
   "metadata": {},
   "source": [
    "Q2: How to create a series from a list, numpy array and dict? Show the example with Python"
   ]
  },
  {
   "cell_type": "code",
   "execution_count": 3,
   "metadata": {},
   "outputs": [
    {
     "name": "stdout",
     "output_type": "stream",
     "text": [
      "0    a\n",
      "1    b\n",
      "2    c\n",
      "dtype: object \n",
      "\n",
      "0    0\n",
      "1    1\n",
      "2    2\n",
      "dtype: int32 \n",
      "\n",
      "a    0\n",
      "b    1\n",
      "c    2\n",
      "dtype: int64 \n",
      "\n"
     ]
    }
   ],
   "source": [
    "import numpy as np\n",
    "\n",
    "mylist = list('abc')\n",
    "myarr = np.arange(3)\n",
    "mydict = dict(zip(mylist, myarr))\n",
    "\n",
    "series1 = pd.Series(mylist)\n",
    "series2 = pd.Series(myarr)\n",
    "series3 = pd.Series(mydict)\n",
    "\n",
    "print(series1, '\\n')\n",
    "print(series2, '\\n')\n",
    "print(series3, '\\n')"
   ]
  },
  {
   "cell_type": "markdown",
   "metadata": {},
   "source": [
    "Q3: How to convert the index of a series into a column of a data frame? Show the example with Python"
   ]
  },
  {
   "cell_type": "code",
   "execution_count": 4,
   "metadata": {},
   "outputs": [
    {
     "name": "stdout",
     "output_type": "stream",
     "text": [
      "  index  0\n",
      "0     a  0\n",
      "1     b  1\n",
      "2     c  2\n"
     ]
    }
   ],
   "source": [
    "mylist = list('abc')\n",
    "myarr = np.arange(3)\n",
    "mydict = dict(zip(mylist, myarr))\n",
    "series = pd.Series(mydict)\n",
    "\n",
    "df = series.to_frame().reset_index()\n",
    "\n",
    "print(df)"
   ]
  },
  {
   "cell_type": "markdown",
   "metadata": {},
   "source": [
    "Q4: How to get the items not common to both series A and series B? Show the example with Python"
   ]
  },
  {
   "cell_type": "code",
   "execution_count": 5,
   "metadata": {},
   "outputs": [
    {
     "data": {
      "text/plain": [
       "0    3\n",
       "3    6\n",
       "4    7\n",
       "dtype: int64"
      ]
     },
     "execution_count": 5,
     "metadata": {},
     "output_type": "execute_result"
    }
   ],
   "source": [
    "series1 = pd.Series([3, 4, 5])\n",
    "series2 = pd.Series([4, 5, 6, 7])\n",
    "\n",
    "series_union = pd.Series(np.union1d(series1, series2))\n",
    "series_intersect = pd.Series(np.intersect1d(series1, series2))\n",
    "series_union[~series_union.isin(series_intersect)]"
   ]
  },
  {
   "cell_type": "markdown",
   "metadata": {},
   "source": [
    "Q5: When input is as follows:  \n",
    "Input = pd.Series(np.random(10,5, 20))  \n",
    "Computer the minimum, 25th percentile, median, 75th and maximum of Input"
   ]
  },
  {
   "cell_type": "code",
   "execution_count": 6,
   "metadata": {},
   "outputs": [
    {
     "data": {
      "text/plain": [
       "array([ 1.25117263,  7.61829833, 10.29192131, 12.76922166, 15.76517901])"
      ]
     },
     "execution_count": 6,
     "metadata": {},
     "output_type": "execute_result"
    }
   ],
   "source": [
    "state = np.random.RandomState(100)\n",
    "series = pd.Series(state.normal(10, 5, 20))\n",
    "np.percentile(series, q=[0, 25, 50, 75, 100])"
   ]
  },
  {
   "cell_type": "markdown",
   "metadata": {},
   "source": [
    "Q6: When input is as follows:  \n",
    "Input = pd.Series(np.take(list('abcdefgh'), np.random.randint(8, size=30)))  \n",
    "Compute to get frequency counts of unique items of the series"
   ]
  },
  {
   "cell_type": "code",
   "execution_count": 7,
   "metadata": {},
   "outputs": [
    {
     "data": {
      "text/plain": [
       "g    6\n",
       "b    5\n",
       "a    4\n",
       "d    4\n",
       "f    3\n",
       "h    3\n",
       "c    3\n",
       "e    2\n",
       "dtype: int64"
      ]
     },
     "execution_count": 7,
     "metadata": {},
     "output_type": "execute_result"
    }
   ],
   "source": [
    "Input = pd.Series(np.take(list('abcdefgh'), np.random.randint(8, size=30)))\n",
    "\n",
    "Input.value_counts()"
   ]
  },
  {
   "cell_type": "markdown",
   "metadata": {},
   "source": [
    "Q7: When input & position is as follows:  \n",
    "Input = pd.Series(list('abcdefghijklmnopqrstuvwxyz'))  \n",
    "pos = [0, 4, 8, 14, 20]  \n",
    "Compute how to extract items at given positions from ‘pos’"
   ]
  },
  {
   "cell_type": "code",
   "execution_count": 8,
   "metadata": {},
   "outputs": [
    {
     "data": {
      "text/plain": [
       "0     a\n",
       "4     e\n",
       "8     i\n",
       "14    o\n",
       "20    u\n",
       "dtype: object"
      ]
     },
     "execution_count": 8,
     "metadata": {},
     "output_type": "execute_result"
    }
   ],
   "source": [
    "Input = pd.Series(list('abcdefghijklmnopqrstuvwxyz'))\n",
    "pos = [0, 4, 8, 14, 20]\n",
    "\n",
    "Input.take(pos)"
   ]
  },
  {
   "cell_type": "markdown",
   "metadata": {},
   "source": [
    "Q8: When both truth and predicted are as follows:  \n",
    "truth = pd.Series(range(10))  \n",
    "pred = pd.Series(range(10)) + np.random.random(10)  \n",
    "Compute the mean squared error"
   ]
  },
  {
   "cell_type": "code",
   "execution_count": 9,
   "metadata": {},
   "outputs": [
    {
     "data": {
      "text/plain": [
       "0.3465686714577367"
      ]
     },
     "execution_count": 9,
     "metadata": {},
     "output_type": "execute_result"
    }
   ],
   "source": [
    "truth = pd.Series(range(10))\n",
    "pred = pd.Series(range(10)) + np.random.random(10)\n",
    "\n",
    "np.mean((truth-pred)**2)"
   ]
  },
  {
   "cell_type": "code",
   "execution_count": null,
   "metadata": {},
   "outputs": [],
   "source": []
  }
 ],
 "metadata": {
  "kernelspec": {
   "display_name": "Python 3",
   "language": "python",
   "name": "python3"
  },
  "language_info": {
   "codemirror_mode": {
    "name": "ipython",
    "version": 3
   },
   "file_extension": ".py",
   "mimetype": "text/x-python",
   "name": "python",
   "nbconvert_exporter": "python",
   "pygments_lexer": "ipython3",
   "version": "3.7.6"
  }
 },
 "nbformat": 4,
 "nbformat_minor": 4
}
