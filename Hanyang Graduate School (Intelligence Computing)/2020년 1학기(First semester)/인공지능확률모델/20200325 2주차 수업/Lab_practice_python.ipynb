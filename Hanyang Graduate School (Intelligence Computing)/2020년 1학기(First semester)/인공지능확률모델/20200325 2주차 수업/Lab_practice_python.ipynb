{
 "cells": [
  {
   "cell_type": "code",
   "execution_count": 0,
   "metadata": {
    "colab": {},
    "colab_type": "code",
    "id": "jcdEXnu4IQZt"
   },
   "outputs": [],
   "source": [
    "import numpy as np # import the library numpy "
   ]
  },
  {
   "cell_type": "code",
   "execution_count": 0,
   "metadata": {
    "colab": {},
    "colab_type": "code",
    "id": "5C6rBqggMI5V"
   },
   "outputs": [],
   "source": [
    "X = np.array([1,2,3], dtype= \"float32\") # list with 1, 2, 3 --> this one is integer, float32 --> 32bits = 4bytes  -->a row vector "
   ]
  },
  {
   "cell_type": "code",
   "execution_count": 5,
   "metadata": {
    "colab": {
     "base_uri": "https://localhost:8080/",
     "height": 35
    },
    "colab_type": "code",
    "executionInfo": {
     "elapsed": 2022,
     "status": "ok",
     "timestamp": 1585182026951,
     "user": {
      "displayName": "Hokyoung Ryu",
      "photoUrl": "https://lh3.googleusercontent.com/a-/AOh14Gjw3NOPZu4JfLYgr1TIY6eFN_2akIDbwQcdRo4kJA=s64",
      "userId": "09146266204010961337"
     },
     "user_tz": -540
    },
    "id": "QD8NMelxNLbO",
    "outputId": "5994c904-2d74-418f-a252-043c0605b019"
   },
   "outputs": [
    {
     "data": {
      "text/plain": [
       "array([1., 2., 3.], dtype=float32)"
      ]
     },
     "execution_count": 5,
     "metadata": {
      "tags": []
     },
     "output_type": "execute_result"
    }
   ],
   "source": [
    "X"
   ]
  },
  {
   "cell_type": "code",
   "execution_count": 6,
   "metadata": {
    "colab": {
     "base_uri": "https://localhost:8080/",
     "height": 35
    },
    "colab_type": "code",
    "executionInfo": {
     "elapsed": 634,
     "status": "ok",
     "timestamp": 1585182089342,
     "user": {
      "displayName": "Hokyoung Ryu",
      "photoUrl": "https://lh3.googleusercontent.com/a-/AOh14Gjw3NOPZu4JfLYgr1TIY6eFN_2akIDbwQcdRo4kJA=s64",
      "userId": "09146266204010961337"
     },
     "user_tz": -540
    },
    "id": "d6mPZD63NiEH",
    "outputId": "f27b6e4a-e8db-4cfd-82eb-046c7537a8ee"
   },
   "outputs": [
    {
     "data": {
      "text/plain": [
       "(3,)"
      ]
     },
     "execution_count": 6,
     "metadata": {
      "tags": []
     },
     "output_type": "execute_result"
    }
   ],
   "source": [
    "X.shape"
   ]
  },
  {
   "cell_type": "code",
   "execution_count": 7,
   "metadata": {
    "colab": {
     "base_uri": "https://localhost:8080/",
     "height": 35
    },
    "colab_type": "code",
    "executionInfo": {
     "elapsed": 611,
     "status": "ok",
     "timestamp": 1585182140822,
     "user": {
      "displayName": "Hokyoung Ryu",
      "photoUrl": "https://lh3.googleusercontent.com/a-/AOh14Gjw3NOPZu4JfLYgr1TIY6eFN_2akIDbwQcdRo4kJA=s64",
      "userId": "09146266204010961337"
     },
     "user_tz": -540
    },
    "id": "6_0749OrNx3E",
    "outputId": "6a9a4f84-3859-4ca6-fed4-d243e154780e"
   },
   "outputs": [
    {
     "data": {
      "text/plain": [
       "4"
      ]
     },
     "execution_count": 7,
     "metadata": {
      "tags": []
     },
     "output_type": "execute_result"
    }
   ],
   "source": [
    "X.itemsize"
   ]
  },
  {
   "cell_type": "code",
   "execution_count": 12,
   "metadata": {
    "colab": {
     "base_uri": "https://localhost:8080/",
     "height": 35
    },
    "colab_type": "code",
    "executionInfo": {
     "elapsed": 665,
     "status": "ok",
     "timestamp": 1585182291259,
     "user": {
      "displayName": "Hokyoung Ryu",
      "photoUrl": "https://lh3.googleusercontent.com/a-/AOh14Gjw3NOPZu4JfLYgr1TIY6eFN_2akIDbwQcdRo4kJA=s64",
      "userId": "09146266204010961337"
     },
     "user_tz": -540
    },
    "id": "A0rwmFH_N-bw",
    "outputId": "cdeaeea3-1f36-46c9-a138-5224fb8da22f"
   },
   "outputs": [
    {
     "data": {
      "text/plain": [
       "-34.232532735557314"
      ]
     },
     "execution_count": 12,
     "metadata": {
      "tags": []
     },
     "output_type": "execute_result"
    }
   ],
   "source": [
    "np.tan(1.6) # pi = 3.141592 pi/2 = around 1.6"
   ]
  },
  {
   "cell_type": "code",
   "execution_count": 13,
   "metadata": {
    "colab": {
     "base_uri": "https://localhost:8080/",
     "height": 35
    },
    "colab_type": "code",
    "executionInfo": {
     "elapsed": 564,
     "status": "ok",
     "timestamp": 1585182319708,
     "user": {
      "displayName": "Hokyoung Ryu",
      "photoUrl": "https://lh3.googleusercontent.com/a-/AOh14Gjw3NOPZu4JfLYgr1TIY6eFN_2akIDbwQcdRo4kJA=s64",
      "userId": "09146266204010961337"
     },
     "user_tz": -540
    },
    "id": "gUhIPBo_OUso",
    "outputId": "0f062565-51c6-4248-8973-6358e41f0ec8"
   },
   "outputs": [
    {
     "data": {
      "text/plain": [
       "0.8414709848078965"
      ]
     },
     "execution_count": 13,
     "metadata": {
      "tags": []
     },
     "output_type": "execute_result"
    }
   ],
   "source": [
    "np.sin(1)"
   ]
  },
  {
   "cell_type": "code",
   "execution_count": 15,
   "metadata": {
    "colab": {
     "base_uri": "https://localhost:8080/",
     "height": 35
    },
    "colab_type": "code",
    "executionInfo": {
     "elapsed": 714,
     "status": "ok",
     "timestamp": 1585182333708,
     "user": {
      "displayName": "Hokyoung Ryu",
      "photoUrl": "https://lh3.googleusercontent.com/a-/AOh14Gjw3NOPZu4JfLYgr1TIY6eFN_2akIDbwQcdRo4kJA=s64",
      "userId": "09146266204010961337"
     },
     "user_tz": -540
    },
    "id": "NCqBWSJpOqH0",
    "outputId": "445f9623-b6d6-439a-cc43-fbf5376ed59c"
   },
   "outputs": [
    {
     "data": {
      "text/plain": [
       "0.9092974268256817"
      ]
     },
     "execution_count": 15,
     "metadata": {
      "tags": []
     },
     "output_type": "execute_result"
    }
   ],
   "source": [
    "np.sin(2)"
   ]
  },
  {
   "cell_type": "code",
   "execution_count": 17,
   "metadata": {
    "colab": {
     "base_uri": "https://localhost:8080/",
     "height": 35
    },
    "colab_type": "code",
    "executionInfo": {
     "elapsed": 622,
     "status": "ok",
     "timestamp": 1585182517613,
     "user": {
      "displayName": "Hokyoung Ryu",
      "photoUrl": "https://lh3.googleusercontent.com/a-/AOh14Gjw3NOPZu4JfLYgr1TIY6eFN_2akIDbwQcdRo4kJA=s64",
      "userId": "09146266204010961337"
     },
     "user_tz": -540
    },
    "id": "MOGto2OqOrUR",
    "outputId": "1febda83-1672-41e7-b95d-0c4bb01b7260"
   },
   "outputs": [
    {
     "data": {
      "text/plain": [
       "[0.8414709848078965, 0.9092974268256817, 0.1411200080598672]"
      ]
     },
     "execution_count": 17,
     "metadata": {
      "tags": []
     },
     "output_type": "execute_result"
    }
   ],
   "source": [
    "# iteration loop.. \"for\" is we are gonna use for iterating \n",
    "# sin(1), sin(2), sin (3) --> print out \n",
    "from math import sin\n",
    "[sin(i) for i in [1,2,3]] # this command is not working when you simply use the numpy library, I am intentially use \"math library\""
   ]
  },
  {
   "cell_type": "code",
   "execution_count": 0,
   "metadata": {
    "colab": {},
    "colab_type": "code",
    "id": "y89CeJGYO9hC"
   },
   "outputs": [],
   "source": [
    "# I am going to declare some vectors --> matrix format... 2*2 or 2*3 \n",
    "y = np.array([[1,2,3], [4,5,6]]) "
   ]
  },
  {
   "cell_type": "code",
   "execution_count": 20,
   "metadata": {
    "colab": {
     "base_uri": "https://localhost:8080/",
     "height": 35
    },
    "colab_type": "code",
    "executionInfo": {
     "elapsed": 611,
     "status": "ok",
     "timestamp": 1585182803947,
     "user": {
      "displayName": "Hokyoung Ryu",
      "photoUrl": "https://lh3.googleusercontent.com/a-/AOh14Gjw3NOPZu4JfLYgr1TIY6eFN_2akIDbwQcdRo4kJA=s64",
      "userId": "09146266204010961337"
     },
     "user_tz": -540
    },
    "id": "bARsxBmeQTcm",
    "outputId": "270cde6f-ddb4-4dd7-9145-af881980c203"
   },
   "outputs": [
    {
     "data": {
      "text/plain": [
       "(2, 3)"
      ]
     },
     "execution_count": 20,
     "metadata": {
      "tags": []
     },
     "output_type": "execute_result"
    }
   ],
   "source": [
    "y.shape"
   ]
  },
  {
   "cell_type": "code",
   "execution_count": 22,
   "metadata": {
    "colab": {
     "base_uri": "https://localhost:8080/",
     "height": 35
    },
    "colab_type": "code",
    "executionInfo": {
     "elapsed": 655,
     "status": "ok",
     "timestamp": 1585183056900,
     "user": {
      "displayName": "Hokyoung Ryu",
      "photoUrl": "https://lh3.googleusercontent.com/a-/AOh14Gjw3NOPZu4JfLYgr1TIY6eFN_2akIDbwQcdRo4kJA=s64",
      "userId": "09146266204010961337"
     },
     "user_tz": -540
    },
    "id": "RMOamN16QgVM",
    "outputId": "a6f9a700-eff5-46d3-d0ad-8d8d2df71978"
   },
   "outputs": [
    {
     "data": {
      "text/plain": [
       "array([1, 4])"
      ]
     },
     "execution_count": 22,
     "metadata": {
      "tags": []
     },
     "output_type": "execute_result"
    }
   ],
   "source": [
    "# I am going to show some ways to approach specific colums or rows \n",
    "# first colum of y tensor to display \n",
    "y[:, 0] # Python starts its index from 0 "
   ]
  },
  {
   "cell_type": "code",
   "execution_count": 23,
   "metadata": {
    "colab": {
     "base_uri": "https://localhost:8080/",
     "height": 35
    },
    "colab_type": "code",
    "executionInfo": {
     "elapsed": 610,
     "status": "ok",
     "timestamp": 1585183187251,
     "user": {
      "displayName": "Hokyoung Ryu",
      "photoUrl": "https://lh3.googleusercontent.com/a-/AOh14Gjw3NOPZu4JfLYgr1TIY6eFN_2akIDbwQcdRo4kJA=s64",
      "userId": "09146266204010961337"
     },
     "user_tz": -540
    },
    "id": "TFBldmTmRccC",
    "outputId": "540e38a3-a734-4cc0-9925-a912cc9e3e4f"
   },
   "outputs": [
    {
     "data": {
      "text/plain": [
       "array([1, 2, 3])"
      ]
     },
     "execution_count": 23,
     "metadata": {
      "tags": []
     },
     "output_type": "execute_result"
    }
   ],
   "source": [
    "y[0,:] #first row vector or tensor "
   ]
  },
  {
   "cell_type": "code",
   "execution_count": 24,
   "metadata": {
    "colab": {
     "base_uri": "https://localhost:8080/",
     "height": 35
    },
    "colab_type": "code",
    "executionInfo": {
     "elapsed": 585,
     "status": "ok",
     "timestamp": 1585183218056,
     "user": {
      "displayName": "Hokyoung Ryu",
      "photoUrl": "https://lh3.googleusercontent.com/a-/AOh14Gjw3NOPZu4JfLYgr1TIY6eFN_2akIDbwQcdRo4kJA=s64",
      "userId": "09146266204010961337"
     },
     "user_tz": -540
    },
    "id": "O6BtqtV6R96N",
    "outputId": "8dd1585d-c1ac-4608-cd0b-7305d7649125"
   },
   "outputs": [
    {
     "data": {
      "text/plain": [
       "5"
      ]
     },
     "execution_count": 24,
     "metadata": {
      "tags": []
     },
     "output_type": "execute_result"
    }
   ],
   "source": [
    "y[1,1]"
   ]
  },
  {
   "cell_type": "code",
   "execution_count": 26,
   "metadata": {
    "colab": {
     "base_uri": "https://localhost:8080/",
     "height": 52
    },
    "colab_type": "code",
    "executionInfo": {
     "elapsed": 628,
     "status": "ok",
     "timestamp": 1585183306173,
     "user": {
      "displayName": "Hokyoung Ryu",
      "photoUrl": "https://lh3.googleusercontent.com/a-/AOh14Gjw3NOPZu4JfLYgr1TIY6eFN_2akIDbwQcdRo4kJA=s64",
      "userId": "09146266204010961337"
     },
     "user_tz": -540
    },
    "id": "tQWs3w1dSFcD",
    "outputId": "b959f692-f63a-419c-b22d-b087b3ad486c"
   },
   "outputs": [
    {
     "data": {
      "text/plain": [
       "array([[2, 3],\n",
       "       [5, 6]])"
      ]
     },
     "execution_count": 26,
     "metadata": {
      "tags": []
     },
     "output_type": "execute_result"
    }
   ],
   "source": [
    "y[:, 1:] # from the second colum data to the end at every row, normally our data set to be used in data sice, the data input might not specified pripr to calculation. so we implicitly say something like we want to calculate all from the second column to the end..."
   ]
  },
  {
   "cell_type": "code",
   "execution_count": 28,
   "metadata": {
    "colab": {
     "base_uri": "https://localhost:8080/",
     "height": 52
    },
    "colab_type": "code",
    "executionInfo": {
     "elapsed": 662,
     "status": "ok",
     "timestamp": 1585183508143,
     "user": {
      "displayName": "Hokyoung Ryu",
      "photoUrl": "https://lh3.googleusercontent.com/a-/AOh14Gjw3NOPZu4JfLYgr1TIY6eFN_2akIDbwQcdRo4kJA=s64",
      "userId": "09146266204010961337"
     },
     "user_tz": -540
    },
    "id": "s1c38MCsSWTr",
    "outputId": "e458c1a9-b97b-4d98-8881-21bc73c5dd76"
   },
   "outputs": [
    {
     "data": {
      "text/plain": [
       "array([[3, 2, 1],\n",
       "       [6, 5, 4]])"
      ]
     },
     "execution_count": 28,
     "metadata": {
      "tags": []
     },
     "output_type": "execute_result"
    }
   ],
   "source": [
    "y[:, ::-1] # jyi, it is being widely used in our course too"
   ]
  },
  {
   "cell_type": "code",
   "execution_count": 0,
   "metadata": {
    "colab": {},
    "colab_type": "code",
    "id": "HOzzPyIJTIL7"
   },
   "outputs": [],
   "source": [
    "# matrices (matrix)\n",
    "import numpy as np\n",
    "A = np.matrix([[1,2,3], [4,5,6], [7, 8, 9]])"
   ]
  },
  {
   "cell_type": "code",
   "execution_count": 0,
   "metadata": {
    "colab": {},
    "colab_type": "code",
    "id": "PNTU0ZncT3Be"
   },
   "outputs": [],
   "source": [
    "B  = np.matrix([[1], [0], [0]]) # [1, 0, 0] 1 * 3 matrix (vextor) <-- [1], [0], [0] is 3*1 matrix"
   ]
  },
  {
   "cell_type": "code",
   "execution_count": 32,
   "metadata": {
    "colab": {
     "base_uri": "https://localhost:8080/",
     "height": 69
    },
    "colab_type": "code",
    "executionInfo": {
     "elapsed": 684,
     "status": "ok",
     "timestamp": 1585184028526,
     "user": {
      "displayName": "Hokyoung Ryu",
      "photoUrl": "https://lh3.googleusercontent.com/a-/AOh14Gjw3NOPZu4JfLYgr1TIY6eFN_2akIDbwQcdRo4kJA=s64",
      "userId": "09146266204010961337"
     },
     "user_tz": -540
    },
    "id": "i5PH29peUDOl",
    "outputId": "90496eb8-4750-4e8d-d30b-736ac17904f3"
   },
   "outputs": [
    {
     "data": {
      "text/plain": [
       "matrix([[1],\n",
       "        [4],\n",
       "        [7]])"
      ]
     },
     "execution_count": 32,
     "metadata": {
      "tags": []
     },
     "output_type": "execute_result"
    }
   ],
   "source": [
    "A*B # matrix mulitplication"
   ]
  },
  {
   "cell_type": "code",
   "execution_count": 33,
   "metadata": {
    "colab": {
     "base_uri": "https://localhost:8080/",
     "height": 69
    },
    "colab_type": "code",
    "executionInfo": {
     "elapsed": 1266,
     "status": "ok",
     "timestamp": 1585184368686,
     "user": {
      "displayName": "Hokyoung Ryu",
      "photoUrl": "https://lh3.googleusercontent.com/a-/AOh14Gjw3NOPZu4JfLYgr1TIY6eFN_2akIDbwQcdRo4kJA=s64",
      "userId": "09146266204010961337"
     },
     "user_tz": -540
    },
    "id": "por2LnunVLMp",
    "outputId": "bdeeb41b-3603-40fc-c50c-fd4b2067925a"
   },
   "outputs": [
    {
     "data": {
      "text/plain": [
       "array([[1],\n",
       "       [4],\n",
       "       [7]])"
      ]
     },
     "execution_count": 33,
     "metadata": {
      "tags": []
     },
     "output_type": "execute_result"
    }
   ],
   "source": [
    "A = np.array([[1,2,3], [4, 5, 6], [7, 8, 9]])\n",
    "B = np.array([[1],[0], [0]])\n",
    "A.dot(B) # this is not matrix multiplication, it is a \"dot product\"  "
   ]
  },
  {
   "cell_type": "code",
   "execution_count": 0,
   "metadata": {
    "colab": {},
    "colab_type": "code",
    "id": "oQrVnihLWrXR"
   },
   "outputs": [],
   "source": [
    "#self-study, \"Broadcasting = implicity...\" --> it takes a ages..."
   ]
  },
  {
   "cell_type": "code",
   "execution_count": 0,
   "metadata": {
    "colab": {},
    "colab_type": "code",
    "id": "n9urDCJmXvm0"
   },
   "outputs": [],
   "source": [
    "#I want to specify some data retrived with some condtions\n",
    "from numpy import ma #masked arrays \n",
    "x = np.arange(10)\n",
    "y = ma.masked_array(x, x<5) #i will mask (hide) if x <5 "
   ]
  },
  {
   "cell_type": "code",
   "execution_count": 35,
   "metadata": {
    "colab": {
     "base_uri": "https://localhost:8080/",
     "height": 35
    },
    "colab_type": "code",
    "executionInfo": {
     "elapsed": 627,
     "status": "ok",
     "timestamp": 1585184879647,
     "user": {
      "displayName": "Hokyoung Ryu",
      "photoUrl": "https://lh3.googleusercontent.com/a-/AOh14Gjw3NOPZu4JfLYgr1TIY6eFN_2akIDbwQcdRo4kJA=s64",
      "userId": "09146266204010961337"
     },
     "user_tz": -540
    },
    "id": "Oxlyjg0YYZL3",
    "outputId": "aa69defb-8535-4bd6-8766-aaf87875d1ea"
   },
   "outputs": [
    {
     "name": "stdout",
     "output_type": "stream",
     "text": [
      "[0 1 2 3 4 5 6 7 8 9]\n"
     ]
    }
   ],
   "source": [
    "print(x)"
   ]
  },
  {
   "cell_type": "code",
   "execution_count": 37,
   "metadata": {
    "colab": {
     "base_uri": "https://localhost:8080/",
     "height": 35
    },
    "colab_type": "code",
    "executionInfo": {
     "elapsed": 607,
     "status": "ok",
     "timestamp": 1585184999408,
     "user": {
      "displayName": "Hokyoung Ryu",
      "photoUrl": "https://lh3.googleusercontent.com/a-/AOh14Gjw3NOPZu4JfLYgr1TIY6eFN_2akIDbwQcdRo4kJA=s64",
      "userId": "09146266204010961337"
     },
     "user_tz": -540
    },
    "id": "QdYW-QnXYbFj",
    "outputId": "103b0b1f-98e2-4296-9aee-54633d244539"
   },
   "outputs": [
    {
     "name": "stdout",
     "output_type": "stream",
     "text": [
      "[-- -- -- -- -- 5 6 7 8 9]\n"
     ]
    }
   ],
   "source": [
    "print(y)"
   ]
  },
  {
   "cell_type": "code",
   "execution_count": 38,
   "metadata": {
    "colab": {
     "base_uri": "https://localhost:8080/",
     "height": 35
    },
    "colab_type": "code",
    "executionInfo": {
     "elapsed": 667,
     "status": "ok",
     "timestamp": 1585185026332,
     "user": {
      "displayName": "Hokyoung Ryu",
      "photoUrl": "https://lh3.googleusercontent.com/a-/AOh14Gjw3NOPZu4JfLYgr1TIY6eFN_2akIDbwQcdRo4kJA=s64",
      "userId": "09146266204010961337"
     },
     "user_tz": -540
    },
    "id": "Eq_PHr-oY4VW",
    "outputId": "dc91220b-1f83-4e21-b73c-19ffc5d8de01"
   },
   "outputs": [
    {
     "data": {
      "text/plain": [
       "(10,)"
      ]
     },
     "execution_count": 38,
     "metadata": {
      "tags": []
     },
     "output_type": "execute_result"
    }
   ],
   "source": [
    "y.shape"
   ]
  },
  {
   "cell_type": "code",
   "execution_count": 39,
   "metadata": {
    "colab": {
     "base_uri": "https://localhost:8080/",
     "height": 35
    },
    "colab_type": "code",
    "executionInfo": {
     "elapsed": 664,
     "status": "ok",
     "timestamp": 1585185041278,
     "user": {
      "displayName": "Hokyoung Ryu",
      "photoUrl": "https://lh3.googleusercontent.com/a-/AOh14Gjw3NOPZu4JfLYgr1TIY6eFN_2akIDbwQcdRo4kJA=s64",
      "userId": "09146266204010961337"
     },
     "user_tz": -540
    },
    "id": "3a-E83BVY-0L",
    "outputId": "d6f8d6c1-9ffc-401b-b335-ace9bec6dd5e"
   },
   "outputs": [
    {
     "data": {
      "text/plain": [
       "(10,)"
      ]
     },
     "execution_count": 39,
     "metadata": {
      "tags": []
     },
     "output_type": "execute_result"
    }
   ],
   "source": [
    "x.shape"
   ]
  },
  {
   "cell_type": "code",
   "execution_count": 40,
   "metadata": {
    "colab": {
     "base_uri": "https://localhost:8080/",
     "height": 283
    },
    "colab_type": "code",
    "executionInfo": {
     "elapsed": 686,
     "status": "ok",
     "timestamp": 1585185329108,
     "user": {
      "displayName": "Hokyoung Ryu",
      "photoUrl": "https://lh3.googleusercontent.com/a-/AOh14Gjw3NOPZu4JfLYgr1TIY6eFN_2akIDbwQcdRo4kJA=s64",
      "userId": "09146266204010961337"
     },
     "user_tz": -540
    },
    "id": "hvsOBxlFZCiu",
    "outputId": "29fc099a-2776-4f96-bc6b-a9d83ba8a28a"
   },
   "outputs": [
    {
     "data": {
      "text/plain": [
       "[<matplotlib.lines.Line2D at 0x7fbd575a5860>]"
      ]
     },
     "execution_count": 40,
     "metadata": {
      "tags": []
     },
     "output_type": "execute_result"
    },
    {
     "data": {
      "image/png": "[encoded data removed]",
      "text/plain": [
       "<Figure size 432x288 with 1 Axes>"
      ]
     },
     "metadata": {
      "tags": []
     },
     "output_type": "display_data"
    }
   ],
   "source": [
    "#Matplotlib --> powerful data visualization tool \n",
    "import matplotlib.pyplot as plt\n",
    "plt.plot(range(10)) # from 0, ten items will be displayed..."
   ]
  },
  {
   "cell_type": "code",
   "execution_count": 0,
   "metadata": {
    "colab": {},
    "colab_type": "code",
    "id": "OfRYh-cTaIwW"
   },
   "outputs": [],
   "source": [
    "#chaco, PyQtGraph, PySide --> you can use these libraries. special functions for each library are required to use \n"
   ]
  },
  {
   "cell_type": "code",
   "execution_count": 0,
   "metadata": {
    "colab": {},
    "colab_type": "code",
    "id": "co82tr0OeDUX"
   },
   "outputs": [],
   "source": [
    "#series - a primary data structure \n",
    "import pandas as pd\n",
    "x=pd.Series(index = range(5), data = [1, 3, 9, 11, 12])"
   ]
  },
  {
   "cell_type": "code",
   "execution_count": 42,
   "metadata": {
    "colab": {
     "base_uri": "https://localhost:8080/",
     "height": 121
    },
    "colab_type": "code",
    "executionInfo": {
     "elapsed": 607,
     "status": "ok",
     "timestamp": 1585186763246,
     "user": {
      "displayName": "Hokyoung Ryu",
      "photoUrl": "https://lh3.googleusercontent.com/a-/AOh14Gjw3NOPZu4JfLYgr1TIY6eFN_2akIDbwQcdRo4kJA=s64",
      "userId": "09146266204010961337"
     },
     "user_tz": -540
    },
    "id": "0eMk3ToYflxy",
    "outputId": "d93ffd83-b7d2-47f1-f2c3-d1a3ac3b8f68"
   },
   "outputs": [
    {
     "data": {
      "text/plain": [
       "0     1\n",
       "1     3\n",
       "2     9\n",
       "3    11\n",
       "4    12\n",
       "dtype: int64"
      ]
     },
     "execution_count": 42,
     "metadata": {
      "tags": []
     },
     "output_type": "execute_result"
    }
   ],
   "source": [
    "x"
   ]
  },
  {
   "cell_type": "code",
   "execution_count": 0,
   "metadata": {
    "colab": {},
    "colab_type": "code",
    "id": "TNDDiQ-5fm9P"
   },
   "outputs": [],
   "source": [
    "y=pd.Series(index = range(3), data = [\"Land\", \"Land\", \"Water\"])"
   ]
  },
  {
   "cell_type": "code",
   "execution_count": 44,
   "metadata": {
    "colab": {
     "base_uri": "https://localhost:8080/",
     "height": 87
    },
    "colab_type": "code",
    "executionInfo": {
     "elapsed": 546,
     "status": "ok",
     "timestamp": 1585186839196,
     "user": {
      "displayName": "Hokyoung Ryu",
      "photoUrl": "https://lh3.googleusercontent.com/a-/AOh14Gjw3NOPZu4JfLYgr1TIY6eFN_2akIDbwQcdRo4kJA=s64",
      "userId": "09146266204010961337"
     },
     "user_tz": -540
    },
    "id": "NLXARCm5f4gB",
    "outputId": "7a5d36a5-350b-4161-b02a-691bb884ada7"
   },
   "outputs": [
    {
     "data": {
      "text/plain": [
       "0     Land\n",
       "1     Land\n",
       "2    Water\n",
       "dtype: object"
      ]
     },
     "execution_count": 44,
     "metadata": {
      "tags": []
     },
     "output_type": "execute_result"
    }
   ],
   "source": [
    "y"
   ]
  },
  {
   "cell_type": "code",
   "execution_count": 0,
   "metadata": {
    "colab": {},
    "colab_type": "code",
    "id": "ULk4_vMsf5g3"
   },
   "outputs": [],
   "source": [
    "x = pd.Series(index= ['a', 'b', 'c', 'd', 'd'], data = [1,3,9,11,12])"
   ]
  },
  {
   "cell_type": "code",
   "execution_count": 48,
   "metadata": {
    "colab": {
     "base_uri": "https://localhost:8080/",
     "height": 121
    },
    "colab_type": "code",
    "executionInfo": {
     "elapsed": 966,
     "status": "ok",
     "timestamp": 1585186941120,
     "user": {
      "displayName": "Hokyoung Ryu",
      "photoUrl": "https://lh3.googleusercontent.com/a-/AOh14Gjw3NOPZu4JfLYgr1TIY6eFN_2akIDbwQcdRo4kJA=s64",
      "userId": "09146266204010961337"
     },
     "user_tz": -540
    },
    "id": "MoeMfV6ngM9O",
    "outputId": "615e64ff-ad86-4c1d-b566-262982c0afbd"
   },
   "outputs": [
    {
     "data": {
      "text/plain": [
       "a     1\n",
       "b     3\n",
       "c     9\n",
       "d    11\n",
       "d    12\n",
       "dtype: int64"
      ]
     },
     "execution_count": 48,
     "metadata": {
      "tags": []
     },
     "output_type": "execute_result"
    }
   ],
   "source": [
    "x"
   ]
  },
  {
   "cell_type": "code",
   "execution_count": 52,
   "metadata": {
    "colab": {
     "base_uri": "https://localhost:8080/",
     "height": 35
    },
    "colab_type": "code",
    "executionInfo": {
     "elapsed": 434,
     "status": "ok",
     "timestamp": 1585187062009,
     "user": {
      "displayName": "Hokyoung Ryu",
      "photoUrl": "https://lh3.googleusercontent.com/a-/AOh14Gjw3NOPZu4JfLYgr1TIY6eFN_2akIDbwQcdRo4kJA=s64",
      "userId": "09146266204010961337"
     },
     "user_tz": -540
    },
    "id": "PLwz2URngN6M",
    "outputId": "86f04efe-ccdb-421f-c652-afcc01a03894"
   },
   "outputs": [
    {
     "data": {
      "text/plain": [
       "9"
      ]
     },
     "execution_count": 52,
     "metadata": {
      "tags": []
     },
     "output_type": "execute_result"
    }
   ],
   "source": [
    "x.c #access the index 'd' from Series x "
   ]
  },
  {
   "cell_type": "code",
   "execution_count": 56,
   "metadata": {
    "colab": {
     "base_uri": "https://localhost:8080/",
     "height": 104
    },
    "colab_type": "code",
    "executionInfo": {
     "elapsed": 658,
     "status": "ok",
     "timestamp": 1585187352970,
     "user": {
      "displayName": "Hokyoung Ryu",
      "photoUrl": "https://lh3.googleusercontent.com/a-/AOh14Gjw3NOPZu4JfLYgr1TIY6eFN_2akIDbwQcdRo4kJA=s64",
      "userId": "09146266204010961337"
     },
     "user_tz": -540
    },
    "id": "GJe0Iq2LgYE-",
    "outputId": "b997e672-b5cd-45fc-a75e-6479dabc48d3"
   },
   "outputs": [
    {
     "data": {
      "text/plain": [
       "a     1\n",
       "b     3\n",
       "c     9\n",
       "d    11\n",
       "dtype: int64"
      ]
     },
     "execution_count": 56,
     "metadata": {
      "tags": []
     },
     "output_type": "execute_result"
    }
   ],
   "source": [
    "x.iloc[:4] # first four items to be displayed "
   ]
  },
  {
   "cell_type": "code",
   "execution_count": 59,
   "metadata": {
    "colab": {
     "base_uri": "https://localhost:8080/",
     "height": 104
    },
    "colab_type": "code",
    "executionInfo": {
     "elapsed": 642,
     "status": "ok",
     "timestamp": 1585187409783,
     "user": {
      "displayName": "Hokyoung Ryu",
      "photoUrl": "https://lh3.googleusercontent.com/a-/AOh14Gjw3NOPZu4JfLYgr1TIY6eFN_2akIDbwQcdRo4kJA=s64",
      "userId": "09146266204010961337"
     },
     "user_tz": -540
    },
    "id": "eDYz1GtYhUCX",
    "outputId": "37b89b2f-78dd-407d-efec-e9f3690c79d4"
   },
   "outputs": [
    {
     "data": {
      "text/plain": [
       "b     3\n",
       "c     9\n",
       "d    11\n",
       "d    12\n",
       "dtype: int64"
      ]
     },
     "execution_count": 59,
     "metadata": {
      "tags": []
     },
     "output_type": "execute_result"
    }
   ],
   "source": [
    "x['b':'d'] #data slicing.. "
   ]
  },
  {
   "cell_type": "code",
   "execution_count": 0,
   "metadata": {
    "colab": {},
    "colab_type": "code",
    "id": "RrExtmpdh90m"
   },
   "outputs": [],
   "source": [
    "#grouping... \n",
    "x = pd.Series(range(5), [1,2, 11, 9, 10])"
   ]
  },
  {
   "cell_type": "code",
   "execution_count": 61,
   "metadata": {
    "colab": {
     "base_uri": "https://localhost:8080/",
     "height": 121
    },
    "colab_type": "code",
    "executionInfo": {
     "elapsed": 617,
     "status": "ok",
     "timestamp": 1585187504035,
     "user": {
      "displayName": "Hokyoung Ryu",
      "photoUrl": "https://lh3.googleusercontent.com/a-/AOh14Gjw3NOPZu4JfLYgr1TIY6eFN_2akIDbwQcdRo4kJA=s64",
      "userId": "09146266204010961337"
     },
     "user_tz": -540
    },
    "id": "Flk0mltEiav4",
    "outputId": "fef13e8a-8972-4394-8240-7faeadb620ce"
   },
   "outputs": [
    {
     "data": {
      "text/plain": [
       "1     0\n",
       "2     1\n",
       "11    2\n",
       "9     3\n",
       "10    4\n",
       "dtype: int64"
      ]
     },
     "execution_count": 61,
     "metadata": {
      "tags": []
     },
     "output_type": "execute_result"
    }
   ],
   "source": [
    "x\n"
   ]
  },
  {
   "cell_type": "code",
   "execution_count": 0,
   "metadata": {
    "colab": {},
    "colab_type": "code",
    "id": "FnAD0XeBibz_"
   },
   "outputs": [],
   "source": [
    "#I want to group the even indexed data against the odd indexed data. \n",
    "grp = x.groupby(lambda i:i%2) # % means the remainder.. 1%2 = 1, 2%2 = 0 (even number = False), 3%2 =1 (odd number = True) "
   ]
  },
  {
   "cell_type": "code",
   "execution_count": 63,
   "metadata": {
    "colab": {
     "base_uri": "https://localhost:8080/",
     "height": 69
    },
    "colab_type": "code",
    "executionInfo": {
     "elapsed": 590,
     "status": "ok",
     "timestamp": 1585187745062,
     "user": {
      "displayName": "Hokyoung Ryu",
      "photoUrl": "https://lh3.googleusercontent.com/a-/AOh14Gjw3NOPZu4JfLYgr1TIY6eFN_2akIDbwQcdRo4kJA=s64",
      "userId": "09146266204010961337"
     },
     "user_tz": -540
    },
    "id": "AMrIeM2LjP3b",
    "outputId": "8d8dd623-8252-4b7d-c103-502338154851"
   },
   "outputs": [
    {
     "data": {
      "text/plain": [
       "2     1\n",
       "10    4\n",
       "dtype: int64"
      ]
     },
     "execution_count": 63,
     "metadata": {
      "tags": []
     },
     "output_type": "execute_result"
    }
   ],
   "source": [
    "grp.get_group(0)"
   ]
  },
  {
   "cell_type": "code",
   "execution_count": 64,
   "metadata": {
    "colab": {
     "base_uri": "https://localhost:8080/",
     "height": 87
    },
    "colab_type": "code",
    "executionInfo": {
     "elapsed": 601,
     "status": "ok",
     "timestamp": 1585187763076,
     "user": {
      "displayName": "Hokyoung Ryu",
      "photoUrl": "https://lh3.googleusercontent.com/a-/AOh14Gjw3NOPZu4JfLYgr1TIY6eFN_2akIDbwQcdRo4kJA=s64",
      "userId": "09146266204010961337"
     },
     "user_tz": -540
    },
    "id": "69T8NB1_jWqQ",
    "outputId": "662e9b01-1660-4cac-ade3-be8ee94b0d4d"
   },
   "outputs": [
    {
     "data": {
      "text/plain": [
       "1     0\n",
       "11    2\n",
       "9     3\n",
       "dtype: int64"
      ]
     },
     "execution_count": 64,
     "metadata": {
      "tags": []
     },
     "output_type": "execute_result"
    }
   ],
   "source": [
    "grp.get_group(1)"
   ]
  },
  {
   "cell_type": "code",
   "execution_count": 0,
   "metadata": {
    "colab": {},
    "colab_type": "code",
    "id": "n_Cu5JaSjbDf"
   },
   "outputs": [],
   "source": [
    "#second important data structure in Pandas is DataFrame\n",
    "df=pd.DataFrame({'Habitat': [\"Land\", \"Land\", \"Water\"], '# of legs': [4, 4, 0]})"
   ]
  },
  {
   "cell_type": "code",
   "execution_count": 66,
   "metadata": {
    "colab": {
     "base_uri": "https://localhost:8080/",
     "height": 141
    },
    "colab_type": "code",
    "executionInfo": {
     "elapsed": 664,
     "status": "ok",
     "timestamp": 1585187950055,
     "user": {
      "displayName": "Hokyoung Ryu",
      "photoUrl": "https://lh3.googleusercontent.com/a-/AOh14Gjw3NOPZu4JfLYgr1TIY6eFN_2akIDbwQcdRo4kJA=s64",
      "userId": "09146266204010961337"
     },
     "user_tz": -540
    },
    "id": "4sPA-FAfkHnB",
    "outputId": "edc35fa8-5360-4c8a-8ece-1913ddac7739"
   },
   "outputs": [
    {
     "data": {
      "text/html": [
       "<div>\n",
       "<style scoped>\n",
       "    .dataframe tbody tr th:only-of-type {\n",
       "        vertical-align: middle;\n",
       "    }\n",
       "\n",
       "    .dataframe tbody tr th {\n",
       "        vertical-align: top;\n",
       "    }\n",
       "\n",
       "    .dataframe thead th {\n",
       "        text-align: right;\n",
       "    }\n",
       "</style>\n",
       "<table border=\"1\" class=\"dataframe\">\n",
       "  <thead>\n",
       "    <tr style=\"text-align: right;\">\n",
       "      <th></th>\n",
       "      <th>Habitat</th>\n",
       "      <th># of legs</th>\n",
       "    </tr>\n",
       "  </thead>\n",
       "  <tbody>\n",
       "    <tr>\n",
       "      <th>0</th>\n",
       "      <td>Land</td>\n",
       "      <td>4</td>\n",
       "    </tr>\n",
       "    <tr>\n",
       "      <th>1</th>\n",
       "      <td>Land</td>\n",
       "      <td>4</td>\n",
       "    </tr>\n",
       "    <tr>\n",
       "      <th>2</th>\n",
       "      <td>Water</td>\n",
       "      <td>0</td>\n",
       "    </tr>\n",
       "  </tbody>\n",
       "</table>\n",
       "</div>"
      ],
      "text/plain": [
       "  Habitat  # of legs\n",
       "0    Land          4\n",
       "1    Land          4\n",
       "2   Water          0"
      ]
     },
     "execution_count": 66,
     "metadata": {
      "tags": []
     },
     "output_type": "execute_result"
    }
   ],
   "source": [
    "df"
   ]
  },
  {
   "cell_type": "code",
   "execution_count": 0,
   "metadata": {
    "colab": {},
    "colab_type": "code",
    "id": "tvRd66WAkIrx"
   },
   "outputs": [],
   "source": [
    "#probability (prediction) = quantifative terms to explain the smaple data to explain the population data (before you actually have a data, you can tell it)\n",
    "#likelihood (inference) = maximal likliehood function... a kind belief that the sample data (the evideces we have so far) actually happen (after you actually have the data, you can tell it).  \n",
    " --> maximum likihood function (or maximal liklihood), which the function will follow the normal, bererulli, binomial....etc. --> distribution  "
   ]
  },
  {
   "cell_type": "code",
   "execution_count": 0,
   "metadata": {
    "colab": {},
    "colab_type": "code",
    "id": "0awU34kjsSrw"
   },
   "outputs": [],
   "source": [
    "# throwing the two dice example\n",
    "d={(i,j):i+j for i in range(1,7) for j in range(1,7)} \n",
    "\n",
    "from collections import defaultdict #library for dictionary-making \n",
    "dinv = defaultdict(list)\n",
    "for i,j in d.items():\n",
    "    dinv[j].append(i)"
   ]
  },
  {
   "cell_type": "code",
   "execution_count": 68,
   "metadata": {
    "colab": {
     "base_uri": "https://localhost:8080/",
     "height": 35
    },
    "colab_type": "code",
    "executionInfo": {
     "elapsed": 627,
     "status": "ok",
     "timestamp": 1585190212216,
     "user": {
      "displayName": "Hokyoung Ryu",
      "photoUrl": "https://lh3.googleusercontent.com/a-/AOh14Gjw3NOPZu4JfLYgr1TIY6eFN_2akIDbwQcdRo4kJA=s64",
      "userId": "09146266204010961337"
     },
     "user_tz": -540
    },
    "id": "hlzy3eyHssMT",
    "outputId": "e56ffec8-3284-4f41-d0e4-5cdbbb521f0c"
   },
   "outputs": [
    {
     "data": {
      "text/plain": [
       "[(1, 4), (2, 3), (3, 2), (4, 1)]"
      ]
     },
     "execution_count": 68,
     "metadata": {
      "tags": []
     },
     "output_type": "execute_result"
    }
   ],
   "source": [
    "dinv[5]"
   ]
  },
  {
   "cell_type": "code",
   "execution_count": 0,
   "metadata": {
    "colab": {},
    "colab_type": "code",
    "id": "tF6LsrJqsw_F"
   },
   "outputs": [],
   "source": [
    "X = {i:len(j)/36. for i,j in dinv.items() }"
   ]
  },
  {
   "cell_type": "code",
   "execution_count": 73,
   "metadata": {
    "colab": {
     "base_uri": "https://localhost:8080/",
     "height": 55
    },
    "colab_type": "code",
    "executionInfo": {
     "elapsed": 607,
     "status": "ok",
     "timestamp": 1585190316366,
     "user": {
      "displayName": "Hokyoung Ryu",
      "photoUrl": "https://lh3.googleusercontent.com/a-/AOh14Gjw3NOPZu4JfLYgr1TIY6eFN_2akIDbwQcdRo4kJA=s64",
      "userId": "09146266204010961337"
     },
     "user_tz": -540
    },
    "id": "pg-6JXWFtEhF",
    "outputId": "81d5d01a-0bc3-46bf-d6f0-d03299479c2c"
   },
   "outputs": [
    {
     "name": "stdout",
     "output_type": "stream",
     "text": [
      "{2: 0.027777777777777776, 3: 0.05555555555555555, 4: 0.08333333333333333, 5: 0.1111111111111111, 6: 0.1388888888888889, 7: 0.16666666666666666, 8: 0.1388888888888889, 9: 0.1111111111111111, 10: 0.08333333333333333, 11: 0.05555555555555555, 12: 0.027777777777777776}\n"
     ]
    }
   ],
   "source": [
    "print(X)"
   ]
  },
  {
   "cell_type": "code",
   "execution_count": 0,
   "metadata": {
    "colab": {},
    "colab_type": "code",
    "id": "1jRwAKmntF1d"
   },
   "outputs": [],
   "source": [
    "from pandas import DataFrame\n",
    "d=DataFrame(index=[(i,j) for i in range(1,7) for j in range(1,7)], columns = [\"sum\", \"d1\", \"d2\", \"pd1\", \"pd2\", \"p\"])"
   ]
  },
  {
   "cell_type": "code",
   "execution_count": 0,
   "metadata": {
    "colab": {},
    "colab_type": "code",
    "id": "TTN8un-GtsXK"
   },
   "outputs": [],
   "source": [
    "d.d1 =[i[0] for i in d.index]\n",
    "d.d2 =[i[1] for i in d.index]\n",
    "d.loc[d.d1<=3,'pd1'] =1/9"
   ]
  },
  {
   "cell_type": "code",
   "execution_count": 80,
   "metadata": {
    "colab": {
     "base_uri": "https://localhost:8080/",
     "height": 355
    },
    "colab_type": "code",
    "executionInfo": {
     "elapsed": 686,
     "status": "ok",
     "timestamp": 1585190615495,
     "user": {
      "displayName": "Hokyoung Ryu",
      "photoUrl": "https://lh3.googleusercontent.com/a-/AOh14Gjw3NOPZu4JfLYgr1TIY6eFN_2akIDbwQcdRo4kJA=s64",
      "userId": "09146266204010961337"
     },
     "user_tz": -540
    },
    "id": "MhFY9GQVt8-g",
    "outputId": "0d4e42c9-f170-47b6-cc98-6570c1a56721"
   },
   "outputs": [
    {
     "data": {
      "text/html": [
       "<div>\n",
       "<style scoped>\n",
       "    .dataframe tbody tr th:only-of-type {\n",
       "        vertical-align: middle;\n",
       "    }\n",
       "\n",
       "    .dataframe tbody tr th {\n",
       "        vertical-align: top;\n",
       "    }\n",
       "\n",
       "    .dataframe thead th {\n",
       "        text-align: right;\n",
       "    }\n",
       "</style>\n",
       "<table border=\"1\" class=\"dataframe\">\n",
       "  <thead>\n",
       "    <tr style=\"text-align: right;\">\n",
       "      <th></th>\n",
       "      <th>sum</th>\n",
       "      <th>d1</th>\n",
       "      <th>d2</th>\n",
       "      <th>pd1</th>\n",
       "      <th>pd2</th>\n",
       "      <th>p</th>\n",
       "    </tr>\n",
       "  </thead>\n",
       "  <tbody>\n",
       "    <tr>\n",
       "      <th>(1, 1)</th>\n",
       "      <td>NaN</td>\n",
       "      <td>1</td>\n",
       "      <td>1</td>\n",
       "      <td>0.111111</td>\n",
       "      <td>NaN</td>\n",
       "      <td>NaN</td>\n",
       "    </tr>\n",
       "    <tr>\n",
       "      <th>(1, 2)</th>\n",
       "      <td>NaN</td>\n",
       "      <td>1</td>\n",
       "      <td>2</td>\n",
       "      <td>0.111111</td>\n",
       "      <td>NaN</td>\n",
       "      <td>NaN</td>\n",
       "    </tr>\n",
       "    <tr>\n",
       "      <th>(1, 3)</th>\n",
       "      <td>NaN</td>\n",
       "      <td>1</td>\n",
       "      <td>3</td>\n",
       "      <td>0.111111</td>\n",
       "      <td>NaN</td>\n",
       "      <td>NaN</td>\n",
       "    </tr>\n",
       "    <tr>\n",
       "      <th>(1, 4)</th>\n",
       "      <td>NaN</td>\n",
       "      <td>1</td>\n",
       "      <td>4</td>\n",
       "      <td>0.111111</td>\n",
       "      <td>NaN</td>\n",
       "      <td>NaN</td>\n",
       "    </tr>\n",
       "    <tr>\n",
       "      <th>(1, 5)</th>\n",
       "      <td>NaN</td>\n",
       "      <td>1</td>\n",
       "      <td>5</td>\n",
       "      <td>0.111111</td>\n",
       "      <td>NaN</td>\n",
       "      <td>NaN</td>\n",
       "    </tr>\n",
       "    <tr>\n",
       "      <th>(1, 6)</th>\n",
       "      <td>NaN</td>\n",
       "      <td>1</td>\n",
       "      <td>6</td>\n",
       "      <td>0.111111</td>\n",
       "      <td>NaN</td>\n",
       "      <td>NaN</td>\n",
       "    </tr>\n",
       "    <tr>\n",
       "      <th>(2, 1)</th>\n",
       "      <td>NaN</td>\n",
       "      <td>2</td>\n",
       "      <td>1</td>\n",
       "      <td>0.111111</td>\n",
       "      <td>NaN</td>\n",
       "      <td>NaN</td>\n",
       "    </tr>\n",
       "    <tr>\n",
       "      <th>(2, 2)</th>\n",
       "      <td>NaN</td>\n",
       "      <td>2</td>\n",
       "      <td>2</td>\n",
       "      <td>0.111111</td>\n",
       "      <td>NaN</td>\n",
       "      <td>NaN</td>\n",
       "    </tr>\n",
       "    <tr>\n",
       "      <th>(2, 3)</th>\n",
       "      <td>NaN</td>\n",
       "      <td>2</td>\n",
       "      <td>3</td>\n",
       "      <td>0.111111</td>\n",
       "      <td>NaN</td>\n",
       "      <td>NaN</td>\n",
       "    </tr>\n",
       "    <tr>\n",
       "      <th>(2, 4)</th>\n",
       "      <td>NaN</td>\n",
       "      <td>2</td>\n",
       "      <td>4</td>\n",
       "      <td>0.111111</td>\n",
       "      <td>NaN</td>\n",
       "      <td>NaN</td>\n",
       "    </tr>\n",
       "  </tbody>\n",
       "</table>\n",
       "</div>"
      ],
      "text/plain": [
       "        sum  d1  d2       pd1  pd2    p\n",
       "(1, 1)  NaN   1   1  0.111111  NaN  NaN\n",
       "(1, 2)  NaN   1   2  0.111111  NaN  NaN\n",
       "(1, 3)  NaN   1   3  0.111111  NaN  NaN\n",
       "(1, 4)  NaN   1   4  0.111111  NaN  NaN\n",
       "(1, 5)  NaN   1   5  0.111111  NaN  NaN\n",
       "(1, 6)  NaN   1   6  0.111111  NaN  NaN\n",
       "(2, 1)  NaN   2   1  0.111111  NaN  NaN\n",
       "(2, 2)  NaN   2   2  0.111111  NaN  NaN\n",
       "(2, 3)  NaN   2   3  0.111111  NaN  NaN\n",
       "(2, 4)  NaN   2   4  0.111111  NaN  NaN"
      ]
     },
     "execution_count": 80,
     "metadata": {
      "tags": []
     },
     "output_type": "execute_result"
    }
   ],
   "source": [
    "d.head(10)"
   ]
  },
  {
   "cell_type": "code",
   "execution_count": 0,
   "metadata": {
    "colab": {},
    "colab_type": "code",
    "id": "IZFEx7wruAR3"
   },
   "outputs": [],
   "source": [
    "import scipy.stats "
   ]
  },
  {
   "cell_type": "code",
   "execution_count": 0,
   "metadata": {
    "colab": {},
    "colab_type": "code",
    "id": "FoHvZFseunEx"
   },
   "outputs": [],
   "source": [
    "n = scipy.stats.norm(0,10) #normal distribution, mean = 0, std = 10"
   ]
  },
  {
   "cell_type": "code",
   "execution_count": 83,
   "metadata": {
    "colab": {
     "base_uri": "https://localhost:8080/",
     "height": 52
    },
    "colab_type": "code",
    "executionInfo": {
     "elapsed": 708,
     "status": "ok",
     "timestamp": 1585190739190,
     "user": {
      "displayName": "Hokyoung Ryu",
      "photoUrl": "https://lh3.googleusercontent.com/a-/AOh14Gjw3NOPZu4JfLYgr1TIY6eFN_2akIDbwQcdRo4kJA=s64",
      "userId": "09146266204010961337"
     },
     "user_tz": -540
    },
    "id": "py06of4fuqjj",
    "outputId": "3d75dcc9-6d81-47a0-e5b6-965f818ce530"
   },
   "outputs": [
    {
     "data": {
      "text/plain": [
       "array([-5.3009398 , 16.88607115, -5.12205752, -3.77467824, 11.79746679,\n",
       "       -1.89545333, 11.3870629 ,  8.91884301, -6.68548603,  0.51025249])"
      ]
     },
     "execution_count": 83,
     "metadata": {
      "tags": []
     },
     "output_type": "execute_result"
    }
   ],
   "source": [
    "n.rvs(10)"
   ]
  },
  {
   "cell_type": "code",
   "execution_count": 0,
   "metadata": {
    "colab": {},
    "colab_type": "code",
    "id": "hrcy1yLFuxnz"
   },
   "outputs": [],
   "source": []
  }
 ],
 "metadata": {
  "colab": {
   "authorship_tag": "ABX9TyOO/XOaQFlaRWBYb5jlO/Rb",
   "collapsed_sections": [],
   "name": "Lab_practice_python.ipynb",
   "provenance": []
  },
  "kernelspec": {
   "display_name": "Python 3",
   "language": "python",
   "name": "python3"
  },
  "language_info": {
   "codemirror_mode": {
    "name": "ipython",
    "version": 3
   },
   "file_extension": ".py",
   "mimetype": "text/x-python",
   "name": "python",
   "nbconvert_exporter": "python",
   "pygments_lexer": "ipython3",
   "version": "3.7.6"
  }
 },
 "nbformat": 4,
 "nbformat_minor": 1
}
