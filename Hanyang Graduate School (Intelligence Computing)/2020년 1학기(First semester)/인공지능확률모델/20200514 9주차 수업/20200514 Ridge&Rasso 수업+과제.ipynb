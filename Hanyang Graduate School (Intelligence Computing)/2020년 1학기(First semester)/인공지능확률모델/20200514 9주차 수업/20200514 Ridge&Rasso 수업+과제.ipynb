{
 "cells": [
  {
   "cell_type": "markdown",
   "metadata": {
    "colab": {},
    "colab_type": "code",
    "id": "jyGPwz57jH9T"
   },
   "source": [
    "Your model should be better off with resepct to AIC, BIC, Adjusted R2 "
   ]
  },
  {
   "cell_type": "markdown",
   "metadata": {},
   "source": [
    "Your practices are to build up new multiple linear regression models with other independent variables.  \n",
    "You have to find better than my MLR model  \n",
    "you might include the dummy independent variables for the categorical variables.  \n",
    "Pandas has some functions you can consider to insert the categorical variables into your MLR model.  "
   ]
  },
  {
   "cell_type": "markdown",
   "metadata": {},
   "source": [
    "Assignment"
   ]
  },
  {
   "cell_type": "code",
   "execution_count": 1,
   "metadata": {
    "colab": {},
    "colab_type": "code",
    "id": "mswVrehdbPkV"
   },
   "outputs": [],
   "source": [
    "import matplotlib.pyplot as plt\n",
    "import pandas as pd\n",
    "import pylab as pl\n",
    "import numpy as np\n",
    "from sklearn import linear_model\n",
    "import warnings\n",
    "from sklearn.model_selection import train_test_split\n",
    "\n",
    "warnings.filterwarnings(action='ignore')\n",
    "%matplotlib inline"
   ]
  },
  {
   "cell_type": "code",
   "execution_count": 2,
   "metadata": {
    "colab": {},
    "colab_type": "code",
    "id": "kJR8nx1Kjb9g"
   },
   "outputs": [
    {
     "name": "stdout",
     "output_type": "stream",
     "text": [
      "Coefficients:  [12.02478483 -0.58171145  4.65201253 -4.19221552]\n",
      "Residual sum of squares: 7731.78\n",
      "Variance score: 0.90\n",
      "Adjusted R2: 0.90\n",
      "AIC: 1.00750\n",
      "BIC: 1.04849\n"
     ]
    }
   ],
   "source": [
    "df = pd.read_csv(\"FuelConsumptionCo2.csv\")\n",
    "\n",
    "cdf = df[['ENGINESIZE','CYLINDERS','FUELCONSUMPTION_CITY','FUELCONSUMPTION_HWY','FUELCONSUMPTION_COMB','FUELCONSUMPTION_COMB_MPG',\n",
    "          'CO2EMISSIONS']]\n",
    "\n",
    "train, test = train_test_split(cdf, random_state=42)\n",
    "# msk = np.random.rand(len(df)) <= 0.8\n",
    "# train = cdf[msk]\n",
    "# test = cdf[~msk]\n",
    "\n",
    "BR = linear_model.BayesianRidge()\n",
    "x = np.asanyarray(train[['CYLINDERS','FUELCONSUMPTION_CITY','FUELCONSUMPTION_HWY','FUELCONSUMPTION_COMB_MPG']])\n",
    "y = np.asanyarray(train[['CO2EMISSIONS']])\n",
    "BR.fit (x, y)\n",
    "print ('Coefficients: ', BR.coef_)\n",
    "\n",
    "y_hat= BR.predict(test[['CYLINDERS','FUELCONSUMPTION_CITY','FUELCONSUMPTION_HWY','FUELCONSUMPTION_COMB_MPG']])\n",
    "x = np.asanyarray(test[['CYLINDERS','FUELCONSUMPTION_CITY','FUELCONSUMPTION_HWY','FUELCONSUMPTION_COMB_MPG']])\n",
    "y = np.asanyarray(test[['CO2EMISSIONS']])\n",
    "print(\"Residual sum of squares: %.2f\" % np.mean((y_hat - y) ** 2))\n",
    "print('Variance score: %.2f' % BR.score(x, y))\n",
    "\n",
    "r2 =BR.score(x,y)\n",
    "adj_r2 = (1 - (1 - r2) * ((train.shape[0] - 1) / (train.shape[0] - train.shape[1] - 1)))\n",
    "print('Adjusted R2: %.2f' % adj_r2)\n",
    "\n",
    "RSS = np.mean((y_hat - y) ** 2)\n",
    "hat_sigma_sqaured = (1/(train.shape[0]-train.shape[1]-1))*RSS\n",
    "\n",
    "AIC = (1/(train.shape[0]*hat_sigma_sqaured))*(RSS+2*train.shape[1]*hat_sigma_sqaured)\n",
    "print (\"AIC: %.5f\" % AIC)\n",
    "\n",
    "BIC = (1/(train.shape[0]*hat_sigma_sqaured)) * (RSS+  np.log(train.shape[0]) * train.shape[1] * hat_sigma_sqaured)\n",
    "print (\"BIC: %.5f\" % BIC)"
   ]
  },
  {
   "cell_type": "markdown",
   "metadata": {},
   "source": [
    "---"
   ]
  },
  {
   "cell_type": "code",
   "execution_count": 3,
   "metadata": {
    "colab": {
     "base_uri": "https://localhost:8080/",
     "height": 270
    },
    "colab_type": "code",
    "id": "3xbpJDdsa_0X",
    "outputId": "ca682fcc-8940-4ffa-ac70-134af5a366be"
   },
   "outputs": [
    {
     "data": {
      "text/html": [
       "<div>\n",
       "<style scoped>\n",
       "    .dataframe tbody tr th:only-of-type {\n",
       "        vertical-align: middle;\n",
       "    }\n",
       "\n",
       "    .dataframe tbody tr th {\n",
       "        vertical-align: top;\n",
       "    }\n",
       "\n",
       "    .dataframe thead th {\n",
       "        text-align: right;\n",
       "    }\n",
       "</style>\n",
       "<table border=\"1\" class=\"dataframe\">\n",
       "  <thead>\n",
       "    <tr style=\"text-align: right;\">\n",
       "      <th></th>\n",
       "      <th>MODELYEAR</th>\n",
       "      <th>MAKE</th>\n",
       "      <th>MODEL</th>\n",
       "      <th>VEHICLECLASS</th>\n",
       "      <th>ENGINESIZE</th>\n",
       "      <th>CYLINDERS</th>\n",
       "      <th>TRANSMISSION</th>\n",
       "      <th>FUELTYPE</th>\n",
       "      <th>FUELCONSUMPTION_CITY</th>\n",
       "      <th>FUELCONSUMPTION_HWY</th>\n",
       "      <th>FUELCONSUMPTION_COMB</th>\n",
       "      <th>FUELCONSUMPTION_COMB_MPG</th>\n",
       "      <th>CO2EMISSIONS</th>\n",
       "    </tr>\n",
       "  </thead>\n",
       "  <tbody>\n",
       "    <tr>\n",
       "      <th>0</th>\n",
       "      <td>2014</td>\n",
       "      <td>ACURA</td>\n",
       "      <td>ILX</td>\n",
       "      <td>COMPACT</td>\n",
       "      <td>2.0</td>\n",
       "      <td>4</td>\n",
       "      <td>AS5</td>\n",
       "      <td>Z</td>\n",
       "      <td>9.9</td>\n",
       "      <td>6.7</td>\n",
       "      <td>8.5</td>\n",
       "      <td>33</td>\n",
       "      <td>196</td>\n",
       "    </tr>\n",
       "    <tr>\n",
       "      <th>1</th>\n",
       "      <td>2014</td>\n",
       "      <td>ACURA</td>\n",
       "      <td>ILX</td>\n",
       "      <td>COMPACT</td>\n",
       "      <td>2.4</td>\n",
       "      <td>4</td>\n",
       "      <td>M6</td>\n",
       "      <td>Z</td>\n",
       "      <td>11.2</td>\n",
       "      <td>7.7</td>\n",
       "      <td>9.6</td>\n",
       "      <td>29</td>\n",
       "      <td>221</td>\n",
       "    </tr>\n",
       "    <tr>\n",
       "      <th>2</th>\n",
       "      <td>2014</td>\n",
       "      <td>ACURA</td>\n",
       "      <td>ILX HYBRID</td>\n",
       "      <td>COMPACT</td>\n",
       "      <td>1.5</td>\n",
       "      <td>4</td>\n",
       "      <td>AV7</td>\n",
       "      <td>Z</td>\n",
       "      <td>6.0</td>\n",
       "      <td>5.8</td>\n",
       "      <td>5.9</td>\n",
       "      <td>48</td>\n",
       "      <td>136</td>\n",
       "    </tr>\n",
       "    <tr>\n",
       "      <th>3</th>\n",
       "      <td>2014</td>\n",
       "      <td>ACURA</td>\n",
       "      <td>MDX 4WD</td>\n",
       "      <td>SUV - SMALL</td>\n",
       "      <td>3.5</td>\n",
       "      <td>6</td>\n",
       "      <td>AS6</td>\n",
       "      <td>Z</td>\n",
       "      <td>12.7</td>\n",
       "      <td>9.1</td>\n",
       "      <td>11.1</td>\n",
       "      <td>25</td>\n",
       "      <td>255</td>\n",
       "    </tr>\n",
       "    <tr>\n",
       "      <th>4</th>\n",
       "      <td>2014</td>\n",
       "      <td>ACURA</td>\n",
       "      <td>RDX AWD</td>\n",
       "      <td>SUV - SMALL</td>\n",
       "      <td>3.5</td>\n",
       "      <td>6</td>\n",
       "      <td>AS6</td>\n",
       "      <td>Z</td>\n",
       "      <td>12.1</td>\n",
       "      <td>8.7</td>\n",
       "      <td>10.6</td>\n",
       "      <td>27</td>\n",
       "      <td>244</td>\n",
       "    </tr>\n",
       "  </tbody>\n",
       "</table>\n",
       "</div>"
      ],
      "text/plain": [
       "   MODELYEAR   MAKE       MODEL VEHICLECLASS  ENGINESIZE  CYLINDERS  \\\n",
       "0       2014  ACURA         ILX      COMPACT         2.0          4   \n",
       "1       2014  ACURA         ILX      COMPACT         2.4          4   \n",
       "2       2014  ACURA  ILX HYBRID      COMPACT         1.5          4   \n",
       "3       2014  ACURA     MDX 4WD  SUV - SMALL         3.5          6   \n",
       "4       2014  ACURA     RDX AWD  SUV - SMALL         3.5          6   \n",
       "\n",
       "  TRANSMISSION FUELTYPE  FUELCONSUMPTION_CITY  FUELCONSUMPTION_HWY  \\\n",
       "0          AS5        Z                   9.9                  6.7   \n",
       "1           M6        Z                  11.2                  7.7   \n",
       "2          AV7        Z                   6.0                  5.8   \n",
       "3          AS6        Z                  12.7                  9.1   \n",
       "4          AS6        Z                  12.1                  8.7   \n",
       "\n",
       "   FUELCONSUMPTION_COMB  FUELCONSUMPTION_COMB_MPG  CO2EMISSIONS  \n",
       "0                   8.5                        33           196  \n",
       "1                   9.6                        29           221  \n",
       "2                   5.9                        48           136  \n",
       "3                  11.1                        25           255  \n",
       "4                  10.6                        27           244  "
      ]
     },
     "execution_count": 3,
     "metadata": {},
     "output_type": "execute_result"
    }
   ],
   "source": [
    "df = pd.read_csv(\"FuelConsumptionCo2.csv\")\n",
    "df.head()"
   ]
  },
  {
   "cell_type": "code",
   "execution_count": 4,
   "metadata": {
    "colab": {
     "base_uri": "https://localhost:8080/",
     "height": 318
    },
    "colab_type": "code",
    "id": "di6byySEbXrk",
    "outputId": "63ada1a0-4819-4946-fa6b-f703687aa52f"
   },
   "outputs": [
    {
     "data": {
      "text/html": [
       "<div>\n",
       "<style scoped>\n",
       "    .dataframe tbody tr th:only-of-type {\n",
       "        vertical-align: middle;\n",
       "    }\n",
       "\n",
       "    .dataframe tbody tr th {\n",
       "        vertical-align: top;\n",
       "    }\n",
       "\n",
       "    .dataframe thead th {\n",
       "        text-align: right;\n",
       "    }\n",
       "</style>\n",
       "<table border=\"1\" class=\"dataframe\">\n",
       "  <thead>\n",
       "    <tr style=\"text-align: right;\">\n",
       "      <th></th>\n",
       "      <th>ENGINESIZE</th>\n",
       "      <th>CYLINDERS</th>\n",
       "      <th>FUELCONSUMPTION_CITY</th>\n",
       "      <th>FUELCONSUMPTION_HWY</th>\n",
       "      <th>FUELCONSUMPTION_COMB</th>\n",
       "      <th>CO2EMISSIONS</th>\n",
       "    </tr>\n",
       "  </thead>\n",
       "  <tbody>\n",
       "    <tr>\n",
       "      <th>0</th>\n",
       "      <td>2.0</td>\n",
       "      <td>4</td>\n",
       "      <td>9.9</td>\n",
       "      <td>6.7</td>\n",
       "      <td>8.5</td>\n",
       "      <td>196</td>\n",
       "    </tr>\n",
       "    <tr>\n",
       "      <th>1</th>\n",
       "      <td>2.4</td>\n",
       "      <td>4</td>\n",
       "      <td>11.2</td>\n",
       "      <td>7.7</td>\n",
       "      <td>9.6</td>\n",
       "      <td>221</td>\n",
       "    </tr>\n",
       "    <tr>\n",
       "      <th>2</th>\n",
       "      <td>1.5</td>\n",
       "      <td>4</td>\n",
       "      <td>6.0</td>\n",
       "      <td>5.8</td>\n",
       "      <td>5.9</td>\n",
       "      <td>136</td>\n",
       "    </tr>\n",
       "    <tr>\n",
       "      <th>3</th>\n",
       "      <td>3.5</td>\n",
       "      <td>6</td>\n",
       "      <td>12.7</td>\n",
       "      <td>9.1</td>\n",
       "      <td>11.1</td>\n",
       "      <td>255</td>\n",
       "    </tr>\n",
       "    <tr>\n",
       "      <th>4</th>\n",
       "      <td>3.5</td>\n",
       "      <td>6</td>\n",
       "      <td>12.1</td>\n",
       "      <td>8.7</td>\n",
       "      <td>10.6</td>\n",
       "      <td>244</td>\n",
       "    </tr>\n",
       "    <tr>\n",
       "      <th>5</th>\n",
       "      <td>3.5</td>\n",
       "      <td>6</td>\n",
       "      <td>11.9</td>\n",
       "      <td>7.7</td>\n",
       "      <td>10.0</td>\n",
       "      <td>230</td>\n",
       "    </tr>\n",
       "    <tr>\n",
       "      <th>6</th>\n",
       "      <td>3.5</td>\n",
       "      <td>6</td>\n",
       "      <td>11.8</td>\n",
       "      <td>8.1</td>\n",
       "      <td>10.1</td>\n",
       "      <td>232</td>\n",
       "    </tr>\n",
       "    <tr>\n",
       "      <th>7</th>\n",
       "      <td>3.7</td>\n",
       "      <td>6</td>\n",
       "      <td>12.8</td>\n",
       "      <td>9.0</td>\n",
       "      <td>11.1</td>\n",
       "      <td>255</td>\n",
       "    </tr>\n",
       "    <tr>\n",
       "      <th>8</th>\n",
       "      <td>3.7</td>\n",
       "      <td>6</td>\n",
       "      <td>13.4</td>\n",
       "      <td>9.5</td>\n",
       "      <td>11.6</td>\n",
       "      <td>267</td>\n",
       "    </tr>\n",
       "  </tbody>\n",
       "</table>\n",
       "</div>"
      ],
      "text/plain": [
       "   ENGINESIZE  CYLINDERS  FUELCONSUMPTION_CITY  FUELCONSUMPTION_HWY  \\\n",
       "0         2.0          4                   9.9                  6.7   \n",
       "1         2.4          4                  11.2                  7.7   \n",
       "2         1.5          4                   6.0                  5.8   \n",
       "3         3.5          6                  12.7                  9.1   \n",
       "4         3.5          6                  12.1                  8.7   \n",
       "5         3.5          6                  11.9                  7.7   \n",
       "6         3.5          6                  11.8                  8.1   \n",
       "7         3.7          6                  12.8                  9.0   \n",
       "8         3.7          6                  13.4                  9.5   \n",
       "\n",
       "   FUELCONSUMPTION_COMB  CO2EMISSIONS  \n",
       "0                   8.5           196  \n",
       "1                   9.6           221  \n",
       "2                   5.9           136  \n",
       "3                  11.1           255  \n",
       "4                  10.6           244  \n",
       "5                  10.0           230  \n",
       "6                  10.1           232  \n",
       "7                  11.1           255  \n",
       "8                  11.6           267  "
      ]
     },
     "execution_count": 4,
     "metadata": {},
     "output_type": "execute_result"
    }
   ],
   "source": [
    "cdf = df[['ENGINESIZE','CYLINDERS','FUELCONSUMPTION_CITY','FUELCONSUMPTION_HWY','FUELCONSUMPTION_COMB','CO2EMISSIONS']]\n",
    "cdf.head(9)"
   ]
  },
  {
   "cell_type": "code",
   "execution_count": 5,
   "metadata": {
    "colab": {
     "base_uri": "https://localhost:8080/",
     "height": 280
    },
    "colab_type": "code",
    "id": "4PZSwjE9cYN7",
    "outputId": "0af9e35a-2ac0-458a-b861-d4e4960594c8"
   },
   "outputs": [
    {
     "data": {
      "image/png": "[encoded data removed]",
      "text/plain": [
       "<Figure size 432x288 with 1 Axes>"
      ]
     },
     "metadata": {
      "needs_background": "light"
     },
     "output_type": "display_data"
    }
   ],
   "source": [
    "plt.scatter(cdf.ENGINESIZE, cdf.CO2EMISSIONS,  color='blue')\n",
    "plt.xlabel(\"Engine size\")\n",
    "plt.ylabel(\"Emission\")\n",
    "plt.show()"
   ]
  },
  {
   "cell_type": "markdown",
   "metadata": {
    "colab_type": "text",
    "id": "TQe2GxQhdMN8"
   },
   "source": [
    "Mutiple Linear Regression "
   ]
  },
  {
   "cell_type": "code",
   "execution_count": 6,
   "metadata": {
    "colab": {
     "base_uri": "https://localhost:8080/",
     "height": 69
    },
    "colab_type": "code",
    "id": "2NPkIVw3dndx",
    "outputId": "5b014abe-0357-4895-9fc1-19780e4115bf"
   },
   "outputs": [
    {
     "name": "stdout",
     "output_type": "stream",
     "text": [
      "Coefficients:  [[10.60453392  7.9656163   9.50027243]]\n",
      "Residual sum of squares: 529.13\n",
      "Variance score: 0.86\n",
      "Adjusted R2: 0.8622772459580754\n",
      "AIC: 1.0057670126874279\n",
      "BIC: 1.038743060969646\n"
     ]
    }
   ],
   "source": [
    "msk = np.random.rand(len(df)) < 0.8\n",
    "\n",
    "train = cdf[msk]\n",
    "test = cdf[~msk]\n",
    "\n",
    "regr = linear_model.LinearRegression()\n",
    "\n",
    "x = np.asanyarray(train[['ENGINESIZE','CYLINDERS','FUELCONSUMPTION_COMB']])\n",
    "y = np.asanyarray(train[['CO2EMISSIONS']])\n",
    "\n",
    "regr.fit (x, y)\n",
    "print ('Coefficients: ', regr.coef_)\n",
    "\n",
    "y_hat= regr.predict(test[['ENGINESIZE','CYLINDERS','FUELCONSUMPTION_COMB']])\n",
    "\n",
    "x = np.asanyarray(test[['ENGINESIZE','CYLINDERS','FUELCONSUMPTION_COMB']])\n",
    "y = np.asanyarray(test[['CO2EMISSIONS']])\n",
    "print(\"Residual sum of squares: %.2f\" % np.mean((y_hat - y) ** 2))\n",
    "print('Variance score: %.2f' % regr.score(x, y))\n",
    "\n",
    "r2 =regr.score(x,y)\n",
    "adj_r2 = (1 - (1 - r2) * ((train.shape[0] - 1) / (train.shape[0] - train.shape[1] - 1)))\n",
    "print('Adjusted R2:', adj_r2)\n",
    "\n",
    "RSS = np.mean((y_hat - y) ** 2)\n",
    "hat_sigma_sqaured = (1/(train.shape[0]-train.shape[1]-1))*RSS\n",
    "\n",
    "AIC = (1/(train.shape[0]*hat_sigma_sqaured))*(RSS+2*train.shape[1]*hat_sigma_sqaured)\n",
    "print (\"AIC:\", AIC)\n",
    "\n",
    "BIC = (1/(train.shape[0]*hat_sigma_sqaured)) * (RSS+ np.log(train.shape[0]) * train.shape[1] * hat_sigma_sqaured)\n",
    "print (\"BIC:\", BIC)"
   ]
  },
  {
   "cell_type": "markdown",
   "metadata": {
    "colab_type": "text",
    "id": "yURbEyiwg3gR"
   },
   "source": [
    "Ridge Regression"
   ]
  },
  {
   "cell_type": "code",
   "execution_count": 7,
   "metadata": {
    "colab": {
     "base_uri": "https://localhost:8080/",
     "height": 104
    },
    "colab_type": "code",
    "id": "xOKarFFFhPvs",
    "outputId": "a3deacdd-69d6-4873-ddaa-121a42c69dea"
   },
   "outputs": [
    {
     "name": "stdout",
     "output_type": "stream",
     "text": [
      "Coefficients:  [[10.59072634  7.9717337   9.50193409]]\n",
      "Intercept: [65.06254588]\n",
      "Residual sum of squares: 529.13\n",
      "Variance score: 0.86\n",
      "Adjusted R2: 0.8622774915855876\n",
      "AIC: 1.0057670126874279\n",
      "BIC: 1.038743060969646\n"
     ]
    }
   ],
   "source": [
    "regr_ridge = linear_model.Ridge(alpha =0.5)\n",
    "\n",
    "x = np.asanyarray(train[['ENGINESIZE','CYLINDERS','FUELCONSUMPTION_COMB']])\n",
    "y = np.asanyarray(train[['CO2EMISSIONS']])\n",
    "\n",
    "regr_ridge.fit (x, y)\n",
    "\n",
    "print ('Coefficients: ', regr_ridge.coef_)\n",
    "print ('Intercept:', regr_ridge.intercept_)\n",
    "\n",
    "y_hat= regr_ridge.predict(test[['ENGINESIZE','CYLINDERS','FUELCONSUMPTION_COMB']])\n",
    "x = np.asanyarray(test[['ENGINESIZE','CYLINDERS','FUELCONSUMPTION_COMB']])\n",
    "y = np.asanyarray(test[['CO2EMISSIONS']])\n",
    "print(\"Residual sum of squares: %.2f\" % np.mean((y_hat - y) ** 2))\n",
    "print('Variance score: %.2f' % regr_ridge.score(x, y))\n",
    "\n",
    "r2 =regr_ridge.score(x,y)\n",
    "adj_r2 = (1 - (1 - r2) * ((train.shape[0] - 1) / (train.shape[0] - train.shape[1] - 1)))\n",
    "print('Adjusted R2:', adj_r2)\n",
    "\n",
    "RSS = np.mean((y_hat - y) ** 2)\n",
    "\n",
    "hat_sigma_sqaured = (1/(train.shape[0]-train.shape[1]-1))*RSS\n",
    "\n",
    "AIC = (1/(train.shape[0]*hat_sigma_sqaured))*(RSS+2*train.shape[1]*hat_sigma_sqaured)\n",
    "print (\"AIC:\", AIC)\n",
    "\n",
    "BIC = (1/(train.shape[0]*hat_sigma_sqaured)) * (RSS+  np.log(train.shape[0]) * train.shape[1] * hat_sigma_sqaured)\n",
    "print (\"BIC:\", BIC)"
   ]
  },
  {
   "cell_type": "markdown",
   "metadata": {
    "colab_type": "text",
    "id": "Lfw3UqUJiPrw"
   },
   "source": [
    "Ridge Regression lamda decision by cross-validation"
   ]
  },
  {
   "cell_type": "code",
   "execution_count": 8,
   "metadata": {
    "colab": {
     "base_uri": "https://localhost:8080/",
     "height": 52
    },
    "colab_type": "code",
    "id": "VMpwzfl-iyDf",
    "outputId": "0bcdea83-fbfe-4776-867e-045ad29a4ab9"
   },
   "outputs": [
    {
     "name": "stdout",
     "output_type": "stream",
     "text": [
      "regr_RidgeCV returns to the best lamda: 10.0\n",
      "\n",
      "Coefficients:  [[10.34535864  8.07727346  9.53214893]]\n",
      "Intercept: [64.92110182]\n"
     ]
    }
   ],
   "source": [
    "regr_RidgeCV = linear_model.RidgeCV(alphas=np.logspace(-6, 6, 13))\n",
    "\n",
    "x = np.asanyarray(train[['ENGINESIZE','CYLINDERS','FUELCONSUMPTION_COMB']])\n",
    "y = np.asanyarray(train[['CO2EMISSIONS']])\n",
    "\n",
    "regr_RidgeCV.fit (x, y)\n",
    "\n",
    "print(\"regr_RidgeCV returns to the best lamda:\", regr_RidgeCV.alpha_)\n",
    "print()\n",
    "\n",
    "regr_ridge = linear_model.Ridge(alpha =10.0)\n",
    "\n",
    "x = np.asanyarray(train[['ENGINESIZE','CYLINDERS','FUELCONSUMPTION_COMB']])\n",
    "y = np.asanyarray(train[['CO2EMISSIONS']])\n",
    "\n",
    "regr_ridge.fit (x, y)\n",
    "\n",
    "print ('Coefficients: ', regr_ridge.coef_)\n",
    "print ('Intercept:', regr_ridge.intercept_)"
   ]
  },
  {
   "cell_type": "code",
   "execution_count": 9,
   "metadata": {
    "colab": {
     "base_uri": "https://localhost:8080/",
     "height": 138
    },
    "colab_type": "code",
    "id": "6E7_JIF0i7P1",
    "outputId": "284804cf-5e13-4213-b987-d9c0914a3198"
   },
   "outputs": [
    {
     "name": "stdout",
     "output_type": "stream",
     "text": [
      "Coefficients:  [[10.34535864  8.07727346  9.53214893]]\n",
      "Intercept: [64.92110182]\n",
      "Residual sum of squares: 529.12\n",
      "Variance score: 0.86\n",
      "Adjusted R2: 0.8622803803745728\n",
      "AIC: 1.005767012687428\n",
      "BIC: 1.0387430609696462\n"
     ]
    }
   ],
   "source": [
    "regr_ridge = linear_model.Ridge(alpha =10.0)\n",
    "\n",
    "x = np.asanyarray(train[['ENGINESIZE','CYLINDERS','FUELCONSUMPTION_COMB']])\n",
    "y = np.asanyarray(train[['CO2EMISSIONS']])\n",
    "\n",
    "regr_ridge.fit (x, y)\n",
    "\n",
    "print ('Coefficients: ', regr_ridge.coef_)\n",
    "print ('Intercept:', regr_ridge.intercept_)\n",
    "\n",
    "y_hat= regr_ridge.predict(test[['ENGINESIZE','CYLINDERS','FUELCONSUMPTION_COMB']])\n",
    "\n",
    "x = np.asanyarray(test[['ENGINESIZE','CYLINDERS','FUELCONSUMPTION_COMB']])\n",
    "y = np.asanyarray(test[['CO2EMISSIONS']])\n",
    "\n",
    "print(\"Residual sum of squares: %.2f\" % np.mean((y_hat - y) ** 2))\n",
    "print('Variance score: %.2f' % regr_ridge.score(x, y))\n",
    "\n",
    "r2 =regr_ridge.score(x,y)\n",
    "adj_r2 = (1 - (1 - r2) * ((train.shape[0] - 1) / (train.shape[0] - train.shape[1] - 1)))\n",
    "print('Adjusted R2:', adj_r2)\n",
    "\n",
    "RSS = np.mean((y_hat - y) ** 2)\n",
    "\n",
    "hat_sigma_sqaured = (1/(train.shape[0]-train.shape[1]-1))*RSS\n",
    "\n",
    "AIC = (1/(train.shape[0]*hat_sigma_sqaured))*(RSS+2*train.shape[1]*hat_sigma_sqaured)\n",
    "print (\"AIC:\", AIC)\n",
    "\n",
    "BIC = (1/(train.shape[0]*hat_sigma_sqaured)) * (RSS+  np.log(train.shape[0]) * train.shape[1] * hat_sigma_sqaured)\n",
    "print (\"BIC:\", BIC)"
   ]
  },
  {
   "cell_type": "markdown",
   "metadata": {
    "colab_type": "text",
    "id": "BZoRVtJkjaQQ"
   },
   "source": [
    "LASSO"
   ]
  },
  {
   "cell_type": "code",
   "execution_count": 10,
   "metadata": {
    "colab": {
     "base_uri": "https://localhost:8080/",
     "height": 138
    },
    "colab_type": "code",
    "id": "pC-vB8cSjcvn",
    "outputId": "b49617fe-c916-49ce-b943-513348dae2bc"
   },
   "outputs": [
    {
     "name": "stdout",
     "output_type": "stream",
     "text": [
      "Coefficients:  [10.45746944  8.00424823  9.52515849]\n",
      "Intercept: [65.05064344]\n",
      "Residual sum of squares: 7301.46\n",
      "Variance score: 0.86\n",
      "Adjusted R2: 0.8623058453428447\n",
      "AIC: 1.0057670126874279\n",
      "BIC: 1.0387430609696462\n"
     ]
    }
   ],
   "source": [
    "regr_lasso = linear_model.Lasso(alpha =0.1)\n",
    "\n",
    "x = np.asanyarray(train[['ENGINESIZE','CYLINDERS','FUELCONSUMPTION_COMB']])\n",
    "y = np.asanyarray(train[['CO2EMISSIONS']])\n",
    "\n",
    "regr_lasso.fit (x, y)\n",
    "\n",
    "print ('Coefficients: ', regr_lasso.coef_)\n",
    "print ('Intercept:', regr_lasso.intercept_)\n",
    "\n",
    "y_hat= regr_lasso.predict(test[['ENGINESIZE','CYLINDERS','FUELCONSUMPTION_COMB']])\n",
    "\n",
    "x = np.asanyarray(test[['ENGINESIZE','CYLINDERS','FUELCONSUMPTION_COMB']])\n",
    "y = np.asanyarray(test[['CO2EMISSIONS']])\n",
    "print(\"Residual sum of squares: %.2f\" % np.mean((y_hat - y) ** 2))\n",
    "print('Variance score: %.2f' % regr_lasso.score(x, y))\n",
    "\n",
    "r2 =regr_lasso.score(x,y)\n",
    "adj_r2 = (1 - (1 - r2) * ((train.shape[0] - 1) / (train.shape[0] - train.shape[1] - 1)))\n",
    "print('Adjusted R2:', adj_r2)\n",
    "\n",
    "RSS = np.mean((y_hat - y) ** 2)\n",
    "\n",
    "hat_sigma_sqaured = (1/(train.shape[0]-train.shape[1]-1))*RSS\n",
    "\n",
    "AIC = (1/(train.shape[0]*hat_sigma_sqaured))*(RSS+2*train.shape[1]*hat_sigma_sqaured)\n",
    "print (\"AIC:\", AIC)\n",
    "\n",
    "BIC = (1/(train.shape[0]*hat_sigma_sqaured)) * (RSS+  np.log(train.shape[0]) * train.shape[1] * hat_sigma_sqaured)\n",
    "print (\"BIC:\", BIC)"
   ]
  },
  {
   "cell_type": "code",
   "execution_count": 11,
   "metadata": {
    "colab": {
     "base_uri": "https://localhost:8080/",
     "height": 89
    },
    "colab_type": "code",
    "id": "fl0X3-eqjlfk",
    "outputId": "a6d6da30-3840-4781-d6a7-ecbbd0291485"
   },
   "outputs": [
    {
     "name": "stdout",
     "output_type": "stream",
     "text": [
      "regr_LassoCV best lamda is: 1e-06\n"
     ]
    }
   ],
   "source": [
    "regr_LassoCV = linear_model.LassoCV(alphas=np.logspace(-6, 6, 13))\n",
    "\n",
    "x = np.asanyarray(train[['ENGINESIZE','CYLINDERS','FUELCONSUMPTION_COMB']])\n",
    "y = np.asanyarray(train[['CO2EMISSIONS']])\n",
    "\n",
    "regr_LassoCV.fit (x, y)\n",
    "\n",
    "print(\"regr_LassoCV best lamda is:\", regr_LassoCV.alpha_)"
   ]
  },
  {
   "cell_type": "code",
   "execution_count": 12,
   "metadata": {
    "colab": {
     "base_uri": "https://localhost:8080/",
     "height": 138
    },
    "colab_type": "code",
    "id": "wQqxqd9Yj7Xp",
    "outputId": "d33ed9f3-52c8-4f12-d2a4-82968a0df07b"
   },
   "outputs": [
    {
     "name": "stdout",
     "output_type": "stream",
     "text": [
      "Coefficients:  [10.60453951  7.96561314  9.50027177]\n",
      "Intercept: [65.07110069]\n",
      "Residual sum of squares: 7308.30\n",
      "Variance score: 0.86\n",
      "Adjusted R2: 0.8622772465657929\n",
      "AIC: 1.0057670126874279\n",
      "BIC: 1.0387430609696462\n"
     ]
    }
   ],
   "source": [
    "regr_lasso = linear_model.Lasso(alpha =1e-06)\n",
    "\n",
    "x = np.asanyarray(train[['ENGINESIZE','CYLINDERS','FUELCONSUMPTION_COMB']])\n",
    "y = np.asanyarray(train[['CO2EMISSIONS']])\n",
    "\n",
    "regr_lasso.fit (x, y)\n",
    "\n",
    "print ('Coefficients: ', regr_lasso.coef_)\n",
    "print ('Intercept:', regr_lasso.intercept_)\n",
    "\n",
    "y_hat= regr_lasso.predict(test[['ENGINESIZE','CYLINDERS','FUELCONSUMPTION_COMB']])\n",
    "\n",
    "x = np.asanyarray(test[['ENGINESIZE','CYLINDERS','FUELCONSUMPTION_COMB']])\n",
    "y = np.asanyarray(test[['CO2EMISSIONS']])\n",
    "\n",
    "print(\"Residual sum of squares: %.2f\" % np.mean((y_hat - y) ** 2))\n",
    "print('Variance score: %.2f' % regr_lasso.score(x, y))\n",
    "\n",
    "r2 =regr_lasso.score(x,y)\n",
    "adj_r2 = (1 - (1 - r2) * ((train.shape[0] - 1) / (train.shape[0] - train.shape[1] - 1)))\n",
    "print('Adjusted R2:', adj_r2)\n",
    "\n",
    "RSS = np.mean((y_hat - y) ** 2)\n",
    "\n",
    "hat_sigma_sqaured = (1/(train.shape[0]-train.shape[1]-1))*RSS\n",
    "\n",
    "AIC = (1/(train.shape[0]*hat_sigma_sqaured))*(RSS+2*train.shape[1]*hat_sigma_sqaured)\n",
    "print (\"AIC:\", AIC)\n",
    "\n",
    "BIC = (1/(train.shape[0]*hat_sigma_sqaured)) * (RSS+  np.log(train.shape[0]) * train.shape[1] * hat_sigma_sqaured)\n",
    "print (\"BIC:\", BIC)"
   ]
  },
  {
   "cell_type": "markdown",
   "metadata": {
    "colab_type": "text",
    "id": "el6rloRxkOJA"
   },
   "source": [
    "***Bayesian Ridge Regression***\n",
    "- many believes this would return the best outcomes "
   ]
  },
  {
   "cell_type": "code",
   "execution_count": 13,
   "metadata": {
    "colab": {
     "base_uri": "https://localhost:8080/",
     "height": 193
    },
    "colab_type": "code",
    "id": "MlxrMtzqkB8k",
    "outputId": "e731e4e9-08eb-45e2-aa8b-a24300425cf2"
   },
   "outputs": [
    {
     "name": "stdout",
     "output_type": "stream",
     "text": [
      "Coefficients:  [10.44082005  8.03694991  9.52023489]\n",
      "Intercept: 64.9736916821243\n",
      "Residual sum of squares: 7303.21\n",
      "Variance score: 0.86\n",
      "Adjusted R2: 0.8622795867286912\n",
      "AIC: 1.0057670126874279\n",
      "BIC: 1.038743060969646\n"
     ]
    }
   ],
   "source": [
    "regr_bayesian_ridge = linear_model.BayesianRidge()\n",
    "\n",
    "x = np.asanyarray(train[['ENGINESIZE','CYLINDERS','FUELCONSUMPTION_COMB']])\n",
    "y = np.asanyarray(train[['CO2EMISSIONS']])\n",
    "\n",
    "regr_bayesian_ridge.fit (x, y)\n",
    "\n",
    "print ('Coefficients: ', regr_bayesian_ridge.coef_)\n",
    "print ('Intercept:', regr_bayesian_ridge.intercept_)\n",
    "\n",
    "y_hat= regr_bayesian_ridge.predict(test[['ENGINESIZE','CYLINDERS','FUELCONSUMPTION_COMB']])\n",
    "\n",
    "x = np.asanyarray(test[['ENGINESIZE','CYLINDERS','FUELCONSUMPTION_COMB']])\n",
    "y = np.asanyarray(test[['CO2EMISSIONS']])\n",
    "\n",
    "print(\"Residual sum of squares: %.2f\" % np.mean((y_hat - y) ** 2))\n",
    "print('Variance score: %.2f' % regr_bayesian_ridge.score(x, y))\n",
    "\n",
    "r2 =regr_bayesian_ridge.score(x,y)\n",
    "adj_r2 = (1 - (1 - r2) * ((train.shape[0] - 1) / (train.shape[0] - train.shape[1] - 1)))\n",
    "print('Adjusted R2:', adj_r2)\n",
    "\n",
    "RSS = np.mean((y_hat - y) ** 2)\n",
    "\n",
    "hat_sigma_sqaured = (1/(train.shape[0]-train.shape[1]-1))*RSS\n",
    "\n",
    "AIC = (1/(train.shape[0]*hat_sigma_sqaured))*(RSS+2*train.shape[1]*hat_sigma_sqaured)\n",
    "print (\"AIC:\", AIC)\n",
    "\n",
    "BIC = (1/(train.shape[0]*hat_sigma_sqaured)) * (RSS+  np.log(train.shape[0]) * train.shape[1] * hat_sigma_sqaured)\n",
    "print (\"BIC:\", BIC)"
   ]
  },
  {
   "cell_type": "code",
   "execution_count": null,
   "metadata": {
    "colab": {},
    "colab_type": "code",
    "id": "4jTUa17Kkj6T"
   },
   "outputs": [],
   "source": []
  }
 ],
 "metadata": {
  "colab": {
   "name": "0514_Practices.ipynb",
   "provenance": []
  },
  "kernelspec": {
   "display_name": "Python 3",
   "language": "python",
   "name": "python3"
  },
  "language_info": {
   "codemirror_mode": {
    "name": "ipython",
    "version": 3
   },
   "file_extension": ".py",
   "mimetype": "text/x-python",
   "name": "python",
   "nbconvert_exporter": "python",
   "pygments_lexer": "ipython3",
   "version": "3.7.6"
  }
 },
 "nbformat": 4,
 "nbformat_minor": 1
}
