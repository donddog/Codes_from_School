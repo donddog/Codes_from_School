{
 "cells": [
  {
   "cell_type": "markdown",
   "metadata": {
    "colab_type": "text",
    "id": "VtbLaqE5ULMU"
   },
   "source": [
    "#K-Nearest Neighborhood (From Scratch)"
   ]
  },
  {
   "cell_type": "code",
   "execution_count": 0,
   "metadata": {
    "colab": {},
    "colab_type": "code",
    "id": "buBCOjqZUR6F"
   },
   "outputs": [],
   "source": [
    "#KNN is the distance measure first and then popluar voting system...\n"
   ]
  },
  {
   "cell_type": "code",
   "execution_count": 0,
   "metadata": {
    "colab": {},
    "colab_type": "code",
    "id": "VdILjuZjb2bG"
   },
   "outputs": [],
   "source": [
    "import numpy as np\n",
    "import matplotlib.pyplot as plt\n",
    "import pandas as pd\n",
    "from sklearn import preprocessing \n",
    "\n",
    "%matplotlib inline \n"
   ]
  },
  {
   "cell_type": "code",
   "execution_count": 2,
   "metadata": {
    "colab": {
     "base_uri": "https://localhost:8080/",
     "height": 124
    },
    "colab_type": "code",
    "id": "gagNfdRFcIYh",
    "outputId": "68d2461d-b13c-45c5-b124-668935d8489f"
   },
   "outputs": [
    {
     "name": "stdout",
     "output_type": "stream",
     "text": [
      "Go to this URL in a browser: https://accounts.google.com/o/oauth2/auth?client_id=947318989803-6bn6qk8qdgf4n4g3pfee6491hc0brc4i.apps.googleusercontent.com&redirect_uri=urn%3aietf%3awg%3aoauth%3a2.0%3aoob&response_type=code&scope=email%20https%3a%2f%2fwww.googleapis.com%2fauth%2fdocs.test%20https%3a%2f%2fwww.googleapis.com%2fauth%2fdrive%20https%3a%2f%2fwww.googleapis.com%2fauth%2fdrive.photos.readonly%20https%3a%2f%2fwww.googleapis.com%2fauth%2fpeopleapi.readonly\n",
      "\n",
      "Enter your authorization code:\n",
      "··········\n",
      "Mounted at /content/gdrive\n"
     ]
    }
   ],
   "source": [
    "# I need the data file\n",
    "\n",
    "from google.colab import drive\n",
    "drive.mount('/content/gdrive')"
   ]
  },
  {
   "cell_type": "code",
   "execution_count": 0,
   "metadata": {
    "colab": {},
    "colab_type": "code",
    "id": "WaXp0pOhccU6"
   },
   "outputs": [],
   "source": [
    "df = pd.read_csv('/content/gdrive/My Drive/teleCust1000t.csv')"
   ]
  },
  {
   "cell_type": "code",
   "execution_count": 4,
   "metadata": {
    "colab": {
     "base_uri": "https://localhost:8080/",
     "height": 198
    },
    "colab_type": "code",
    "id": "YrSx05L3ctpf",
    "outputId": "9f816122-653e-4859-acf2-7ba01ba5dfe8"
   },
   "outputs": [
    {
     "data": {
      "text/html": [
       "<div>\n",
       "<style scoped>\n",
       "    .dataframe tbody tr th:only-of-type {\n",
       "        vertical-align: middle;\n",
       "    }\n",
       "\n",
       "    .dataframe tbody tr th {\n",
       "        vertical-align: top;\n",
       "    }\n",
       "\n",
       "    .dataframe thead th {\n",
       "        text-align: right;\n",
       "    }\n",
       "</style>\n",
       "<table border=\"1\" class=\"dataframe\">\n",
       "  <thead>\n",
       "    <tr style=\"text-align: right;\">\n",
       "      <th></th>\n",
       "      <th>region</th>\n",
       "      <th>tenure</th>\n",
       "      <th>age</th>\n",
       "      <th>marital</th>\n",
       "      <th>address</th>\n",
       "      <th>income</th>\n",
       "      <th>ed</th>\n",
       "      <th>employ</th>\n",
       "      <th>retire</th>\n",
       "      <th>gender</th>\n",
       "      <th>reside</th>\n",
       "      <th>custcat</th>\n",
       "    </tr>\n",
       "  </thead>\n",
       "  <tbody>\n",
       "    <tr>\n",
       "      <th>0</th>\n",
       "      <td>2</td>\n",
       "      <td>13</td>\n",
       "      <td>44</td>\n",
       "      <td>1</td>\n",
       "      <td>9</td>\n",
       "      <td>64.0</td>\n",
       "      <td>4</td>\n",
       "      <td>5</td>\n",
       "      <td>0.0</td>\n",
       "      <td>0</td>\n",
       "      <td>2</td>\n",
       "      <td>1</td>\n",
       "    </tr>\n",
       "    <tr>\n",
       "      <th>1</th>\n",
       "      <td>3</td>\n",
       "      <td>11</td>\n",
       "      <td>33</td>\n",
       "      <td>1</td>\n",
       "      <td>7</td>\n",
       "      <td>136.0</td>\n",
       "      <td>5</td>\n",
       "      <td>5</td>\n",
       "      <td>0.0</td>\n",
       "      <td>0</td>\n",
       "      <td>6</td>\n",
       "      <td>4</td>\n",
       "    </tr>\n",
       "    <tr>\n",
       "      <th>2</th>\n",
       "      <td>3</td>\n",
       "      <td>68</td>\n",
       "      <td>52</td>\n",
       "      <td>1</td>\n",
       "      <td>24</td>\n",
       "      <td>116.0</td>\n",
       "      <td>1</td>\n",
       "      <td>29</td>\n",
       "      <td>0.0</td>\n",
       "      <td>1</td>\n",
       "      <td>2</td>\n",
       "      <td>3</td>\n",
       "    </tr>\n",
       "    <tr>\n",
       "      <th>3</th>\n",
       "      <td>2</td>\n",
       "      <td>33</td>\n",
       "      <td>33</td>\n",
       "      <td>0</td>\n",
       "      <td>12</td>\n",
       "      <td>33.0</td>\n",
       "      <td>2</td>\n",
       "      <td>0</td>\n",
       "      <td>0.0</td>\n",
       "      <td>1</td>\n",
       "      <td>1</td>\n",
       "      <td>1</td>\n",
       "    </tr>\n",
       "    <tr>\n",
       "      <th>4</th>\n",
       "      <td>2</td>\n",
       "      <td>23</td>\n",
       "      <td>30</td>\n",
       "      <td>1</td>\n",
       "      <td>9</td>\n",
       "      <td>30.0</td>\n",
       "      <td>1</td>\n",
       "      <td>2</td>\n",
       "      <td>0.0</td>\n",
       "      <td>0</td>\n",
       "      <td>4</td>\n",
       "      <td>3</td>\n",
       "    </tr>\n",
       "  </tbody>\n",
       "</table>\n",
       "</div>"
      ],
      "text/plain": [
       "   region  tenure  age  marital  ...  retire  gender  reside  custcat\n",
       "0       2      13   44        1  ...     0.0       0       2        1\n",
       "1       3      11   33        1  ...     0.0       0       6        4\n",
       "2       3      68   52        1  ...     0.0       1       2        3\n",
       "3       2      33   33        0  ...     0.0       1       1        1\n",
       "4       2      23   30        1  ...     0.0       0       4        3\n",
       "\n",
       "[5 rows x 12 columns]"
      ]
     },
     "execution_count": 4,
     "metadata": {
      "tags": []
     },
     "output_type": "execute_result"
    }
   ],
   "source": [
    "df.head()"
   ]
  },
  {
   "cell_type": "markdown",
   "metadata": {
    "colab_type": "text",
    "id": "6WkpgP_Yc1Hv"
   },
   "source": [
    "###the first 11 are independent variables, an the last column (custcat = customer categories, there are *four categories*) "
   ]
  },
  {
   "cell_type": "code",
   "execution_count": 5,
   "metadata": {
    "colab": {
     "base_uri": "https://localhost:8080/",
     "height": 198
    },
    "colab_type": "code",
    "id": "xVR5-IIocxHi",
    "outputId": "315c4238-6c9f-4ac7-f56d-b79aebde5aed"
   },
   "outputs": [
    {
     "data": {
      "text/html": [
       "<div>\n",
       "<style scoped>\n",
       "    .dataframe tbody tr th:only-of-type {\n",
       "        vertical-align: middle;\n",
       "    }\n",
       "\n",
       "    .dataframe tbody tr th {\n",
       "        vertical-align: top;\n",
       "    }\n",
       "\n",
       "    .dataframe thead th {\n",
       "        text-align: right;\n",
       "    }\n",
       "</style>\n",
       "<table border=\"1\" class=\"dataframe\">\n",
       "  <thead>\n",
       "    <tr style=\"text-align: right;\">\n",
       "      <th></th>\n",
       "      <th>region</th>\n",
       "      <th>tenure</th>\n",
       "      <th>age</th>\n",
       "      <th>marital</th>\n",
       "      <th>address</th>\n",
       "      <th>income</th>\n",
       "      <th>ed</th>\n",
       "      <th>employ</th>\n",
       "      <th>retire</th>\n",
       "      <th>gender</th>\n",
       "      <th>reside</th>\n",
       "      <th>custcat</th>\n",
       "    </tr>\n",
       "  </thead>\n",
       "  <tbody>\n",
       "    <tr>\n",
       "      <th>995</th>\n",
       "      <td>3</td>\n",
       "      <td>10</td>\n",
       "      <td>39</td>\n",
       "      <td>0</td>\n",
       "      <td>0</td>\n",
       "      <td>27.0</td>\n",
       "      <td>3</td>\n",
       "      <td>0</td>\n",
       "      <td>0.0</td>\n",
       "      <td>1</td>\n",
       "      <td>3</td>\n",
       "      <td>1</td>\n",
       "    </tr>\n",
       "    <tr>\n",
       "      <th>996</th>\n",
       "      <td>1</td>\n",
       "      <td>7</td>\n",
       "      <td>34</td>\n",
       "      <td>0</td>\n",
       "      <td>2</td>\n",
       "      <td>22.0</td>\n",
       "      <td>5</td>\n",
       "      <td>5</td>\n",
       "      <td>0.0</td>\n",
       "      <td>1</td>\n",
       "      <td>1</td>\n",
       "      <td>1</td>\n",
       "    </tr>\n",
       "    <tr>\n",
       "      <th>997</th>\n",
       "      <td>3</td>\n",
       "      <td>67</td>\n",
       "      <td>59</td>\n",
       "      <td>0</td>\n",
       "      <td>40</td>\n",
       "      <td>944.0</td>\n",
       "      <td>5</td>\n",
       "      <td>33</td>\n",
       "      <td>0.0</td>\n",
       "      <td>1</td>\n",
       "      <td>1</td>\n",
       "      <td>4</td>\n",
       "    </tr>\n",
       "    <tr>\n",
       "      <th>998</th>\n",
       "      <td>3</td>\n",
       "      <td>70</td>\n",
       "      <td>49</td>\n",
       "      <td>0</td>\n",
       "      <td>18</td>\n",
       "      <td>87.0</td>\n",
       "      <td>2</td>\n",
       "      <td>22</td>\n",
       "      <td>0.0</td>\n",
       "      <td>1</td>\n",
       "      <td>1</td>\n",
       "      <td>3</td>\n",
       "    </tr>\n",
       "    <tr>\n",
       "      <th>999</th>\n",
       "      <td>3</td>\n",
       "      <td>50</td>\n",
       "      <td>36</td>\n",
       "      <td>1</td>\n",
       "      <td>7</td>\n",
       "      <td>39.0</td>\n",
       "      <td>3</td>\n",
       "      <td>3</td>\n",
       "      <td>0.0</td>\n",
       "      <td>1</td>\n",
       "      <td>3</td>\n",
       "      <td>2</td>\n",
       "    </tr>\n",
       "  </tbody>\n",
       "</table>\n",
       "</div>"
      ],
      "text/plain": [
       "     region  tenure  age  marital  ...  retire  gender  reside  custcat\n",
       "995       3      10   39        0  ...     0.0       1       3        1\n",
       "996       1       7   34        0  ...     0.0       1       1        1\n",
       "997       3      67   59        0  ...     0.0       1       1        4\n",
       "998       3      70   49        0  ...     0.0       1       1        3\n",
       "999       3      50   36        1  ...     0.0       1       3        2\n",
       "\n",
       "[5 rows x 12 columns]"
      ]
     },
     "execution_count": 5,
     "metadata": {
      "tags": []
     },
     "output_type": "execute_result"
    }
   ],
   "source": [
    "df.tail()"
   ]
  },
  {
   "cell_type": "code",
   "execution_count": 6,
   "metadata": {
    "colab": {
     "base_uri": "https://localhost:8080/",
     "height": 104
    },
    "colab_type": "code",
    "id": "qnunLQYhdC6b",
    "outputId": "8355fd5b-d5e3-411a-ba2d-cb28c1b9606e"
   },
   "outputs": [
    {
     "data": {
      "text/plain": [
       "3    281\n",
       "1    266\n",
       "4    236\n",
       "2    217\n",
       "Name: custcat, dtype: int64"
      ]
     },
     "execution_count": 6,
     "metadata": {
      "tags": []
     },
     "output_type": "execute_result"
    }
   ],
   "source": [
    "df['custcat'].value_counts()"
   ]
  },
  {
   "cell_type": "markdown",
   "metadata": {
    "colab_type": "text",
    "id": "I95XD5WNdV8k"
   },
   "source": [
    "you may now plot several figures or histograms to see how the data look likes"
   ]
  },
  {
   "cell_type": "code",
   "execution_count": 8,
   "metadata": {
    "colab": {
     "base_uri": "https://localhost:8080/",
     "height": 315
    },
    "colab_type": "code",
    "id": "9xelrLYMdQIa",
    "outputId": "b8ef22f8-e810-4040-c762-1d4e1d766a0f"
   },
   "outputs": [
    {
     "data": {
      "text/plain": [
       "array([[<matplotlib.axes._subplots.AxesSubplot object at 0x7f2314f30c18>]],\n",
       "      dtype=object)"
      ]
     },
     "execution_count": 8,
     "metadata": {
      "tags": []
     },
     "output_type": "execute_result"
    },
    {
     "data": {
      "image/png": "[encoded data removed]",
      "text/plain": [
       "<Figure size 432x288 with 1 Axes>"
      ]
     },
     "metadata": {
      "needs_background": "light",
      "tags": []
     },
     "output_type": "display_data"
    }
   ],
   "source": [
    "df.hist(column ='income', bins = 50)"
   ]
  },
  {
   "cell_type": "markdown",
   "metadata": {
    "colab_type": "text",
    "id": "DweY3rB9dtGX"
   },
   "source": [
    "##Analysis with KNN"
   ]
  },
  {
   "cell_type": "code",
   "execution_count": 0,
   "metadata": {
    "colab": {},
    "colab_type": "code",
    "id": "Z9FdlGLJdiWx"
   },
   "outputs": [],
   "source": [
    "X  = df[['region', 'tenure', 'age', 'marital', 'address', 'income', 'ed', 'employ', 'retire', 'gender', 'reside']].values "
   ]
  },
  {
   "cell_type": "code",
   "execution_count": 11,
   "metadata": {
    "colab": {
     "base_uri": "https://localhost:8080/",
     "height": 104
    },
    "colab_type": "code",
    "id": "scG4AwokeZ7M",
    "outputId": "a5eecf99-59b4-410c-fd8f-4d9b733870a9"
   },
   "outputs": [
    {
     "data": {
      "text/plain": [
       "array([[  1.,  15.,  46.,   1.,  17.,  63.,   5.,   1.,   0.,   0.,   2.],\n",
       "       [  3.,  10.,  39.,   0.,   0.,  27.,   3.,   0.,   0.,   1.,   3.],\n",
       "       [  1.,   7.,  34.,   0.,   2.,  22.,   5.,   5.,   0.,   1.,   1.],\n",
       "       [  3.,  67.,  59.,   0.,  40., 944.,   5.,  33.,   0.,   1.,   1.],\n",
       "       [  3.,  70.,  49.,   0.,  18.,  87.,   2.,  22.,   0.,   1.,   1.]])"
      ]
     },
     "execution_count": 11,
     "metadata": {
      "tags": []
     },
     "output_type": "execute_result"
    }
   ],
   "source": [
    "X[994:999]"
   ]
  },
  {
   "cell_type": "code",
   "execution_count": 0,
   "metadata": {
    "colab": {},
    "colab_type": "code",
    "id": "PYvxnhs8edN0"
   },
   "outputs": [],
   "source": [
    "y = df['custcat'].values"
   ]
  },
  {
   "cell_type": "code",
   "execution_count": 13,
   "metadata": {
    "colab": {
     "base_uri": "https://localhost:8080/",
     "height": 35
    },
    "colab_type": "code",
    "id": "3Z631sIiey-P",
    "outputId": "f88a1e9c-7648-4acf-a5b9-06836ac25f61"
   },
   "outputs": [
    {
     "data": {
      "text/plain": [
       "array([1, 4, 3, 1, 3])"
      ]
     },
     "execution_count": 13,
     "metadata": {
      "tags": []
     },
     "output_type": "execute_result"
    }
   ],
   "source": [
    "y[0:5]"
   ]
  },
  {
   "cell_type": "markdown",
   "metadata": {
    "colab_type": "text",
    "id": "GwYZfiICfCHj"
   },
   "source": [
    "###Normalize - because the scale of each data (independent variable) is different (mean = 0, variance = 1)"
   ]
  },
  {
   "cell_type": "code",
   "execution_count": 0,
   "metadata": {
    "colab": {},
    "colab_type": "code",
    "id": "O_A3cpzGe1GA"
   },
   "outputs": [],
   "source": [
    "X = preprocessing.StandardScaler().fit(X).transform(X.astype(float))"
   ]
  },
  {
   "cell_type": "code",
   "execution_count": 15,
   "metadata": {
    "colab": {
     "base_uri": "https://localhost:8080/",
     "height": 276
    },
    "colab_type": "code",
    "id": "pIX5Gvz9fvPw",
    "outputId": "c1aa7461-cd7e-4639-96fd-7e507e692903"
   },
   "outputs": [
    {
     "data": {
      "text/plain": [
       "array([[-1.25277087, -0.96144436,  0.34383492,  1.0100505 ,  0.54048764,\n",
       "        -0.13585302,  1.9062271 , -0.99106437, -0.22207644, -1.03459817,\n",
       "        -0.23065004],\n",
       "       [ 1.19883553, -1.19564595, -0.21382135, -0.9900495 , -1.1457465 ,\n",
       "        -0.47233108,  0.26927811, -1.09029981, -0.22207644,  0.96655883,\n",
       "         0.46617787],\n",
       "       [-1.25277087, -1.3361669 , -0.61214725, -0.9900495 , -0.94736601,\n",
       "        -0.51906415,  1.9062271 , -0.5941226 , -0.22207644,  0.96655883,\n",
       "        -0.92747794],\n",
       "       [ 1.19883553,  1.47425216,  1.37948227, -0.9900495 ,  2.82186323,\n",
       "         8.09851297,  1.9062271 ,  2.18446981, -0.22207644,  0.96655883,\n",
       "        -0.92747794],\n",
       "       [ 1.19883553,  1.61477311,  0.58283046, -0.9900495 ,  0.63967788,\n",
       "         0.08846569, -0.54919639,  1.09287993, -0.22207644,  0.96655883,\n",
       "        -0.92747794]])"
      ]
     },
     "execution_count": 15,
     "metadata": {
      "tags": []
     },
     "output_type": "execute_result"
    }
   ],
   "source": [
    "X[994:999]"
   ]
  },
  {
   "cell_type": "markdown",
   "metadata": {
    "colab_type": "text",
    "id": "Zhh87ToRgGSt"
   },
   "source": [
    "#Now, you need to split the data (cross-validation) "
   ]
  },
  {
   "cell_type": "code",
   "execution_count": 0,
   "metadata": {
    "colab": {},
    "colab_type": "code",
    "id": "4OM-ZozXfz4q"
   },
   "outputs": [],
   "source": [
    "from sklearn.model_selection import train_test_split\n",
    "\n",
    "X_train, X_test, y_train, y_test = train_test_split(X, y, test_size = 0.2, random_state = 4)"
   ]
  },
  {
   "cell_type": "code",
   "execution_count": 21,
   "metadata": {
    "colab": {
     "base_uri": "https://localhost:8080/",
     "height": 35
    },
    "colab_type": "code",
    "id": "nu29ex0ChBfj",
    "outputId": "d5812c07-10c7-43d9-e257-a4453cebbd35"
   },
   "outputs": [
    {
     "data": {
      "text/plain": [
       "(800, 11)"
      ]
     },
     "execution_count": 21,
     "metadata": {
      "tags": []
     },
     "output_type": "execute_result"
    }
   ],
   "source": [
    "X_train.shape"
   ]
  },
  {
   "cell_type": "markdown",
   "metadata": {
    "colab_type": "text",
    "id": "ifUdksvXhSqy"
   },
   "source": [
    "#It is time to design KNN"
   ]
  },
  {
   "cell_type": "code",
   "execution_count": 0,
   "metadata": {
    "colab": {},
    "colab_type": "code",
    "id": "yVptqGOnhE4G"
   },
   "outputs": [],
   "source": [
    "def euclidean_distance(vector1, vector2):\n",
    "  return np.sqrt(np.sum(np.power(vector1-vector2,2)))"
   ]
  },
  {
   "cell_type": "code",
   "execution_count": 0,
   "metadata": {
    "colab": {},
    "colab_type": "code",
    "id": "JW0il9PiiUzf"
   },
   "outputs": [],
   "source": [
    "def absolute_distance(vector1, vector2):\n",
    "  return np.sum(np.absolute(vector1 - vector2))"
   ]
  },
  {
   "cell_type": "markdown",
   "metadata": {
    "colab_type": "text",
    "id": "EMj0PuT-iqQ1"
   },
   "source": [
    "- Choose the K nearnest data from the whole data set (if k = 3, choose 3 points)"
   ]
  },
  {
   "cell_type": "code",
   "execution_count": 0,
   "metadata": {
    "colab": {},
    "colab_type": "code",
    "id": "KQZs6tm_ihAE"
   },
   "outputs": [],
   "source": [
    "import operator #C programm\n",
    "\n",
    "def get_neighbour(X_train, X_test_instance, k):\n",
    "\n",
    "  distances = []\n",
    "  neighbors = [] \n",
    "\n",
    "  for i in range(0, X_train.shape[0]):\n",
    "    dist = absolute_distance(X_train[i], X_test_instance) #the distance between each point in the data set and the new data set\n",
    "    distances.append((i, dist))\n",
    "  distances.sort(key = operator.itemgetter(1)) #using C function \n",
    "\n",
    "  for x in range(k): \n",
    "    neighbors.append(distances[x][0])\n",
    "  return neighbors"
   ]
  },
  {
   "cell_type": "markdown",
   "metadata": {
    "colab_type": "text",
    "id": "77vJGjHSkrp2"
   },
   "source": [
    "- Class voting system (what is the most popular in the K nearest points)"
   ]
  },
  {
   "cell_type": "code",
   "execution_count": 0,
   "metadata": {
    "colab": {},
    "colab_type": "code",
    "id": "YVblPB4qkbmd"
   },
   "outputs": [],
   "source": [
    "def predictKNNClass(output, y_train): # y_train has the class information, and this function should calcuate what class the new point would be  \n",
    "\n",
    "  classVotes = {}\n",
    "  for i in range (len(output)):\n",
    "    if y_train[output[i]] in classVotes:\n",
    "      classVotes[y_train[output[i]]] += 1\n",
    "    else: \n",
    "      classVotes[y_train[output[i]]] = 1\n",
    "  sortedVotes = sorted(classVotes.items(), key=operator.itemgetter(1), reverse = True) \n",
    "  return sortedVotes[0][0]\n"
   ]
  },
  {
   "cell_type": "markdown",
   "metadata": {
    "colab_type": "text",
    "id": "vZLJzWPbnG3y"
   },
   "source": [
    "- Define the test fuction for accuracy."
   ]
  },
  {
   "cell_type": "code",
   "execution_count": 0,
   "metadata": {
    "colab": {},
    "colab_type": "code",
    "id": "Xf7KPDA8m7-_"
   },
   "outputs": [],
   "source": [
    "def KNN_test(X_train, X_test, Y_train, Y_test, k):\n",
    "  output_classes = [] \n",
    "\n",
    "  for i in range(0, X_test.shape[0]):\n",
    "    output = get_neighbour(X_train, X_test[i], k)\n",
    "    predictedClass = predictKNNClass(output, Y_train) \n",
    "    output_classes.append(predictedClass)\n",
    "  return output_classes"
   ]
  },
  {
   "cell_type": "markdown",
   "metadata": {
    "colab_type": "text",
    "id": "yScrMR-vovKm"
   },
   "source": [
    "Accuracy making..."
   ]
  },
  {
   "cell_type": "code",
   "execution_count": 0,
   "metadata": {
    "colab": {},
    "colab_type": "code",
    "id": "VVpb-SmGo-SY"
   },
   "outputs": [],
   "source": [
    "def prediction_accuracy(predicted_labels, original_labels):\n",
    "  count = 0\n",
    "  for i in range(len(predicted_labels)):\n",
    "    if predicted_labels[i] == original_labels[i]:\n",
    "      count +=1\n",
    "  return float(count)/len(predicted_labels)"
   ]
  },
  {
   "cell_type": "markdown",
   "metadata": {
    "colab_type": "text",
    "id": "eLzhzEKRoE63"
   },
   "source": [
    "Real Main function\n"
   ]
  },
  {
   "cell_type": "code",
   "execution_count": 41,
   "metadata": {
    "colab": {
     "base_uri": "https://localhost:8080/",
     "height": 674
    },
    "colab_type": "code",
    "id": "aq87Nt4rn--Z",
    "outputId": "07529171-2f07-47f4-d2c5-6de9d1165520"
   },
   "outputs": [
    {
     "name": "stdout",
     "output_type": "stream",
     "text": [
      "K  1 \t\n",
      "0.325\n",
      "K  2 \t\n",
      "0.325\n",
      "K  3 \t\n",
      "0.35\n",
      "K  4 \t\n",
      "0.345\n",
      "K  5 \t\n",
      "0.34\n",
      "K  6 \t\n",
      "0.35\n",
      "K  7 \t\n",
      "0.355\n",
      "K  8 \t\n",
      "0.35\n",
      "K  9 \t\n",
      "0.345\n",
      "K  10 \t\n",
      "0.35\n",
      "K  11 \t\n",
      "0.37\n",
      "K  12 \t\n",
      "0.35\n",
      "K  13 \t\n",
      "0.33\n",
      "K  14 \t\n",
      "0.345\n",
      "K  15 \t\n",
      "0.34\n",
      "K  16 \t\n",
      "0.34\n",
      "K  17 \t\n",
      "0.35\n",
      "K  18 \t\n",
      "0.385\n",
      "K  19 \t\n",
      "0.35\n"
     ]
    }
   ],
   "source": [
    "predicted_classes = {}\n",
    "final_accuracies = {}\n",
    "\n",
    "for k in range (1, 20):\n",
    "  predicted_classes[k] = KNN_test(X_train, X_test, y_train, y_test, k)\n",
    "  final_accuracies[k] = prediction_accuracy(predicted_classes[k], y_test)\n",
    "\n",
    "  print (\"K \", k, '\\t')\n",
    "  print(final_accuracies[k])"
   ]
  },
  {
   "cell_type": "markdown",
   "metadata": {
    "colab_type": "text",
    "id": "twqJaUovqja2"
   },
   "source": [
    "# SkLearn library to use for KNN"
   ]
  },
  {
   "cell_type": "code",
   "execution_count": 0,
   "metadata": {
    "colab": {},
    "colab_type": "code",
    "id": "AMLbmb87odvq"
   },
   "outputs": [],
   "source": [
    "from sklearn.neighbors import KNeighborsClassifier\n",
    "\n"
   ]
  },
  {
   "cell_type": "code",
   "execution_count": 53,
   "metadata": {
    "colab": {
     "base_uri": "https://localhost:8080/",
     "height": 69
    },
    "colab_type": "code",
    "id": "y-ypI-qvq6J_",
    "outputId": "db1a05fd-fffb-4343-950c-02d0bd73f6aa"
   },
   "outputs": [
    {
     "data": {
      "text/plain": [
       "KNeighborsClassifier(algorithm='auto', leaf_size=30, metric='minkowski',\n",
       "                     metric_params=None, n_jobs=None, n_neighbors=18, p=2,\n",
       "                     weights='uniform')"
      ]
     },
     "execution_count": 53,
     "metadata": {
      "tags": []
     },
     "output_type": "execute_result"
    }
   ],
   "source": [
    "k = 18 \n",
    "neigh = KNeighborsClassifier(n_neighbors=k).fit(X_train, y_train) # neigh is your trained model from KNN\n",
    "neigh"
   ]
  },
  {
   "cell_type": "code",
   "execution_count": 52,
   "metadata": {
    "colab": {
     "base_uri": "https://localhost:8080/",
     "height": 190
    },
    "colab_type": "code",
    "id": "k6qBjURHrDyT",
    "outputId": "7db5f0af-a10e-4ba2-8bf0-9453f6c5905e"
   },
   "outputs": [
    {
     "data": {
      "text/plain": [
       "array([3, 2, 4, 2, 4, 3, 3, 1, 1, 2, 1, 4, 3, 3, 3, 1, 4, 3, 3, 2, 3, 3,\n",
       "       1, 4, 4, 1, 2, 1, 1, 1, 3, 1, 4, 2, 1, 2, 3, 3, 2, 4, 3, 4, 3, 1,\n",
       "       4, 1, 1, 1, 4, 4, 1, 1, 2, 3, 2, 3, 4, 1, 1, 4, 1, 4, 2, 1, 3, 3,\n",
       "       1, 3, 2, 1, 1, 3, 2, 3, 1, 1, 2, 3, 2, 2, 3, 1, 3, 1, 4, 3, 3, 3,\n",
       "       1, 1, 1, 2, 1, 1, 1, 1, 1, 3, 1, 1, 3, 2, 3, 1, 1, 4, 2, 2, 2, 1,\n",
       "       4, 3, 2, 4, 1, 2, 1, 1, 1, 1, 1, 3, 2, 3, 1, 1, 4, 3, 3, 2, 3, 1,\n",
       "       1, 3, 3, 2, 2, 1, 3, 3, 4, 2, 4, 1, 1, 2, 2, 1, 1, 2, 1, 2, 4, 2,\n",
       "       4, 3, 3, 3, 2, 3, 3, 1, 2, 1, 3, 4, 1, 1, 3, 1, 3, 4, 3, 3, 4, 2,\n",
       "       3, 4, 1, 1, 1, 3, 1, 3, 4, 2, 3, 1, 2, 1, 3, 3, 4, 3, 3, 4, 1, 3,\n",
       "       1, 3])"
      ]
     },
     "execution_count": 52,
     "metadata": {
      "tags": []
     },
     "output_type": "execute_result"
    }
   ],
   "source": [
    "yhat = neigh.predict(X_test)\n",
    "yhat"
   ]
  },
  {
   "cell_type": "code",
   "execution_count": 50,
   "metadata": {
    "colab": {
     "base_uri": "https://localhost:8080/",
     "height": 52
    },
    "colab_type": "code",
    "id": "sdS6OwncrQ_w",
    "outputId": "28d642ad-301f-4a9a-e04e-fcda6b45e453"
   },
   "outputs": [
    {
     "name": "stdout",
     "output_type": "stream",
     "text": [
      "0.45625\n",
      "0.35\n"
     ]
    }
   ],
   "source": [
    "from sklearn import metrics\n",
    "print(metrics.accuracy_score(y_train, neigh.predict(X_train))) #Training accuracy\n",
    "print(metrics.accuracy_score(y_test, yhat)) #testing accuracy "
   ]
  },
  {
   "cell_type": "code",
   "execution_count": 0,
   "metadata": {
    "colab": {},
    "colab_type": "code",
    "id": "diwyqIeur-Tp"
   },
   "outputs": [],
   "source": []
  }
 ],
 "metadata": {
  "colab": {
   "collapsed_sections": [],
   "name": "0423_KNN.ipynb",
   "provenance": []
  },
  "kernelspec": {
   "display_name": "Python 3",
   "language": "python",
   "name": "python3"
  },
  "language_info": {
   "codemirror_mode": {
    "name": "ipython",
    "version": 3
   },
   "file_extension": ".py",
   "mimetype": "text/x-python",
   "name": "python",
   "nbconvert_exporter": "python",
   "pygments_lexer": "ipython3",
   "version": "3.7.6"
  }
 },
 "nbformat": 4,
 "nbformat_minor": 1
}
