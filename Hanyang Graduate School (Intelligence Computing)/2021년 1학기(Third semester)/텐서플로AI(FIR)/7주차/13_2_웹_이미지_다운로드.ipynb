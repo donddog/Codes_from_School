{
 "cells": [
  {
   "cell_type": "markdown",
   "metadata": {
    "colab_type": "text",
    "id": "view-in-github"
   },
   "source": [
    "<a href=\"https://colab.research.google.com/github/joohoshin/TensorflowAI/blob/main/13_2_%EC%9B%B9_%EC%9D%B4%EB%AF%B8%EC%A7%80_%EB%8B%A4%EC%9A%B4%EB%A1%9C%EB%93%9C.ipynb\" target=\"_parent\"><img src=\"https://colab.research.google.com/assets/colab-badge.svg\" alt=\"Open In Colab\"/></a>"
   ]
  },
  {
   "cell_type": "markdown",
   "metadata": {
    "id": "hbE7qfbkCMY3"
   },
   "source": [
    "pixabay api로 이미지를 다운로드 해봅시다\n",
    "\n",
    "https://pixabay.com/api/docs/\n"
   ]
  },
  {
   "cell_type": "code",
   "execution_count": 1,
   "metadata": {
    "id": "JT98m-ycCQot"
   },
   "outputs": [],
   "source": [
    "import requests\n",
    "import json"
   ]
  },
  {
   "cell_type": "code",
   "execution_count": 2,
   "metadata": {
    "colab": {
     "base_uri": "https://localhost:8080/"
    },
    "id": "bJJGDn8ZFFfq",
    "outputId": "e99ed7a5-a549-4746-a459-7c6dab49da51"
   },
   "outputs": [],
   "source": [
    "# from google.colab import drive\n",
    "# drive.mount('/g')"
   ]
  },
  {
   "cell_type": "code",
   "execution_count": 3,
   "metadata": {
    "id": "cDVOiqNUEizT"
   },
   "outputs": [],
   "source": [
    "API_KEY='21021709-a4b547817146b76ed85498a4f'\n",
    "query = 'yellow+flower'\n",
    "URL = 'https://pixabay.com/api/?key={}&q={}&image_type=photo'.format(API_KEY, query)"
   ]
  },
  {
   "cell_type": "code",
   "execution_count": 4,
   "metadata": {
    "colab": {
     "base_uri": "https://localhost:8080/",
     "height": 36
    },
    "id": "9IU3EvoOTCo1",
    "outputId": "cd001e1a-4cf4-4418-ff0e-dc78be7944a3"
   },
   "outputs": [
    {
     "data": {
      "text/plain": [
       "'https://pixabay.com/api/?key=21021709-a4b547817146b76ed85498a4f&q=yellow+flower&image_type=photo'"
      ]
     },
     "execution_count": 4,
     "metadata": {},
     "output_type": "execute_result"
    }
   ],
   "source": [
    "URL"
   ]
  },
  {
   "cell_type": "code",
   "execution_count": 5,
   "metadata": {
    "id": "Zwj0FbKiFQ2C"
   },
   "outputs": [],
   "source": [
    "res = requests.get(URL)"
   ]
  },
  {
   "cell_type": "code",
   "execution_count": 6,
   "metadata": {
    "colab": {
     "base_uri": "https://localhost:8080/"
    },
    "id": "1V326mWLFWjs",
    "outputId": "d6292b92-9537-482d-bd7a-3ef147b1bc95"
   },
   "outputs": [
    {
     "data": {
      "text/plain": [
       "<Response [200]>"
      ]
     },
     "execution_count": 6,
     "metadata": {},
     "output_type": "execute_result"
    }
   ],
   "source": [
    "res"
   ]
  },
  {
   "cell_type": "code",
   "execution_count": 7,
   "metadata": {
    "colab": {
     "base_uri": "https://localhost:8080/"
    },
    "id": "DcXrQlJCFXas",
    "outputId": "8f71defa-77b3-448b-dbb4-21347453ba0d"
   },
   "outputs": [
    {
     "data": {
      "text/plain": [
       "b'{\"total\":29175,\"totalHits\":500,\"hits\":[{\"id\":3063284,\"pageURL\":\"https://pixabay.com/photos/rose-flower-petal-floral-noble-3063284/\",\"type\":\"photo\",\"tags\":\"rose, flower, petal\",\"previewURL\":\"https://cdn.pixabay.com/photo/2018/01/05/16/24/rose-3063284_150.jpg\",\"previewWidth\":150,\"previewHeight\":99,\"webformatURL\":\"https://pixabay.com/get/g5dc631b8aa88d24951f3542e212a33195bdec6b2dcd0979365cf5ffcc0f20fe607c8644f659b072553d7877cdae97acf043f2e58473386bab100ed04aa5f299d_640.jpg\",\"webformatWidth\":640,\"webformatHeight\":426,\"largeImageURL\":\"https://pixabay.com/get/g81fd843ea9648ff0882a0f58fa80dbb19d89367a0023ca37fdf250fead176849ea588803433b36fb10916ee16a625c4778f630658990faf75cf403ab493d6ba4_1280.jpg\",\"imageWidth\":6000,\"imageHeight\":4000,\"imageSize\":3574625,\"views\":853714,\"downloads\":543537,\"favorites\":1125,\"likes\":1304,\"comments\":290,\"user_id\":1564471,\"user\":\"anncapictures\",\"userImageURL\":\"https://cdn.pixabay.com/user/2015/11/27/06-58-54-609_250x250.jpg\"},{\"id\":3113318,\"pageURL\":\"https://pixabay.com/photos/sunflower-nature-flora-flower-3113318/\",\"type\":\"photo\",\"tags\":\"sunflower, nature, flora\",\"previewURL\":\"https://cdn.pixabay.com/photo/2018/01/28/11/24/sunflower-3113318_150.jpg\",\"previewWidth\":150,\"previewHeight\":99,\"webformatURL\":\"https://pixabay.com/get/g680e5bfb12ab5da7f2290b7024627019b77bb3ca189fabbded595ed7e8bd9f1f87a4169caf203eae4c4768498cc19597432df32c6352df8091fe33b73f14cd66_640.jpg\",\"webformatWidth\":640,\"webformatHeight\":426,\"largeImageURL\":\"https://pixabay.com/get/g778be94b7e1dbf5480af72ca8d712a662de30b1b0328b4a2e0dc44e5443aeca8a95d181f8d815bd4279b2f8d24e172826b8d65b64799dc65f73de3c29ae20116_1280.jpg\",\"imageWidth\":2736,\"imageHeight\":1824,\"imageSize\":1026006,\"views\":509495,\"downloads\":371496,\"favorites\":604,\"likes\":899,\"comments\":143,\"user_id\":7410713,\"user\":\"bichnguyenvo\",\"userImageURL\":\"https://cdn.pixabay.com/user/2017/12/16/10-28-39-199_250x250.jpg\"},{\"id\":887443,\"pageURL\":\"https://pixabay.com/photos/flower-life-yellow-flower-crack-887443/\",\"type\":\"photo\",\"tags\":\"flower, life, yellow flower\",\"previewURL\":\"https://cdn.pixabay.com/photo/2015/08/13/20/06/flower-887443_150.jpg\",\"previewWidth\":150,\"previewHeight\":116,\"webformatURL\":\"https://pixabay.com/get/gbf4c02244e15bbd2869f14dd21ab879ca872b47c000a9407cce45a2d9d411861a08dd74ea9a6bb9313cf4f274d92ace2_640.jpg\",\"webformatWidth\":640,\"webformatHeight\":497,\"largeImageURL\":\"https://pixabay.com/get/g93dd84f744f803e106e56e3d1d79a1a5303326e98f1f4d6908a008b27fabe6958fc3cd0b7e118809df8265e9f9e44c90ba8388ed14eaf77d63402dc643e9de7a_1280.jpg\",\"imageWidth\":3867,\"imageHeight\":3005,\"imageSize\":2611531,\"views\":196222,\"downloads\":115245,\"favorites\":615,\"likes\":839,\"comments\":127,\"user_id\":1298145,\"user\":\"klimkin\",\"userImageURL\":\"https://cdn.pixabay.com/user/2017/07/18/13-46-18-393_250x250.jpg\"},{\"id\":2295434,\"pageURL\":\"https://pixabay.com/photos/spring-bird-bird-tit-spring-blue-2295434/\",\"type\":\"photo\",\"tags\":\"spring bird, bird, tit\",\"previewURL\":\"https://cdn.pixabay.com/photo/2017/05/08/13/15/spring-bird-2295434_150.jpg\",\"previewWidth\":150,\"previewHeight\":99,\"webformatURL\":\"https://pixabay.com/get/gc3b3a59e1f3b8f9716809d9edf9f47b5480e98277c61b67f383e4c4d50467a25cb8a959b35f8a06d001d89635e94d0563e09b1264632273125f2c4041190bd38_640.jpg\",\"webformatWidth\":640,\"webformatHeight\":426,\"largeImageURL\":\"https://pixabay.com/get/g77f45cef66e49bb7386dab7bfcb153e1d6df5b8053bf0d40a0dd2f6455e69e9fd3ed68514e68e82158179a79e793f45540b89b4d6f3cc0ba6db8a30f3fdf0d1e_1280.jpg\",\"imageWidth\":5363,\"imageHeight\":3575,\"imageSize\":2938651,\"views\":300275,\"downloads\":150162,\"favorites\":1430,\"likes\":1436,\"comments\":144,\"user_id\":334088,\"user\":\"JillWellington\",\"userImageURL\":\"https://cdn.pixabay.com/user/2018/06/27/01-23-02-27_250x250.jpg\"},{\"id\":3292932,\"pageURL\":\"https://pixabay.com/photos/sunflower-vase-vintage-retro-wall-3292932/\",\"type\":\"photo\",\"tags\":\"sunflower, vase, vintage\",\"previewURL\":\"https://cdn.pixabay.com/photo/2018/04/05/14/09/sunflower-3292932_150.jpg\",\"previewWidth\":150,\"previewHeight\":93,\"webformatURL\":\"https://pixabay.com/get/gab42311386697bbee1958b7e3910b9d8fa0a5c4e48c07342c202125667749d812ef353887cba2d6b0420e3e3912786ba19facdfde554c43d7647c88b7f8edf34_640.jpg\",\"webformatWidth\":640,\"webformatHeight\":400,\"largeImageURL\":\"https://pixabay.com/get/g9ea0b053b6881b17c297d90d46f752294c10fcc20bb9e0e14332fe2722d7349e39e5b43feeaa5a4ef367ecc502eae4aa6475f36f66e8d6d686ed3a588eb474dd_1280.jpg\",\"imageWidth\":3200,\"imageHeight\":2000,\"imageSize\":2563708,\"views\":590816,\"downloads\":430507,\"favorites\":1335,\"likes\":1133,\"comments\":152,\"user_id\":2216431,\"user\":\"Yuri_B\",\"userImageURL\":\"https://cdn.pixabay.com/user/2020/01/13/10-51-47-251_250x250.jpg\"},{\"id\":1512813,\"pageURL\":\"https://pixabay.com/photos/lilies-yellow-flowers-petals-1512813/\",\"type\":\"photo\",\"tags\":\"lilies, yellow, flowers\",\"previewURL\":\"https://cdn.pixabay.com/photo/2016/07/12/18/54/lilies-1512813_150.jpg\",\"previewWidth\":150,\"previewHeight\":75,\"webformatURL\":\"https://pixabay.com/get/ged8157109895cfa3b7875f60292dd887771ff62cf285c73369e34902754ecf1cab4fd2c6823dee17872ccaadd4c7c40e0531554ce58a249f484da9f294bfb7d6_640.jpg\",\"webformatWidth\":640,\"webformatHeight\":323,\"largeImageURL\":\"https://pixabay.com/get/g634ceecce41e231f2b1cc2585bfca96a4c976e622ef760886f6272595f637113b18e90a07e4f9aad953d9490c43da5aeee17914550829f05521d0444681ed949_1280.jpg\",\"imageWidth\":3861,\"imageHeight\":1952,\"imageSize\":1037708,\"views\":137192,\"downloads\":73657,\"favorites\":490,\"likes\":487,\"comments\":41,\"user_id\":2364555,\"user\":\"pixel2013\",\"userImageURL\":\"https://cdn.pixabay.com/user/2020/07/25/21-10-11-80_250x250.jpg\"},{\"id\":1127174,\"pageURL\":\"https://pixabay.com/photos/sunflower-flower-plant-petals-1127174/\",\"type\":\"photo\",\"tags\":\"sunflower, flower, plant\",\"previewURL\":\"https://cdn.pixabay.com/photo/2016/01/08/05/24/sunflower-1127174_150.jpg\",\"previewWidth\":150,\"previewHeight\":99,\"webformatURL\":\"https://pixabay.com/get/g000d8eb1b27858d36feddb0a8a8de6cb57c1e86245538cd76ca55d0e07123c070e61e7830190547ceaceab3fed66a944901862e0aa10dc3d65d7e2d6fffd4e0a_640.jpg\",\"webformatWidth\":640,\"webformatHeight\":426,\"largeImageURL\":\"https://pixabay.com/get/g889737de3148a3894221675f187fc549d8585ab1e98285ecfa5f913159ab2726a0672fd38e2809e7a68ae5b5179d2305c8821b31baf843478d0c5ed0ae89e281_1280.jpg\",\"imageWidth\":4752,\"imageHeight\":3168,\"imageSize\":3922163,\"views\":239464,\"downloads\":144614,\"favorites\":735,\"likes\":742,\"comments\":82,\"user_id\":1445608,\"user\":\"mploscar\",\"userImageURL\":\"https://cdn.pixabay.com/user/2016/01/05/14-08-20-943_250x250.jpg\"},{\"id\":1627193,\"pageURL\":\"https://pixabay.com/photos/sunflower-yellow-flower-pollen-1627193/\",\"type\":\"photo\",\"tags\":\"sunflower, yellow, flower\",\"previewURL\":\"https://cdn.pixabay.com/photo/2016/08/28/23/24/sunflower-1627193_150.jpg\",\"previewWidth\":150,\"previewHeight\":99,\"webformatURL\":\"https://pixabay.com/get/g42b144233709c4a7ca987d1903ffe489eba09c26adb044dd16b88437358e0a1af17cbd6c94d4ce589bdb9c80643b1e97e8c3d45fcb13d7632c9991e2861bbf97_640.jpg\",\"webformatWidth\":640,\"webformatHeight\":426,\"largeImageURL\":\"https://pixabay.com/get/gea40622ee98e3aa80cda077db6eafae8d88da45df3794d31105935db4105273597b7f2a432b040a7df4ea310300e6a24978f0260039364ee91958809f3bee670_1280.jpg\",\"imageWidth\":6000,\"imageHeight\":4000,\"imageSize\":5414839,\"views\":187550,\"downloads\":75189,\"favorites\":532,\"likes\":493,\"comments\":91,\"user_id\":1834854,\"user\":\"ulleo\",\"userImageURL\":\"https://cdn.pixabay.com/user/2019/05/16/18-48-21-135_250x250.jpg\"},{\"id\":690320,\"pageURL\":\"https://pixabay.com/photos/tulips-yellow-tulips-flowers-690320/\",\"type\":\"photo\",\"tags\":\"tulips, yellow tulips, flowers\",\"previewURL\":\"https://cdn.pixabay.com/photo/2015/03/26/09/47/tulips-690320_150.jpg\",\"previewWidth\":150,\"previewHeight\":99,\"webformatURL\":\"https://pixabay.com/get/g3344fc497dccdc736af7d7c238f526e085702c386f24e64db204928737cee36f3ef373d11259fb26aec39d85c1b50b71_640.jpg\",\"webformatWidth\":640,\"webformatHeight\":424,\"largeImageURL\":\"https://pixabay.com/get/g574d73e21e014c0b4978a3a357c07c1efbda3775ac6804e4e525c2a56a619cd0ff3782dc76fa9a45a802952b67329c4cf1beb2443a85b87e64906f499b2d3b49_1280.jpg\",\"imageWidth\":2256,\"imageHeight\":1496,\"imageSize\":476709,\"views\":161850,\"downloads\":90839,\"favorites\":619,\"likes\":640,\"comments\":66,\"user_id\":242387,\"user\":\"Free-Photos\",\"userImageURL\":\"https://cdn.pixabay.com/user/2014/05/07/00-10-34-2_250x250.jpg\"},{\"id\":715540,\"pageURL\":\"https://pixabay.com/photos/yellow-flower-blossom-bloom-petals-715540/\",\"type\":\"photo\",\"tags\":\"yellow, flower, blossom\",\"previewURL\":\"https://cdn.pixabay.com/photo/2015/04/10/00/41/yellow-715540_150.jpg\",\"previewWidth\":150,\"previewHeight\":84,\"webformatURL\":\"https://pixabay.com/get/g2af35bf6913d840ba150bf2dfd70f1b825b6fe309ba2c6d0bf4d2ed39708c5719455a17fc6eac8ee5597a442628e3f2b_640.jpg\",\"webformatWidth\":640,\"webformatHeight\":360,\"largeImageURL\":\"https://pixabay.com/get/ga586772a69c485209e76f0377cd46a2343240f2cf7cafd70a275b6d175526fc386b1d06fa006c96a1da60157db807f4b5b44dd65cefd21a022e189ae3cb59044_1280.jpg\",\"imageWidth\":3020,\"imageHeight\":1703,\"imageSize\":974940,\"views\":127525,\"downloads\":70416,\"favorites\":379,\"likes\":358,\"comments\":46,\"user_id\":916237,\"user\":\"Wow_Pho\",\"userImageURL\":\"https://cdn.pixabay.com/user/2015/04/07/14-10-15-590_250x250.jpg\"},{\"id\":2145539,\"pageURL\":\"https://pixabay.com/photos/crocus-flower-wet-spring-2145539/\",\"type\":\"photo\",\"tags\":\"crocus, flower, wet\",\"previewURL\":\"https://cdn.pixabay.com/photo/2017/03/15/09/00/crocus-2145539_150.jpg\",\"previewWidth\":150,\"previewHeight\":91,\"webformatURL\":\"https://pixabay.com/get/g7446c58e2cb0fa0a8c3f3a0e891bddd2cbc38bb40747b1dc41457c0537ada59a0635e6cca101b4771349adc83c09f4e9fa607f07998b43702e40387108db0ac1_640.jpg\",\"webformatWidth\":640,\"webformatHeight\":390,\"largeImageURL\":\"https://pixabay.com/get/g532bc9adc4d05352ed61854b2af08ae32e70c2ad1e66ebfc4afdfa3a71b6f9935a6454c12430b9c2f43b232bdeb7ba75a63a4ab5db1edb1e3d6a3a35b2cd6fda_1280.jpg\",\"imageWidth\":4000,\"imageHeight\":2443,\"imageSize\":823922,\"views\":96917,\"downloads\":60522,\"favorites\":496,\"likes\":567,\"comments\":59,\"user_id\":2364555,\"user\":\"pixel2013\",\"userImageURL\":\"https://cdn.pixabay.com/user/2020/07/25/21-10-11-80_250x250.jpg\"},{\"id\":1643794,\"pageURL\":\"https://pixabay.com/photos/sunflower-bee-macro-pollen-1643794/\",\"type\":\"photo\",\"tags\":\"sunflower, bee, macro\",\"previewURL\":\"https://cdn.pixabay.com/photo/2016/09/04/12/05/sunflower-1643794_150.jpg\",\"previewWidth\":150,\"previewHeight\":113,\"webformatURL\":\"https://pixabay.com/get/gc6d566ac17866cc04658aac3556ca7cca8cc0be3645e0db798707322ec0eceaf9e87ec5f7bca4f9c653b6d5905437276a7e22efcd2648d2d69b0a6c91a8b4545_640.jpg\",\"webformatWidth\":640,\"webformatHeight\":484,\"largeImageURL\":\"https://pixabay.com/get/gc53af7ed8eee02f8392dafe6f0aedf283ba9197b6b88ccb44180288a7a43060fc12c3172bcf8fc0bb07831ddfb6ff4c59cd9fd866a33a1676fc83993328204f3_1280.jpg\",\"imageWidth\":5285,\"imageHeight\":4000,\"imageSize\":5457910,\"views\":102283,\"downloads\":73059,\"favorites\":435,\"likes\":376,\"comments\":35,\"user_id\":686414,\"user\":\"Alexas_Fotos\",\"userImageURL\":\"https://cdn.pixabay.com/user/2021/03/05/00-55-11-239_250x250.jpg\"},{\"id\":1536088,\"pageURL\":\"https://pixabay.com/photos/sunflower-flower-plant-petals-1536088/\",\"type\":\"photo\",\"tags\":\"sunflower, flower, plant\",\"previewURL\":\"https://cdn.pixabay.com/photo/2016/07/23/00/12/sunflower-1536088_150.jpg\",\"previewWidth\":150,\"previewHeight\":98,\"webformatURL\":\"https://pixabay.com/get/gce51c00d41639bf9bce5f6b499b0d40dc60aed45eaa54eccf72569f02ad760dfe43de2ad2b3ebfbb48eac92af450592280620679d79aefe98e02b2e625d21b30_640.jpg\",\"webformatWidth\":640,\"webformatHeight\":419,\"largeImageURL\":\"https://pixabay.com/get/gbee355e2ab77c01287112eb4a65e74e772981647268ee8aa732d9fed26fa219a139384815d1d7e806d756ed1a70622d6072a99254316dfdaa17df742192bc025_1280.jpg\",\"imageWidth\":4896,\"imageHeight\":3208,\"imageSize\":5103399,\"views\":339180,\"downloads\":81844,\"favorites\":380,\"likes\":443,\"comments\":77,\"user_id\":1195798,\"user\":\"Couleur\",\"userImageURL\":\"https://cdn.pixabay.com/user/2021/03/09/19-11-20-168_250x250.jpg\"},{\"id\":3050076,\"pageURL\":\"https://pixabay.com/photos/portrait-girl-fog-flowers-beauty-3050076/\",\"type\":\"photo\",\"tags\":\"portrait, girl, fog\",\"previewURL\":\"https://cdn.pixabay.com/photo/2017/12/30/13/25/portrait-3050076_150.jpg\",\"previewWidth\":150,\"previewHeight\":99,\"webformatURL\":\"https://pixabay.com/get/g974abd3cdb1970a47eaa7a5a8b6818cb699c0e12ae7bfb594e5b6ff13b56d84f9b8a9e11d17c925e4aba26f5ab90b2800ba13cdbebeab351c424ce8bba305376_640.jpg\",\"webformatWidth\":640,\"webformatHeight\":426,\"largeImageURL\":\"https://pixabay.com/get/gd16e00e212ff8bc9875fe0e5aa9da55d4bdf0ba3cd4ef269929faa4b11f3122ae27804cfce2113042490da3b60f848cf72e24f80620ae9b459b4e6fb84b7995c_1280.jpg\",\"imageWidth\":5472,\"imageHeight\":3648,\"imageSize\":2914111,\"views\":186807,\"downloads\":133608,\"favorites\":403,\"likes\":391,\"comments\":41,\"user_id\":6663646,\"user\":\"ThuyHaBich\",\"userImageURL\":\"https://cdn.pixabay.com/user/2017/11/17/08-35-57-188_250x250.jpg\"},{\"id\":3720383,\"pageURL\":\"https://pixabay.com/photos/flower-g%C3%A9rbel-yellow-flower-flower-3720383/\",\"type\":\"photo\",\"tags\":\"flower g\\\\u00e9rbel, yellow flower, flower\",\"previewURL\":\"https://cdn.pixabay.com/photo/2018/10/03/03/42/flower-gerbel-3720383_150.jpg\",\"previewWidth\":150,\"previewHeight\":99,\"webformatURL\":\"https://pixabay.com/get/g4d3e6c25dd58e162cde91b7047cbd5e3ae4852b6b51b5e71deeece6c6d7cf6f1f76d002609cbe7da8f688d825ca4b7d26fed403a0c7ac07f489f5b47bbff4012_640.jpg\",\"webformatWidth\":640,\"webformatHeight\":426,\"largeImageURL\":\"https://pixabay.com/get/g206cc0a6b7569571adb6860ca0c0b745e6a8708bdb011c5588e507dbdbcddb176e40cfb1e1d0fd64ae47a03b9fe763e7f6a40b741f377c276eb5bc79826a6ef9_1280.jpg\",\"imageWidth\":6000,\"imageHeight\":4000,\"imageSize\":2117262,\"views\":73877,\"downloads\":59902,\"favorites\":185,\"likes\":212,\"comments\":42,\"user_id\":6246704,\"user\":\"fernandozhiminaicela\",\"userImageURL\":\"https://cdn.pixabay.com/user/2019/02/27/14-16-13-192_250x250.jpg\"},{\"id\":113735,\"pageURL\":\"https://pixabay.com/photos/flower-rose-garden-yellow-rose-113735/\",\"type\":\"photo\",\"tags\":\"flower, rose, garden\",\"previewURL\":\"https://cdn.pixabay.com/photo/2013/05/26/12/14/flower-113735_150.jpg\",\"previewWidth\":150,\"previewHeight\":83,\"webformatURL\":\"https://pixabay.com/get/g465a9b2e324f74562945d1c44a047659f9abb98407e1eade22905d6b1b2ec6d2d4a38886c6855468b28c309f202f7caf_640.jpg\",\"webformatWidth\":640,\"webformatHeight\":355,\"largeImageURL\":\"https://pixabay.com/get/g34d1d6aaeadc73ba7c4ba89064331251c72802cf2c756e238ba8e2500d9906766751faad6cdd4a5057e9f6ce5b0f638681a3caf0e71b40aa8407dac61b9522a0_1280.jpg\",\"imageWidth\":2410,\"imageHeight\":1337,\"imageSize\":299425,\"views\":125143,\"downloads\":31887,\"favorites\":252,\"likes\":271,\"comments\":36,\"user_id\":817,\"user\":\"blizniak\",\"userImageURL\":\"https://cdn.pixabay.com/user/2013/06/28/17-07-05-714_250x250.jpg\"},{\"id\":1144084,\"pageURL\":\"https://pixabay.com/photos/poppy-fields-landscape-nature-1144084/\",\"type\":\"photo\",\"tags\":\"poppy, fields, landscape\",\"previewURL\":\"https://cdn.pixabay.com/photo/2016/01/16/22/03/poppy-1144084_150.jpg\",\"previewWidth\":150,\"previewHeight\":99,\"webformatURL\":\"https://pixabay.com/get/g812d654a32bd119ad4955ee7132e161315b0b876bb779b7f1f254d56e618178ef70dda7af9e68b3cec1129d372a9012d5a13d3f22b3fe531d0dacb1c5db9f5ee_640.jpg\",\"webformatWidth\":640,\"webformatHeight\":426,\"largeImageURL\":\"https://pixabay.com/get/g80b7c36a2b10ba37d3099b639cbe9c26914ddddc8cde1e26accb878ea812b92ed8c099e902614d706171697b41c3d0ba7f953e44d64cba25b0add8035b91a785_1280.jpg\",\"imageWidth\":5760,\"imageHeight\":3840,\"imageSize\":3692207,\"views\":47831,\"downloads\":24941,\"favorites\":295,\"likes\":263,\"comments\":26,\"user_id\":1798295,\"user\":\"WenPhotos\",\"userImageURL\":\"https://cdn.pixabay.com/user/2016/01/12/16-44-55-409_250x250.jpg\"},{\"id\":190483,\"pageURL\":\"https://pixabay.com/photos/bike-bicycle-wheels-bicycle-wheels-190483/\",\"type\":\"photo\",\"tags\":\"bike, bicycle, wheels\",\"previewURL\":\"https://cdn.pixabay.com/photo/2013/10/03/23/19/bike-190483_150.jpg\",\"previewWidth\":150,\"previewHeight\":99,\"webformatURL\":\"https://pixabay.com/get/gbdf988e7acd83d52ad1c745895f5f9ce39122ecbc12b7b67748769bfba9108e1543cb943675eadf1fef5511daa543b9a_640.jpg\",\"webformatWidth\":640,\"webformatHeight\":426,\"largeImageURL\":\"https://pixabay.com/get/gcf959f19de3b312278121e3d9cac83f1b4742ad019880c94ddd1ca7acb5be93bf13a1391d9e0636a6ad66f27382ce0299d4e1eb491b35de80e5f44af6aba9513_1280.jpg\",\"imageWidth\":2160,\"imageHeight\":1440,\"imageSize\":2093738,\"views\":119223,\"downloads\":33707,\"favorites\":421,\"likes\":425,\"comments\":53,\"user_id\":55851,\"user\":\"danfador\",\"userImageURL\":\"\"},{\"id\":1972411,\"pageURL\":\"https://pixabay.com/photos/drip-yellow-petals-globules-water-1972411/\",\"type\":\"photo\",\"tags\":\"drip, yellow, petals\",\"previewURL\":\"https://cdn.pixabay.com/photo/2017/01/11/17/27/drip-1972411_150.jpg\",\"previewWidth\":150,\"previewHeight\":87,\"webformatURL\":\"https://pixabay.com/get/gc311856f08f81555b07bb09aa9872c3dcc5aee436cc40087b7e10cce50849411ad2edef772521ab388798ab10e1c2dd480d5f0de7fd5eaad119d7686ab66ee3e_640.jpg\",\"webformatWidth\":640,\"webformatHeight\":372,\"largeImageURL\":\"https://pixabay.com/get/gc7f9a84fa301515bcc755754c9bae7885ba8b98e4d863ede807234908ed8138dc4b671455ce9cda6cee8432840949b714eed5227a713a7fe021a9487b8e33370_1280.jpg\",\"imageWidth\":4288,\"imageHeight\":2499,\"imageSize\":1510459,\"views\":119746,\"downloads\":99266,\"favorites\":346,\"likes\":356,\"comments\":52,\"user_id\":1777190,\"user\":\"susannp4\",\"userImageURL\":\"https://cdn.pixabay.com/user/2015/12/16/17-56-55-832_250x250.jpg\"},{\"id\":52358,\"pageURL\":\"https://pixabay.com/photos/flower-petals-plant-wildflower-52358/\",\"type\":\"photo\",\"tags\":\"flower, petals, plant\",\"previewURL\":\"https://cdn.pixabay.com/photo/2012/07/12/14/50/flower-52358_150.jpg\",\"previewWidth\":150,\"previewHeight\":84,\"webformatURL\":\"https://pixabay.com/get/g4460c21d844eef8e9f915178f17e40a3354bb0bb74cc10883c9e5c4140fa8f6d4269c3bc2bd4c0016a7a1fa45e9beb1d_640.jpg\",\"webformatWidth\":640,\"webformatHeight\":360,\"largeImageURL\":\"https://pixabay.com/get/gb2df736de599a9cd840eb887884d4f1fd69fa9c64df51f34e41ed964735dd6de93126aada2c5877bddf9c6ad6b041e32_1280.jpg\",\"imageWidth\":1920,\"imageHeight\":1080,\"imageSize\":172383,\"views\":44975,\"downloads\":21235,\"favorites\":208,\"likes\":227,\"comments\":24,\"user_id\":5783,\"user\":\"PeterDargatz\",\"userImageURL\":\"https://cdn.pixabay.com/user/2012/06/22/22-42-41-494_250x250.jpg\"}]}'"
      ]
     },
     "execution_count": 7,
     "metadata": {},
     "output_type": "execute_result"
    }
   ],
   "source": [
    "res.content"
   ]
  },
  {
   "cell_type": "code",
   "execution_count": 8,
   "metadata": {
    "id": "2qm9tNkvFZ0E"
   },
   "outputs": [],
   "source": [
    "content = json.loads(res.content)"
   ]
  },
  {
   "cell_type": "code",
   "execution_count": 9,
   "metadata": {
    "colab": {
     "base_uri": "https://localhost:8080/"
    },
    "id": "llUSB-ObFhR8",
    "outputId": "749d269a-01fb-420c-dfc0-f43d29b14647"
   },
   "outputs": [
    {
     "data": {
      "text/plain": [
       "dict"
      ]
     },
     "execution_count": 9,
     "metadata": {},
     "output_type": "execute_result"
    }
   ],
   "source": [
    "type(content)"
   ]
  },
  {
   "cell_type": "code",
   "execution_count": 10,
   "metadata": {
    "colab": {
     "base_uri": "https://localhost:8080/"
    },
    "id": "lk8CDdJbFinz",
    "outputId": "466a74f3-805b-48c2-e183-e1bc17c91811"
   },
   "outputs": [
    {
     "data": {
      "text/plain": [
       "{'total': 29175,\n",
       " 'totalHits': 500,\n",
       " 'hits': [{'id': 3063284,\n",
       "   'pageURL': 'https://pixabay.com/photos/rose-flower-petal-floral-noble-3063284/',\n",
       "   'type': 'photo',\n",
       "   'tags': 'rose, flower, petal',\n",
       "   'previewURL': 'https://cdn.pixabay.com/photo/2018/01/05/16/24/rose-3063284_150.jpg',\n",
       "   'previewWidth': 150,\n",
       "   'previewHeight': 99,\n",
       "   'webformatURL': 'https://pixabay.com/get/g5dc631b8aa88d24951f3542e212a33195bdec6b2dcd0979365cf5ffcc0f20fe607c8644f659b072553d7877cdae97acf043f2e58473386bab100ed04aa5f299d_640.jpg',\n",
       "   'webformatWidth': 640,\n",
       "   'webformatHeight': 426,\n",
       "   'largeImageURL': 'https://pixabay.com/get/g81fd843ea9648ff0882a0f58fa80dbb19d89367a0023ca37fdf250fead176849ea588803433b36fb10916ee16a625c4778f630658990faf75cf403ab493d6ba4_1280.jpg',\n",
       "   'imageWidth': 6000,\n",
       "   'imageHeight': 4000,\n",
       "   'imageSize': 3574625,\n",
       "   'views': 853714,\n",
       "   'downloads': 543537,\n",
       "   'favorites': 1125,\n",
       "   'likes': 1304,\n",
       "   'comments': 290,\n",
       "   'user_id': 1564471,\n",
       "   'user': 'anncapictures',\n",
       "   'userImageURL': 'https://cdn.pixabay.com/user/2015/11/27/06-58-54-609_250x250.jpg'},\n",
       "  {'id': 3113318,\n",
       "   'pageURL': 'https://pixabay.com/photos/sunflower-nature-flora-flower-3113318/',\n",
       "   'type': 'photo',\n",
       "   'tags': 'sunflower, nature, flora',\n",
       "   'previewURL': 'https://cdn.pixabay.com/photo/2018/01/28/11/24/sunflower-3113318_150.jpg',\n",
       "   'previewWidth': 150,\n",
       "   'previewHeight': 99,\n",
       "   'webformatURL': 'https://pixabay.com/get/g680e5bfb12ab5da7f2290b7024627019b77bb3ca189fabbded595ed7e8bd9f1f87a4169caf203eae4c4768498cc19597432df32c6352df8091fe33b73f14cd66_640.jpg',\n",
       "   'webformatWidth': 640,\n",
       "   'webformatHeight': 426,\n",
       "   'largeImageURL': 'https://pixabay.com/get/g778be94b7e1dbf5480af72ca8d712a662de30b1b0328b4a2e0dc44e5443aeca8a95d181f8d815bd4279b2f8d24e172826b8d65b64799dc65f73de3c29ae20116_1280.jpg',\n",
       "   'imageWidth': 2736,\n",
       "   'imageHeight': 1824,\n",
       "   'imageSize': 1026006,\n",
       "   'views': 509495,\n",
       "   'downloads': 371496,\n",
       "   'favorites': 604,\n",
       "   'likes': 899,\n",
       "   'comments': 143,\n",
       "   'user_id': 7410713,\n",
       "   'user': 'bichnguyenvo',\n",
       "   'userImageURL': 'https://cdn.pixabay.com/user/2017/12/16/10-28-39-199_250x250.jpg'},\n",
       "  {'id': 887443,\n",
       "   'pageURL': 'https://pixabay.com/photos/flower-life-yellow-flower-crack-887443/',\n",
       "   'type': 'photo',\n",
       "   'tags': 'flower, life, yellow flower',\n",
       "   'previewURL': 'https://cdn.pixabay.com/photo/2015/08/13/20/06/flower-887443_150.jpg',\n",
       "   'previewWidth': 150,\n",
       "   'previewHeight': 116,\n",
       "   'webformatURL': 'https://pixabay.com/get/gbf4c02244e15bbd2869f14dd21ab879ca872b47c000a9407cce45a2d9d411861a08dd74ea9a6bb9313cf4f274d92ace2_640.jpg',\n",
       "   'webformatWidth': 640,\n",
       "   'webformatHeight': 497,\n",
       "   'largeImageURL': 'https://pixabay.com/get/g93dd84f744f803e106e56e3d1d79a1a5303326e98f1f4d6908a008b27fabe6958fc3cd0b7e118809df8265e9f9e44c90ba8388ed14eaf77d63402dc643e9de7a_1280.jpg',\n",
       "   'imageWidth': 3867,\n",
       "   'imageHeight': 3005,\n",
       "   'imageSize': 2611531,\n",
       "   'views': 196222,\n",
       "   'downloads': 115245,\n",
       "   'favorites': 615,\n",
       "   'likes': 839,\n",
       "   'comments': 127,\n",
       "   'user_id': 1298145,\n",
       "   'user': 'klimkin',\n",
       "   'userImageURL': 'https://cdn.pixabay.com/user/2017/07/18/13-46-18-393_250x250.jpg'},\n",
       "  {'id': 2295434,\n",
       "   'pageURL': 'https://pixabay.com/photos/spring-bird-bird-tit-spring-blue-2295434/',\n",
       "   'type': 'photo',\n",
       "   'tags': 'spring bird, bird, tit',\n",
       "   'previewURL': 'https://cdn.pixabay.com/photo/2017/05/08/13/15/spring-bird-2295434_150.jpg',\n",
       "   'previewWidth': 150,\n",
       "   'previewHeight': 99,\n",
       "   'webformatURL': 'https://pixabay.com/get/gc3b3a59e1f3b8f9716809d9edf9f47b5480e98277c61b67f383e4c4d50467a25cb8a959b35f8a06d001d89635e94d0563e09b1264632273125f2c4041190bd38_640.jpg',\n",
       "   'webformatWidth': 640,\n",
       "   'webformatHeight': 426,\n",
       "   'largeImageURL': 'https://pixabay.com/get/g77f45cef66e49bb7386dab7bfcb153e1d6df5b8053bf0d40a0dd2f6455e69e9fd3ed68514e68e82158179a79e793f45540b89b4d6f3cc0ba6db8a30f3fdf0d1e_1280.jpg',\n",
       "   'imageWidth': 5363,\n",
       "   'imageHeight': 3575,\n",
       "   'imageSize': 2938651,\n",
       "   'views': 300275,\n",
       "   'downloads': 150162,\n",
       "   'favorites': 1430,\n",
       "   'likes': 1436,\n",
       "   'comments': 144,\n",
       "   'user_id': 334088,\n",
       "   'user': 'JillWellington',\n",
       "   'userImageURL': 'https://cdn.pixabay.com/user/2018/06/27/01-23-02-27_250x250.jpg'},\n",
       "  {'id': 3292932,\n",
       "   'pageURL': 'https://pixabay.com/photos/sunflower-vase-vintage-retro-wall-3292932/',\n",
       "   'type': 'photo',\n",
       "   'tags': 'sunflower, vase, vintage',\n",
       "   'previewURL': 'https://cdn.pixabay.com/photo/2018/04/05/14/09/sunflower-3292932_150.jpg',\n",
       "   'previewWidth': 150,\n",
       "   'previewHeight': 93,\n",
       "   'webformatURL': 'https://pixabay.com/get/gab42311386697bbee1958b7e3910b9d8fa0a5c4e48c07342c202125667749d812ef353887cba2d6b0420e3e3912786ba19facdfde554c43d7647c88b7f8edf34_640.jpg',\n",
       "   'webformatWidth': 640,\n",
       "   'webformatHeight': 400,\n",
       "   'largeImageURL': 'https://pixabay.com/get/g9ea0b053b6881b17c297d90d46f752294c10fcc20bb9e0e14332fe2722d7349e39e5b43feeaa5a4ef367ecc502eae4aa6475f36f66e8d6d686ed3a588eb474dd_1280.jpg',\n",
       "   'imageWidth': 3200,\n",
       "   'imageHeight': 2000,\n",
       "   'imageSize': 2563708,\n",
       "   'views': 590816,\n",
       "   'downloads': 430507,\n",
       "   'favorites': 1335,\n",
       "   'likes': 1133,\n",
       "   'comments': 152,\n",
       "   'user_id': 2216431,\n",
       "   'user': 'Yuri_B',\n",
       "   'userImageURL': 'https://cdn.pixabay.com/user/2020/01/13/10-51-47-251_250x250.jpg'},\n",
       "  {'id': 1512813,\n",
       "   'pageURL': 'https://pixabay.com/photos/lilies-yellow-flowers-petals-1512813/',\n",
       "   'type': 'photo',\n",
       "   'tags': 'lilies, yellow, flowers',\n",
       "   'previewURL': 'https://cdn.pixabay.com/photo/2016/07/12/18/54/lilies-1512813_150.jpg',\n",
       "   'previewWidth': 150,\n",
       "   'previewHeight': 75,\n",
       "   'webformatURL': 'https://pixabay.com/get/ged8157109895cfa3b7875f60292dd887771ff62cf285c73369e34902754ecf1cab4fd2c6823dee17872ccaadd4c7c40e0531554ce58a249f484da9f294bfb7d6_640.jpg',\n",
       "   'webformatWidth': 640,\n",
       "   'webformatHeight': 323,\n",
       "   'largeImageURL': 'https://pixabay.com/get/g634ceecce41e231f2b1cc2585bfca96a4c976e622ef760886f6272595f637113b18e90a07e4f9aad953d9490c43da5aeee17914550829f05521d0444681ed949_1280.jpg',\n",
       "   'imageWidth': 3861,\n",
       "   'imageHeight': 1952,\n",
       "   'imageSize': 1037708,\n",
       "   'views': 137192,\n",
       "   'downloads': 73657,\n",
       "   'favorites': 490,\n",
       "   'likes': 487,\n",
       "   'comments': 41,\n",
       "   'user_id': 2364555,\n",
       "   'user': 'pixel2013',\n",
       "   'userImageURL': 'https://cdn.pixabay.com/user/2020/07/25/21-10-11-80_250x250.jpg'},\n",
       "  {'id': 1127174,\n",
       "   'pageURL': 'https://pixabay.com/photos/sunflower-flower-plant-petals-1127174/',\n",
       "   'type': 'photo',\n",
       "   'tags': 'sunflower, flower, plant',\n",
       "   'previewURL': 'https://cdn.pixabay.com/photo/2016/01/08/05/24/sunflower-1127174_150.jpg',\n",
       "   'previewWidth': 150,\n",
       "   'previewHeight': 99,\n",
       "   'webformatURL': 'https://pixabay.com/get/g000d8eb1b27858d36feddb0a8a8de6cb57c1e86245538cd76ca55d0e07123c070e61e7830190547ceaceab3fed66a944901862e0aa10dc3d65d7e2d6fffd4e0a_640.jpg',\n",
       "   'webformatWidth': 640,\n",
       "   'webformatHeight': 426,\n",
       "   'largeImageURL': 'https://pixabay.com/get/g889737de3148a3894221675f187fc549d8585ab1e98285ecfa5f913159ab2726a0672fd38e2809e7a68ae5b5179d2305c8821b31baf843478d0c5ed0ae89e281_1280.jpg',\n",
       "   'imageWidth': 4752,\n",
       "   'imageHeight': 3168,\n",
       "   'imageSize': 3922163,\n",
       "   'views': 239464,\n",
       "   'downloads': 144614,\n",
       "   'favorites': 735,\n",
       "   'likes': 742,\n",
       "   'comments': 82,\n",
       "   'user_id': 1445608,\n",
       "   'user': 'mploscar',\n",
       "   'userImageURL': 'https://cdn.pixabay.com/user/2016/01/05/14-08-20-943_250x250.jpg'},\n",
       "  {'id': 1627193,\n",
       "   'pageURL': 'https://pixabay.com/photos/sunflower-yellow-flower-pollen-1627193/',\n",
       "   'type': 'photo',\n",
       "   'tags': 'sunflower, yellow, flower',\n",
       "   'previewURL': 'https://cdn.pixabay.com/photo/2016/08/28/23/24/sunflower-1627193_150.jpg',\n",
       "   'previewWidth': 150,\n",
       "   'previewHeight': 99,\n",
       "   'webformatURL': 'https://pixabay.com/get/g42b144233709c4a7ca987d1903ffe489eba09c26adb044dd16b88437358e0a1af17cbd6c94d4ce589bdb9c80643b1e97e8c3d45fcb13d7632c9991e2861bbf97_640.jpg',\n",
       "   'webformatWidth': 640,\n",
       "   'webformatHeight': 426,\n",
       "   'largeImageURL': 'https://pixabay.com/get/gea40622ee98e3aa80cda077db6eafae8d88da45df3794d31105935db4105273597b7f2a432b040a7df4ea310300e6a24978f0260039364ee91958809f3bee670_1280.jpg',\n",
       "   'imageWidth': 6000,\n",
       "   'imageHeight': 4000,\n",
       "   'imageSize': 5414839,\n",
       "   'views': 187550,\n",
       "   'downloads': 75189,\n",
       "   'favorites': 532,\n",
       "   'likes': 493,\n",
       "   'comments': 91,\n",
       "   'user_id': 1834854,\n",
       "   'user': 'ulleo',\n",
       "   'userImageURL': 'https://cdn.pixabay.com/user/2019/05/16/18-48-21-135_250x250.jpg'},\n",
       "  {'id': 690320,\n",
       "   'pageURL': 'https://pixabay.com/photos/tulips-yellow-tulips-flowers-690320/',\n",
       "   'type': 'photo',\n",
       "   'tags': 'tulips, yellow tulips, flowers',\n",
       "   'previewURL': 'https://cdn.pixabay.com/photo/2015/03/26/09/47/tulips-690320_150.jpg',\n",
       "   'previewWidth': 150,\n",
       "   'previewHeight': 99,\n",
       "   'webformatURL': 'https://pixabay.com/get/g3344fc497dccdc736af7d7c238f526e085702c386f24e64db204928737cee36f3ef373d11259fb26aec39d85c1b50b71_640.jpg',\n",
       "   'webformatWidth': 640,\n",
       "   'webformatHeight': 424,\n",
       "   'largeImageURL': 'https://pixabay.com/get/g574d73e21e014c0b4978a3a357c07c1efbda3775ac6804e4e525c2a56a619cd0ff3782dc76fa9a45a802952b67329c4cf1beb2443a85b87e64906f499b2d3b49_1280.jpg',\n",
       "   'imageWidth': 2256,\n",
       "   'imageHeight': 1496,\n",
       "   'imageSize': 476709,\n",
       "   'views': 161850,\n",
       "   'downloads': 90839,\n",
       "   'favorites': 619,\n",
       "   'likes': 640,\n",
       "   'comments': 66,\n",
       "   'user_id': 242387,\n",
       "   'user': 'Free-Photos',\n",
       "   'userImageURL': 'https://cdn.pixabay.com/user/2014/05/07/00-10-34-2_250x250.jpg'},\n",
       "  {'id': 715540,\n",
       "   'pageURL': 'https://pixabay.com/photos/yellow-flower-blossom-bloom-petals-715540/',\n",
       "   'type': 'photo',\n",
       "   'tags': 'yellow, flower, blossom',\n",
       "   'previewURL': 'https://cdn.pixabay.com/photo/2015/04/10/00/41/yellow-715540_150.jpg',\n",
       "   'previewWidth': 150,\n",
       "   'previewHeight': 84,\n",
       "   'webformatURL': 'https://pixabay.com/get/g2af35bf6913d840ba150bf2dfd70f1b825b6fe309ba2c6d0bf4d2ed39708c5719455a17fc6eac8ee5597a442628e3f2b_640.jpg',\n",
       "   'webformatWidth': 640,\n",
       "   'webformatHeight': 360,\n",
       "   'largeImageURL': 'https://pixabay.com/get/ga586772a69c485209e76f0377cd46a2343240f2cf7cafd70a275b6d175526fc386b1d06fa006c96a1da60157db807f4b5b44dd65cefd21a022e189ae3cb59044_1280.jpg',\n",
       "   'imageWidth': 3020,\n",
       "   'imageHeight': 1703,\n",
       "   'imageSize': 974940,\n",
       "   'views': 127525,\n",
       "   'downloads': 70416,\n",
       "   'favorites': 379,\n",
       "   'likes': 358,\n",
       "   'comments': 46,\n",
       "   'user_id': 916237,\n",
       "   'user': 'Wow_Pho',\n",
       "   'userImageURL': 'https://cdn.pixabay.com/user/2015/04/07/14-10-15-590_250x250.jpg'},\n",
       "  {'id': 2145539,\n",
       "   'pageURL': 'https://pixabay.com/photos/crocus-flower-wet-spring-2145539/',\n",
       "   'type': 'photo',\n",
       "   'tags': 'crocus, flower, wet',\n",
       "   'previewURL': 'https://cdn.pixabay.com/photo/2017/03/15/09/00/crocus-2145539_150.jpg',\n",
       "   'previewWidth': 150,\n",
       "   'previewHeight': 91,\n",
       "   'webformatURL': 'https://pixabay.com/get/g7446c58e2cb0fa0a8c3f3a0e891bddd2cbc38bb40747b1dc41457c0537ada59a0635e6cca101b4771349adc83c09f4e9fa607f07998b43702e40387108db0ac1_640.jpg',\n",
       "   'webformatWidth': 640,\n",
       "   'webformatHeight': 390,\n",
       "   'largeImageURL': 'https://pixabay.com/get/g532bc9adc4d05352ed61854b2af08ae32e70c2ad1e66ebfc4afdfa3a71b6f9935a6454c12430b9c2f43b232bdeb7ba75a63a4ab5db1edb1e3d6a3a35b2cd6fda_1280.jpg',\n",
       "   'imageWidth': 4000,\n",
       "   'imageHeight': 2443,\n",
       "   'imageSize': 823922,\n",
       "   'views': 96917,\n",
       "   'downloads': 60522,\n",
       "   'favorites': 496,\n",
       "   'likes': 567,\n",
       "   'comments': 59,\n",
       "   'user_id': 2364555,\n",
       "   'user': 'pixel2013',\n",
       "   'userImageURL': 'https://cdn.pixabay.com/user/2020/07/25/21-10-11-80_250x250.jpg'},\n",
       "  {'id': 1643794,\n",
       "   'pageURL': 'https://pixabay.com/photos/sunflower-bee-macro-pollen-1643794/',\n",
       "   'type': 'photo',\n",
       "   'tags': 'sunflower, bee, macro',\n",
       "   'previewURL': 'https://cdn.pixabay.com/photo/2016/09/04/12/05/sunflower-1643794_150.jpg',\n",
       "   'previewWidth': 150,\n",
       "   'previewHeight': 113,\n",
       "   'webformatURL': 'https://pixabay.com/get/gc6d566ac17866cc04658aac3556ca7cca8cc0be3645e0db798707322ec0eceaf9e87ec5f7bca4f9c653b6d5905437276a7e22efcd2648d2d69b0a6c91a8b4545_640.jpg',\n",
       "   'webformatWidth': 640,\n",
       "   'webformatHeight': 484,\n",
       "   'largeImageURL': 'https://pixabay.com/get/gc53af7ed8eee02f8392dafe6f0aedf283ba9197b6b88ccb44180288a7a43060fc12c3172bcf8fc0bb07831ddfb6ff4c59cd9fd866a33a1676fc83993328204f3_1280.jpg',\n",
       "   'imageWidth': 5285,\n",
       "   'imageHeight': 4000,\n",
       "   'imageSize': 5457910,\n",
       "   'views': 102283,\n",
       "   'downloads': 73059,\n",
       "   'favorites': 435,\n",
       "   'likes': 376,\n",
       "   'comments': 35,\n",
       "   'user_id': 686414,\n",
       "   'user': 'Alexas_Fotos',\n",
       "   'userImageURL': 'https://cdn.pixabay.com/user/2021/03/05/00-55-11-239_250x250.jpg'},\n",
       "  {'id': 1536088,\n",
       "   'pageURL': 'https://pixabay.com/photos/sunflower-flower-plant-petals-1536088/',\n",
       "   'type': 'photo',\n",
       "   'tags': 'sunflower, flower, plant',\n",
       "   'previewURL': 'https://cdn.pixabay.com/photo/2016/07/23/00/12/sunflower-1536088_150.jpg',\n",
       "   'previewWidth': 150,\n",
       "   'previewHeight': 98,\n",
       "   'webformatURL': 'https://pixabay.com/get/gce51c00d41639bf9bce5f6b499b0d40dc60aed45eaa54eccf72569f02ad760dfe43de2ad2b3ebfbb48eac92af450592280620679d79aefe98e02b2e625d21b30_640.jpg',\n",
       "   'webformatWidth': 640,\n",
       "   'webformatHeight': 419,\n",
       "   'largeImageURL': 'https://pixabay.com/get/gbee355e2ab77c01287112eb4a65e74e772981647268ee8aa732d9fed26fa219a139384815d1d7e806d756ed1a70622d6072a99254316dfdaa17df742192bc025_1280.jpg',\n",
       "   'imageWidth': 4896,\n",
       "   'imageHeight': 3208,\n",
       "   'imageSize': 5103399,\n",
       "   'views': 339180,\n",
       "   'downloads': 81844,\n",
       "   'favorites': 380,\n",
       "   'likes': 443,\n",
       "   'comments': 77,\n",
       "   'user_id': 1195798,\n",
       "   'user': 'Couleur',\n",
       "   'userImageURL': 'https://cdn.pixabay.com/user/2021/03/09/19-11-20-168_250x250.jpg'},\n",
       "  {'id': 3050076,\n",
       "   'pageURL': 'https://pixabay.com/photos/portrait-girl-fog-flowers-beauty-3050076/',\n",
       "   'type': 'photo',\n",
       "   'tags': 'portrait, girl, fog',\n",
       "   'previewURL': 'https://cdn.pixabay.com/photo/2017/12/30/13/25/portrait-3050076_150.jpg',\n",
       "   'previewWidth': 150,\n",
       "   'previewHeight': 99,\n",
       "   'webformatURL': 'https://pixabay.com/get/g974abd3cdb1970a47eaa7a5a8b6818cb699c0e12ae7bfb594e5b6ff13b56d84f9b8a9e11d17c925e4aba26f5ab90b2800ba13cdbebeab351c424ce8bba305376_640.jpg',\n",
       "   'webformatWidth': 640,\n",
       "   'webformatHeight': 426,\n",
       "   'largeImageURL': 'https://pixabay.com/get/gd16e00e212ff8bc9875fe0e5aa9da55d4bdf0ba3cd4ef269929faa4b11f3122ae27804cfce2113042490da3b60f848cf72e24f80620ae9b459b4e6fb84b7995c_1280.jpg',\n",
       "   'imageWidth': 5472,\n",
       "   'imageHeight': 3648,\n",
       "   'imageSize': 2914111,\n",
       "   'views': 186807,\n",
       "   'downloads': 133608,\n",
       "   'favorites': 403,\n",
       "   'likes': 391,\n",
       "   'comments': 41,\n",
       "   'user_id': 6663646,\n",
       "   'user': 'ThuyHaBich',\n",
       "   'userImageURL': 'https://cdn.pixabay.com/user/2017/11/17/08-35-57-188_250x250.jpg'},\n",
       "  {'id': 3720383,\n",
       "   'pageURL': 'https://pixabay.com/photos/flower-g%C3%A9rbel-yellow-flower-flower-3720383/',\n",
       "   'type': 'photo',\n",
       "   'tags': 'flower gérbel, yellow flower, flower',\n",
       "   'previewURL': 'https://cdn.pixabay.com/photo/2018/10/03/03/42/flower-gerbel-3720383_150.jpg',\n",
       "   'previewWidth': 150,\n",
       "   'previewHeight': 99,\n",
       "   'webformatURL': 'https://pixabay.com/get/g4d3e6c25dd58e162cde91b7047cbd5e3ae4852b6b51b5e71deeece6c6d7cf6f1f76d002609cbe7da8f688d825ca4b7d26fed403a0c7ac07f489f5b47bbff4012_640.jpg',\n",
       "   'webformatWidth': 640,\n",
       "   'webformatHeight': 426,\n",
       "   'largeImageURL': 'https://pixabay.com/get/g206cc0a6b7569571adb6860ca0c0b745e6a8708bdb011c5588e507dbdbcddb176e40cfb1e1d0fd64ae47a03b9fe763e7f6a40b741f377c276eb5bc79826a6ef9_1280.jpg',\n",
       "   'imageWidth': 6000,\n",
       "   'imageHeight': 4000,\n",
       "   'imageSize': 2117262,\n",
       "   'views': 73877,\n",
       "   'downloads': 59902,\n",
       "   'favorites': 185,\n",
       "   'likes': 212,\n",
       "   'comments': 42,\n",
       "   'user_id': 6246704,\n",
       "   'user': 'fernandozhiminaicela',\n",
       "   'userImageURL': 'https://cdn.pixabay.com/user/2019/02/27/14-16-13-192_250x250.jpg'},\n",
       "  {'id': 113735,\n",
       "   'pageURL': 'https://pixabay.com/photos/flower-rose-garden-yellow-rose-113735/',\n",
       "   'type': 'photo',\n",
       "   'tags': 'flower, rose, garden',\n",
       "   'previewURL': 'https://cdn.pixabay.com/photo/2013/05/26/12/14/flower-113735_150.jpg',\n",
       "   'previewWidth': 150,\n",
       "   'previewHeight': 83,\n",
       "   'webformatURL': 'https://pixabay.com/get/g465a9b2e324f74562945d1c44a047659f9abb98407e1eade22905d6b1b2ec6d2d4a38886c6855468b28c309f202f7caf_640.jpg',\n",
       "   'webformatWidth': 640,\n",
       "   'webformatHeight': 355,\n",
       "   'largeImageURL': 'https://pixabay.com/get/g34d1d6aaeadc73ba7c4ba89064331251c72802cf2c756e238ba8e2500d9906766751faad6cdd4a5057e9f6ce5b0f638681a3caf0e71b40aa8407dac61b9522a0_1280.jpg',\n",
       "   'imageWidth': 2410,\n",
       "   'imageHeight': 1337,\n",
       "   'imageSize': 299425,\n",
       "   'views': 125143,\n",
       "   'downloads': 31887,\n",
       "   'favorites': 252,\n",
       "   'likes': 271,\n",
       "   'comments': 36,\n",
       "   'user_id': 817,\n",
       "   'user': 'blizniak',\n",
       "   'userImageURL': 'https://cdn.pixabay.com/user/2013/06/28/17-07-05-714_250x250.jpg'},\n",
       "  {'id': 1144084,\n",
       "   'pageURL': 'https://pixabay.com/photos/poppy-fields-landscape-nature-1144084/',\n",
       "   'type': 'photo',\n",
       "   'tags': 'poppy, fields, landscape',\n",
       "   'previewURL': 'https://cdn.pixabay.com/photo/2016/01/16/22/03/poppy-1144084_150.jpg',\n",
       "   'previewWidth': 150,\n",
       "   'previewHeight': 99,\n",
       "   'webformatURL': 'https://pixabay.com/get/g812d654a32bd119ad4955ee7132e161315b0b876bb779b7f1f254d56e618178ef70dda7af9e68b3cec1129d372a9012d5a13d3f22b3fe531d0dacb1c5db9f5ee_640.jpg',\n",
       "   'webformatWidth': 640,\n",
       "   'webformatHeight': 426,\n",
       "   'largeImageURL': 'https://pixabay.com/get/g80b7c36a2b10ba37d3099b639cbe9c26914ddddc8cde1e26accb878ea812b92ed8c099e902614d706171697b41c3d0ba7f953e44d64cba25b0add8035b91a785_1280.jpg',\n",
       "   'imageWidth': 5760,\n",
       "   'imageHeight': 3840,\n",
       "   'imageSize': 3692207,\n",
       "   'views': 47831,\n",
       "   'downloads': 24941,\n",
       "   'favorites': 295,\n",
       "   'likes': 263,\n",
       "   'comments': 26,\n",
       "   'user_id': 1798295,\n",
       "   'user': 'WenPhotos',\n",
       "   'userImageURL': 'https://cdn.pixabay.com/user/2016/01/12/16-44-55-409_250x250.jpg'},\n",
       "  {'id': 190483,\n",
       "   'pageURL': 'https://pixabay.com/photos/bike-bicycle-wheels-bicycle-wheels-190483/',\n",
       "   'type': 'photo',\n",
       "   'tags': 'bike, bicycle, wheels',\n",
       "   'previewURL': 'https://cdn.pixabay.com/photo/2013/10/03/23/19/bike-190483_150.jpg',\n",
       "   'previewWidth': 150,\n",
       "   'previewHeight': 99,\n",
       "   'webformatURL': 'https://pixabay.com/get/gbdf988e7acd83d52ad1c745895f5f9ce39122ecbc12b7b67748769bfba9108e1543cb943675eadf1fef5511daa543b9a_640.jpg',\n",
       "   'webformatWidth': 640,\n",
       "   'webformatHeight': 426,\n",
       "   'largeImageURL': 'https://pixabay.com/get/gcf959f19de3b312278121e3d9cac83f1b4742ad019880c94ddd1ca7acb5be93bf13a1391d9e0636a6ad66f27382ce0299d4e1eb491b35de80e5f44af6aba9513_1280.jpg',\n",
       "   'imageWidth': 2160,\n",
       "   'imageHeight': 1440,\n",
       "   'imageSize': 2093738,\n",
       "   'views': 119223,\n",
       "   'downloads': 33707,\n",
       "   'favorites': 421,\n",
       "   'likes': 425,\n",
       "   'comments': 53,\n",
       "   'user_id': 55851,\n",
       "   'user': 'danfador',\n",
       "   'userImageURL': ''},\n",
       "  {'id': 1972411,\n",
       "   'pageURL': 'https://pixabay.com/photos/drip-yellow-petals-globules-water-1972411/',\n",
       "   'type': 'photo',\n",
       "   'tags': 'drip, yellow, petals',\n",
       "   'previewURL': 'https://cdn.pixabay.com/photo/2017/01/11/17/27/drip-1972411_150.jpg',\n",
       "   'previewWidth': 150,\n",
       "   'previewHeight': 87,\n",
       "   'webformatURL': 'https://pixabay.com/get/gc311856f08f81555b07bb09aa9872c3dcc5aee436cc40087b7e10cce50849411ad2edef772521ab388798ab10e1c2dd480d5f0de7fd5eaad119d7686ab66ee3e_640.jpg',\n",
       "   'webformatWidth': 640,\n",
       "   'webformatHeight': 372,\n",
       "   'largeImageURL': 'https://pixabay.com/get/gc7f9a84fa301515bcc755754c9bae7885ba8b98e4d863ede807234908ed8138dc4b671455ce9cda6cee8432840949b714eed5227a713a7fe021a9487b8e33370_1280.jpg',\n",
       "   'imageWidth': 4288,\n",
       "   'imageHeight': 2499,\n",
       "   'imageSize': 1510459,\n",
       "   'views': 119746,\n",
       "   'downloads': 99266,\n",
       "   'favorites': 346,\n",
       "   'likes': 356,\n",
       "   'comments': 52,\n",
       "   'user_id': 1777190,\n",
       "   'user': 'susannp4',\n",
       "   'userImageURL': 'https://cdn.pixabay.com/user/2015/12/16/17-56-55-832_250x250.jpg'},\n",
       "  {'id': 52358,\n",
       "   'pageURL': 'https://pixabay.com/photos/flower-petals-plant-wildflower-52358/',\n",
       "   'type': 'photo',\n",
       "   'tags': 'flower, petals, plant',\n",
       "   'previewURL': 'https://cdn.pixabay.com/photo/2012/07/12/14/50/flower-52358_150.jpg',\n",
       "   'previewWidth': 150,\n",
       "   'previewHeight': 84,\n",
       "   'webformatURL': 'https://pixabay.com/get/g4460c21d844eef8e9f915178f17e40a3354bb0bb74cc10883c9e5c4140fa8f6d4269c3bc2bd4c0016a7a1fa45e9beb1d_640.jpg',\n",
       "   'webformatWidth': 640,\n",
       "   'webformatHeight': 360,\n",
       "   'largeImageURL': 'https://pixabay.com/get/gb2df736de599a9cd840eb887884d4f1fd69fa9c64df51f34e41ed964735dd6de93126aada2c5877bddf9c6ad6b041e32_1280.jpg',\n",
       "   'imageWidth': 1920,\n",
       "   'imageHeight': 1080,\n",
       "   'imageSize': 172383,\n",
       "   'views': 44975,\n",
       "   'downloads': 21235,\n",
       "   'favorites': 208,\n",
       "   'likes': 227,\n",
       "   'comments': 24,\n",
       "   'user_id': 5783,\n",
       "   'user': 'PeterDargatz',\n",
       "   'userImageURL': 'https://cdn.pixabay.com/user/2012/06/22/22-42-41-494_250x250.jpg'}]}"
      ]
     },
     "execution_count": 10,
     "metadata": {},
     "output_type": "execute_result"
    }
   ],
   "source": [
    "content"
   ]
  },
  {
   "cell_type": "code",
   "execution_count": 12,
   "metadata": {
    "id": "nBD28HdIFjlE"
   },
   "outputs": [],
   "source": [
    "path = ''\n",
    "hits = content['hits']\n",
    "\n",
    "for i in range(len(hits)):\n",
    "    img_url = hits[i]['webformatURL']\n",
    "    with open(path + '/' + str(i) + '.' + img_url.split(\".\")[-1], \"wb\") as img:\n",
    "        img.write(requests.get(img_url).content)"
   ]
  },
  {
   "cell_type": "markdown",
   "metadata": {
    "id": "yYoOTd2mH17E"
   },
   "source": [
    "함수로 만들고 갯수를 지정하여 받을 수 있게해봅시다"
   ]
  },
  {
   "cell_type": "code",
   "execution_count": 13,
   "metadata": {
    "id": "cjzHh_mRH6Oc"
   },
   "outputs": [],
   "source": [
    "def pix_img(query, API_KEY, img_size, path, page, filename):\n",
    "    #img_size:  ['previewURL', 'largeImageURL', 'webformatURL']  \n",
    "    URL = 'https://pixabay.com/api/?key={}&q={}&image_type=photo&page={}'.format(API_KEY, query, page)  \n",
    "    res = requests.get(URL)\n",
    "    content = json.loads(res.content)\n",
    "    \n",
    "    hits = content['hits']  \n",
    "    \n",
    "    for i in range(len(hits)):\n",
    "        img_url = hits[i][img_size]\n",
    "        print(i)\n",
    "        with open(path + '/' + filename + str(i) + '.' + img_url.split(\".\")[-1], \"wb\") as img:\n",
    "            img.write(requests.get(img_url).content)"
   ]
  },
  {
   "cell_type": "code",
   "execution_count": 16,
   "metadata": {
    "id": "aN2J8XTaJ9_h"
   },
   "outputs": [],
   "source": [
    "API_KEY='21021709-a4b547817146b76ed85498a4f'\n",
    "path = ''"
   ]
  },
  {
   "cell_type": "code",
   "execution_count": 17,
   "metadata": {
    "colab": {
     "base_uri": "https://localhost:8080/"
    },
    "id": "9rv2iS4ZIvtc",
    "outputId": "65f3af06-d35a-46b8-81b8-5ad2193f5b78"
   },
   "outputs": [
    {
     "name": "stdout",
     "output_type": "stream",
     "text": [
      "0\n",
      "1\n",
      "2\n",
      "3\n",
      "4\n",
      "5\n",
      "6\n",
      "7\n",
      "8\n",
      "9\n",
      "10\n",
      "11\n",
      "12\n",
      "13\n",
      "14\n",
      "15\n",
      "16\n",
      "17\n",
      "18\n",
      "19\n"
     ]
    }
   ],
   "source": [
    "pix_img('red+flower', API_KEY, 'largeImageURL', path, 1, 'red flower')"
   ]
  },
  {
   "cell_type": "markdown",
   "metadata": {
    "id": "8_MRDwiuES4l"
   },
   "source": [
    "빠르게 다운로드해야하고, 받을 수있는 Rate의 제한이 적은 경우에는 아래의 \n",
    "라이브러리를 사용하면 훨씬 빠르게 받을 수 있습니다.\n",
    "\n",
    "https://docs.aiohttp.org/en/stable/\n"
   ]
  },
  {
   "cell_type": "code",
   "execution_count": null,
   "metadata": {},
   "outputs": [],
   "source": []
  }
 ],
 "metadata": {
  "colab": {
   "authorship_tag": "ABX9TyOBmDB2vYrIPKjQGXFjF4cq",
   "include_colab_link": true,
   "name": "13_2_웹 이미지 다운로드.ipynb",
   "provenance": []
  },
  "kernelspec": {
   "display_name": "Python 3",
   "language": "python",
   "name": "python3"
  },
  "language_info": {
   "codemirror_mode": {
    "name": "ipython",
    "version": 3
   },
   "file_extension": ".py",
   "mimetype": "text/x-python",
   "name": "python",
   "nbconvert_exporter": "python",
   "pygments_lexer": "ipython3",
   "version": "3.7.9"
  }
 },
 "nbformat": 4,
 "nbformat_minor": 1
}
