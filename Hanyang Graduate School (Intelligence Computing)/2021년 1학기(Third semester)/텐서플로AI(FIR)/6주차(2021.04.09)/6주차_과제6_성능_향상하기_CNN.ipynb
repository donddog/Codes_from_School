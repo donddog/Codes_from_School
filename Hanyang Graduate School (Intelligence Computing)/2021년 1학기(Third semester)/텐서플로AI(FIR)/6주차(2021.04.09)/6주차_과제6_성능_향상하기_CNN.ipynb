version https://git-lfs.github.com/spec/v1
oid sha256:55cd29284a277607aada537edc8d9531f6a28625411c9ea33ee0c03f9c40ac68
size 1013161
