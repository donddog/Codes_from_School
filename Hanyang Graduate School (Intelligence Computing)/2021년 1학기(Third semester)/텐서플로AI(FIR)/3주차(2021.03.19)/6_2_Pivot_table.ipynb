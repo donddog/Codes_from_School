version https://git-lfs.github.com/spec/v1
oid sha256:8b653353c838666bbef7506394cda0eb5e9627361a36dc7b7ddb8706cec1a7dc
size 692910
