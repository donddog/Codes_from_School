version https://git-lfs.github.com/spec/v1
oid sha256:6b9e6ff850b641797e1d8a6348018e7ed8206e55160e683d6206fe4016dc3685
size 68672
