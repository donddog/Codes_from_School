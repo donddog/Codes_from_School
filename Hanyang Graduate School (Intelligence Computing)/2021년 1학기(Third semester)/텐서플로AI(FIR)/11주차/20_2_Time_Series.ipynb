{
 "cells": [
  {
   "cell_type": "markdown",
   "metadata": {
    "colab_type": "text",
    "id": "view-in-github"
   },
   "source": [
    "<a href=\"https://colab.research.google.com/github/joohoshin/TensorflowAI/blob/main/20_2_Time_Series.ipynb\" target=\"_parent\"><img src=\"https://colab.research.google.com/assets/colab-badge.svg\" alt=\"Open In Colab\"/></a>"
   ]
  },
  {
   "cell_type": "markdown",
   "metadata": {
    "id": "fbg3tMG3vhD-"
   },
   "source": [
    "RNN은 순서가 있는 데이터셋에 활용가능합니다.\n",
    "주가 데이터로 연습해봅시다\n",
    "\n",
    "https://www.tensorflow.org/guide/keras/rnn\n",
    "\n",
    "pandas-datareader 패키지를 통해 다양한 금융/경제 데이터를 얻을 수 있습니다\n",
    "\n",
    "https://pandas-datareader.readthedocs.io/en/latest/remote_data.html#remote-data-naver\n"
   ]
  },
  {
   "cell_type": "code",
   "execution_count": 1,
   "metadata": {
    "id": "DfyMEcBRveUb"
   },
   "outputs": [],
   "source": [
    "import numpy as np\n",
    "import tensorflow as tf\n",
    "from tensorflow import keras\n",
    "from tensorflow.keras import layers"
   ]
  },
  {
   "cell_type": "code",
   "execution_count": 2,
   "metadata": {
    "id": "PBajZfLxvhgN"
   },
   "outputs": [],
   "source": [
    "import pandas_datareader.data as web\n",
    "\n",
    "df = web.DataReader('005930', 'naver', start='2010-01-01', end='2020-12-31')"
   ]
  },
  {
   "cell_type": "code",
   "execution_count": 3,
   "metadata": {
    "colab": {
     "base_uri": "https://localhost:8080/",
     "height": 446
    },
    "id": "7tfWHyQ-wgug",
    "outputId": "39be7bd9-9609-4e12-f712-3b284b9e504b"
   },
   "outputs": [
    {
     "data": {
      "text/html": [
       "<div>\n",
       "<style scoped>\n",
       "    .dataframe tbody tr th:only-of-type {\n",
       "        vertical-align: middle;\n",
       "    }\n",
       "\n",
       "    .dataframe tbody tr th {\n",
       "        vertical-align: top;\n",
       "    }\n",
       "\n",
       "    .dataframe thead th {\n",
       "        text-align: right;\n",
       "    }\n",
       "</style>\n",
       "<table border=\"1\" class=\"dataframe\">\n",
       "  <thead>\n",
       "    <tr style=\"text-align: right;\">\n",
       "      <th></th>\n",
       "      <th>Open</th>\n",
       "      <th>High</th>\n",
       "      <th>Low</th>\n",
       "      <th>Close</th>\n",
       "      <th>Volume</th>\n",
       "    </tr>\n",
       "    <tr>\n",
       "      <th>Date</th>\n",
       "      <th></th>\n",
       "      <th></th>\n",
       "      <th></th>\n",
       "      <th></th>\n",
       "      <th></th>\n",
       "    </tr>\n",
       "  </thead>\n",
       "  <tbody>\n",
       "    <tr>\n",
       "      <th>2010-01-04</th>\n",
       "      <td>16060</td>\n",
       "      <td>16180</td>\n",
       "      <td>16000</td>\n",
       "      <td>16180</td>\n",
       "      <td>239271</td>\n",
       "    </tr>\n",
       "    <tr>\n",
       "      <th>2010-01-05</th>\n",
       "      <td>16520</td>\n",
       "      <td>16580</td>\n",
       "      <td>16300</td>\n",
       "      <td>16440</td>\n",
       "      <td>559219</td>\n",
       "    </tr>\n",
       "    <tr>\n",
       "      <th>2010-01-06</th>\n",
       "      <td>16580</td>\n",
       "      <td>16820</td>\n",
       "      <td>16520</td>\n",
       "      <td>16820</td>\n",
       "      <td>459755</td>\n",
       "    </tr>\n",
       "    <tr>\n",
       "      <th>2010-01-07</th>\n",
       "      <td>16820</td>\n",
       "      <td>16820</td>\n",
       "      <td>16260</td>\n",
       "      <td>16260</td>\n",
       "      <td>443237</td>\n",
       "    </tr>\n",
       "    <tr>\n",
       "      <th>2010-01-08</th>\n",
       "      <td>16400</td>\n",
       "      <td>16420</td>\n",
       "      <td>16120</td>\n",
       "      <td>16420</td>\n",
       "      <td>295798</td>\n",
       "    </tr>\n",
       "    <tr>\n",
       "      <th>...</th>\n",
       "      <td>...</td>\n",
       "      <td>...</td>\n",
       "      <td>...</td>\n",
       "      <td>...</td>\n",
       "      <td>...</td>\n",
       "    </tr>\n",
       "    <tr>\n",
       "      <th>2020-12-23</th>\n",
       "      <td>72400</td>\n",
       "      <td>74000</td>\n",
       "      <td>72300</td>\n",
       "      <td>73900</td>\n",
       "      <td>19411326</td>\n",
       "    </tr>\n",
       "    <tr>\n",
       "      <th>2020-12-24</th>\n",
       "      <td>74100</td>\n",
       "      <td>78800</td>\n",
       "      <td>74000</td>\n",
       "      <td>77800</td>\n",
       "      <td>32502870</td>\n",
       "    </tr>\n",
       "    <tr>\n",
       "      <th>2020-12-28</th>\n",
       "      <td>79000</td>\n",
       "      <td>80100</td>\n",
       "      <td>78200</td>\n",
       "      <td>78700</td>\n",
       "      <td>40085044</td>\n",
       "    </tr>\n",
       "    <tr>\n",
       "      <th>2020-12-29</th>\n",
       "      <td>78800</td>\n",
       "      <td>78900</td>\n",
       "      <td>77300</td>\n",
       "      <td>78300</td>\n",
       "      <td>30339449</td>\n",
       "    </tr>\n",
       "    <tr>\n",
       "      <th>2020-12-30</th>\n",
       "      <td>77400</td>\n",
       "      <td>81300</td>\n",
       "      <td>77300</td>\n",
       "      <td>81000</td>\n",
       "      <td>29417421</td>\n",
       "    </tr>\n",
       "  </tbody>\n",
       "</table>\n",
       "<p>2714 rows × 5 columns</p>\n",
       "</div>"
      ],
      "text/plain": [
       "             Open   High    Low  Close    Volume\n",
       "Date                                            \n",
       "2010-01-04  16060  16180  16000  16180    239271\n",
       "2010-01-05  16520  16580  16300  16440    559219\n",
       "2010-01-06  16580  16820  16520  16820    459755\n",
       "2010-01-07  16820  16820  16260  16260    443237\n",
       "2010-01-08  16400  16420  16120  16420    295798\n",
       "...           ...    ...    ...    ...       ...\n",
       "2020-12-23  72400  74000  72300  73900  19411326\n",
       "2020-12-24  74100  78800  74000  77800  32502870\n",
       "2020-12-28  79000  80100  78200  78700  40085044\n",
       "2020-12-29  78800  78900  77300  78300  30339449\n",
       "2020-12-30  77400  81300  77300  81000  29417421\n",
       "\n",
       "[2714 rows x 5 columns]"
      ]
     },
     "execution_count": 3,
     "metadata": {},
     "output_type": "execute_result"
    }
   ],
   "source": [
    "df"
   ]
  },
  {
   "cell_type": "code",
   "execution_count": 4,
   "metadata": {
    "colab": {
     "base_uri": "https://localhost:8080/"
    },
    "id": "MZ9-PpH1v4tL",
    "outputId": "e432f118-dbf5-4ed4-e9ca-88c068d5cc58"
   },
   "outputs": [
    {
     "data": {
      "text/plain": [
       "Open      object\n",
       "High      object\n",
       "Low       object\n",
       "Close     object\n",
       "Volume    object\n",
       "dtype: object"
      ]
     },
     "execution_count": 4,
     "metadata": {},
     "output_type": "execute_result"
    }
   ],
   "source": [
    "df.dtypes"
   ]
  },
  {
   "cell_type": "code",
   "execution_count": 5,
   "metadata": {
    "id": "Tv_9LZov58hY"
   },
   "outputs": [],
   "source": [
    "import pandas as pd\n",
    "\n",
    "df = df.apply(pd.to_numeric)"
   ]
  },
  {
   "cell_type": "code",
   "execution_count": 6,
   "metadata": {
    "colab": {
     "base_uri": "https://localhost:8080/"
    },
    "id": "ii41J_OT6A3y",
    "outputId": "4ec65588-afd9-4c8a-981d-9638c4781e22"
   },
   "outputs": [
    {
     "data": {
      "text/plain": [
       "Open      int64\n",
       "High      int64\n",
       "Low       int64\n",
       "Close     int64\n",
       "Volume    int64\n",
       "dtype: object"
      ]
     },
     "execution_count": 6,
     "metadata": {},
     "output_type": "execute_result"
    }
   ],
   "source": [
    "df.dtypes"
   ]
  },
  {
   "cell_type": "code",
   "execution_count": 7,
   "metadata": {
    "colab": {
     "base_uri": "https://localhost:8080/",
     "height": 288
    },
    "id": "YpFIEjum6EU0",
    "outputId": "d654e514-c4cf-4aca-83c1-87f636b3b516"
   },
   "outputs": [
    {
     "data": {
      "text/plain": [
       "<AxesSubplot:xlabel='Date'>"
      ]
     },
     "execution_count": 7,
     "metadata": {},
     "output_type": "execute_result"
    },
    {
     "data": {
      "image/png": "[encoded data removed]",
      "text/plain": [
       "<Figure size 432x288 with 1 Axes>"
      ]
     },
     "metadata": {
      "needs_background": "light"
     },
     "output_type": "display_data"
    }
   ],
   "source": [
    "df.Close.plot()"
   ]
  },
  {
   "cell_type": "code",
   "execution_count": 8,
   "metadata": {
    "id": "eiLlhs0BwF6t"
   },
   "outputs": [],
   "source": [
    "TEST_SIZE = 300\n",
    "\n",
    "train = df.Close[:-TEST_SIZE]\n",
    "test = df.Close[-TEST_SIZE:]"
   ]
  },
  {
   "cell_type": "code",
   "execution_count": 9,
   "metadata": {
    "id": "a3-NZXr4zUiy"
   },
   "outputs": [],
   "source": [
    "import numpy as np\n",
    "\n",
    "window_size = 20\n",
    "\n",
    "inputs = []\n",
    "targets = []\n",
    "\n",
    "for i in range(len(train) - window_size):\n",
    "    inputs.append(np.array(train[i:i+window_size]))\n",
    "    targets.append(np.array(train[i+window_size]))"
   ]
  },
  {
   "cell_type": "code",
   "execution_count": 10,
   "metadata": {
    "colab": {
     "base_uri": "https://localhost:8080/"
    },
    "id": "BwoRwcWUztwP",
    "outputId": "f2bf8ec4-34aa-4c65-a99d-c67233c1f9a3"
   },
   "outputs": [
    {
     "data": {
      "text/plain": [
       "array([16180, 16440, 16820, 16260, 16420, 15940, 16180, 15940, 16540,\n",
       "       16840, 16860, 16460, 16680, 17000, 16500, 16840, 16300, 16000,\n",
       "       16160, 15680], dtype=int64)"
      ]
     },
     "execution_count": 10,
     "metadata": {},
     "output_type": "execute_result"
    }
   ],
   "source": [
    "inputs[0]"
   ]
  },
  {
   "cell_type": "code",
   "execution_count": 11,
   "metadata": {
    "colab": {
     "base_uri": "https://localhost:8080/"
    },
    "id": "vI_K2YfY0MpH",
    "outputId": "336addd8-de80-48eb-b38d-45486bd21b76"
   },
   "outputs": [
    {
     "data": {
      "text/plain": [
       "array(15540, dtype=int64)"
      ]
     },
     "execution_count": 11,
     "metadata": {},
     "output_type": "execute_result"
    }
   ],
   "source": [
    "targets[0]"
   ]
  },
  {
   "cell_type": "code",
   "execution_count": 12,
   "metadata": {
    "id": "Z7f39e4V0rHI"
   },
   "outputs": [],
   "source": [
    "inputs = np.array(inputs)\n",
    "targets = np.array(targets)"
   ]
  },
  {
   "cell_type": "code",
   "execution_count": 13,
   "metadata": {
    "colab": {
     "base_uri": "https://localhost:8080/"
    },
    "id": "axIBFfzX0hKC",
    "outputId": "59ead41d-2a8d-4770-8f9e-b5ca866c64b3"
   },
   "outputs": [
    {
     "name": "stdout",
     "output_type": "stream",
     "text": [
      "(2394, 20)\n",
      "(2394,)\n"
     ]
    }
   ],
   "source": [
    "print(inputs.shape)\n",
    "print(targets.shape)"
   ]
  },
  {
   "cell_type": "code",
   "execution_count": 14,
   "metadata": {
    "id": "pp6yeRgJ2O1m"
   },
   "outputs": [],
   "source": [
    "window_size = 20\n",
    "\n",
    "test_inputs = []\n",
    "test_targets = []\n",
    "\n",
    "for i in range(len(test) - window_size):\n",
    "    test_inputs.append(np.array(test[i:i+window_size]))\n",
    "    test_targets.append(np.array(test[i+window_size]))\n",
    "\n",
    "test_inputs=np.array(test_inputs)\n",
    "test_targets = np.array(test_targets)"
   ]
  },
  {
   "cell_type": "code",
   "execution_count": 15,
   "metadata": {
    "id": "IfQrI9iE3IdD"
   },
   "outputs": [],
   "source": [
    "test_inputs = np.expand_dims(test_inputs,2)"
   ]
  },
  {
   "cell_type": "code",
   "execution_count": 16,
   "metadata": {
    "colab": {
     "base_uri": "https://localhost:8080/"
    },
    "id": "Mer1Y4jJ3OQU",
    "outputId": "f82cf8fe-0fbf-49ea-c2b8-8df545f67de8"
   },
   "outputs": [
    {
     "data": {
      "text/plain": [
       "(280, 20, 1)"
      ]
     },
     "execution_count": 16,
     "metadata": {},
     "output_type": "execute_result"
    }
   ],
   "source": [
    "test_inputs.shape"
   ]
  },
  {
   "cell_type": "code",
   "execution_count": 17,
   "metadata": {
    "id": "jXDOuOuF3Qr7"
   },
   "outputs": [],
   "source": [
    "inputs = np.expand_dims(inputs,2)\n",
    "targets = np.expand_dims(targets,1)\n",
    "test_targets = np.expand_dims(test_targets,1)"
   ]
  },
  {
   "cell_type": "code",
   "execution_count": 18,
   "metadata": {
    "id": "NKoZ-kp60RSc"
   },
   "outputs": [],
   "source": [
    "import tensorflow as tf\n",
    "from tensorflow import keras\n",
    "from tensorflow.keras import layers\n",
    "\n",
    "model = tf.keras.Sequential()\n",
    "model.add(layers.SimpleRNN(20, \n",
    "               input_shape=(20,1), \n",
    "               activation='relu', \n",
    "               return_sequences=False)\n",
    "          )\n",
    "\n",
    "model.add(layers.Dense(1))"
   ]
  },
  {
   "cell_type": "code",
   "execution_count": 19,
   "metadata": {
    "colab": {
     "base_uri": "https://localhost:8080/"
    },
    "id": "RFgOjRIe06gr",
    "outputId": "39c3cd22-15fe-40b5-fb0b-241c2a1f0fd7"
   },
   "outputs": [
    {
     "name": "stdout",
     "output_type": "stream",
     "text": [
      "Model: \"sequential\"\n",
      "_________________________________________________________________\n",
      "Layer (type)                 Output Shape              Param #   \n",
      "=================================================================\n",
      "simple_rnn (SimpleRNN)       (None, 20)                440       \n",
      "_________________________________________________________________\n",
      "dense (Dense)                (None, 1)                 21        \n",
      "=================================================================\n",
      "Total params: 461\n",
      "Trainable params: 461\n",
      "Non-trainable params: 0\n",
      "_________________________________________________________________\n"
     ]
    }
   ],
   "source": [
    "model.summary()"
   ]
  },
  {
   "cell_type": "code",
   "execution_count": 20,
   "metadata": {
    "colab": {
     "base_uri": "https://localhost:8080/"
    },
    "id": "F5sfZvUd1qS7",
    "outputId": "b62e1ab4-19da-441b-cd6e-9d063787aea9"
   },
   "outputs": [
    {
     "name": "stdout",
     "output_type": "stream",
     "text": [
      "Epoch 1/50\n",
      "WARNING:tensorflow:AutoGraph could not transform <function Model.make_train_function.<locals>.train_function at 0x000001ABC3CF41F8> and will run it as-is.\n",
      "Please report this to the TensorFlow team. When filing the bug, set the verbosity to 10 (on Linux, `export AUTOGRAPH_VERBOSITY=10`) and attach the full output.\n",
      "Cause: 'arguments' object has no attribute 'posonlyargs'\n",
      "To silence this warning, decorate the function with @tf.autograph.experimental.do_not_convert\n",
      "WARNING: AutoGraph could not transform <function Model.make_train_function.<locals>.train_function at 0x000001ABC3CF41F8> and will run it as-is.\n",
      "Please report this to the TensorFlow team. When filing the bug, set the verbosity to 10 (on Linux, `export AUTOGRAPH_VERBOSITY=10`) and attach the full output.\n",
      "Cause: 'arguments' object has no attribute 'posonlyargs'\n",
      "To silence this warning, decorate the function with @tf.autograph.experimental.do_not_convert\n",
      "146/150 [============================>.] - ETA: 0s - loss: 27632674.0000WARNING:tensorflow:AutoGraph could not transform <function Model.make_test_function.<locals>.test_function at 0x000001AE262B5168> and will run it as-is.\n",
      "Please report this to the TensorFlow team. When filing the bug, set the verbosity to 10 (on Linux, `export AUTOGRAPH_VERBOSITY=10`) and attach the full output.\n",
      "Cause: 'arguments' object has no attribute 'posonlyargs'\n",
      "To silence this warning, decorate the function with @tf.autograph.experimental.do_not_convert\n",
      "WARNING: AutoGraph could not transform <function Model.make_test_function.<locals>.test_function at 0x000001AE262B5168> and will run it as-is.\n",
      "Please report this to the TensorFlow team. When filing the bug, set the verbosity to 10 (on Linux, `export AUTOGRAPH_VERBOSITY=10`) and attach the full output.\n",
      "Cause: 'arguments' object has no attribute 'posonlyargs'\n",
      "To silence this warning, decorate the function with @tf.autograph.experimental.do_not_convert\n",
      "150/150 [==============================] - 2s 13ms/step - loss: 26970690.0000 - val_loss: 2171271.2500\n",
      "Epoch 2/50\n",
      "150/150 [==============================] - 2s 12ms/step - loss: 497789.5000 - val_loss: 2297263.0000\n",
      "Epoch 3/50\n",
      "150/150 [==============================] - 2s 12ms/step - loss: 499610.9062 - val_loss: 2108083.5000\n",
      "Epoch 4/50\n",
      "150/150 [==============================] - 2s 12ms/step - loss: 494336.0938 - val_loss: 2104161.7500\n",
      "Epoch 5/50\n",
      "150/150 [==============================] - 2s 12ms/step - loss: 484216.6875 - val_loss: 2082911.3750\n",
      "Epoch 6/50\n",
      "150/150 [==============================] - 2s 12ms/step - loss: 473207.7188 - val_loss: 2206900.7500\n",
      "Epoch 7/50\n",
      "150/150 [==============================] - 2s 12ms/step - loss: 477309.3750 - val_loss: 2025975.3750\n",
      "Epoch 8/50\n",
      "150/150 [==============================] - 2s 12ms/step - loss: 466145.4688 - val_loss: 1994472.2500\n",
      "Epoch 9/50\n",
      "150/150 [==============================] - 2s 12ms/step - loss: 481208.1250 - val_loss: 1926526.0000\n",
      "Epoch 10/50\n",
      "150/150 [==============================] - 2s 12ms/step - loss: 461775.7812 - val_loss: 1899687.2500\n",
      "Epoch 11/50\n",
      "150/150 [==============================] - 2s 12ms/step - loss: 450809.8125 - val_loss: 2175137.7500\n",
      "Epoch 12/50\n",
      "150/150 [==============================] - 2s 12ms/step - loss: 454840.6875 - val_loss: 1846038.6250\n",
      "Epoch 13/50\n",
      "150/150 [==============================] - 2s 12ms/step - loss: 442341.7500 - val_loss: 1940666.5000\n",
      "Epoch 14/50\n",
      "150/150 [==============================] - 2s 12ms/step - loss: 464733.3125 - val_loss: 1845387.0000\n",
      "Epoch 15/50\n",
      "150/150 [==============================] - 2s 12ms/step - loss: 436935.1250 - val_loss: 1749244.2500\n",
      "Epoch 16/50\n",
      "150/150 [==============================] - 2s 12ms/step - loss: 428606.9062 - val_loss: 1723836.5000\n",
      "Epoch 17/50\n",
      "150/150 [==============================] - 2s 12ms/step - loss: 439454.2500 - val_loss: 1939260.1250\n",
      "Epoch 18/50\n",
      "150/150 [==============================] - 2s 12ms/step - loss: 421201.6250 - val_loss: 2410647.0000\n",
      "Epoch 19/50\n",
      "150/150 [==============================] - 2s 12ms/step - loss: 449570.5312 - val_loss: 1641600.6250\n",
      "Epoch 20/50\n",
      "150/150 [==============================] - 2s 12ms/step - loss: 402701.4062 - val_loss: 1801914.7500\n",
      "Epoch 21/50\n",
      "150/150 [==============================] - 2s 12ms/step - loss: 403071.1250 - val_loss: 1704356.7500\n",
      "Epoch 22/50\n",
      "150/150 [==============================] - 2s 12ms/step - loss: 382311.1562 - val_loss: 1650117.7500\n",
      "Epoch 23/50\n",
      "150/150 [==============================] - 2s 12ms/step - loss: 396624.0000 - val_loss: 2329735.5000\n",
      "Epoch 24/50\n",
      "150/150 [==============================] - 2s 12ms/step - loss: 383148.5000 - val_loss: 1534976.6250\n",
      "Epoch 25/50\n",
      "150/150 [==============================] - 2s 12ms/step - loss: 388681.1875 - val_loss: 1517503.2500\n",
      "Epoch 26/50\n",
      "150/150 [==============================] - 2s 12ms/step - loss: 370109.4375 - val_loss: 1502023.3750\n",
      "Epoch 27/50\n",
      "150/150 [==============================] - 2s 12ms/step - loss: 396775.2188 - val_loss: 2051328.8750\n",
      "Epoch 28/50\n",
      "150/150 [==============================] - 2s 12ms/step - loss: 403338.7812 - val_loss: 1476656.5000\n",
      "Epoch 29/50\n",
      "150/150 [==============================] - 2s 12ms/step - loss: 367027.8438 - val_loss: 1454194.2500\n",
      "Epoch 30/50\n",
      "150/150 [==============================] - 2s 12ms/step - loss: 385019.0312 - val_loss: 1755396.2500\n",
      "Epoch 31/50\n",
      "150/150 [==============================] - 2s 12ms/step - loss: 368539.6250 - val_loss: 2033029.7500\n",
      "Epoch 32/50\n",
      "150/150 [==============================] - 2s 12ms/step - loss: 363201.5625 - val_loss: 1395894.7500\n",
      "Epoch 33/50\n",
      "150/150 [==============================] - 2s 12ms/step - loss: 358433.5312 - val_loss: 2152579.5000\n",
      "Epoch 34/50\n",
      "150/150 [==============================] - 2s 12ms/step - loss: 376254.0625 - val_loss: 1791679.8750\n",
      "Epoch 35/50\n",
      "150/150 [==============================] - 2s 12ms/step - loss: 341919.5938 - val_loss: 1364357.7500\n",
      "Epoch 36/50\n",
      "150/150 [==============================] - 2s 12ms/step - loss: 365362.5625 - val_loss: 1407043.3750\n",
      "Epoch 37/50\n",
      "150/150 [==============================] - 2s 12ms/step - loss: 376567.7812 - val_loss: 1348083.6250\n",
      "Epoch 38/50\n",
      "150/150 [==============================] - 2s 12ms/step - loss: 355824.7188 - val_loss: 1570114.8750\n",
      "Epoch 39/50\n",
      "150/150 [==============================] - 2s 12ms/step - loss: 338259.5938 - val_loss: 1331305.1250\n",
      "Epoch 40/50\n",
      "150/150 [==============================] - 2s 12ms/step - loss: 329481.3125 - val_loss: 1952455.1250\n",
      "Epoch 41/50\n",
      "150/150 [==============================] - 2s 12ms/step - loss: 333646.9375 - val_loss: 1370766.0000\n",
      "Epoch 42/50\n",
      "150/150 [==============================] - 2s 12ms/step - loss: 332743.6250 - val_loss: 2145325.0000\n",
      "Epoch 43/50\n",
      "150/150 [==============================] - 2s 12ms/step - loss: 331857.7812 - val_loss: 1312971.5000\n",
      "Epoch 44/50\n",
      "150/150 [==============================] - 2s 12ms/step - loss: 351917.9375 - val_loss: 2218420.0000\n",
      "Epoch 45/50\n",
      "150/150 [==============================] - 2s 12ms/step - loss: 327617.6250 - val_loss: 1499616.3750\n",
      "Epoch 46/50\n",
      "150/150 [==============================] - 2s 12ms/step - loss: 331191.5938 - val_loss: 1341865.8750\n",
      "Epoch 47/50\n",
      "150/150 [==============================] - 2s 12ms/step - loss: 345114.9688 - val_loss: 1344970.1250\n",
      "Epoch 48/50\n",
      "150/150 [==============================] - 2s 12ms/step - loss: 330018.6875 - val_loss: 1522066.1250\n",
      "Epoch 49/50\n",
      "150/150 [==============================] - 2s 12ms/step - loss: 331921.1250 - val_loss: 1359395.7500\n",
      "Epoch 50/50\n",
      "150/150 [==============================] - 2s 12ms/step - loss: 325460.1875 - val_loss: 1281023.0000\n"
     ]
    }
   ],
   "source": [
    "model.compile(loss='mean_squared_error', optimizer='adam')\n",
    "\n",
    "history = model.fit(inputs,\n",
    "                    targets,\n",
    "                    epochs=50,\n",
    "                    batch_size=16,\n",
    "                    validation_data=(test_inputs, test_targets))"
   ]
  },
  {
   "cell_type": "code",
   "execution_count": 21,
   "metadata": {
    "id": "VxXqqW5m2gY6"
   },
   "outputs": [
    {
     "name": "stdout",
     "output_type": "stream",
     "text": [
      "WARNING:tensorflow:AutoGraph could not transform <function Model.make_predict_function.<locals>.predict_function at 0x000001AE26355C18> and will run it as-is.\n",
      "Please report this to the TensorFlow team. When filing the bug, set the verbosity to 10 (on Linux, `export AUTOGRAPH_VERBOSITY=10`) and attach the full output.\n",
      "Cause: 'arguments' object has no attribute 'posonlyargs'\n",
      "To silence this warning, decorate the function with @tf.autograph.experimental.do_not_convert\n",
      "WARNING: AutoGraph could not transform <function Model.make_predict_function.<locals>.predict_function at 0x000001AE26355C18> and will run it as-is.\n",
      "Please report this to the TensorFlow team. When filing the bug, set the verbosity to 10 (on Linux, `export AUTOGRAPH_VERBOSITY=10`) and attach the full output.\n",
      "Cause: 'arguments' object has no attribute 'posonlyargs'\n",
      "To silence this warning, decorate the function with @tf.autograph.experimental.do_not_convert\n"
     ]
    }
   ],
   "source": [
    "pred = model.predict(test_inputs)"
   ]
  },
  {
   "cell_type": "code",
   "execution_count": 22,
   "metadata": {
    "colab": {
     "base_uri": "https://localhost:8080/",
     "height": 284
    },
    "id": "7ltKvfdQ39le",
    "outputId": "91763195-535e-4a41-adf1-76862cbca271"
   },
   "outputs": [
    {
     "data": {
      "text/plain": [
       "<matplotlib.legend.Legend at 0x1ae28e20dc8>"
      ]
     },
     "execution_count": 22,
     "metadata": {},
     "output_type": "execute_result"
    },
    {
     "data": {
      "image/png": "[encoded data removed]",
      "text/plain": [
       "<Figure size 432x288 with 1 Axes>"
      ]
     },
     "metadata": {
      "needs_background": "light"
     },
     "output_type": "display_data"
    }
   ],
   "source": [
    "import matplotlib.pyplot as plt\n",
    "\n",
    "plt.plot(test_targets, label = 'true')\n",
    "plt.plot(pred, label = 'prediction')\n",
    "plt.legend()"
   ]
  },
  {
   "cell_type": "code",
   "execution_count": 23,
   "metadata": {
    "colab": {
     "base_uri": "https://localhost:8080/",
     "height": 284
    },
    "id": "loxm26Nv4GCY",
    "outputId": "5dba1e0b-7ab7-44c3-94ec-6a23aee888e4"
   },
   "outputs": [
    {
     "data": {
      "text/plain": [
       "<matplotlib.legend.Legend at 0x1abb3c11148>"
      ]
     },
     "execution_count": 23,
     "metadata": {},
     "output_type": "execute_result"
    },
    {
     "data": {
      "image/png": "[encoded data removed]",
      "text/plain": [
       "<Figure size 432x288 with 1 Axes>"
      ]
     },
     "metadata": {
      "needs_background": "light"
     },
     "output_type": "display_data"
    }
   ],
   "source": [
    "plt.plot(test_targets[-30:], label = 'true')\n",
    "plt.plot(pred[-30:], label = 'prediction')\n",
    "plt.legend()"
   ]
  },
  {
   "cell_type": "markdown",
   "metadata": {
    "id": "WSXhH5k767f-"
   },
   "source": [
    "단순히 Lagging되는 효과이며, 예측이라고 하기 어렵다. \n",
    "따라서 사용에 주의가 필요함"
   ]
  },
  {
   "cell_type": "code",
   "execution_count": null,
   "metadata": {
    "id": "MPc3R4vb66FX"
   },
   "outputs": [],
   "source": []
  }
 ],
 "metadata": {
  "colab": {
   "authorship_tag": "ABX9TyPhrHJ8ma3G9bp8EUjh3pqP",
   "collapsed_sections": [],
   "include_colab_link": true,
   "name": "20_2_Time Series.ipynb",
   "provenance": []
  },
  "kernelspec": {
   "display_name": "Python 3",
   "language": "python",
   "name": "python3"
  },
  "language_info": {
   "codemirror_mode": {
    "name": "ipython",
    "version": 3
   },
   "file_extension": ".py",
   "mimetype": "text/x-python",
   "name": "python",
   "nbconvert_exporter": "python",
   "pygments_lexer": "ipython3",
   "version": "3.7.9"
  }
 },
 "nbformat": 4,
 "nbformat_minor": 1
}
