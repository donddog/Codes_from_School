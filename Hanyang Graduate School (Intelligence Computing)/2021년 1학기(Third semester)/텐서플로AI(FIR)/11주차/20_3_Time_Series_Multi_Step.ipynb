{
 "cells": [
  {
   "cell_type": "markdown",
   "metadata": {
    "colab_type": "text",
    "id": "view-in-github"
   },
   "source": [
    "<a href=\"https://colab.research.google.com/github/joohoshin/TensorflowAI/blob/main/20_3_Time_Series_Multi_Step.ipynb\" target=\"_parent\"><img src=\"https://colab.research.google.com/assets/colab-badge.svg\" alt=\"Open In Colab\"/></a>"
   ]
  },
  {
   "cell_type": "markdown",
   "metadata": {
    "id": "fbg3tMG3vhD-"
   },
   "source": [
    "한번에 여러 기간을 예측해봅시다. \n",
    "\n",
    "https://www.tensorflow.org/tutorials/structured_data/time_series\n"
   ]
  },
  {
   "cell_type": "code",
   "execution_count": 1,
   "metadata": {
    "id": "DfyMEcBRveUb"
   },
   "outputs": [],
   "source": [
    "import numpy as np\n",
    "import tensorflow as tf\n",
    "import warnings\n",
    "\n",
    "from tensorflow import keras\n",
    "from tensorflow.keras import layers\n",
    "\n",
    "warnings.filterwarnings(action='ignore')"
   ]
  },
  {
   "cell_type": "code",
   "execution_count": 2,
   "metadata": {
    "id": "PBajZfLxvhgN"
   },
   "outputs": [],
   "source": [
    "import pandas_datareader.data as web\n",
    "\n",
    "df = web.DataReader('005930', 'naver', start='2010-01-01', end='2020-12-31')"
   ]
  },
  {
   "cell_type": "code",
   "execution_count": 3,
   "metadata": {
    "colab": {
     "base_uri": "https://localhost:8080/",
     "height": 446
    },
    "id": "7tfWHyQ-wgug",
    "outputId": "34bbb48d-5574-4027-c2e2-0294b18b30f9"
   },
   "outputs": [
    {
     "data": {
      "text/html": [
       "<div>\n",
       "<style scoped>\n",
       "    .dataframe tbody tr th:only-of-type {\n",
       "        vertical-align: middle;\n",
       "    }\n",
       "\n",
       "    .dataframe tbody tr th {\n",
       "        vertical-align: top;\n",
       "    }\n",
       "\n",
       "    .dataframe thead th {\n",
       "        text-align: right;\n",
       "    }\n",
       "</style>\n",
       "<table border=\"1\" class=\"dataframe\">\n",
       "  <thead>\n",
       "    <tr style=\"text-align: right;\">\n",
       "      <th></th>\n",
       "      <th>Open</th>\n",
       "      <th>High</th>\n",
       "      <th>Low</th>\n",
       "      <th>Close</th>\n",
       "      <th>Volume</th>\n",
       "    </tr>\n",
       "    <tr>\n",
       "      <th>Date</th>\n",
       "      <th></th>\n",
       "      <th></th>\n",
       "      <th></th>\n",
       "      <th></th>\n",
       "      <th></th>\n",
       "    </tr>\n",
       "  </thead>\n",
       "  <tbody>\n",
       "    <tr>\n",
       "      <th>2010-01-04</th>\n",
       "      <td>16060</td>\n",
       "      <td>16180</td>\n",
       "      <td>16000</td>\n",
       "      <td>16180</td>\n",
       "      <td>239271</td>\n",
       "    </tr>\n",
       "    <tr>\n",
       "      <th>2010-01-05</th>\n",
       "      <td>16520</td>\n",
       "      <td>16580</td>\n",
       "      <td>16300</td>\n",
       "      <td>16440</td>\n",
       "      <td>559219</td>\n",
       "    </tr>\n",
       "    <tr>\n",
       "      <th>2010-01-06</th>\n",
       "      <td>16580</td>\n",
       "      <td>16820</td>\n",
       "      <td>16520</td>\n",
       "      <td>16820</td>\n",
       "      <td>459755</td>\n",
       "    </tr>\n",
       "    <tr>\n",
       "      <th>2010-01-07</th>\n",
       "      <td>16820</td>\n",
       "      <td>16820</td>\n",
       "      <td>16260</td>\n",
       "      <td>16260</td>\n",
       "      <td>443237</td>\n",
       "    </tr>\n",
       "    <tr>\n",
       "      <th>2010-01-08</th>\n",
       "      <td>16400</td>\n",
       "      <td>16420</td>\n",
       "      <td>16120</td>\n",
       "      <td>16420</td>\n",
       "      <td>295798</td>\n",
       "    </tr>\n",
       "    <tr>\n",
       "      <th>...</th>\n",
       "      <td>...</td>\n",
       "      <td>...</td>\n",
       "      <td>...</td>\n",
       "      <td>...</td>\n",
       "      <td>...</td>\n",
       "    </tr>\n",
       "    <tr>\n",
       "      <th>2020-12-23</th>\n",
       "      <td>72400</td>\n",
       "      <td>74000</td>\n",
       "      <td>72300</td>\n",
       "      <td>73900</td>\n",
       "      <td>19411326</td>\n",
       "    </tr>\n",
       "    <tr>\n",
       "      <th>2020-12-24</th>\n",
       "      <td>74100</td>\n",
       "      <td>78800</td>\n",
       "      <td>74000</td>\n",
       "      <td>77800</td>\n",
       "      <td>32502870</td>\n",
       "    </tr>\n",
       "    <tr>\n",
       "      <th>2020-12-28</th>\n",
       "      <td>79000</td>\n",
       "      <td>80100</td>\n",
       "      <td>78200</td>\n",
       "      <td>78700</td>\n",
       "      <td>40085044</td>\n",
       "    </tr>\n",
       "    <tr>\n",
       "      <th>2020-12-29</th>\n",
       "      <td>78800</td>\n",
       "      <td>78900</td>\n",
       "      <td>77300</td>\n",
       "      <td>78300</td>\n",
       "      <td>30339449</td>\n",
       "    </tr>\n",
       "    <tr>\n",
       "      <th>2020-12-30</th>\n",
       "      <td>77400</td>\n",
       "      <td>81300</td>\n",
       "      <td>77300</td>\n",
       "      <td>81000</td>\n",
       "      <td>29417421</td>\n",
       "    </tr>\n",
       "  </tbody>\n",
       "</table>\n",
       "<p>2714 rows × 5 columns</p>\n",
       "</div>"
      ],
      "text/plain": [
       "             Open   High    Low  Close    Volume\n",
       "Date                                            \n",
       "2010-01-04  16060  16180  16000  16180    239271\n",
       "2010-01-05  16520  16580  16300  16440    559219\n",
       "2010-01-06  16580  16820  16520  16820    459755\n",
       "2010-01-07  16820  16820  16260  16260    443237\n",
       "2010-01-08  16400  16420  16120  16420    295798\n",
       "...           ...    ...    ...    ...       ...\n",
       "2020-12-23  72400  74000  72300  73900  19411326\n",
       "2020-12-24  74100  78800  74000  77800  32502870\n",
       "2020-12-28  79000  80100  78200  78700  40085044\n",
       "2020-12-29  78800  78900  77300  78300  30339449\n",
       "2020-12-30  77400  81300  77300  81000  29417421\n",
       "\n",
       "[2714 rows x 5 columns]"
      ]
     },
     "execution_count": 3,
     "metadata": {},
     "output_type": "execute_result"
    }
   ],
   "source": [
    "df"
   ]
  },
  {
   "cell_type": "code",
   "execution_count": 4,
   "metadata": {
    "colab": {
     "base_uri": "https://localhost:8080/"
    },
    "id": "MZ9-PpH1v4tL",
    "outputId": "af5a46ce-d0f0-41e1-85cc-770ff00cbf49"
   },
   "outputs": [
    {
     "data": {
      "text/plain": [
       "Open      object\n",
       "High      object\n",
       "Low       object\n",
       "Close     object\n",
       "Volume    object\n",
       "dtype: object"
      ]
     },
     "execution_count": 4,
     "metadata": {},
     "output_type": "execute_result"
    }
   ],
   "source": [
    "df.dtypes"
   ]
  },
  {
   "cell_type": "code",
   "execution_count": 5,
   "metadata": {
    "id": "Tv_9LZov58hY"
   },
   "outputs": [],
   "source": [
    "import pandas as pd\n",
    "\n",
    "df = df.apply(pd.to_numeric)"
   ]
  },
  {
   "cell_type": "code",
   "execution_count": 6,
   "metadata": {
    "colab": {
     "base_uri": "https://localhost:8080/"
    },
    "id": "ii41J_OT6A3y",
    "outputId": "0c66432b-104d-4883-b810-8ddd0ce5f677"
   },
   "outputs": [
    {
     "data": {
      "text/plain": [
       "Open      int64\n",
       "High      int64\n",
       "Low       int64\n",
       "Close     int64\n",
       "Volume    int64\n",
       "dtype: object"
      ]
     },
     "execution_count": 6,
     "metadata": {},
     "output_type": "execute_result"
    }
   ],
   "source": [
    "df.dtypes"
   ]
  },
  {
   "cell_type": "code",
   "execution_count": 7,
   "metadata": {
    "colab": {
     "base_uri": "https://localhost:8080/",
     "height": 288
    },
    "id": "YpFIEjum6EU0",
    "outputId": "4f03ded6-25ef-4ea1-b455-64e37a9e3352"
   },
   "outputs": [
    {
     "data": {
      "text/plain": [
       "<AxesSubplot:xlabel='Date'>"
      ]
     },
     "execution_count": 7,
     "metadata": {},
     "output_type": "execute_result"
    },
    {
     "data": {
      "image/png": "[encoded data removed]",
      "text/plain": [
       "<Figure size 432x288 with 1 Axes>"
      ]
     },
     "metadata": {
      "needs_background": "light"
     },
     "output_type": "display_data"
    }
   ],
   "source": [
    "df.Close.plot()"
   ]
  },
  {
   "cell_type": "code",
   "execution_count": 8,
   "metadata": {
    "id": "eiLlhs0BwF6t"
   },
   "outputs": [],
   "source": [
    "TEST_SIZE = 300\n",
    "\n",
    "train = df.Close[:-TEST_SIZE]\n",
    "test = df.Close[-TEST_SIZE:]"
   ]
  },
  {
   "cell_type": "code",
   "execution_count": 9,
   "metadata": {
    "id": "a3-NZXr4zUiy"
   },
   "outputs": [],
   "source": [
    "import numpy as np\n",
    "\n",
    "window_size = 20\n",
    "pred_size = 5\n",
    "\n",
    "inputs = []\n",
    "targets = []\n",
    "\n",
    "for i in range(len(train) - window_size-pred_size):\n",
    "    inputs.append(np.array(train[i:i+window_size]))\n",
    "    targets.append(np.array(train[i+window_size:i+window_size+pred_size]))"
   ]
  },
  {
   "cell_type": "code",
   "execution_count": 10,
   "metadata": {
    "colab": {
     "base_uri": "https://localhost:8080/"
    },
    "id": "BwoRwcWUztwP",
    "outputId": "f203c01c-539a-4b09-de12-80d3fd9dc748"
   },
   "outputs": [
    {
     "data": {
      "text/plain": [
       "array([16180, 16440, 16820, 16260, 16420, 15940, 16180, 15940, 16540,\n",
       "       16840, 16860, 16460, 16680, 17000, 16500, 16840, 16300, 16000,\n",
       "       16160, 15680], dtype=int64)"
      ]
     },
     "execution_count": 10,
     "metadata": {},
     "output_type": "execute_result"
    }
   ],
   "source": [
    "inputs[0]"
   ]
  },
  {
   "cell_type": "code",
   "execution_count": 11,
   "metadata": {
    "colab": {
     "base_uri": "https://localhost:8080/"
    },
    "id": "vI_K2YfY0MpH",
    "outputId": "401e1a83-2e19-415e-a554-31184a99c2f0"
   },
   "outputs": [
    {
     "data": {
      "text/plain": [
       "array([15540, 15440, 15540, 15520, 15000], dtype=int64)"
      ]
     },
     "execution_count": 11,
     "metadata": {},
     "output_type": "execute_result"
    }
   ],
   "source": [
    "targets[0]"
   ]
  },
  {
   "cell_type": "code",
   "execution_count": 12,
   "metadata": {
    "colab": {
     "base_uri": "https://localhost:8080/",
     "height": 999
    },
    "id": "EGSauxhC71c7",
    "outputId": "4d171c84-7bb2-412a-e09e-e92b01f1747d"
   },
   "outputs": [
    {
     "data": {
      "text/html": [
       "<div>\n",
       "<style scoped>\n",
       "    .dataframe tbody tr th:only-of-type {\n",
       "        vertical-align: middle;\n",
       "    }\n",
       "\n",
       "    .dataframe tbody tr th {\n",
       "        vertical-align: top;\n",
       "    }\n",
       "\n",
       "    .dataframe thead th {\n",
       "        text-align: right;\n",
       "    }\n",
       "</style>\n",
       "<table border=\"1\" class=\"dataframe\">\n",
       "  <thead>\n",
       "    <tr style=\"text-align: right;\">\n",
       "      <th></th>\n",
       "      <th>Open</th>\n",
       "      <th>High</th>\n",
       "      <th>Low</th>\n",
       "      <th>Close</th>\n",
       "      <th>Volume</th>\n",
       "    </tr>\n",
       "    <tr>\n",
       "      <th>Date</th>\n",
       "      <th></th>\n",
       "      <th></th>\n",
       "      <th></th>\n",
       "      <th></th>\n",
       "      <th></th>\n",
       "    </tr>\n",
       "  </thead>\n",
       "  <tbody>\n",
       "    <tr>\n",
       "      <th>2010-01-04</th>\n",
       "      <td>16060</td>\n",
       "      <td>16180</td>\n",
       "      <td>16000</td>\n",
       "      <td>16180</td>\n",
       "      <td>239271</td>\n",
       "    </tr>\n",
       "    <tr>\n",
       "      <th>2010-01-05</th>\n",
       "      <td>16520</td>\n",
       "      <td>16580</td>\n",
       "      <td>16300</td>\n",
       "      <td>16440</td>\n",
       "      <td>559219</td>\n",
       "    </tr>\n",
       "    <tr>\n",
       "      <th>2010-01-06</th>\n",
       "      <td>16580</td>\n",
       "      <td>16820</td>\n",
       "      <td>16520</td>\n",
       "      <td>16820</td>\n",
       "      <td>459755</td>\n",
       "    </tr>\n",
       "    <tr>\n",
       "      <th>2010-01-07</th>\n",
       "      <td>16820</td>\n",
       "      <td>16820</td>\n",
       "      <td>16260</td>\n",
       "      <td>16260</td>\n",
       "      <td>443237</td>\n",
       "    </tr>\n",
       "    <tr>\n",
       "      <th>2010-01-08</th>\n",
       "      <td>16400</td>\n",
       "      <td>16420</td>\n",
       "      <td>16120</td>\n",
       "      <td>16420</td>\n",
       "      <td>295798</td>\n",
       "    </tr>\n",
       "    <tr>\n",
       "      <th>2010-01-11</th>\n",
       "      <td>16420</td>\n",
       "      <td>16460</td>\n",
       "      <td>15940</td>\n",
       "      <td>15940</td>\n",
       "      <td>398901</td>\n",
       "    </tr>\n",
       "    <tr>\n",
       "      <th>2010-01-12</th>\n",
       "      <td>15940</td>\n",
       "      <td>16180</td>\n",
       "      <td>15900</td>\n",
       "      <td>16180</td>\n",
       "      <td>384460</td>\n",
       "    </tr>\n",
       "    <tr>\n",
       "      <th>2010-01-13</th>\n",
       "      <td>16100</td>\n",
       "      <td>16119</td>\n",
       "      <td>15940</td>\n",
       "      <td>15940</td>\n",
       "      <td>267619</td>\n",
       "    </tr>\n",
       "    <tr>\n",
       "      <th>2010-01-14</th>\n",
       "      <td>16120</td>\n",
       "      <td>16620</td>\n",
       "      <td>16000</td>\n",
       "      <td>16540</td>\n",
       "      <td>532705</td>\n",
       "    </tr>\n",
       "    <tr>\n",
       "      <th>2010-01-15</th>\n",
       "      <td>16640</td>\n",
       "      <td>16860</td>\n",
       "      <td>16580</td>\n",
       "      <td>16840</td>\n",
       "      <td>398401</td>\n",
       "    </tr>\n",
       "    <tr>\n",
       "      <th>2010-01-18</th>\n",
       "      <td>16800</td>\n",
       "      <td>16920</td>\n",
       "      <td>16560</td>\n",
       "      <td>16860</td>\n",
       "      <td>261691</td>\n",
       "    </tr>\n",
       "    <tr>\n",
       "      <th>2010-01-19</th>\n",
       "      <td>17000</td>\n",
       "      <td>17000</td>\n",
       "      <td>16440</td>\n",
       "      <td>16460</td>\n",
       "      <td>241308</td>\n",
       "    </tr>\n",
       "    <tr>\n",
       "      <th>2010-01-20</th>\n",
       "      <td>16460</td>\n",
       "      <td>16740</td>\n",
       "      <td>16460</td>\n",
       "      <td>16680</td>\n",
       "      <td>384306</td>\n",
       "    </tr>\n",
       "    <tr>\n",
       "      <th>2010-01-21</th>\n",
       "      <td>16400</td>\n",
       "      <td>17000</td>\n",
       "      <td>16400</td>\n",
       "      <td>17000</td>\n",
       "      <td>340148</td>\n",
       "    </tr>\n",
       "    <tr>\n",
       "      <th>2010-01-22</th>\n",
       "      <td>16800</td>\n",
       "      <td>16900</td>\n",
       "      <td>16360</td>\n",
       "      <td>16500</td>\n",
       "      <td>470536</td>\n",
       "    </tr>\n",
       "    <tr>\n",
       "      <th>2010-01-25</th>\n",
       "      <td>16320</td>\n",
       "      <td>16960</td>\n",
       "      <td>16300</td>\n",
       "      <td>16840</td>\n",
       "      <td>412797</td>\n",
       "    </tr>\n",
       "    <tr>\n",
       "      <th>2010-01-26</th>\n",
       "      <td>16920</td>\n",
       "      <td>16920</td>\n",
       "      <td>16240</td>\n",
       "      <td>16300</td>\n",
       "      <td>375210</td>\n",
       "    </tr>\n",
       "    <tr>\n",
       "      <th>2010-01-27</th>\n",
       "      <td>16300</td>\n",
       "      <td>16340</td>\n",
       "      <td>16000</td>\n",
       "      <td>16000</td>\n",
       "      <td>370760</td>\n",
       "    </tr>\n",
       "    <tr>\n",
       "      <th>2010-01-28</th>\n",
       "      <td>16160</td>\n",
       "      <td>16300</td>\n",
       "      <td>16060</td>\n",
       "      <td>16160</td>\n",
       "      <td>276614</td>\n",
       "    </tr>\n",
       "    <tr>\n",
       "      <th>2010-01-29</th>\n",
       "      <td>16000</td>\n",
       "      <td>16019</td>\n",
       "      <td>15600</td>\n",
       "      <td>15680</td>\n",
       "      <td>457285</td>\n",
       "    </tr>\n",
       "    <tr>\n",
       "      <th>2010-02-01</th>\n",
       "      <td>15679</td>\n",
       "      <td>15700</td>\n",
       "      <td>15300</td>\n",
       "      <td>15540</td>\n",
       "      <td>501042</td>\n",
       "    </tr>\n",
       "    <tr>\n",
       "      <th>2010-02-02</th>\n",
       "      <td>15800</td>\n",
       "      <td>15800</td>\n",
       "      <td>15400</td>\n",
       "      <td>15440</td>\n",
       "      <td>393803</td>\n",
       "    </tr>\n",
       "    <tr>\n",
       "      <th>2010-02-03</th>\n",
       "      <td>15640</td>\n",
       "      <td>15700</td>\n",
       "      <td>15360</td>\n",
       "      <td>15540</td>\n",
       "      <td>330235</td>\n",
       "    </tr>\n",
       "    <tr>\n",
       "      <th>2010-02-04</th>\n",
       "      <td>15500</td>\n",
       "      <td>15660</td>\n",
       "      <td>15440</td>\n",
       "      <td>15520</td>\n",
       "      <td>239799</td>\n",
       "    </tr>\n",
       "    <tr>\n",
       "      <th>2010-02-05</th>\n",
       "      <td>15160</td>\n",
       "      <td>15220</td>\n",
       "      <td>14940</td>\n",
       "      <td>15000</td>\n",
       "      <td>515034</td>\n",
       "    </tr>\n",
       "    <tr>\n",
       "      <th>2010-02-08</th>\n",
       "      <td>14940</td>\n",
       "      <td>15080</td>\n",
       "      <td>14820</td>\n",
       "      <td>14960</td>\n",
       "      <td>439608</td>\n",
       "    </tr>\n",
       "    <tr>\n",
       "      <th>2010-02-09</th>\n",
       "      <td>14959</td>\n",
       "      <td>15220</td>\n",
       "      <td>14840</td>\n",
       "      <td>15220</td>\n",
       "      <td>337459</td>\n",
       "    </tr>\n",
       "    <tr>\n",
       "      <th>2010-02-10</th>\n",
       "      <td>15260</td>\n",
       "      <td>15280</td>\n",
       "      <td>15039</td>\n",
       "      <td>15100</td>\n",
       "      <td>263846</td>\n",
       "    </tr>\n",
       "    <tr>\n",
       "      <th>2010-02-11</th>\n",
       "      <td>15140</td>\n",
       "      <td>15300</td>\n",
       "      <td>15120</td>\n",
       "      <td>15260</td>\n",
       "      <td>265050</td>\n",
       "    </tr>\n",
       "    <tr>\n",
       "      <th>2010-02-12</th>\n",
       "      <td>15340</td>\n",
       "      <td>15340</td>\n",
       "      <td>14900</td>\n",
       "      <td>15000</td>\n",
       "      <td>458574</td>\n",
       "    </tr>\n",
       "  </tbody>\n",
       "</table>\n",
       "</div>"
      ],
      "text/plain": [
       "             Open   High    Low  Close  Volume\n",
       "Date                                          \n",
       "2010-01-04  16060  16180  16000  16180  239271\n",
       "2010-01-05  16520  16580  16300  16440  559219\n",
       "2010-01-06  16580  16820  16520  16820  459755\n",
       "2010-01-07  16820  16820  16260  16260  443237\n",
       "2010-01-08  16400  16420  16120  16420  295798\n",
       "2010-01-11  16420  16460  15940  15940  398901\n",
       "2010-01-12  15940  16180  15900  16180  384460\n",
       "2010-01-13  16100  16119  15940  15940  267619\n",
       "2010-01-14  16120  16620  16000  16540  532705\n",
       "2010-01-15  16640  16860  16580  16840  398401\n",
       "2010-01-18  16800  16920  16560  16860  261691\n",
       "2010-01-19  17000  17000  16440  16460  241308\n",
       "2010-01-20  16460  16740  16460  16680  384306\n",
       "2010-01-21  16400  17000  16400  17000  340148\n",
       "2010-01-22  16800  16900  16360  16500  470536\n",
       "2010-01-25  16320  16960  16300  16840  412797\n",
       "2010-01-26  16920  16920  16240  16300  375210\n",
       "2010-01-27  16300  16340  16000  16000  370760\n",
       "2010-01-28  16160  16300  16060  16160  276614\n",
       "2010-01-29  16000  16019  15600  15680  457285\n",
       "2010-02-01  15679  15700  15300  15540  501042\n",
       "2010-02-02  15800  15800  15400  15440  393803\n",
       "2010-02-03  15640  15700  15360  15540  330235\n",
       "2010-02-04  15500  15660  15440  15520  239799\n",
       "2010-02-05  15160  15220  14940  15000  515034\n",
       "2010-02-08  14940  15080  14820  14960  439608\n",
       "2010-02-09  14959  15220  14840  15220  337459\n",
       "2010-02-10  15260  15280  15039  15100  263846\n",
       "2010-02-11  15140  15300  15120  15260  265050\n",
       "2010-02-12  15340  15340  14900  15000  458574"
      ]
     },
     "execution_count": 12,
     "metadata": {},
     "output_type": "execute_result"
    }
   ],
   "source": [
    "df.head(30)"
   ]
  },
  {
   "cell_type": "code",
   "execution_count": 13,
   "metadata": {
    "id": "Z7f39e4V0rHI"
   },
   "outputs": [],
   "source": [
    "inputs = np.array(inputs)\n",
    "targets = np.array(targets)"
   ]
  },
  {
   "cell_type": "code",
   "execution_count": 14,
   "metadata": {
    "colab": {
     "base_uri": "https://localhost:8080/"
    },
    "id": "axIBFfzX0hKC",
    "outputId": "05a96665-5b07-425e-8fe4-daed9ad3fb95"
   },
   "outputs": [
    {
     "name": "stdout",
     "output_type": "stream",
     "text": [
      "(2389, 20)\n",
      "(2389, 5)\n"
     ]
    }
   ],
   "source": [
    "print(inputs.shape)\n",
    "print(targets.shape)"
   ]
  },
  {
   "cell_type": "code",
   "execution_count": 15,
   "metadata": {
    "id": "pp6yeRgJ2O1m"
   },
   "outputs": [],
   "source": [
    "window_size = 20\n",
    "pred_size = 5\n",
    "\n",
    "test_inputs = []\n",
    "test_targets = []\n",
    "\n",
    "for i in range(len(test) - window_size - pred_size):\n",
    "    test_inputs.append(np.array(test[i:i+window_size]))\n",
    "    test_targets.append(np.array(test[i+window_size:i+window_size+pred_size]))\n",
    "    \n",
    "test_inputs=np.array(test_inputs)\n",
    "test_targets = np.array(test_targets)"
   ]
  },
  {
   "cell_type": "code",
   "execution_count": 16,
   "metadata": {
    "id": "IfQrI9iE3IdD"
   },
   "outputs": [],
   "source": [
    "test_inputs = np.expand_dims(test_inputs,2)"
   ]
  },
  {
   "cell_type": "code",
   "execution_count": 17,
   "metadata": {
    "colab": {
     "base_uri": "https://localhost:8080/"
    },
    "id": "Mer1Y4jJ3OQU",
    "outputId": "cdf66318-3b06-435e-a328-0a20a52e340e"
   },
   "outputs": [
    {
     "data": {
      "text/plain": [
       "(275, 20, 1)"
      ]
     },
     "execution_count": 17,
     "metadata": {},
     "output_type": "execute_result"
    }
   ],
   "source": [
    "test_inputs.shape"
   ]
  },
  {
   "cell_type": "code",
   "execution_count": 18,
   "metadata": {
    "colab": {
     "base_uri": "https://localhost:8080/"
    },
    "id": "xvTQXpr0_qxw",
    "outputId": "44c7f960-fee6-46df-9634-57698fceb4e8"
   },
   "outputs": [
    {
     "data": {
      "text/plain": [
       "(275, 5)"
      ]
     },
     "execution_count": 18,
     "metadata": {},
     "output_type": "execute_result"
    }
   ],
   "source": [
    "test_targets.shape"
   ]
  },
  {
   "cell_type": "code",
   "execution_count": 19,
   "metadata": {
    "id": "jXDOuOuF3Qr7"
   },
   "outputs": [],
   "source": [
    "inputs = np.expand_dims(inputs,2)\n",
    "targets = np.expand_dims(targets,2)\n",
    "test_targets = np.expand_dims(test_targets,2)"
   ]
  },
  {
   "cell_type": "code",
   "execution_count": 20,
   "metadata": {
    "colab": {
     "base_uri": "https://localhost:8080/"
    },
    "id": "01wQ4gAR_kEC",
    "outputId": "ba3275c0-1206-483f-ac58-a2f21af3956f"
   },
   "outputs": [
    {
     "data": {
      "text/plain": [
       "(275, 5, 1)"
      ]
     },
     "execution_count": 20,
     "metadata": {},
     "output_type": "execute_result"
    }
   ],
   "source": [
    "test_targets.shape"
   ]
  },
  {
   "cell_type": "code",
   "execution_count": 21,
   "metadata": {
    "id": "NKoZ-kp60RSc"
   },
   "outputs": [],
   "source": [
    "import tensorflow as tf\n",
    "from tensorflow import keras\n",
    "from tensorflow.keras import layers\n",
    "\n",
    "model = tf.keras.Sequential()\n",
    "model.add(layers.SimpleRNN(20, \n",
    "                           input_shape=(20,1),\n",
    "                           activation='relu', \n",
    "                           return_sequences=False)\n",
    "          )\n",
    "\n",
    "model.add(layers.Dense(5))\n",
    "model.add(layers.Reshape([5,1]))"
   ]
  },
  {
   "cell_type": "code",
   "execution_count": 22,
   "metadata": {
    "colab": {
     "base_uri": "https://localhost:8080/"
    },
    "id": "RFgOjRIe06gr",
    "outputId": "6ab69a33-6a24-4a47-f88c-115742d63428"
   },
   "outputs": [
    {
     "name": "stdout",
     "output_type": "stream",
     "text": [
      "Model: \"sequential\"\n",
      "_________________________________________________________________\n",
      "Layer (type)                 Output Shape              Param #   \n",
      "=================================================================\n",
      "simple_rnn (SimpleRNN)       (None, 20)                440       \n",
      "_________________________________________________________________\n",
      "dense (Dense)                (None, 5)                 105       \n",
      "_________________________________________________________________\n",
      "reshape (Reshape)            (None, 5, 1)              0         \n",
      "=================================================================\n",
      "Total params: 545\n",
      "Trainable params: 545\n",
      "Non-trainable params: 0\n",
      "_________________________________________________________________\n"
     ]
    }
   ],
   "source": [
    "model.summary()"
   ]
  },
  {
   "cell_type": "code",
   "execution_count": 23,
   "metadata": {
    "colab": {
     "base_uri": "https://localhost:8080/"
    },
    "id": "F5sfZvUd1qS7",
    "outputId": "91ca19a3-2169-4ea5-83c9-61c5ca993e2b"
   },
   "outputs": [
    {
     "name": "stdout",
     "output_type": "stream",
     "text": [
      "Epoch 1/10\n",
      "WARNING:tensorflow:AutoGraph could not transform <function Model.make_train_function.<locals>.train_function at 0x000001BD7CF1D288> and will run it as-is.\n",
      "Please report this to the TensorFlow team. When filing the bug, set the verbosity to 10 (on Linux, `export AUTOGRAPH_VERBOSITY=10`) and attach the full output.\n",
      "Cause: 'arguments' object has no attribute 'posonlyargs'\n",
      "To silence this warning, decorate the function with @tf.autograph.experimental.do_not_convert\n",
      "WARNING: AutoGraph could not transform <function Model.make_train_function.<locals>.train_function at 0x000001BD7CF1D288> and will run it as-is.\n",
      "Please report this to the TensorFlow team. When filing the bug, set the verbosity to 10 (on Linux, `export AUTOGRAPH_VERBOSITY=10`) and attach the full output.\n",
      "Cause: 'arguments' object has no attribute 'posonlyargs'\n",
      "To silence this warning, decorate the function with @tf.autograph.experimental.do_not_convert\n",
      "71/75 [===========================>..] - ETA: 0s - loss: 295195648.0000WARNING:tensorflow:AutoGraph could not transform <function Model.make_test_function.<locals>.test_function at 0x000001BD6CB021F8> and will run it as-is.\n",
      "Please report this to the TensorFlow team. When filing the bug, set the verbosity to 10 (on Linux, `export AUTOGRAPH_VERBOSITY=10`) and attach the full output.\n",
      "Cause: 'arguments' object has no attribute 'posonlyargs'\n",
      "To silence this warning, decorate the function with @tf.autograph.experimental.do_not_convert\n",
      "WARNING: AutoGraph could not transform <function Model.make_test_function.<locals>.test_function at 0x000001BD6CB021F8> and will run it as-is.\n",
      "Please report this to the TensorFlow team. When filing the bug, set the verbosity to 10 (on Linux, `export AUTOGRAPH_VERBOSITY=10`) and attach the full output.\n",
      "Cause: 'arguments' object has no attribute 'posonlyargs'\n",
      "To silence this warning, decorate the function with @tf.autograph.experimental.do_not_convert\n",
      "75/75 [==============================] - 1s 14ms/step - loss: 280892896.0000 - val_loss: 10551316.0000\n",
      "Epoch 2/10\n",
      "75/75 [==============================] - 1s 12ms/step - loss: 1617394.6250 - val_loss: 6727017.0000\n",
      "Epoch 3/10\n",
      "75/75 [==============================] - 1s 12ms/step - loss: 1291383.7500 - val_loss: 6506101.5000\n",
      "Epoch 4/10\n",
      "75/75 [==============================] - 1s 12ms/step - loss: 1324167.3750 - val_loss: 6367163.0000\n",
      "Epoch 5/10\n",
      "75/75 [==============================] - 1s 12ms/step - loss: 1261231.6250 - val_loss: 6256000.5000\n",
      "Epoch 6/10\n",
      "75/75 [==============================] - 1s 12ms/step - loss: 1291320.8750 - val_loss: 6378845.0000\n",
      "Epoch 7/10\n",
      "75/75 [==============================] - 1s 12ms/step - loss: 1424291.2500 - val_loss: 6606867.0000\n",
      "Epoch 8/10\n",
      "75/75 [==============================] - 1s 12ms/step - loss: 1252477.0000 - val_loss: 6343483.0000\n",
      "Epoch 9/10\n",
      "75/75 [==============================] - 1s 12ms/step - loss: 1302258.3750 - val_loss: 6562627.5000\n",
      "Epoch 10/10\n",
      "75/75 [==============================] - 1s 12ms/step - loss: 1227530.1250 - val_loss: 7424223.0000\n"
     ]
    }
   ],
   "source": [
    "model.compile(loss='mean_squared_error', optimizer='adam')\n",
    "\n",
    "history = model.fit(inputs, \n",
    "                    targets, \n",
    "                    epochs=10, \n",
    "                    batch_size=32,\n",
    "                    validation_data=(test_inputs, test_targets))"
   ]
  },
  {
   "cell_type": "code",
   "execution_count": 24,
   "metadata": {
    "id": "VxXqqW5m2gY6"
   },
   "outputs": [
    {
     "name": "stdout",
     "output_type": "stream",
     "text": [
      "WARNING:tensorflow:AutoGraph could not transform <function Model.make_predict_function.<locals>.predict_function at 0x000001BD6CB64168> and will run it as-is.\n",
      "Please report this to the TensorFlow team. When filing the bug, set the verbosity to 10 (on Linux, `export AUTOGRAPH_VERBOSITY=10`) and attach the full output.\n",
      "Cause: 'arguments' object has no attribute 'posonlyargs'\n",
      "To silence this warning, decorate the function with @tf.autograph.experimental.do_not_convert\n",
      "WARNING: AutoGraph could not transform <function Model.make_predict_function.<locals>.predict_function at 0x000001BD6CB64168> and will run it as-is.\n",
      "Please report this to the TensorFlow team. When filing the bug, set the verbosity to 10 (on Linux, `export AUTOGRAPH_VERBOSITY=10`) and attach the full output.\n",
      "Cause: 'arguments' object has no attribute 'posonlyargs'\n",
      "To silence this warning, decorate the function with @tf.autograph.experimental.do_not_convert\n"
     ]
    }
   ],
   "source": [
    "pred = model.predict(test_inputs)"
   ]
  },
  {
   "cell_type": "code",
   "execution_count": 25,
   "metadata": {
    "colab": {
     "base_uri": "https://localhost:8080/"
    },
    "id": "ZAMU2frDAI5v",
    "outputId": "1259888e-b725-42d1-c990-2dd9d2a514be"
   },
   "outputs": [
    {
     "data": {
      "text/plain": [
       "(275, 5, 1)"
      ]
     },
     "execution_count": 25,
     "metadata": {},
     "output_type": "execute_result"
    }
   ],
   "source": [
    "pred.shape"
   ]
  },
  {
   "cell_type": "code",
   "execution_count": 26,
   "metadata": {
    "colab": {
     "base_uri": "https://localhost:8080/",
     "height": 284
    },
    "id": "7ltKvfdQ39le",
    "outputId": "ee85aa42-3909-4660-ce90-58ee736c88d5"
   },
   "outputs": [
    {
     "data": {
      "text/plain": [
       "<matplotlib.legend.Legend at 0x1bd7d59ebc8>"
      ]
     },
     "execution_count": 26,
     "metadata": {},
     "output_type": "execute_result"
    },
    {
     "data": {
      "image/png": "[encoded data removed]",
      "text/plain": [
       "<Figure size 432x288 with 1 Axes>"
      ]
     },
     "metadata": {
      "needs_background": "light"
     },
     "output_type": "display_data"
    }
   ],
   "source": [
    "import matplotlib.pyplot as plt\n",
    "\n",
    "plt.plot(test_targets[0,:,0], label = 'true')\n",
    "plt.plot(pred[0,:,0], label = 'prediction')\n",
    "plt.legend()"
   ]
  },
  {
   "cell_type": "code",
   "execution_count": 27,
   "metadata": {
    "colab": {
     "base_uri": "https://localhost:8080/"
    },
    "id": "0UyR3yeQBCFL",
    "outputId": "d416510e-9b46-476a-da12-9fb334f0f837"
   },
   "outputs": [
    {
     "data": {
      "text/plain": [
       "(275, 20, 1)"
      ]
     },
     "execution_count": 27,
     "metadata": {},
     "output_type": "execute_result"
    }
   ],
   "source": [
    "test_inputs.shape"
   ]
  },
  {
   "cell_type": "code",
   "execution_count": 28,
   "metadata": {
    "colab": {
     "base_uri": "https://localhost:8080/",
     "height": 284
    },
    "id": "MPc3R4vb66FX",
    "outputId": "dce18de2-63f4-43eb-871c-a98d3e3c4d76"
   },
   "outputs": [
    {
     "data": {
      "text/plain": [
       "<matplotlib.legend.Legend at 0x1bd7d75b948>"
      ]
     },
     "execution_count": 28,
     "metadata": {},
     "output_type": "execute_result"
    },
    {
     "data": {
      "image/png": "[encoded data removed]",
      "text/plain": [
       "<Figure size 432x288 with 1 Axes>"
      ]
     },
     "metadata": {
      "needs_background": "light"
     },
     "output_type": "display_data"
    }
   ],
   "source": [
    "import matplotlib.pyplot as plt\n",
    "\n",
    "plt.plot(test_inputs[0,:,0])\n",
    "plt.plot(range(20,25),test_targets[0,:,0], label = 'true', marker='o',linestyle='None')\n",
    "plt.plot(range(20,25),pred[0,:,0], label = 'prediction', marker='x',linestyle='None')\n",
    "plt.legend()"
   ]
  },
  {
   "cell_type": "code",
   "execution_count": null,
   "metadata": {
    "id": "k8R3kD0iBeCq"
   },
   "outputs": [],
   "source": []
  }
 ],
 "metadata": {
  "colab": {
   "authorship_tag": "ABX9TyMsvgsx7WwkqxFfJWe6D+9T",
   "collapsed_sections": [],
   "include_colab_link": true,
   "name": "20_3_Time Series - Multi Step.ipynb",
   "provenance": []
  },
  "kernelspec": {
   "display_name": "Python 3",
   "language": "python",
   "name": "python3"
  },
  "language_info": {
   "codemirror_mode": {
    "name": "ipython",
    "version": 3
   },
   "file_extension": ".py",
   "mimetype": "text/x-python",
   "name": "python",
   "nbconvert_exporter": "python",
   "pygments_lexer": "ipython3",
   "version": "3.7.9"
  }
 },
 "nbformat": 4,
 "nbformat_minor": 1
}
