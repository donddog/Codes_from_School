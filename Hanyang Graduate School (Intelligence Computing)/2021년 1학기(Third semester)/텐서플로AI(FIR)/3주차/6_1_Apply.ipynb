{
 "cells": [
  {
   "cell_type": "markdown",
   "metadata": {
    "colab_type": "text",
    "id": "view-in-github"
   },
   "source": [
    "<a href=\"https://colab.research.google.com/github/joohoshin/TensorflowAI/blob/main/6_1_Apply.ipynb\" target=\"_parent\"><img src=\"https://colab.research.google.com/assets/colab-badge.svg\" alt=\"Open In Colab\"/></a>"
   ]
  },
  {
   "cell_type": "markdown",
   "metadata": {
    "id": "k4JKx0BF9qzl"
   },
   "source": [
    "# Apply\n",
    "* apply() 함수를 통해서 dataframe에 함수를 적용할 수 있습니다"
   ]
  },
  {
   "cell_type": "code",
   "execution_count": 1,
   "metadata": {
    "id": "4zvqyCp89qzn"
   },
   "outputs": [],
   "source": [
    "# 가상의 성적 데이터를 만들어보겠습니다\n",
    "import pandas as pd\n",
    "import numpy as np\n",
    "import warnings\n",
    "\n",
    "warnings.filterwarnings(action='ignore')\n",
    "\n",
    "data = np.random.choice(range(60,101), (10,3))"
   ]
  },
  {
   "cell_type": "code",
   "execution_count": 2,
   "metadata": {
    "colab": {
     "base_uri": "https://localhost:8080/"
    },
    "id": "FKxRPHSS9qzu",
    "outputId": "9a5916c9-f992-43f7-e2d6-8d7740e44992"
   },
   "outputs": [
    {
     "data": {
      "text/plain": [
       "array([[ 62,  85, 100],\n",
       "       [ 95,  99,  67],\n",
       "       [ 97,  63,  77],\n",
       "       [ 61,  62,  86],\n",
       "       [ 76,  67,  98],\n",
       "       [100,  65,  91],\n",
       "       [ 87,  61,  62],\n",
       "       [ 85,  72,  68],\n",
       "       [ 71,  83,  60],\n",
       "       [100,  90,  65]])"
      ]
     },
     "execution_count": 2,
     "metadata": {},
     "output_type": "execute_result"
    }
   ],
   "source": [
    "data"
   ]
  },
  {
   "cell_type": "code",
   "execution_count": 3,
   "metadata": {
    "id": "gqoo85PO9qz1"
   },
   "outputs": [],
   "source": [
    "df = pd.DataFrame(data,columns = ['파이썬', '머신러닝', '딥러닝'])"
   ]
  },
  {
   "cell_type": "code",
   "execution_count": 4,
   "metadata": {
    "colab": {
     "base_uri": "https://localhost:8080/",
     "height": 355
    },
    "id": "ubQ4AS0n9qz-",
    "outputId": "3d0c4c72-ca8c-4bac-c405-0a02a6311912"
   },
   "outputs": [
    {
     "data": {
      "text/html": [
       "<div>\n",
       "<style scoped>\n",
       "    .dataframe tbody tr th:only-of-type {\n",
       "        vertical-align: middle;\n",
       "    }\n",
       "\n",
       "    .dataframe tbody tr th {\n",
       "        vertical-align: top;\n",
       "    }\n",
       "\n",
       "    .dataframe thead th {\n",
       "        text-align: right;\n",
       "    }\n",
       "</style>\n",
       "<table border=\"1\" class=\"dataframe\">\n",
       "  <thead>\n",
       "    <tr style=\"text-align: right;\">\n",
       "      <th></th>\n",
       "      <th>파이썬</th>\n",
       "      <th>머신러닝</th>\n",
       "      <th>딥러닝</th>\n",
       "    </tr>\n",
       "  </thead>\n",
       "  <tbody>\n",
       "    <tr>\n",
       "      <th>0</th>\n",
       "      <td>62</td>\n",
       "      <td>85</td>\n",
       "      <td>100</td>\n",
       "    </tr>\n",
       "    <tr>\n",
       "      <th>1</th>\n",
       "      <td>95</td>\n",
       "      <td>99</td>\n",
       "      <td>67</td>\n",
       "    </tr>\n",
       "    <tr>\n",
       "      <th>2</th>\n",
       "      <td>97</td>\n",
       "      <td>63</td>\n",
       "      <td>77</td>\n",
       "    </tr>\n",
       "    <tr>\n",
       "      <th>3</th>\n",
       "      <td>61</td>\n",
       "      <td>62</td>\n",
       "      <td>86</td>\n",
       "    </tr>\n",
       "    <tr>\n",
       "      <th>4</th>\n",
       "      <td>76</td>\n",
       "      <td>67</td>\n",
       "      <td>98</td>\n",
       "    </tr>\n",
       "    <tr>\n",
       "      <th>5</th>\n",
       "      <td>100</td>\n",
       "      <td>65</td>\n",
       "      <td>91</td>\n",
       "    </tr>\n",
       "    <tr>\n",
       "      <th>6</th>\n",
       "      <td>87</td>\n",
       "      <td>61</td>\n",
       "      <td>62</td>\n",
       "    </tr>\n",
       "    <tr>\n",
       "      <th>7</th>\n",
       "      <td>85</td>\n",
       "      <td>72</td>\n",
       "      <td>68</td>\n",
       "    </tr>\n",
       "    <tr>\n",
       "      <th>8</th>\n",
       "      <td>71</td>\n",
       "      <td>83</td>\n",
       "      <td>60</td>\n",
       "    </tr>\n",
       "    <tr>\n",
       "      <th>9</th>\n",
       "      <td>100</td>\n",
       "      <td>90</td>\n",
       "      <td>65</td>\n",
       "    </tr>\n",
       "  </tbody>\n",
       "</table>\n",
       "</div>"
      ],
      "text/plain": [
       "   파이썬  머신러닝  딥러닝\n",
       "0   62    85  100\n",
       "1   95    99   67\n",
       "2   97    63   77\n",
       "3   61    62   86\n",
       "4   76    67   98\n",
       "5  100    65   91\n",
       "6   87    61   62\n",
       "7   85    72   68\n",
       "8   71    83   60\n",
       "9  100    90   65"
      ]
     },
     "execution_count": 4,
     "metadata": {},
     "output_type": "execute_result"
    }
   ],
   "source": [
    "df"
   ]
  },
  {
   "cell_type": "code",
   "execution_count": 5,
   "metadata": {
    "colab": {
     "base_uri": "https://localhost:8080/",
     "height": 355
    },
    "id": "pvXqwtPs9q0E",
    "outputId": "7ee658cc-23dd-402e-9a9f-a015aa42c8e2"
   },
   "outputs": [
    {
     "data": {
      "text/html": [
       "<div>\n",
       "<style scoped>\n",
       "    .dataframe tbody tr th:only-of-type {\n",
       "        vertical-align: middle;\n",
       "    }\n",
       "\n",
       "    .dataframe tbody tr th {\n",
       "        vertical-align: top;\n",
       "    }\n",
       "\n",
       "    .dataframe thead th {\n",
       "        text-align: right;\n",
       "    }\n",
       "</style>\n",
       "<table border=\"1\" class=\"dataframe\">\n",
       "  <thead>\n",
       "    <tr style=\"text-align: right;\">\n",
       "      <th></th>\n",
       "      <th>파이썬</th>\n",
       "      <th>머신러닝</th>\n",
       "      <th>딥러닝</th>\n",
       "      <th>평균</th>\n",
       "    </tr>\n",
       "  </thead>\n",
       "  <tbody>\n",
       "    <tr>\n",
       "      <th>0</th>\n",
       "      <td>62</td>\n",
       "      <td>85</td>\n",
       "      <td>100</td>\n",
       "      <td>82.333333</td>\n",
       "    </tr>\n",
       "    <tr>\n",
       "      <th>1</th>\n",
       "      <td>95</td>\n",
       "      <td>99</td>\n",
       "      <td>67</td>\n",
       "      <td>87.000000</td>\n",
       "    </tr>\n",
       "    <tr>\n",
       "      <th>2</th>\n",
       "      <td>97</td>\n",
       "      <td>63</td>\n",
       "      <td>77</td>\n",
       "      <td>79.000000</td>\n",
       "    </tr>\n",
       "    <tr>\n",
       "      <th>3</th>\n",
       "      <td>61</td>\n",
       "      <td>62</td>\n",
       "      <td>86</td>\n",
       "      <td>69.666667</td>\n",
       "    </tr>\n",
       "    <tr>\n",
       "      <th>4</th>\n",
       "      <td>76</td>\n",
       "      <td>67</td>\n",
       "      <td>98</td>\n",
       "      <td>80.333333</td>\n",
       "    </tr>\n",
       "    <tr>\n",
       "      <th>5</th>\n",
       "      <td>100</td>\n",
       "      <td>65</td>\n",
       "      <td>91</td>\n",
       "      <td>85.333333</td>\n",
       "    </tr>\n",
       "    <tr>\n",
       "      <th>6</th>\n",
       "      <td>87</td>\n",
       "      <td>61</td>\n",
       "      <td>62</td>\n",
       "      <td>70.000000</td>\n",
       "    </tr>\n",
       "    <tr>\n",
       "      <th>7</th>\n",
       "      <td>85</td>\n",
       "      <td>72</td>\n",
       "      <td>68</td>\n",
       "      <td>75.000000</td>\n",
       "    </tr>\n",
       "    <tr>\n",
       "      <th>8</th>\n",
       "      <td>71</td>\n",
       "      <td>83</td>\n",
       "      <td>60</td>\n",
       "      <td>71.333333</td>\n",
       "    </tr>\n",
       "    <tr>\n",
       "      <th>9</th>\n",
       "      <td>100</td>\n",
       "      <td>90</td>\n",
       "      <td>65</td>\n",
       "      <td>85.000000</td>\n",
       "    </tr>\n",
       "  </tbody>\n",
       "</table>\n",
       "</div>"
      ],
      "text/plain": [
       "   파이썬  머신러닝  딥러닝         평균\n",
       "0   62    85  100  82.333333\n",
       "1   95    99   67  87.000000\n",
       "2   97    63   77  79.000000\n",
       "3   61    62   86  69.666667\n",
       "4   76    67   98  80.333333\n",
       "5  100    65   91  85.333333\n",
       "6   87    61   62  70.000000\n",
       "7   85    72   68  75.000000\n",
       "8   71    83   60  71.333333\n",
       "9  100    90   65  85.000000"
      ]
     },
     "execution_count": 5,
     "metadata": {},
     "output_type": "execute_result"
    }
   ],
   "source": [
    "# 평균을 추가해봅시다\n",
    "df = df.assign(평균 = (df.파이썬 + df.머신러닝 + df.딥러닝)/3)\n",
    "df"
   ]
  },
  {
   "cell_type": "code",
   "execution_count": 6,
   "metadata": {
    "id": "l4zZWg0O9q0J"
   },
   "outputs": [],
   "source": [
    "# 90점 이상은 A, 80점 이상B, 70점 이상 C, 그 이하는 D를 성적 컬럼에 추가하고 싶은 경우"
   ]
  },
  {
   "cell_type": "code",
   "execution_count": 7,
   "metadata": {
    "id": "FIPCvHXc9q0P"
   },
   "outputs": [],
   "source": [
    "def grade(점수):\n",
    "    if 점수>=90: return 'A'\n",
    "    elif 점수>=80: return 'B'\n",
    "    elif 점수>=70: return 'C'\n",
    "    else: return 'D'    "
   ]
  },
  {
   "cell_type": "code",
   "execution_count": 8,
   "metadata": {
    "colab": {
     "base_uri": "https://localhost:8080/",
     "height": 36
    },
    "id": "2nesCjMjRs6_",
    "outputId": "c49dc5d9-e132-4dac-9e25-46cef9362f18"
   },
   "outputs": [
    {
     "data": {
      "text/plain": [
       "'C'"
      ]
     },
     "execution_count": 8,
     "metadata": {},
     "output_type": "execute_result"
    }
   ],
   "source": [
    "grade(70)"
   ]
  },
  {
   "cell_type": "code",
   "execution_count": 9,
   "metadata": {
    "id": "nKvk6hmt9q0V"
   },
   "outputs": [],
   "source": [
    "df['성적'] = df['평균'].apply(grade)"
   ]
  },
  {
   "cell_type": "code",
   "execution_count": 10,
   "metadata": {
    "colab": {
     "base_uri": "https://localhost:8080/",
     "height": 202
    },
    "id": "DtvQvhg-9q0Z",
    "outputId": "f71544d6-0c79-4148-d62f-0a7a3dc2632d"
   },
   "outputs": [
    {
     "data": {
      "text/html": [
       "<div>\n",
       "<style scoped>\n",
       "    .dataframe tbody tr th:only-of-type {\n",
       "        vertical-align: middle;\n",
       "    }\n",
       "\n",
       "    .dataframe tbody tr th {\n",
       "        vertical-align: top;\n",
       "    }\n",
       "\n",
       "    .dataframe thead th {\n",
       "        text-align: right;\n",
       "    }\n",
       "</style>\n",
       "<table border=\"1\" class=\"dataframe\">\n",
       "  <thead>\n",
       "    <tr style=\"text-align: right;\">\n",
       "      <th></th>\n",
       "      <th>파이썬</th>\n",
       "      <th>머신러닝</th>\n",
       "      <th>딥러닝</th>\n",
       "      <th>평균</th>\n",
       "      <th>성적</th>\n",
       "    </tr>\n",
       "  </thead>\n",
       "  <tbody>\n",
       "    <tr>\n",
       "      <th>0</th>\n",
       "      <td>62</td>\n",
       "      <td>85</td>\n",
       "      <td>100</td>\n",
       "      <td>82.333333</td>\n",
       "      <td>B</td>\n",
       "    </tr>\n",
       "    <tr>\n",
       "      <th>1</th>\n",
       "      <td>95</td>\n",
       "      <td>99</td>\n",
       "      <td>67</td>\n",
       "      <td>87.000000</td>\n",
       "      <td>B</td>\n",
       "    </tr>\n",
       "    <tr>\n",
       "      <th>2</th>\n",
       "      <td>97</td>\n",
       "      <td>63</td>\n",
       "      <td>77</td>\n",
       "      <td>79.000000</td>\n",
       "      <td>C</td>\n",
       "    </tr>\n",
       "    <tr>\n",
       "      <th>3</th>\n",
       "      <td>61</td>\n",
       "      <td>62</td>\n",
       "      <td>86</td>\n",
       "      <td>69.666667</td>\n",
       "      <td>D</td>\n",
       "    </tr>\n",
       "    <tr>\n",
       "      <th>4</th>\n",
       "      <td>76</td>\n",
       "      <td>67</td>\n",
       "      <td>98</td>\n",
       "      <td>80.333333</td>\n",
       "      <td>B</td>\n",
       "    </tr>\n",
       "  </tbody>\n",
       "</table>\n",
       "</div>"
      ],
      "text/plain": [
       "   파이썬  머신러닝  딥러닝         평균 성적\n",
       "0   62    85  100  82.333333  B\n",
       "1   95    99   67  87.000000  B\n",
       "2   97    63   77  79.000000  C\n",
       "3   61    62   86  69.666667  D\n",
       "4   76    67   98  80.333333  B"
      ]
     },
     "execution_count": 10,
     "metadata": {},
     "output_type": "execute_result"
    }
   ],
   "source": [
    "df.head()"
   ]
  },
  {
   "cell_type": "code",
   "execution_count": 11,
   "metadata": {
    "colab": {
     "base_uri": "https://localhost:8080/",
     "height": 202
    },
    "id": "r2tAzhQ19q0g",
    "outputId": "69ad0c97-26c1-4bbc-86db-3659c11e210e"
   },
   "outputs": [
    {
     "data": {
      "text/html": [
       "<div>\n",
       "<style scoped>\n",
       "    .dataframe tbody tr th:only-of-type {\n",
       "        vertical-align: middle;\n",
       "    }\n",
       "\n",
       "    .dataframe tbody tr th {\n",
       "        vertical-align: top;\n",
       "    }\n",
       "\n",
       "    .dataframe thead th {\n",
       "        text-align: right;\n",
       "    }\n",
       "</style>\n",
       "<table border=\"1\" class=\"dataframe\">\n",
       "  <thead>\n",
       "    <tr style=\"text-align: right;\">\n",
       "      <th></th>\n",
       "      <th>파이썬</th>\n",
       "      <th>머신러닝</th>\n",
       "      <th>딥러닝</th>\n",
       "      <th>평균</th>\n",
       "      <th>성적</th>\n",
       "    </tr>\n",
       "  </thead>\n",
       "  <tbody>\n",
       "    <tr>\n",
       "      <th>0</th>\n",
       "      <td>62</td>\n",
       "      <td>85</td>\n",
       "      <td>100</td>\n",
       "      <td>82.333333</td>\n",
       "      <td>B</td>\n",
       "    </tr>\n",
       "    <tr>\n",
       "      <th>1</th>\n",
       "      <td>95</td>\n",
       "      <td>99</td>\n",
       "      <td>67</td>\n",
       "      <td>87.000000</td>\n",
       "      <td>B</td>\n",
       "    </tr>\n",
       "    <tr>\n",
       "      <th>4</th>\n",
       "      <td>76</td>\n",
       "      <td>67</td>\n",
       "      <td>98</td>\n",
       "      <td>80.333333</td>\n",
       "      <td>B</td>\n",
       "    </tr>\n",
       "    <tr>\n",
       "      <th>5</th>\n",
       "      <td>100</td>\n",
       "      <td>65</td>\n",
       "      <td>91</td>\n",
       "      <td>85.333333</td>\n",
       "      <td>B</td>\n",
       "    </tr>\n",
       "    <tr>\n",
       "      <th>9</th>\n",
       "      <td>100</td>\n",
       "      <td>90</td>\n",
       "      <td>65</td>\n",
       "      <td>85.000000</td>\n",
       "      <td>B</td>\n",
       "    </tr>\n",
       "  </tbody>\n",
       "</table>\n",
       "</div>"
      ],
      "text/plain": [
       "   파이썬  머신러닝  딥러닝         평균 성적\n",
       "0   62    85  100  82.333333  B\n",
       "1   95    99   67  87.000000  B\n",
       "4   76    67   98  80.333333  B\n",
       "5  100    65   91  85.333333  B\n",
       "9  100    90   65  85.000000  B"
      ]
     },
     "execution_count": 11,
     "metadata": {},
     "output_type": "execute_result"
    }
   ],
   "source": [
    "df.query('성적==\"B\"')"
   ]
  },
  {
   "cell_type": "markdown",
   "metadata": {
    "id": "RlM-JPZc9q0k"
   },
   "source": [
    "* 여러 컬럼을 입력으로 계산하는 경우"
   ]
  },
  {
   "cell_type": "code",
   "execution_count": 12,
   "metadata": {
    "id": "UKHNZn2E9q0l"
   },
   "outputs": [],
   "source": [
    "def count_point(class1, class2, class3, point):\n",
    "    cnt = 0\n",
    "    if class1>=point: cnt +=1\n",
    "    if class2>=point: cnt +=1\n",
    "    if class3>=point: cnt +=1\n",
    "    return cnt"
   ]
  },
  {
   "cell_type": "code",
   "execution_count": 13,
   "metadata": {
    "colab": {
     "base_uri": "https://localhost:8080/"
    },
    "id": "dhpDAM2RVevt",
    "outputId": "fad60053-e644-40aa-f2e2-0cc9b7a241ef"
   },
   "outputs": [
    {
     "data": {
      "text/plain": [
       "2"
      ]
     },
     "execution_count": 13,
     "metadata": {},
     "output_type": "execute_result"
    }
   ],
   "source": [
    "count_point(90,80,70, 80)"
   ]
  },
  {
   "cell_type": "code",
   "execution_count": 14,
   "metadata": {
    "id": "fkUnP5iM9q0s"
   },
   "outputs": [],
   "source": [
    "point = 80\n",
    "df['과목수'] = df.apply(lambda row: count_point(row['파이썬'], row.머신러닝, row.딥러닝, point), axis = 1) # axis=1이 각 행에 함수 적용됨\n",
    "df = df.rename(columns={'과목수':str(point)+'이상과목수'})"
   ]
  },
  {
   "cell_type": "code",
   "execution_count": 15,
   "metadata": {
    "colab": {
     "base_uri": "https://localhost:8080/",
     "height": 355
    },
    "id": "5aOyy0p39q0x",
    "outputId": "a44943ce-8cec-499f-d67a-6532de5d34d9"
   },
   "outputs": [
    {
     "data": {
      "text/html": [
       "<div>\n",
       "<style scoped>\n",
       "    .dataframe tbody tr th:only-of-type {\n",
       "        vertical-align: middle;\n",
       "    }\n",
       "\n",
       "    .dataframe tbody tr th {\n",
       "        vertical-align: top;\n",
       "    }\n",
       "\n",
       "    .dataframe thead th {\n",
       "        text-align: right;\n",
       "    }\n",
       "</style>\n",
       "<table border=\"1\" class=\"dataframe\">\n",
       "  <thead>\n",
       "    <tr style=\"text-align: right;\">\n",
       "      <th></th>\n",
       "      <th>파이썬</th>\n",
       "      <th>머신러닝</th>\n",
       "      <th>딥러닝</th>\n",
       "      <th>평균</th>\n",
       "      <th>성적</th>\n",
       "      <th>80이상과목수</th>\n",
       "    </tr>\n",
       "  </thead>\n",
       "  <tbody>\n",
       "    <tr>\n",
       "      <th>0</th>\n",
       "      <td>62</td>\n",
       "      <td>85</td>\n",
       "      <td>100</td>\n",
       "      <td>82.333333</td>\n",
       "      <td>B</td>\n",
       "      <td>2</td>\n",
       "    </tr>\n",
       "    <tr>\n",
       "      <th>1</th>\n",
       "      <td>95</td>\n",
       "      <td>99</td>\n",
       "      <td>67</td>\n",
       "      <td>87.000000</td>\n",
       "      <td>B</td>\n",
       "      <td>2</td>\n",
       "    </tr>\n",
       "    <tr>\n",
       "      <th>2</th>\n",
       "      <td>97</td>\n",
       "      <td>63</td>\n",
       "      <td>77</td>\n",
       "      <td>79.000000</td>\n",
       "      <td>C</td>\n",
       "      <td>1</td>\n",
       "    </tr>\n",
       "    <tr>\n",
       "      <th>3</th>\n",
       "      <td>61</td>\n",
       "      <td>62</td>\n",
       "      <td>86</td>\n",
       "      <td>69.666667</td>\n",
       "      <td>D</td>\n",
       "      <td>1</td>\n",
       "    </tr>\n",
       "    <tr>\n",
       "      <th>4</th>\n",
       "      <td>76</td>\n",
       "      <td>67</td>\n",
       "      <td>98</td>\n",
       "      <td>80.333333</td>\n",
       "      <td>B</td>\n",
       "      <td>1</td>\n",
       "    </tr>\n",
       "    <tr>\n",
       "      <th>5</th>\n",
       "      <td>100</td>\n",
       "      <td>65</td>\n",
       "      <td>91</td>\n",
       "      <td>85.333333</td>\n",
       "      <td>B</td>\n",
       "      <td>2</td>\n",
       "    </tr>\n",
       "    <tr>\n",
       "      <th>6</th>\n",
       "      <td>87</td>\n",
       "      <td>61</td>\n",
       "      <td>62</td>\n",
       "      <td>70.000000</td>\n",
       "      <td>C</td>\n",
       "      <td>1</td>\n",
       "    </tr>\n",
       "    <tr>\n",
       "      <th>7</th>\n",
       "      <td>85</td>\n",
       "      <td>72</td>\n",
       "      <td>68</td>\n",
       "      <td>75.000000</td>\n",
       "      <td>C</td>\n",
       "      <td>1</td>\n",
       "    </tr>\n",
       "    <tr>\n",
       "      <th>8</th>\n",
       "      <td>71</td>\n",
       "      <td>83</td>\n",
       "      <td>60</td>\n",
       "      <td>71.333333</td>\n",
       "      <td>C</td>\n",
       "      <td>1</td>\n",
       "    </tr>\n",
       "    <tr>\n",
       "      <th>9</th>\n",
       "      <td>100</td>\n",
       "      <td>90</td>\n",
       "      <td>65</td>\n",
       "      <td>85.000000</td>\n",
       "      <td>B</td>\n",
       "      <td>2</td>\n",
       "    </tr>\n",
       "  </tbody>\n",
       "</table>\n",
       "</div>"
      ],
      "text/plain": [
       "   파이썬  머신러닝  딥러닝         평균 성적  80이상과목수\n",
       "0   62    85  100  82.333333  B        2\n",
       "1   95    99   67  87.000000  B        2\n",
       "2   97    63   77  79.000000  C        1\n",
       "3   61    62   86  69.666667  D        1\n",
       "4   76    67   98  80.333333  B        1\n",
       "5  100    65   91  85.333333  B        2\n",
       "6   87    61   62  70.000000  C        1\n",
       "7   85    72   68  75.000000  C        1\n",
       "8   71    83   60  71.333333  C        1\n",
       "9  100    90   65  85.000000  B        2"
      ]
     },
     "execution_count": 15,
     "metadata": {},
     "output_type": "execute_result"
    }
   ],
   "source": [
    "df"
   ]
  },
  {
   "cell_type": "code",
   "execution_count": 16,
   "metadata": {
    "colab": {
     "base_uri": "https://localhost:8080/"
    },
    "id": "0RWL9yIq9q02",
    "outputId": "0164fe71-30ba-4c9b-a290-279a7488aaae"
   },
   "outputs": [
    {
     "data": {
      "text/plain": [
       "2"
      ]
     },
     "execution_count": 16,
     "metadata": {},
     "output_type": "execute_result"
    }
   ],
   "source": [
    "df.iloc[:,-1].max()"
   ]
  },
  {
   "cell_type": "markdown",
   "metadata": {
    "id": "FDaeum2P-p1Z"
   },
   "source": [
    "Lambda expression\n",
    "\n",
    "\n",
    "*   간단한 함수의 경우, lambda expression을 통해 간단히 함수로 만들 수 있다.\n"
   ]
  },
  {
   "cell_type": "code",
   "execution_count": 17,
   "metadata": {
    "id": "J7RfnmxV9q06"
   },
   "outputs": [],
   "source": [
    "# x*2 - x +1을 함수로 만들때\n",
    "\n",
    "import numpy as np\n",
    "\n",
    "x = np.linspace(-1,1, num=100)\n",
    "\n",
    "def y(x):\n",
    "    return x**2 -x +1"
   ]
  },
  {
   "cell_type": "code",
   "execution_count": 18,
   "metadata": {
    "colab": {
     "base_uri": "https://localhost:8080/"
    },
    "id": "MooAxw5xWzSk",
    "outputId": "63015f94-75d1-4652-bdcd-1ae4d3466791"
   },
   "outputs": [
    {
     "data": {
      "text/plain": [
       "7"
      ]
     },
     "execution_count": 18,
     "metadata": {},
     "output_type": "execute_result"
    }
   ],
   "source": [
    "y(3)"
   ]
  },
  {
   "cell_type": "code",
   "execution_count": 19,
   "metadata": {
    "colab": {
     "base_uri": "https://localhost:8080/"
    },
    "id": "aH02VoAZ_M9F",
    "outputId": "12d842a7-3d32-48bd-8261-5f380d3a286c"
   },
   "outputs": [
    {
     "data": {
      "text/plain": [
       "array([-1.        , -0.97979798, -0.95959596, -0.93939394, -0.91919192,\n",
       "       -0.8989899 , -0.87878788, -0.85858586, -0.83838384, -0.81818182,\n",
       "       -0.7979798 , -0.77777778, -0.75757576, -0.73737374, -0.71717172,\n",
       "       -0.6969697 , -0.67676768, -0.65656566, -0.63636364, -0.61616162,\n",
       "       -0.5959596 , -0.57575758, -0.55555556, -0.53535354, -0.51515152,\n",
       "       -0.49494949, -0.47474747, -0.45454545, -0.43434343, -0.41414141,\n",
       "       -0.39393939, -0.37373737, -0.35353535, -0.33333333, -0.31313131,\n",
       "       -0.29292929, -0.27272727, -0.25252525, -0.23232323, -0.21212121,\n",
       "       -0.19191919, -0.17171717, -0.15151515, -0.13131313, -0.11111111,\n",
       "       -0.09090909, -0.07070707, -0.05050505, -0.03030303, -0.01010101,\n",
       "        0.01010101,  0.03030303,  0.05050505,  0.07070707,  0.09090909,\n",
       "        0.11111111,  0.13131313,  0.15151515,  0.17171717,  0.19191919,\n",
       "        0.21212121,  0.23232323,  0.25252525,  0.27272727,  0.29292929,\n",
       "        0.31313131,  0.33333333,  0.35353535,  0.37373737,  0.39393939,\n",
       "        0.41414141,  0.43434343,  0.45454545,  0.47474747,  0.49494949,\n",
       "        0.51515152,  0.53535354,  0.55555556,  0.57575758,  0.5959596 ,\n",
       "        0.61616162,  0.63636364,  0.65656566,  0.67676768,  0.6969697 ,\n",
       "        0.71717172,  0.73737374,  0.75757576,  0.77777778,  0.7979798 ,\n",
       "        0.81818182,  0.83838384,  0.85858586,  0.87878788,  0.8989899 ,\n",
       "        0.91919192,  0.93939394,  0.95959596,  0.97979798,  1.        ])"
      ]
     },
     "execution_count": 19,
     "metadata": {},
     "output_type": "execute_result"
    }
   ],
   "source": [
    "x"
   ]
  },
  {
   "cell_type": "code",
   "execution_count": 20,
   "metadata": {
    "colab": {
     "base_uri": "https://localhost:8080/"
    },
    "id": "2E2P2-CoiZXL",
    "outputId": "472efedc-3aab-45d4-f51d-73560bbb1f4c"
   },
   "outputs": [
    {
     "data": {
      "text/plain": [
       "array([3.        , 2.93980206, 2.88042037, 2.82185491, 2.7641057 ,\n",
       "       2.70717274, 2.65105601, 2.59575554, 2.5412713 , 2.48760331,\n",
       "       2.43475156, 2.38271605, 2.33149679, 2.28109377, 2.23150699,\n",
       "       2.18273646, 2.13478217, 2.08764412, 2.04132231, 1.99581675,\n",
       "       1.95112744, 1.90725436, 1.86419753, 1.82195694, 1.7805326 ,\n",
       "       1.7399245 , 1.70013264, 1.66115702, 1.62299765, 1.58565453,\n",
       "       1.54912764, 1.513417  , 1.4785226 , 1.44444444, 1.41118253,\n",
       "       1.37873686, 1.34710744, 1.31629426, 1.28629732, 1.25711662,\n",
       "       1.22875217, 1.20120396, 1.17447199, 1.14855627, 1.12345679,\n",
       "       1.09917355, 1.07570656, 1.05305581, 1.0312213 , 1.01020304,\n",
       "       0.99000102, 0.97061524, 0.95204571, 0.93429242, 0.91735537,\n",
       "       0.90123457, 0.88593001, 0.87144169, 0.85776962, 0.84491378,\n",
       "       0.8328742 , 0.82165085, 0.81124375, 0.80165289, 0.79287828,\n",
       "       0.78491991, 0.77777778, 0.77145189, 0.76594225, 0.76124885,\n",
       "       0.7573717 , 0.75431078, 0.75206612, 0.75063769, 0.75002551,\n",
       "       0.75022957, 0.75124987, 0.75308642, 0.75573921, 0.75920824,\n",
       "       0.76349352, 0.76859504, 0.7745128 , 0.78124681, 0.78879706,\n",
       "       0.79716355, 0.80634629, 0.81634527, 0.82716049, 0.83879196,\n",
       "       0.85123967, 0.86450362, 0.87858382, 0.89348026, 0.90919294,\n",
       "       0.92572187, 0.94306703, 0.96122845, 0.9802061 , 1.        ])"
      ]
     },
     "execution_count": 20,
     "metadata": {},
     "output_type": "execute_result"
    }
   ],
   "source": [
    "y(x)"
   ]
  },
  {
   "cell_type": "code",
   "execution_count": 21,
   "metadata": {
    "colab": {
     "base_uri": "https://localhost:8080/"
    },
    "id": "5599DATP_PRZ",
    "outputId": "3a97f3b3-ae8a-489c-f705-2bedeae3ddba"
   },
   "outputs": [
    {
     "data": {
      "text/plain": [
       "array([3.        , 2.93980206, 2.88042037, 2.82185491, 2.7641057 ,\n",
       "       2.70717274, 2.65105601, 2.59575554, 2.5412713 , 2.48760331,\n",
       "       2.43475156, 2.38271605, 2.33149679, 2.28109377, 2.23150699,\n",
       "       2.18273646, 2.13478217, 2.08764412, 2.04132231, 1.99581675,\n",
       "       1.95112744, 1.90725436, 1.86419753, 1.82195694, 1.7805326 ,\n",
       "       1.7399245 , 1.70013264, 1.66115702, 1.62299765, 1.58565453,\n",
       "       1.54912764, 1.513417  , 1.4785226 , 1.44444444, 1.41118253,\n",
       "       1.37873686, 1.34710744, 1.31629426, 1.28629732, 1.25711662,\n",
       "       1.22875217, 1.20120396, 1.17447199, 1.14855627, 1.12345679,\n",
       "       1.09917355, 1.07570656, 1.05305581, 1.0312213 , 1.01020304,\n",
       "       0.99000102, 0.97061524, 0.95204571, 0.93429242, 0.91735537,\n",
       "       0.90123457, 0.88593001, 0.87144169, 0.85776962, 0.84491378,\n",
       "       0.8328742 , 0.82165085, 0.81124375, 0.80165289, 0.79287828,\n",
       "       0.78491991, 0.77777778, 0.77145189, 0.76594225, 0.76124885,\n",
       "       0.7573717 , 0.75431078, 0.75206612, 0.75063769, 0.75002551,\n",
       "       0.75022957, 0.75124987, 0.75308642, 0.75573921, 0.75920824,\n",
       "       0.76349352, 0.76859504, 0.7745128 , 0.78124681, 0.78879706,\n",
       "       0.79716355, 0.80634629, 0.81634527, 0.82716049, 0.83879196,\n",
       "       0.85123967, 0.86450362, 0.87858382, 0.89348026, 0.90919294,\n",
       "       0.92572187, 0.94306703, 0.96122845, 0.9802061 , 1.        ])"
      ]
     },
     "execution_count": 21,
     "metadata": {},
     "output_type": "execute_result"
    }
   ],
   "source": [
    "# lambda expression\n",
    "import numpy as np\n",
    "\n",
    "x = np.linspace(-1,1, num=100)\n",
    "y = lambda x: x**2 -x +1\n",
    "\n",
    "y(x)"
   ]
  },
  {
   "cell_type": "code",
   "execution_count": 22,
   "metadata": {
    "colab": {
     "base_uri": "https://localhost:8080/",
     "height": 341
    },
    "id": "Lb7Ltwl0TxLs",
    "outputId": "be452029-1ce5-4f90-8db4-d1797e9f4215"
   },
   "outputs": [
    {
     "data": {
      "text/plain": [
       "<matplotlib.axes._subplots.AxesSubplot at 0x2bee3f99a88>"
      ]
     },
     "execution_count": 22,
     "metadata": {},
     "output_type": "execute_result"
    },
    {
     "data": {
      "image/png": "[encoded data removed]",
      "text/plain": [
       "<Figure size 432x288 with 1 Axes>"
      ]
     },
     "metadata": {
      "needs_background": "light"
     },
     "output_type": "display_data"
    }
   ],
   "source": [
    "# 차트\n",
    "import seaborn as sns\n",
    "\n",
    "sns.lineplot(x, y(x))"
   ]
  },
  {
   "cell_type": "code",
   "execution_count": null,
   "metadata": {
    "id": "KDvamdWCfaVX"
   },
   "outputs": [],
   "source": []
  }
 ],
 "metadata": {
  "colab": {
   "collapsed_sections": [],
   "include_colab_link": true,
   "name": "6_1_Apply.ipynb",
   "provenance": []
  },
  "kernelspec": {
   "display_name": "Python 3",
   "language": "python",
   "name": "python3"
  },
  "language_info": {
   "codemirror_mode": {
    "name": "ipython",
    "version": 3
   },
   "file_extension": ".py",
   "mimetype": "text/x-python",
   "name": "python",
   "nbconvert_exporter": "python",
   "pygments_lexer": "ipython3",
   "version": "3.7.9"
  }
 },
 "nbformat": 4,
 "nbformat_minor": 1
}
