version https://git-lfs.github.com/spec/v1
oid sha256:b6408919a91447b0b2389a6360b3c78df62ae0bd5a40d0ce6d65198f2e7c0ece
size 620708
