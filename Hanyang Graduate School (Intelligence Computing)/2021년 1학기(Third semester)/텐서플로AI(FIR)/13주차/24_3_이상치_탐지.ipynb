{
 "cells": [
  {
   "cell_type": "markdown",
   "metadata": {
    "colab_type": "text",
    "id": "view-in-github"
   },
   "source": [
    "<a href=\"https://colab.research.google.com/github/joohoshin/TensorflowAI/blob/main/24_3_%EC%9D%B4%EC%83%81%EC%B9%98_%ED%83%90%EC%A7%80.ipynb\" target=\"_parent\"><img src=\"https://colab.research.google.com/assets/colab-badge.svg\" alt=\"Open In Colab\"/></a>"
   ]
  },
  {
   "cell_type": "markdown",
   "metadata": {
    "id": "KN9iEA-zvbIt"
   },
   "source": [
    "ECG 데이터 이상탐지를 해봅시다\n",
    "\n",
    "http://www.timeseriesclassification.com/description.php?Dataset=ECG5000\n",
    "\n",
    "https://www.tensorflow.org/tutorials/generative/autoencoder"
   ]
  },
  {
   "cell_type": "code",
   "execution_count": 1,
   "metadata": {
    "id": "338ONdvpve4Q"
   },
   "outputs": [],
   "source": [
    "import pandas as pd\n",
    "\n",
    "df = pd.read_csv('http://storage.googleapis.com/download.tensorflow.org/data/ecg.csv', header=None)\n",
    "raw_data = df.values"
   ]
  },
  {
   "cell_type": "code",
   "execution_count": 2,
   "metadata": {
    "colab": {
     "base_uri": "https://localhost:8080/",
     "height": 711
    },
    "id": "9fxssickw8OB",
    "outputId": "539142df-9074-4bb6-cc65-41603628877a"
   },
   "outputs": [
    {
     "data": {
      "text/html": [
       "<div>\n",
       "<style scoped>\n",
       "    .dataframe tbody tr th:only-of-type {\n",
       "        vertical-align: middle;\n",
       "    }\n",
       "\n",
       "    .dataframe tbody tr th {\n",
       "        vertical-align: top;\n",
       "    }\n",
       "\n",
       "    .dataframe thead th {\n",
       "        text-align: right;\n",
       "    }\n",
       "</style>\n",
       "<table border=\"1\" class=\"dataframe\">\n",
       "  <thead>\n",
       "    <tr style=\"text-align: right;\">\n",
       "      <th></th>\n",
       "      <th>0</th>\n",
       "      <th>1</th>\n",
       "      <th>2</th>\n",
       "      <th>3</th>\n",
       "      <th>4</th>\n",
       "      <th>5</th>\n",
       "      <th>6</th>\n",
       "      <th>7</th>\n",
       "      <th>8</th>\n",
       "      <th>9</th>\n",
       "      <th>...</th>\n",
       "      <th>131</th>\n",
       "      <th>132</th>\n",
       "      <th>133</th>\n",
       "      <th>134</th>\n",
       "      <th>135</th>\n",
       "      <th>136</th>\n",
       "      <th>137</th>\n",
       "      <th>138</th>\n",
       "      <th>139</th>\n",
       "      <th>140</th>\n",
       "    </tr>\n",
       "  </thead>\n",
       "  <tbody>\n",
       "    <tr>\n",
       "      <th>0</th>\n",
       "      <td>-0.112522</td>\n",
       "      <td>-2.827204</td>\n",
       "      <td>-3.773897</td>\n",
       "      <td>-4.349751</td>\n",
       "      <td>-4.376041</td>\n",
       "      <td>-3.474986</td>\n",
       "      <td>-2.181408</td>\n",
       "      <td>-1.818286</td>\n",
       "      <td>-1.250522</td>\n",
       "      <td>-0.477492</td>\n",
       "      <td>...</td>\n",
       "      <td>0.792168</td>\n",
       "      <td>0.933541</td>\n",
       "      <td>0.796958</td>\n",
       "      <td>0.578621</td>\n",
       "      <td>0.257740</td>\n",
       "      <td>0.228077</td>\n",
       "      <td>0.123431</td>\n",
       "      <td>0.925286</td>\n",
       "      <td>0.193137</td>\n",
       "      <td>1.0</td>\n",
       "    </tr>\n",
       "    <tr>\n",
       "      <th>1</th>\n",
       "      <td>-1.100878</td>\n",
       "      <td>-3.996840</td>\n",
       "      <td>-4.285843</td>\n",
       "      <td>-4.506579</td>\n",
       "      <td>-4.022377</td>\n",
       "      <td>-3.234368</td>\n",
       "      <td>-1.566126</td>\n",
       "      <td>-0.992258</td>\n",
       "      <td>-0.754680</td>\n",
       "      <td>0.042321</td>\n",
       "      <td>...</td>\n",
       "      <td>0.538356</td>\n",
       "      <td>0.656881</td>\n",
       "      <td>0.787490</td>\n",
       "      <td>0.724046</td>\n",
       "      <td>0.555784</td>\n",
       "      <td>0.476333</td>\n",
       "      <td>0.773820</td>\n",
       "      <td>1.119621</td>\n",
       "      <td>-1.436250</td>\n",
       "      <td>1.0</td>\n",
       "    </tr>\n",
       "    <tr>\n",
       "      <th>2</th>\n",
       "      <td>-0.567088</td>\n",
       "      <td>-2.593450</td>\n",
       "      <td>-3.874230</td>\n",
       "      <td>-4.584095</td>\n",
       "      <td>-4.187449</td>\n",
       "      <td>-3.151462</td>\n",
       "      <td>-1.742940</td>\n",
       "      <td>-1.490659</td>\n",
       "      <td>-1.183580</td>\n",
       "      <td>-0.394229</td>\n",
       "      <td>...</td>\n",
       "      <td>0.886073</td>\n",
       "      <td>0.531452</td>\n",
       "      <td>0.311377</td>\n",
       "      <td>-0.021919</td>\n",
       "      <td>-0.713683</td>\n",
       "      <td>-0.532197</td>\n",
       "      <td>0.321097</td>\n",
       "      <td>0.904227</td>\n",
       "      <td>-0.421797</td>\n",
       "      <td>1.0</td>\n",
       "    </tr>\n",
       "    <tr>\n",
       "      <th>3</th>\n",
       "      <td>0.490473</td>\n",
       "      <td>-1.914407</td>\n",
       "      <td>-3.616364</td>\n",
       "      <td>-4.318823</td>\n",
       "      <td>-4.268016</td>\n",
       "      <td>-3.881110</td>\n",
       "      <td>-2.993280</td>\n",
       "      <td>-1.671131</td>\n",
       "      <td>-1.333884</td>\n",
       "      <td>-0.965629</td>\n",
       "      <td>...</td>\n",
       "      <td>0.350816</td>\n",
       "      <td>0.499111</td>\n",
       "      <td>0.600345</td>\n",
       "      <td>0.842069</td>\n",
       "      <td>0.952074</td>\n",
       "      <td>0.990133</td>\n",
       "      <td>1.086798</td>\n",
       "      <td>1.403011</td>\n",
       "      <td>-0.383564</td>\n",
       "      <td>1.0</td>\n",
       "    </tr>\n",
       "    <tr>\n",
       "      <th>4</th>\n",
       "      <td>0.800232</td>\n",
       "      <td>-0.874252</td>\n",
       "      <td>-2.384761</td>\n",
       "      <td>-3.973292</td>\n",
       "      <td>-4.338224</td>\n",
       "      <td>-3.802422</td>\n",
       "      <td>-2.534510</td>\n",
       "      <td>-1.783423</td>\n",
       "      <td>-1.594450</td>\n",
       "      <td>-0.753199</td>\n",
       "      <td>...</td>\n",
       "      <td>1.148884</td>\n",
       "      <td>0.958434</td>\n",
       "      <td>1.059025</td>\n",
       "      <td>1.371682</td>\n",
       "      <td>1.277392</td>\n",
       "      <td>0.960304</td>\n",
       "      <td>0.971020</td>\n",
       "      <td>1.614392</td>\n",
       "      <td>1.421456</td>\n",
       "      <td>1.0</td>\n",
       "    </tr>\n",
       "    <tr>\n",
       "      <th>5</th>\n",
       "      <td>-1.507674</td>\n",
       "      <td>-3.574550</td>\n",
       "      <td>-4.478011</td>\n",
       "      <td>-4.408275</td>\n",
       "      <td>-3.321242</td>\n",
       "      <td>-2.105171</td>\n",
       "      <td>-1.481048</td>\n",
       "      <td>-1.301362</td>\n",
       "      <td>-0.498240</td>\n",
       "      <td>-0.286928</td>\n",
       "      <td>...</td>\n",
       "      <td>1.089068</td>\n",
       "      <td>0.983369</td>\n",
       "      <td>1.014124</td>\n",
       "      <td>0.952629</td>\n",
       "      <td>0.749326</td>\n",
       "      <td>1.007076</td>\n",
       "      <td>1.634990</td>\n",
       "      <td>1.493365</td>\n",
       "      <td>-0.783134</td>\n",
       "      <td>1.0</td>\n",
       "    </tr>\n",
       "    <tr>\n",
       "      <th>6</th>\n",
       "      <td>-0.297161</td>\n",
       "      <td>-2.766635</td>\n",
       "      <td>-4.102185</td>\n",
       "      <td>-4.589669</td>\n",
       "      <td>-4.219357</td>\n",
       "      <td>-3.650443</td>\n",
       "      <td>-2.300518</td>\n",
       "      <td>-1.293917</td>\n",
       "      <td>-1.065658</td>\n",
       "      <td>-0.490520</td>\n",
       "      <td>...</td>\n",
       "      <td>0.581779</td>\n",
       "      <td>0.684406</td>\n",
       "      <td>0.911651</td>\n",
       "      <td>0.979483</td>\n",
       "      <td>1.053458</td>\n",
       "      <td>0.974787</td>\n",
       "      <td>1.110407</td>\n",
       "      <td>1.288165</td>\n",
       "      <td>-0.823386</td>\n",
       "      <td>1.0</td>\n",
       "    </tr>\n",
       "    <tr>\n",
       "      <th>7</th>\n",
       "      <td>0.446769</td>\n",
       "      <td>-1.507397</td>\n",
       "      <td>-3.187468</td>\n",
       "      <td>-4.507462</td>\n",
       "      <td>-4.604201</td>\n",
       "      <td>-3.636115</td>\n",
       "      <td>-2.311604</td>\n",
       "      <td>-1.597727</td>\n",
       "      <td>-1.362450</td>\n",
       "      <td>-0.669216</td>\n",
       "      <td>...</td>\n",
       "      <td>1.001306</td>\n",
       "      <td>1.292059</td>\n",
       "      <td>1.378667</td>\n",
       "      <td>1.014765</td>\n",
       "      <td>0.820793</td>\n",
       "      <td>1.034388</td>\n",
       "      <td>1.258433</td>\n",
       "      <td>0.961215</td>\n",
       "      <td>-0.999476</td>\n",
       "      <td>1.0</td>\n",
       "    </tr>\n",
       "    <tr>\n",
       "      <th>8</th>\n",
       "      <td>0.087631</td>\n",
       "      <td>-1.753490</td>\n",
       "      <td>-3.304473</td>\n",
       "      <td>-4.704657</td>\n",
       "      <td>-4.686415</td>\n",
       "      <td>-3.611817</td>\n",
       "      <td>-2.267268</td>\n",
       "      <td>-1.570893</td>\n",
       "      <td>-1.417790</td>\n",
       "      <td>-0.500788</td>\n",
       "      <td>...</td>\n",
       "      <td>1.709046</td>\n",
       "      <td>2.142926</td>\n",
       "      <td>2.393528</td>\n",
       "      <td>1.925550</td>\n",
       "      <td>1.027624</td>\n",
       "      <td>0.573453</td>\n",
       "      <td>0.192971</td>\n",
       "      <td>-0.648683</td>\n",
       "      <td>-2.441068</td>\n",
       "      <td>1.0</td>\n",
       "    </tr>\n",
       "    <tr>\n",
       "      <th>9</th>\n",
       "      <td>-0.832281</td>\n",
       "      <td>-1.700368</td>\n",
       "      <td>-2.257301</td>\n",
       "      <td>-2.853671</td>\n",
       "      <td>-2.853301</td>\n",
       "      <td>-2.701487</td>\n",
       "      <td>-2.285726</td>\n",
       "      <td>-1.555512</td>\n",
       "      <td>-1.266622</td>\n",
       "      <td>-1.085957</td>\n",
       "      <td>...</td>\n",
       "      <td>2.110504</td>\n",
       "      <td>2.203668</td>\n",
       "      <td>2.227544</td>\n",
       "      <td>2.171733</td>\n",
       "      <td>2.045938</td>\n",
       "      <td>2.126372</td>\n",
       "      <td>2.126852</td>\n",
       "      <td>1.679299</td>\n",
       "      <td>0.965814</td>\n",
       "      <td>1.0</td>\n",
       "    </tr>\n",
       "    <tr>\n",
       "      <th>10</th>\n",
       "      <td>0.084430</td>\n",
       "      <td>-3.190307</td>\n",
       "      <td>-4.686175</td>\n",
       "      <td>-4.559483</td>\n",
       "      <td>-4.087972</td>\n",
       "      <td>-2.618859</td>\n",
       "      <td>-1.760590</td>\n",
       "      <td>-1.592964</td>\n",
       "      <td>-0.569117</td>\n",
       "      <td>-0.130400</td>\n",
       "      <td>...</td>\n",
       "      <td>1.152279</td>\n",
       "      <td>1.271808</td>\n",
       "      <td>1.190796</td>\n",
       "      <td>1.180738</td>\n",
       "      <td>1.058195</td>\n",
       "      <td>0.982577</td>\n",
       "      <td>0.873772</td>\n",
       "      <td>1.626707</td>\n",
       "      <td>-0.020783</td>\n",
       "      <td>1.0</td>\n",
       "    </tr>\n",
       "    <tr>\n",
       "      <th>11</th>\n",
       "      <td>-0.007819</td>\n",
       "      <td>-2.336757</td>\n",
       "      <td>-3.527643</td>\n",
       "      <td>-4.326244</td>\n",
       "      <td>-3.890414</td>\n",
       "      <td>-2.946001</td>\n",
       "      <td>-1.922457</td>\n",
       "      <td>-1.670539</td>\n",
       "      <td>-1.303111</td>\n",
       "      <td>-0.299080</td>\n",
       "      <td>...</td>\n",
       "      <td>1.526739</td>\n",
       "      <td>1.426058</td>\n",
       "      <td>1.589126</td>\n",
       "      <td>1.564845</td>\n",
       "      <td>1.334712</td>\n",
       "      <td>1.165209</td>\n",
       "      <td>0.954434</td>\n",
       "      <td>1.470211</td>\n",
       "      <td>0.393063</td>\n",
       "      <td>1.0</td>\n",
       "    </tr>\n",
       "    <tr>\n",
       "      <th>12</th>\n",
       "      <td>-1.074302</td>\n",
       "      <td>-3.259400</td>\n",
       "      <td>-4.125979</td>\n",
       "      <td>-4.342446</td>\n",
       "      <td>-3.922558</td>\n",
       "      <td>-3.190156</td>\n",
       "      <td>-1.946061</td>\n",
       "      <td>-1.554774</td>\n",
       "      <td>-1.296352</td>\n",
       "      <td>-0.565004</td>\n",
       "      <td>...</td>\n",
       "      <td>0.931064</td>\n",
       "      <td>1.129242</td>\n",
       "      <td>1.023550</td>\n",
       "      <td>0.767713</td>\n",
       "      <td>0.613426</td>\n",
       "      <td>0.696247</td>\n",
       "      <td>1.176666</td>\n",
       "      <td>1.131633</td>\n",
       "      <td>-1.094973</td>\n",
       "      <td>1.0</td>\n",
       "    </tr>\n",
       "    <tr>\n",
       "      <th>13</th>\n",
       "      <td>4.058127</td>\n",
       "      <td>2.087844</td>\n",
       "      <td>0.423115</td>\n",
       "      <td>-2.058869</td>\n",
       "      <td>-3.237691</td>\n",
       "      <td>-4.526753</td>\n",
       "      <td>-3.836157</td>\n",
       "      <td>-1.975006</td>\n",
       "      <td>-0.783353</td>\n",
       "      <td>-0.381038</td>\n",
       "      <td>...</td>\n",
       "      <td>-0.104009</td>\n",
       "      <td>1.504644</td>\n",
       "      <td>1.392034</td>\n",
       "      <td>1.331141</td>\n",
       "      <td>1.197531</td>\n",
       "      <td>1.092861</td>\n",
       "      <td>-0.129327</td>\n",
       "      <td>-1.038259</td>\n",
       "      <td>-1.489863</td>\n",
       "      <td>1.0</td>\n",
       "    </tr>\n",
       "    <tr>\n",
       "      <th>14</th>\n",
       "      <td>-0.761603</td>\n",
       "      <td>-2.921243</td>\n",
       "      <td>-3.894315</td>\n",
       "      <td>-4.384961</td>\n",
       "      <td>-4.068225</td>\n",
       "      <td>-3.511104</td>\n",
       "      <td>-2.532815</td>\n",
       "      <td>-1.687396</td>\n",
       "      <td>-1.398099</td>\n",
       "      <td>-0.899288</td>\n",
       "      <td>...</td>\n",
       "      <td>1.073100</td>\n",
       "      <td>1.242501</td>\n",
       "      <td>1.449587</td>\n",
       "      <td>1.379750</td>\n",
       "      <td>1.068117</td>\n",
       "      <td>0.746061</td>\n",
       "      <td>0.849046</td>\n",
       "      <td>1.162112</td>\n",
       "      <td>-0.381257</td>\n",
       "      <td>1.0</td>\n",
       "    </tr>\n",
       "    <tr>\n",
       "      <th>15</th>\n",
       "      <td>-0.186500</td>\n",
       "      <td>-2.682488</td>\n",
       "      <td>-4.016882</td>\n",
       "      <td>-4.218122</td>\n",
       "      <td>-3.841665</td>\n",
       "      <td>-2.994059</td>\n",
       "      <td>-1.973940</td>\n",
       "      <td>-1.639707</td>\n",
       "      <td>-1.291207</td>\n",
       "      <td>-0.566769</td>\n",
       "      <td>...</td>\n",
       "      <td>0.781289</td>\n",
       "      <td>0.725187</td>\n",
       "      <td>1.068264</td>\n",
       "      <td>1.129702</td>\n",
       "      <td>0.940981</td>\n",
       "      <td>1.008044</td>\n",
       "      <td>1.564257</td>\n",
       "      <td>2.151476</td>\n",
       "      <td>0.180054</td>\n",
       "      <td>1.0</td>\n",
       "    </tr>\n",
       "    <tr>\n",
       "      <th>16</th>\n",
       "      <td>0.803939</td>\n",
       "      <td>-1.106910</td>\n",
       "      <td>-2.854107</td>\n",
       "      <td>-3.898687</td>\n",
       "      <td>-4.153132</td>\n",
       "      <td>-3.997156</td>\n",
       "      <td>-3.290888</td>\n",
       "      <td>-2.189364</td>\n",
       "      <td>-1.582271</td>\n",
       "      <td>-1.419742</td>\n",
       "      <td>...</td>\n",
       "      <td>0.879433</td>\n",
       "      <td>1.026522</td>\n",
       "      <td>1.074677</td>\n",
       "      <td>0.846941</td>\n",
       "      <td>0.573690</td>\n",
       "      <td>0.857986</td>\n",
       "      <td>1.202416</td>\n",
       "      <td>0.613242</td>\n",
       "      <td>-1.655647</td>\n",
       "      <td>1.0</td>\n",
       "    </tr>\n",
       "    <tr>\n",
       "      <th>17</th>\n",
       "      <td>-0.920213</td>\n",
       "      <td>-2.449510</td>\n",
       "      <td>-3.192028</td>\n",
       "      <td>-3.875163</td>\n",
       "      <td>-4.180723</td>\n",
       "      <td>-3.892177</td>\n",
       "      <td>-3.156228</td>\n",
       "      <td>-2.022569</td>\n",
       "      <td>-1.520139</td>\n",
       "      <td>-1.170222</td>\n",
       "      <td>...</td>\n",
       "      <td>1.346675</td>\n",
       "      <td>0.998193</td>\n",
       "      <td>0.234542</td>\n",
       "      <td>-0.624934</td>\n",
       "      <td>-1.134100</td>\n",
       "      <td>-1.263556</td>\n",
       "      <td>-0.964272</td>\n",
       "      <td>-0.370832</td>\n",
       "      <td>-1.040489</td>\n",
       "      <td>1.0</td>\n",
       "    </tr>\n",
       "    <tr>\n",
       "      <th>18</th>\n",
       "      <td>2.744603</td>\n",
       "      <td>-0.101924</td>\n",
       "      <td>-2.851681</td>\n",
       "      <td>-3.974909</td>\n",
       "      <td>-3.995437</td>\n",
       "      <td>-3.719663</td>\n",
       "      <td>-2.680970</td>\n",
       "      <td>-1.441639</td>\n",
       "      <td>-1.166864</td>\n",
       "      <td>-0.657178</td>\n",
       "      <td>...</td>\n",
       "      <td>0.451441</td>\n",
       "      <td>0.802779</td>\n",
       "      <td>0.883922</td>\n",
       "      <td>0.895320</td>\n",
       "      <td>0.840126</td>\n",
       "      <td>1.305181</td>\n",
       "      <td>2.114687</td>\n",
       "      <td>1.590270</td>\n",
       "      <td>-1.921928</td>\n",
       "      <td>1.0</td>\n",
       "    </tr>\n",
       "    <tr>\n",
       "      <th>19</th>\n",
       "      <td>2.402869</td>\n",
       "      <td>2.036719</td>\n",
       "      <td>0.340902</td>\n",
       "      <td>-1.286436</td>\n",
       "      <td>-3.301455</td>\n",
       "      <td>-4.224569</td>\n",
       "      <td>-3.398307</td>\n",
       "      <td>-2.079302</td>\n",
       "      <td>-1.597905</td>\n",
       "      <td>-1.527974</td>\n",
       "      <td>...</td>\n",
       "      <td>0.416087</td>\n",
       "      <td>1.114983</td>\n",
       "      <td>0.899164</td>\n",
       "      <td>1.154525</td>\n",
       "      <td>1.987328</td>\n",
       "      <td>2.428732</td>\n",
       "      <td>2.613987</td>\n",
       "      <td>1.962819</td>\n",
       "      <td>1.769198</td>\n",
       "      <td>1.0</td>\n",
       "    </tr>\n",
       "  </tbody>\n",
       "</table>\n",
       "<p>20 rows × 141 columns</p>\n",
       "</div>"
      ],
      "text/plain": [
       "         0         1         2         3         4         5         6    \\\n",
       "0  -0.112522 -2.827204 -3.773897 -4.349751 -4.376041 -3.474986 -2.181408   \n",
       "1  -1.100878 -3.996840 -4.285843 -4.506579 -4.022377 -3.234368 -1.566126   \n",
       "2  -0.567088 -2.593450 -3.874230 -4.584095 -4.187449 -3.151462 -1.742940   \n",
       "3   0.490473 -1.914407 -3.616364 -4.318823 -4.268016 -3.881110 -2.993280   \n",
       "4   0.800232 -0.874252 -2.384761 -3.973292 -4.338224 -3.802422 -2.534510   \n",
       "5  -1.507674 -3.574550 -4.478011 -4.408275 -3.321242 -2.105171 -1.481048   \n",
       "6  -0.297161 -2.766635 -4.102185 -4.589669 -4.219357 -3.650443 -2.300518   \n",
       "7   0.446769 -1.507397 -3.187468 -4.507462 -4.604201 -3.636115 -2.311604   \n",
       "8   0.087631 -1.753490 -3.304473 -4.704657 -4.686415 -3.611817 -2.267268   \n",
       "9  -0.832281 -1.700368 -2.257301 -2.853671 -2.853301 -2.701487 -2.285726   \n",
       "10  0.084430 -3.190307 -4.686175 -4.559483 -4.087972 -2.618859 -1.760590   \n",
       "11 -0.007819 -2.336757 -3.527643 -4.326244 -3.890414 -2.946001 -1.922457   \n",
       "12 -1.074302 -3.259400 -4.125979 -4.342446 -3.922558 -3.190156 -1.946061   \n",
       "13  4.058127  2.087844  0.423115 -2.058869 -3.237691 -4.526753 -3.836157   \n",
       "14 -0.761603 -2.921243 -3.894315 -4.384961 -4.068225 -3.511104 -2.532815   \n",
       "15 -0.186500 -2.682488 -4.016882 -4.218122 -3.841665 -2.994059 -1.973940   \n",
       "16  0.803939 -1.106910 -2.854107 -3.898687 -4.153132 -3.997156 -3.290888   \n",
       "17 -0.920213 -2.449510 -3.192028 -3.875163 -4.180723 -3.892177 -3.156228   \n",
       "18  2.744603 -0.101924 -2.851681 -3.974909 -3.995437 -3.719663 -2.680970   \n",
       "19  2.402869  2.036719  0.340902 -1.286436 -3.301455 -4.224569 -3.398307   \n",
       "\n",
       "         7         8         9    ...       131       132       133       134  \\\n",
       "0  -1.818286 -1.250522 -0.477492  ...  0.792168  0.933541  0.796958  0.578621   \n",
       "1  -0.992258 -0.754680  0.042321  ...  0.538356  0.656881  0.787490  0.724046   \n",
       "2  -1.490659 -1.183580 -0.394229  ...  0.886073  0.531452  0.311377 -0.021919   \n",
       "3  -1.671131 -1.333884 -0.965629  ...  0.350816  0.499111  0.600345  0.842069   \n",
       "4  -1.783423 -1.594450 -0.753199  ...  1.148884  0.958434  1.059025  1.371682   \n",
       "5  -1.301362 -0.498240 -0.286928  ...  1.089068  0.983369  1.014124  0.952629   \n",
       "6  -1.293917 -1.065658 -0.490520  ...  0.581779  0.684406  0.911651  0.979483   \n",
       "7  -1.597727 -1.362450 -0.669216  ...  1.001306  1.292059  1.378667  1.014765   \n",
       "8  -1.570893 -1.417790 -0.500788  ...  1.709046  2.142926  2.393528  1.925550   \n",
       "9  -1.555512 -1.266622 -1.085957  ...  2.110504  2.203668  2.227544  2.171733   \n",
       "10 -1.592964 -0.569117 -0.130400  ...  1.152279  1.271808  1.190796  1.180738   \n",
       "11 -1.670539 -1.303111 -0.299080  ...  1.526739  1.426058  1.589126  1.564845   \n",
       "12 -1.554774 -1.296352 -0.565004  ...  0.931064  1.129242  1.023550  0.767713   \n",
       "13 -1.975006 -0.783353 -0.381038  ... -0.104009  1.504644  1.392034  1.331141   \n",
       "14 -1.687396 -1.398099 -0.899288  ...  1.073100  1.242501  1.449587  1.379750   \n",
       "15 -1.639707 -1.291207 -0.566769  ...  0.781289  0.725187  1.068264  1.129702   \n",
       "16 -2.189364 -1.582271 -1.419742  ...  0.879433  1.026522  1.074677  0.846941   \n",
       "17 -2.022569 -1.520139 -1.170222  ...  1.346675  0.998193  0.234542 -0.624934   \n",
       "18 -1.441639 -1.166864 -0.657178  ...  0.451441  0.802779  0.883922  0.895320   \n",
       "19 -2.079302 -1.597905 -1.527974  ...  0.416087  1.114983  0.899164  1.154525   \n",
       "\n",
       "         135       136       137       138       139  140  \n",
       "0   0.257740  0.228077  0.123431  0.925286  0.193137  1.0  \n",
       "1   0.555784  0.476333  0.773820  1.119621 -1.436250  1.0  \n",
       "2  -0.713683 -0.532197  0.321097  0.904227 -0.421797  1.0  \n",
       "3   0.952074  0.990133  1.086798  1.403011 -0.383564  1.0  \n",
       "4   1.277392  0.960304  0.971020  1.614392  1.421456  1.0  \n",
       "5   0.749326  1.007076  1.634990  1.493365 -0.783134  1.0  \n",
       "6   1.053458  0.974787  1.110407  1.288165 -0.823386  1.0  \n",
       "7   0.820793  1.034388  1.258433  0.961215 -0.999476  1.0  \n",
       "8   1.027624  0.573453  0.192971 -0.648683 -2.441068  1.0  \n",
       "9   2.045938  2.126372  2.126852  1.679299  0.965814  1.0  \n",
       "10  1.058195  0.982577  0.873772  1.626707 -0.020783  1.0  \n",
       "11  1.334712  1.165209  0.954434  1.470211  0.393063  1.0  \n",
       "12  0.613426  0.696247  1.176666  1.131633 -1.094973  1.0  \n",
       "13  1.197531  1.092861 -0.129327 -1.038259 -1.489863  1.0  \n",
       "14  1.068117  0.746061  0.849046  1.162112 -0.381257  1.0  \n",
       "15  0.940981  1.008044  1.564257  2.151476  0.180054  1.0  \n",
       "16  0.573690  0.857986  1.202416  0.613242 -1.655647  1.0  \n",
       "17 -1.134100 -1.263556 -0.964272 -0.370832 -1.040489  1.0  \n",
       "18  0.840126  1.305181  2.114687  1.590270 -1.921928  1.0  \n",
       "19  1.987328  2.428732  2.613987  1.962819  1.769198  1.0  \n",
       "\n",
       "[20 rows x 141 columns]"
      ]
     },
     "execution_count": 2,
     "metadata": {},
     "output_type": "execute_result"
    }
   ],
   "source": [
    "df.head(20)"
   ]
  },
  {
   "cell_type": "code",
   "execution_count": 3,
   "metadata": {
    "colab": {
     "base_uri": "https://localhost:8080/"
    },
    "id": "ytxPkLAywU2_",
    "outputId": "3111bcc9-93ca-42f5-b9b2-5596c4b04de6"
   },
   "outputs": [
    {
     "data": {
      "text/plain": [
       "1.0    2919\n",
       "0.0    2079\n",
       "Name: 140, dtype: int64"
      ]
     },
     "execution_count": 3,
     "metadata": {},
     "output_type": "execute_result"
    }
   ],
   "source": [
    "df[140].value_counts()"
   ]
  },
  {
   "cell_type": "code",
   "execution_count": 4,
   "metadata": {
    "colab": {
     "base_uri": "https://localhost:8080/",
     "height": 300
    },
    "id": "BYrOtTmCwali",
    "outputId": "f0e849f3-311a-4fd4-e766-b99c7506f2a9"
   },
   "outputs": [
    {
     "data": {
      "text/plain": [
       "Text(0.5, 1.0, '0.0')"
      ]
     },
     "execution_count": 4,
     "metadata": {},
     "output_type": "execute_result"
    },
    {
     "data": {
      "image/png": "[encoded data removed]",
      "text/plain": [
       "<Figure size 432x288 with 1 Axes>"
      ]
     },
     "metadata": {
      "needs_background": "light"
     },
     "output_type": "display_data"
    }
   ],
   "source": [
    "import matplotlib.pyplot as plt\n",
    "\n",
    "row = -1\n",
    "df.iloc[row,:-1].plot()\n",
    "plt.title(df.iloc[row,-1])"
   ]
  },
  {
   "cell_type": "code",
   "execution_count": 5,
   "metadata": {
    "id": "bPThQOcevkTL"
   },
   "outputs": [],
   "source": [
    "# 마지막 열이 라벨임, 분리하여 dataset 만듦\n",
    "\n",
    "from sklearn.model_selection import train_test_split\n",
    "\n",
    "labels = raw_data[:, -1]\n",
    "data = raw_data[:, 0:-1]\n",
    "\n",
    "train_data, test_data, train_labels, test_labels = train_test_split(\n",
    "    data, labels, test_size=0.2, random_state=21\n",
    ")"
   ]
  },
  {
   "cell_type": "code",
   "execution_count": 6,
   "metadata": {
    "colab": {
     "base_uri": "https://localhost:8080/"
    },
    "id": "5zpcEux_wC9u",
    "outputId": "1269db5c-3038-4de6-c179-be68fded79bb"
   },
   "outputs": [
    {
     "data": {
      "text/plain": [
       "(3998, 140)"
      ]
     },
     "execution_count": 6,
     "metadata": {},
     "output_type": "execute_result"
    }
   ],
   "source": [
    "train_data.shape"
   ]
  },
  {
   "cell_type": "code",
   "execution_count": 7,
   "metadata": {
    "colab": {
     "base_uri": "https://localhost:8080/"
    },
    "id": "vh87jFMUwKUQ",
    "outputId": "f8797d88-779e-40d7-c6f3-b6a84d07416b"
   },
   "outputs": [
    {
     "data": {
      "text/plain": [
       "array([1., 1., 1., ..., 1., 1., 1.])"
      ]
     },
     "execution_count": 7,
     "metadata": {},
     "output_type": "execute_result"
    }
   ],
   "source": [
    "train_labels"
   ]
  },
  {
   "cell_type": "code",
   "execution_count": 8,
   "metadata": {
    "colab": {
     "base_uri": "https://localhost:8080/"
    },
    "id": "EfIcYH-i_l3o",
    "outputId": "c2002103-b7a0-461c-cf21-b7868bb09ed4"
   },
   "outputs": [
    {
     "data": {
      "text/plain": [
       "numpy.ndarray"
      ]
     },
     "execution_count": 8,
     "metadata": {},
     "output_type": "execute_result"
    }
   ],
   "source": [
    "type(train_data)"
   ]
  },
  {
   "cell_type": "code",
   "execution_count": 9,
   "metadata": {
    "id": "gIBOjWHHwOfS"
   },
   "outputs": [],
   "source": [
    "import tensorflow as tf\n",
    "from tensorflow.keras import layers, models\n",
    "\n",
    "encoder = tf.keras.Sequential([\n",
    "      layers.Dense(32, activation=\"relu\"),\n",
    "      layers.Dense(16, activation=\"relu\"),\n",
    "      layers.Dense(8, activation=\"relu\")])\n",
    "\n",
    "decoder = tf.keras.Sequential([\n",
    "      layers.Dense(16, activation=\"relu\"),\n",
    "      layers.Dense(32, activation=\"relu\"),\n",
    "      layers.Dense(140, activation=\"sigmoid\")])\n",
    "\n",
    "model = models.Sequential([encoder, decoder])"
   ]
  },
  {
   "cell_type": "code",
   "execution_count": 10,
   "metadata": {
    "id": "H-fxIxkbztkM"
   },
   "outputs": [],
   "source": [
    "model.compile(optimizer='adam', loss='mae')"
   ]
  },
  {
   "cell_type": "code",
   "execution_count": 11,
   "metadata": {
    "id": "5bZkHWA60FkT"
   },
   "outputs": [],
   "source": [
    "# [0,1]로 데이터 정규화\n",
    "min_val = train_data.min()\n",
    "max_val = train_data.max()\n",
    "\n",
    "train_data = (train_data - min_val) / (max_val - min_val)\n",
    "test_data = (test_data - min_val) / (max_val - min_val)\n"
   ]
  },
  {
   "cell_type": "code",
   "execution_count": 12,
   "metadata": {
    "colab": {
     "base_uri": "https://localhost:8080/"
    },
    "id": "9i3dllOO_3vZ",
    "outputId": "6c5e2fe0-e6f3-4e30-9f24-0b025c8e8312"
   },
   "outputs": [
    {
     "data": {
      "text/plain": [
       "array([[0.57030466, 0.46561659, 0.29058117, ..., 0.48504233, 0.42335019,\n",
       "        0.47598344],\n",
       "       [0.48320587, 0.28246963, 0.16471254, ..., 0.56756701, 0.46772939,\n",
       "        0.26923291],\n",
       "       [0.48144641, 0.35151403, 0.25972766, ..., 0.54794209, 0.50775438,\n",
       "        0.54298664],\n",
       "       ...,\n",
       "       [0.41039048, 0.24164985, 0.13120877, ..., 0.52773129, 0.56540911,\n",
       "        0.50238847],\n",
       "       [0.53977477, 0.41407858, 0.28101392, ..., 0.51266516, 0.43706054,\n",
       "        0.44268649],\n",
       "       [0.29639772, 0.15988175, 0.18883787, ..., 0.53766964, 0.54578602,\n",
       "        0.40826709]])"
      ]
     },
     "execution_count": 12,
     "metadata": {},
     "output_type": "execute_result"
    }
   ],
   "source": [
    "train_data"
   ]
  },
  {
   "cell_type": "code",
   "execution_count": 13,
   "metadata": {
    "id": "bL_cgpPl0KB0"
   },
   "outputs": [],
   "source": [
    "# 정상:1, 비정상:0 데이터 분류\n",
    "train_labels = train_labels.astype(bool)\n",
    "test_labels = test_labels.astype(bool)\n",
    "\n",
    "normal_train_data = train_data[train_labels]\n",
    "normal_test_data = test_data[test_labels]\n",
    "\n",
    "anomalous_train_data = train_data[~train_labels]\n",
    "anomalous_test_data = test_data[~test_labels]"
   ]
  },
  {
   "cell_type": "code",
   "execution_count": 14,
   "metadata": {
    "colab": {
     "base_uri": "https://localhost:8080/"
    },
    "id": "lBZI7O-Uz1KT",
    "outputId": "e9c6376d-7a95-40df-a143-f37e7f3fc47e"
   },
   "outputs": [
    {
     "name": "stdout",
     "output_type": "stream",
     "text": [
      "Epoch 1/20\n",
      "WARNING:tensorflow:AutoGraph could not transform <function Model.make_train_function.<locals>.train_function at 0x000001D348A5E9D8> and will run it as-is.\n",
      "Please report this to the TensorFlow team. When filing the bug, set the verbosity to 10 (on Linux, `export AUTOGRAPH_VERBOSITY=10`) and attach the full output.\n",
      "Cause: 'arguments' object has no attribute 'posonlyargs'\n",
      "To silence this warning, decorate the function with @tf.autograph.experimental.do_not_convert\n",
      "WARNING: AutoGraph could not transform <function Model.make_train_function.<locals>.train_function at 0x000001D348A5E9D8> and will run it as-is.\n",
      "Please report this to the TensorFlow team. When filing the bug, set the verbosity to 10 (on Linux, `export AUTOGRAPH_VERBOSITY=10`) and attach the full output.\n",
      "Cause: 'arguments' object has no attribute 'posonlyargs'\n",
      "To silence this warning, decorate the function with @tf.autograph.experimental.do_not_convert\n",
      "1/5 [=====>........................] - ETA: 0s - loss: 0.0589WARNING:tensorflow:AutoGraph could not transform <function Model.make_test_function.<locals>.test_function at 0x000001D3565F69D8> and will run it as-is.\n",
      "Please report this to the TensorFlow team. When filing the bug, set the verbosity to 10 (on Linux, `export AUTOGRAPH_VERBOSITY=10`) and attach the full output.\n",
      "Cause: 'arguments' object has no attribute 'posonlyargs'\n",
      "To silence this warning, decorate the function with @tf.autograph.experimental.do_not_convert\n",
      "WARNING: AutoGraph could not transform <function Model.make_test_function.<locals>.test_function at 0x000001D3565F69D8> and will run it as-is.\n",
      "Please report this to the TensorFlow team. When filing the bug, set the verbosity to 10 (on Linux, `export AUTOGRAPH_VERBOSITY=10`) and attach the full output.\n",
      "Cause: 'arguments' object has no attribute 'posonlyargs'\n",
      "To silence this warning, decorate the function with @tf.autograph.experimental.do_not_convert\n",
      "5/5 [==============================] - 0s 38ms/step - loss: 0.0579 - val_loss: 0.0533\n",
      "Epoch 2/20\n",
      "5/5 [==============================] - 0s 4ms/step - loss: 0.0561 - val_loss: 0.0520\n",
      "Epoch 3/20\n",
      "5/5 [==============================] - 0s 4ms/step - loss: 0.0539 - val_loss: 0.0503\n",
      "Epoch 4/20\n",
      "5/5 [==============================] - 0s 4ms/step - loss: 0.0509 - val_loss: 0.0488\n",
      "Epoch 5/20\n",
      "5/5 [==============================] - 0s 5ms/step - loss: 0.0476 - val_loss: 0.0470\n",
      "Epoch 6/20\n",
      "5/5 [==============================] - 0s 4ms/step - loss: 0.0443 - val_loss: 0.0454\n",
      "Epoch 7/20\n",
      "5/5 [==============================] - 0s 5ms/step - loss: 0.0410 - val_loss: 0.0437\n",
      "Epoch 8/20\n",
      "5/5 [==============================] - 0s 4ms/step - loss: 0.0379 - val_loss: 0.0421\n",
      "Epoch 9/20\n",
      "5/5 [==============================] - 0s 5ms/step - loss: 0.0350 - val_loss: 0.0406\n",
      "Epoch 10/20\n",
      "5/5 [==============================] - 0s 4ms/step - loss: 0.0326 - val_loss: 0.0396\n",
      "Epoch 11/20\n",
      "5/5 [==============================] - 0s 5ms/step - loss: 0.0306 - val_loss: 0.0387\n",
      "Epoch 12/20\n",
      "5/5 [==============================] - 0s 4ms/step - loss: 0.0290 - val_loss: 0.0381\n",
      "Epoch 13/20\n",
      "5/5 [==============================] - 0s 5ms/step - loss: 0.0276 - val_loss: 0.0374\n",
      "Epoch 14/20\n",
      "5/5 [==============================] - 0s 4ms/step - loss: 0.0264 - val_loss: 0.0368\n",
      "Epoch 15/20\n",
      "5/5 [==============================] - 0s 4ms/step - loss: 0.0255 - val_loss: 0.0361\n",
      "Epoch 16/20\n",
      "5/5 [==============================] - 0s 4ms/step - loss: 0.0248 - val_loss: 0.0356\n",
      "Epoch 17/20\n",
      "5/5 [==============================] - 0s 4ms/step - loss: 0.0242 - val_loss: 0.0350\n",
      "Epoch 18/20\n",
      "5/5 [==============================] - 0s 4ms/step - loss: 0.0236 - val_loss: 0.0346\n",
      "Epoch 19/20\n",
      "5/5 [==============================] - 0s 4ms/step - loss: 0.0230 - val_loss: 0.0341\n",
      "Epoch 20/20\n",
      "5/5 [==============================] - 0s 4ms/step - loss: 0.0224 - val_loss: 0.0337\n"
     ]
    }
   ],
   "source": [
    "history = model.fit(normal_train_data, normal_train_data, \n",
    "          epochs=20, \n",
    "          batch_size=512,\n",
    "          validation_data=(test_data, test_data),\n",
    "          shuffle=True)"
   ]
  },
  {
   "cell_type": "code",
   "execution_count": 15,
   "metadata": {
    "colab": {
     "base_uri": "https://localhost:8080/",
     "height": 281
    },
    "id": "OU7vltX8z8Ip",
    "outputId": "2b9af7bc-c0d3-497b-8ff0-0749b0a126d9"
   },
   "outputs": [
    {
     "data": {
      "image/png": "[encoded data removed]",
      "text/plain": [
       "<Figure size 432x288 with 1 Axes>"
      ]
     },
     "metadata": {
      "needs_background": "light"
     },
     "output_type": "display_data"
    }
   ],
   "source": [
    "# 정상데이터 출력\n",
    "import numpy as np\n",
    "\n",
    "plt.grid()\n",
    "plt.plot(np.arange(140), normal_train_data[0])\n",
    "plt.title(\"A Normal ECG\")\n",
    "plt.show()"
   ]
  },
  {
   "cell_type": "code",
   "execution_count": 16,
   "metadata": {
    "colab": {
     "base_uri": "https://localhost:8080/",
     "height": 281
    },
    "id": "lr05-xwN0ZuC",
    "outputId": "91a49754-8dd1-4e14-8952-35b2b0bf4479"
   },
   "outputs": [
    {
     "data": {
      "image/png": "[encoded data removed]",
      "text/plain": [
       "<Figure size 432x288 with 1 Axes>"
      ]
     },
     "metadata": {
      "needs_background": "light"
     },
     "output_type": "display_data"
    }
   ],
   "source": [
    "# 비정상 데이터 출력\n",
    "plt.grid()\n",
    "plt.plot(np.arange(140), anomalous_train_data[0])\n",
    "plt.title(\"An Anomalous ECG\")\n",
    "plt.show()"
   ]
  },
  {
   "cell_type": "code",
   "execution_count": 17,
   "metadata": {
    "colab": {
     "base_uri": "https://localhost:8080/",
     "height": 265
    },
    "id": "IxfY-La00h1V",
    "outputId": "3cbe16e4-16b2-462c-bdbe-7882f19076c2"
   },
   "outputs": [
    {
     "name": "stdout",
     "output_type": "stream",
     "text": [
      "WARNING:tensorflow:AutoGraph could not transform <function Model.make_predict_function.<locals>.predict_function at 0x000001D5AD5D4318> and will run it as-is.\n",
      "Please report this to the TensorFlow team. When filing the bug, set the verbosity to 10 (on Linux, `export AUTOGRAPH_VERBOSITY=10`) and attach the full output.\n",
      "Cause: 'arguments' object has no attribute 'posonlyargs'\n",
      "To silence this warning, decorate the function with @tf.autograph.experimental.do_not_convert\n",
      "WARNING: AutoGraph could not transform <function Model.make_predict_function.<locals>.predict_function at 0x000001D5AD5D4318> and will run it as-is.\n",
      "Please report this to the TensorFlow team. When filing the bug, set the verbosity to 10 (on Linux, `export AUTOGRAPH_VERBOSITY=10`) and attach the full output.\n",
      "Cause: 'arguments' object has no attribute 'posonlyargs'\n",
      "To silence this warning, decorate the function with @tf.autograph.experimental.do_not_convert\n"
     ]
    },
    {
     "data": {
      "image/png": "[encoded data removed]",
      "text/plain": [
       "<Figure size 432x288 with 1 Axes>"
      ]
     },
     "metadata": {
      "needs_background": "light"
     },
     "output_type": "display_data"
    }
   ],
   "source": [
    "# 정상데이터로 훈련된 autoencoder에서 예측값과 입력 데이터를 비교\n",
    "\n",
    "decoded_imgs = model.predict(normal_test_data)\n",
    "\n",
    "plt.plot(normal_test_data[0], 'b')\n",
    "plt.plot(decoded_imgs[0], 'r')\n",
    "plt.fill_between(np.arange(140), decoded_imgs[0], normal_test_data[0], color='lightcoral')\n",
    "plt.legend(labels=[\"Input\", \"Reconstruction\", \"Error\"])\n",
    "plt.show()"
   ]
  },
  {
   "cell_type": "code",
   "execution_count": 18,
   "metadata": {
    "colab": {
     "base_uri": "https://localhost:8080/",
     "height": 265
    },
    "id": "MO6P20SH0to-",
    "outputId": "e4919213-e6fc-472d-e88f-d1b901e055c4"
   },
   "outputs": [
    {
     "data": {
      "image/png": "[encoded data removed]",
      "text/plain": [
       "<Figure size 432x288 with 1 Axes>"
      ]
     },
     "metadata": {
      "needs_background": "light"
     },
     "output_type": "display_data"
    }
   ],
   "source": [
    "# 정상데이터로 훈련된 autoencoder에서 예측값과 입력 데이터를 비교\n",
    "\n",
    "# 비정상 데이터를 입력으로 넣어보자\n",
    "decoded_imgs = model.predict(anomalous_test_data)\n",
    "\n",
    "plt.plot(anomalous_test_data[0], 'b')\n",
    "plt.plot(decoded_imgs[0], 'r')\n",
    "plt.fill_between(np.arange(140), decoded_imgs[0], anomalous_test_data[0], color='lightcoral')\n",
    "plt.legend(labels=[\"Input\", \"Reconstruction\", \"Error\"])\n",
    "plt.show()"
   ]
  },
  {
   "cell_type": "code",
   "execution_count": 19,
   "metadata": {
    "id": "QPjduFDp1VPx"
   },
   "outputs": [],
   "source": [
    "# 정상데이터의 오차범위 확인\n",
    "reconstructions = model.predict(normal_train_data)\n",
    "train_loss = tf.keras.losses.mae(reconstructions, normal_train_data)"
   ]
  },
  {
   "cell_type": "code",
   "execution_count": 20,
   "metadata": {
    "colab": {
     "base_uri": "https://localhost:8080/",
     "height": 359
    },
    "id": "wW3VyL6y1qEH",
    "outputId": "c4e7f42d-fea8-45d8-ded2-f53fcaebc0f6"
   },
   "outputs": [
    {
     "data": {
      "text/plain": [
       "(array([[0., 0., 1., ..., 0., 0., 0.],\n",
       "        [1., 0., 0., ..., 0., 0., 0.],\n",
       "        [0., 1., 0., ..., 0., 0., 0.],\n",
       "        ...,\n",
       "        [1., 0., 0., ..., 0., 0., 0.],\n",
       "        [0., 1., 0., ..., 0., 0., 0.],\n",
       "        [0., 1., 0., ..., 0., 0., 0.]]),\n",
       " array([0.00908066, 0.01811813, 0.0271556 , 0.03619307, 0.04523054,\n",
       "        0.05426801, 0.06330548, 0.07234295, 0.08138042, 0.09041789,\n",
       "        0.09945536]),\n",
       " <a list of 2359 BarContainer objects>)"
      ]
     },
     "execution_count": 20,
     "metadata": {},
     "output_type": "execute_result"
    },
    {
     "data": {
      "image/png": "[encoded data removed]",
      "text/plain": [
       "<Figure size 432x288 with 1 Axes>"
      ]
     },
     "metadata": {
      "needs_background": "light"
     },
     "output_type": "display_data"
    }
   ],
   "source": [
    "plt.hist(train_loss)"
   ]
  },
  {
   "cell_type": "code",
   "execution_count": 21,
   "metadata": {
    "id": "YXeoHdp31tm4"
   },
   "outputs": [],
   "source": [
    "# 비정상 데이터 오차범위 확인\n",
    "reconstructions2 = model.predict(anomalous_train_data)\n",
    "train_loss2 = tf.keras.losses.mae(reconstructions2, anomalous_train_data)"
   ]
  },
  {
   "cell_type": "code",
   "execution_count": 22,
   "metadata": {
    "colab": {
     "base_uri": "https://localhost:8080/",
     "height": 359
    },
    "id": "YJFOYiTv2CYR",
    "outputId": "d7dab188-52eb-4943-91af-104e6eab45c5"
   },
   "outputs": [
    {
     "data": {
      "text/plain": [
       "(array([[0., 0., 0., ..., 0., 0., 0.],\n",
       "        [0., 0., 0., ..., 0., 0., 0.],\n",
       "        [0., 0., 1., ..., 0., 0., 0.],\n",
       "        ...,\n",
       "        [0., 0., 0., ..., 0., 0., 0.],\n",
       "        [0., 0., 0., ..., 0., 0., 0.],\n",
       "        [0., 0., 0., ..., 0., 0., 0.]]),\n",
       " array([0.02172459, 0.02906414, 0.03640369, 0.04374325, 0.0510828 ,\n",
       "        0.05842236, 0.06576191, 0.07310146, 0.08044102, 0.08778057,\n",
       "        0.09512013]),\n",
       " <a list of 1639 BarContainer objects>)"
      ]
     },
     "execution_count": 22,
     "metadata": {},
     "output_type": "execute_result"
    },
    {
     "data": {
      "image/png": "[encoded data removed]",
      "text/plain": [
       "<Figure size 432x288 with 1 Axes>"
      ]
     },
     "metadata": {
      "needs_background": "light"
     },
     "output_type": "display_data"
    }
   ],
   "source": [
    "plt.hist(train_loss2)"
   ]
  },
  {
   "cell_type": "code",
   "execution_count": 23,
   "metadata": {
    "id": "-TZbbi3l2QAT"
   },
   "outputs": [],
   "source": [
    "# 정상데이터의 1표준편차 이상을 이상치로 판별해보자, \n",
    "threshold = np.mean(train_loss) + np.std(train_loss)"
   ]
  },
  {
   "cell_type": "code",
   "execution_count": 24,
   "metadata": {
    "id": "MCBtPKiA2Zsp"
   },
   "outputs": [],
   "source": [
    "# 비정상 test data \n",
    "reconstructions3 = model.predict(anomalous_test_data)\n",
    "test_loss3 = tf.keras.losses.mae(reconstructions3, anomalous_test_data)"
   ]
  },
  {
   "cell_type": "code",
   "execution_count": 25,
   "metadata": {
    "colab": {
     "base_uri": "https://localhost:8080/"
    },
    "id": "nXlDqCgl2pQC",
    "outputId": "e4cf1bd2-3007-4449-8647-f36c05297c77"
   },
   "outputs": [
    {
     "data": {
      "text/plain": [
       "<tf.Tensor: shape=(440,), dtype=bool, numpy=\n",
       "array([False, False, False, False, False, False, False, False, False,\n",
       "       False, False, False, False, False,  True, False, False, False,\n",
       "       False, False, False, False, False, False, False, False, False,\n",
       "       False, False, False, False, False, False, False, False, False,\n",
       "       False, False, False, False, False, False, False, False, False,\n",
       "       False, False, False, False, False, False, False, False, False,\n",
       "       False, False, False, False, False, False, False, False, False,\n",
       "       False, False, False, False, False, False, False, False, False,\n",
       "       False, False, False, False, False, False, False, False, False,\n",
       "       False, False, False, False, False, False, False, False, False,\n",
       "       False, False, False, False, False, False, False, False, False,\n",
       "       False, False, False, False, False, False, False, False, False,\n",
       "       False, False, False, False, False, False, False, False, False,\n",
       "       False, False, False, False, False, False, False, False, False,\n",
       "       False, False, False, False, False, False, False, False, False,\n",
       "       False, False, False, False, False, False, False, False, False,\n",
       "       False, False, False, False, False, False, False, False, False,\n",
       "       False, False, False, False, False, False, False, False, False,\n",
       "       False, False, False, False, False, False, False, False, False,\n",
       "       False, False, False, False, False, False, False, False, False,\n",
       "       False, False, False, False, False, False, False, False, False,\n",
       "       False, False, False,  True, False, False, False, False, False,\n",
       "       False, False, False, False, False, False, False, False, False,\n",
       "       False, False, False, False, False, False, False, False, False,\n",
       "       False, False, False, False, False, False, False, False, False,\n",
       "       False, False, False, False, False, False, False, False, False,\n",
       "       False, False, False, False, False, False, False, False, False,\n",
       "       False, False, False, False, False, False, False, False, False,\n",
       "       False, False, False, False, False, False, False, False, False,\n",
       "       False, False, False, False, False, False, False, False, False,\n",
       "       False, False, False, False, False, False, False, False,  True,\n",
       "       False, False, False, False, False, False, False, False, False,\n",
       "       False, False, False, False, False, False, False, False, False,\n",
       "       False, False, False, False, False, False, False, False, False,\n",
       "       False, False, False, False, False,  True, False, False, False,\n",
       "       False, False, False, False, False, False, False, False, False,\n",
       "       False, False, False, False, False, False, False, False, False,\n",
       "       False, False, False, False, False, False, False, False, False,\n",
       "       False, False, False, False, False, False, False, False, False,\n",
       "       False, False, False, False, False, False, False, False, False,\n",
       "       False, False, False, False, False, False, False, False, False,\n",
       "       False, False, False, False, False, False, False, False, False,\n",
       "       False, False, False, False, False, False, False, False, False,\n",
       "       False, False, False, False, False, False, False, False, False,\n",
       "       False, False, False, False, False, False, False, False, False,\n",
       "       False, False, False, False, False, False, False, False, False,\n",
       "       False, False, False, False, False, False, False, False, False,\n",
       "       False, False, False, False, False, False, False, False, False,\n",
       "       False, False, False, False, False, False, False, False])>"
      ]
     },
     "execution_count": 25,
     "metadata": {},
     "output_type": "execute_result"
    }
   ],
   "source": [
    "test_loss3< threshold"
   ]
  },
  {
   "cell_type": "code",
   "execution_count": 26,
   "metadata": {
    "id": "5qtttcqa247U"
   },
   "outputs": [],
   "source": [
    "# test data \n",
    "reconstructions4 = model.predict(test_data)\n",
    "test_loss4 = tf.keras.losses.mae(reconstructions4, test_data)"
   ]
  },
  {
   "cell_type": "code",
   "execution_count": 27,
   "metadata": {
    "id": "COnEWzO83QYq"
   },
   "outputs": [],
   "source": [
    "preds=test_loss4< threshold"
   ]
  },
  {
   "cell_type": "code",
   "execution_count": 28,
   "metadata": {
    "colab": {
     "base_uri": "https://localhost:8080/"
    },
    "id": "t0gZ-a4R3TVK",
    "outputId": "f92cf069-9ddc-4406-d585-458fc3beb084"
   },
   "outputs": [
    {
     "data": {
      "text/plain": [
       "array([ True, False,  True,  True, False,  True,  True,  True, False,\n",
       "        True,  True,  True, False,  True, False,  True,  True,  True,\n",
       "       False, False, False,  True,  True,  True,  True,  True,  True,\n",
       "        True,  True,  True,  True,  True,  True,  True,  True, False,\n",
       "       False, False,  True, False,  True, False,  True,  True,  True,\n",
       "        True,  True,  True, False, False,  True, False, False, False,\n",
       "        True, False,  True,  True, False,  True, False,  True,  True,\n",
       "       False, False,  True, False, False,  True,  True, False,  True,\n",
       "       False, False,  True, False, False,  True,  True,  True,  True,\n",
       "       False, False,  True,  True,  True, False, False, False,  True,\n",
       "        True, False, False, False,  True, False,  True, False, False,\n",
       "        True, False,  True, False,  True,  True,  True, False,  True,\n",
       "       False,  True,  True,  True, False,  True, False,  True,  True,\n",
       "       False, False,  True, False,  True,  True,  True, False,  True,\n",
       "       False,  True,  True, False, False,  True, False,  True, False,\n",
       "        True,  True,  True,  True,  True, False, False,  True, False,\n",
       "       False,  True,  True,  True,  True,  True, False,  True,  True,\n",
       "       False,  True,  True, False, False,  True, False,  True,  True,\n",
       "        True,  True,  True, False, False, False,  True,  True, False,\n",
       "        True,  True, False, False, False, False,  True, False,  True,\n",
       "        True, False, False, False, False,  True,  True,  True,  True,\n",
       "        True, False, False,  True, False,  True,  True, False, False,\n",
       "        True,  True,  True, False,  True, False, False,  True, False,\n",
       "        True,  True,  True,  True, False,  True, False,  True, False,\n",
       "       False,  True,  True,  True, False, False,  True,  True,  True,\n",
       "        True,  True,  True, False,  True,  True,  True,  True,  True,\n",
       "        True, False,  True, False,  True,  True,  True, False,  True,\n",
       "        True,  True, False,  True,  True, False, False,  True,  True,\n",
       "       False,  True, False, False, False, False, False,  True, False,\n",
       "       False,  True, False,  True,  True, False,  True, False,  True,\n",
       "        True, False, False,  True, False, False, False,  True,  True,\n",
       "        True,  True,  True,  True, False, False,  True,  True,  True,\n",
       "        True, False,  True,  True, False,  True,  True,  True,  True,\n",
       "       False,  True, False,  True, False, False, False,  True, False,\n",
       "        True, False,  True,  True, False,  True,  True,  True,  True,\n",
       "        True, False,  True,  True, False, False,  True,  True,  True,\n",
       "        True,  True, False, False,  True,  True,  True,  True,  True,\n",
       "       False, False, False, False, False, False,  True, False,  True,\n",
       "        True,  True,  True,  True,  True,  True, False, False,  True,\n",
       "       False, False,  True,  True,  True, False, False,  True, False,\n",
       "        True, False,  True, False,  True,  True, False,  True,  True,\n",
       "        True,  True,  True,  True, False,  True,  True,  True,  True,\n",
       "       False,  True, False, False,  True, False,  True,  True, False,\n",
       "       False,  True, False,  True,  True, False,  True, False,  True,\n",
       "       False,  True,  True,  True,  True, False, False, False,  True,\n",
       "       False, False, False, False,  True,  True, False,  True,  True,\n",
       "        True, False,  True,  True,  True,  True,  True,  True, False,\n",
       "        True, False, False,  True,  True, False,  True,  True, False,\n",
       "        True,  True, False,  True,  True, False,  True, False, False,\n",
       "        True,  True,  True,  True, False,  True,  True, False, False,\n",
       "       False,  True, False,  True, False, False,  True,  True, False,\n",
       "       False, False,  True,  True,  True, False,  True, False, False,\n",
       "       False, False,  True,  True,  True,  True,  True,  True, False,\n",
       "       False, False, False,  True, False,  True, False,  True,  True,\n",
       "       False, False, False, False, False,  True,  True, False, False,\n",
       "       False,  True,  True,  True, False, False,  True, False, False,\n",
       "       False, False, False,  True,  True, False,  True, False, False,\n",
       "        True,  True, False, False,  True, False, False,  True, False,\n",
       "        True, False, False, False, False,  True, False,  True, False,\n",
       "       False, False, False,  True,  True,  True,  True,  True,  True,\n",
       "       False, False,  True,  True, False,  True,  True,  True,  True,\n",
       "        True,  True,  True,  True,  True,  True,  True,  True,  True,\n",
       "       False, False, False, False,  True,  True,  True, False,  True,\n",
       "       False,  True, False,  True,  True, False, False,  True, False,\n",
       "        True,  True,  True,  True,  True,  True, False, False, False,\n",
       "       False,  True,  True, False,  True,  True,  True, False,  True,\n",
       "        True,  True,  True,  True, False,  True, False,  True,  True,\n",
       "        True,  True,  True,  True,  True, False,  True, False,  True,\n",
       "        True,  True,  True, False,  True,  True, False, False, False,\n",
       "        True, False,  True, False,  True,  True, False, False, False,\n",
       "        True,  True,  True, False, False,  True, False, False, False,\n",
       "        True, False, False,  True,  True,  True,  True, False,  True,\n",
       "        True,  True,  True, False,  True, False,  True,  True,  True,\n",
       "        True, False,  True,  True, False,  True,  True,  True, False,\n",
       "        True, False,  True,  True,  True, False, False,  True,  True,\n",
       "       False,  True, False, False,  True, False,  True,  True,  True,\n",
       "        True, False,  True,  True, False, False,  True, False, False,\n",
       "       False,  True, False,  True, False, False,  True,  True,  True,\n",
       "       False,  True,  True,  True, False,  True, False, False, False,\n",
       "        True, False,  True,  True, False,  True, False,  True,  True,\n",
       "        True,  True,  True, False, False,  True,  True, False, False,\n",
       "       False,  True,  True, False, False, False,  True, False,  True,\n",
       "        True,  True,  True,  True,  True,  True,  True,  True,  True,\n",
       "       False, False, False, False,  True,  True, False, False, False,\n",
       "        True,  True, False, False,  True,  True,  True,  True,  True,\n",
       "       False, False,  True,  True, False,  True, False, False,  True,\n",
       "        True, False, False,  True, False,  True,  True, False,  True,\n",
       "        True,  True, False, False,  True,  True, False, False,  True,\n",
       "       False,  True, False, False,  True,  True, False, False,  True,\n",
       "       False, False, False,  True, False, False, False,  True,  True,\n",
       "        True, False,  True,  True, False, False,  True, False,  True,\n",
       "        True,  True,  True, False,  True,  True, False, False,  True,\n",
       "       False,  True,  True,  True, False, False, False,  True, False,\n",
       "       False, False,  True,  True, False,  True, False, False,  True,\n",
       "       False, False, False,  True, False, False, False,  True, False,\n",
       "       False,  True, False, False, False, False,  True, False,  True,\n",
       "        True, False,  True, False, False,  True, False, False, False,\n",
       "       False, False, False, False,  True, False, False, False, False,\n",
       "       False,  True, False, False,  True,  True, False, False,  True,\n",
       "        True,  True, False,  True, False,  True,  True, False, False,\n",
       "        True, False,  True,  True,  True,  True, False,  True, False,\n",
       "       False, False,  True, False, False, False, False, False, False,\n",
       "        True,  True,  True,  True, False,  True, False, False,  True,\n",
       "       False,  True, False,  True,  True,  True,  True, False, False,\n",
       "        True, False,  True, False, False, False,  True,  True, False,\n",
       "        True, False, False, False,  True,  True,  True,  True,  True,\n",
       "       False, False, False, False, False, False,  True, False,  True,\n",
       "        True,  True,  True,  True, False,  True,  True,  True,  True,\n",
       "       False,  True,  True,  True,  True,  True, False, False,  True,\n",
       "        True,  True, False,  True, False,  True,  True,  True,  True,\n",
       "        True, False, False, False, False, False,  True,  True,  True,\n",
       "        True])"
      ]
     },
     "execution_count": 28,
     "metadata": {},
     "output_type": "execute_result"
    }
   ],
   "source": [
    "test_labels"
   ]
  },
  {
   "cell_type": "code",
   "execution_count": 29,
   "metadata": {
    "colab": {
     "base_uri": "https://localhost:8080/"
    },
    "id": "9uBwsJVu3cMX",
    "outputId": "4f554e7d-efa4-4332-c5fe-bc8a86e0e70c"
   },
   "outputs": [
    {
     "name": "stdout",
     "output_type": "stream",
     "text": [
      "0.944\n",
      "0.9921875\n",
      "0.9071428571428571\n"
     ]
    }
   ],
   "source": [
    "from sklearn.metrics import accuracy_score, precision_score, recall_score\n",
    "\n",
    "print(accuracy_score(test_labels, preds))\n",
    "print(precision_score(test_labels, preds))\n",
    "print(recall_score(test_labels, preds))"
   ]
  },
  {
   "cell_type": "markdown",
   "metadata": {
    "id": "z1J71CEu2f7k"
   },
   "source": [
    "AutoEncoder는 차원 축소에도 사용할 수 있습니다\n",
    "\n",
    "https://towardsdatascience.com/autoencoders-vs-pca-when-to-use-which-73de063f5d7"
   ]
  },
  {
   "cell_type": "code",
   "execution_count": null,
   "metadata": {
    "id": "r--_SGGP3pHB"
   },
   "outputs": [],
   "source": []
  }
 ],
 "metadata": {
  "colab": {
   "authorship_tag": "ABX9TyOZRMgDF0mysp9Am5zfZEQb",
   "collapsed_sections": [],
   "include_colab_link": true,
   "name": "24_3_이상치 탐지.ipynb",
   "provenance": []
  },
  "hide_input": false,
  "kernelspec": {
   "display_name": "Python 3",
   "language": "python",
   "name": "python3"
  },
  "language_info": {
   "codemirror_mode": {
    "name": "ipython",
    "version": 3
   },
   "file_extension": ".py",
   "mimetype": "text/x-python",
   "name": "python",
   "nbconvert_exporter": "python",
   "pygments_lexer": "ipython3",
   "version": "3.7.9"
  },
  "latex_envs": {
   "LaTeX_envs_menu_present": true,
   "autoclose": false,
   "autocomplete": true,
   "bibliofile": "biblio.bib",
   "cite_by": "apalike",
   "current_citInitial": 1,
   "eqLabelWithNumbers": true,
   "eqNumInitial": 1,
   "hotkeys": {
    "equation": "Ctrl-E",
    "itemize": "Ctrl-I"
   },
   "labels_anchors": false,
   "latex_user_defs": false,
   "report_style_numbering": false,
   "user_envs_cfg": false
  },
  "toc": {
   "base_numbering": 1,
   "nav_menu": {},
   "number_sections": true,
   "sideBar": true,
   "skip_h1_title": false,
   "title_cell": "Table of Contents",
   "title_sidebar": "Contents",
   "toc_cell": false,
   "toc_position": {},
   "toc_section_display": true,
   "toc_window_display": false
  }
 },
 "nbformat": 4,
 "nbformat_minor": 1
}
