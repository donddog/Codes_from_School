{
 "cells": [
  {
   "cell_type": "markdown",
   "metadata": {
    "colab_type": "text",
    "id": "view-in-github"
   },
   "source": [
    "<a href=\"https://colab.research.google.com/github/joohoshin/TensorflowAI/blob/main/2_1_Variable.ipynb\" target=\"_parent\"><img src=\"https://colab.research.google.com/assets/colab-badge.svg\" alt=\"Open In Colab\"/></a>"
   ]
  },
  {
   "cell_type": "markdown",
   "metadata": {
    "collapsed": true,
    "id": "G3LCF1lVnYUH"
   },
   "source": [
    "# 출력문\n",
    "* print() 함수를 사용하여 출력한다. \n",
    "* 문자를 출력할 때는 \" 또는 '를 사용한다. 파이썬에서는 두가지 기호가 동일하게 사용된다. "
   ]
  },
  {
   "cell_type": "code",
   "execution_count": 1,
   "metadata": {
    "colab": {
     "base_uri": "https://localhost:8080/"
    },
    "id": "uE_bbILVnYUI",
    "outputId": "eeeed66f-cfc3-4600-e7b3-106b49220d2e",
    "scrolled": true
   },
   "outputs": [
    {
     "name": "stdout",
     "output_type": "stream",
     "text": [
      "3\n"
     ]
    }
   ],
   "source": [
    "print(3)"
   ]
  },
  {
   "cell_type": "code",
   "execution_count": 2,
   "metadata": {
    "colab": {
     "base_uri": "https://localhost:8080/"
    },
    "id": "hWZyQBoYnYUN",
    "outputId": "61cc0686-96f4-4d04-d773-157b732458bc"
   },
   "outputs": [
    {
     "name": "stdout",
     "output_type": "stream",
     "text": [
      "6\n",
      "11\n"
     ]
    }
   ],
   "source": [
    "print(1+5)\n",
    "print(1+10)"
   ]
  },
  {
   "cell_type": "code",
   "execution_count": 3,
   "metadata": {
    "colab": {
     "base_uri": "https://localhost:8080/"
    },
    "id": "kukA1rA7nYUR",
    "outputId": "e9ca12e3-5254-442a-aa11-3c1d52277efb"
   },
   "outputs": [
    {
     "name": "stdout",
     "output_type": "stream",
     "text": [
      "안녕하세요. 즐거운 파이썬\n"
     ]
    }
   ],
   "source": [
    "print('안녕하세요. 즐거운 파이썬')"
   ]
  },
  {
   "cell_type": "markdown",
   "metadata": {
    "id": "KyWj1D8WnYUU"
   },
   "source": [
    "* 여러가지를 한번에 출력할 때는 ,를 사용한다. \n",
    "* 숫자와 문자를 한번에 사용할 수 있으며, 빈칸이 추가되어 출력된다. "
   ]
  },
  {
   "cell_type": "code",
   "execution_count": 4,
   "metadata": {
    "colab": {
     "base_uri": "https://localhost:8080/"
    },
    "id": "sNa8eKeFnYUU",
    "outputId": "f69c0337-336c-4969-b7d7-f437a8f865dc"
   },
   "outputs": [
    {
     "name": "stdout",
     "output_type": "stream",
     "text": [
      "2 * 9 = 18\n"
     ]
    }
   ],
   "source": [
    "print('2 * 9 =', 2*9)"
   ]
  },
  {
   "cell_type": "markdown",
   "metadata": {
    "id": "fE9xspHanYUY"
   },
   "source": [
    "# 변수 (Variables)\n",
    "* = 기호를 사용하여 자신이 정한 명칭에 값을 저장한다. \n",
    "* = 기호는 저장한다는 뜻이며, 같다는 뜻이 아니다. "
   ]
  },
  {
   "cell_type": "code",
   "execution_count": 5,
   "metadata": {
    "colab": {
     "base_uri": "https://localhost:8080/"
    },
    "id": "biDe7EA6nYUZ",
    "outputId": "d0a8f1b4-6d50-4f34-aa7f-0b3ac5aaf12c"
   },
   "outputs": [
    {
     "name": "stdout",
     "output_type": "stream",
     "text": [
      "3.14\n"
     ]
    }
   ],
   "source": [
    "pi = 3.14\n",
    "print(pi)"
   ]
  },
  {
   "cell_type": "markdown",
   "metadata": {
    "id": "geWcJ4P9nYUc"
   },
   "source": [
    "* 값을 저장하고 있는 변수에 다른 값을 넣으면 그 값으로 변경된다. "
   ]
  },
  {
   "cell_type": "code",
   "execution_count": 6,
   "metadata": {
    "colab": {
     "base_uri": "https://localhost:8080/"
    },
    "id": "zQ6-B258nYUd",
    "outputId": "8fe083e2-f978-4109-bad6-941f13b7cbb8"
   },
   "outputs": [
    {
     "data": {
      "text/plain": [
       "3.141592"
      ]
     },
     "execution_count": 6,
     "metadata": {},
     "output_type": "execute_result"
    }
   ],
   "source": [
    "pi = 3.141592\n",
    "pi"
   ]
  },
  {
   "cell_type": "markdown",
   "metadata": {
    "id": "OowtNKETnYUg"
   },
   "source": [
    "* 변수를 적절히 사용하면 가독성이 좋아진다. \n",
    "* 영어뿐 아니라 한글로도 변수명을 만들수 있다.\n",
    "* 대소문자를 다르게 인식한다. A와 a는 다른 것임\n",
    "* 띄어쓰기를 포함하지 못하고, 숫자로 시작할 수 없다. "
   ]
  },
  {
   "cell_type": "code",
   "execution_count": 7,
   "metadata": {
    "colab": {
     "base_uri": "https://localhost:8080/"
    },
    "id": "nVPayDd2nYUh",
    "outputId": "80159845-6cc3-41ec-99b2-cbe6f0509dbf"
   },
   "outputs": [
    {
     "data": {
      "text/plain": [
       "50.265472"
      ]
     },
     "execution_count": 7,
     "metadata": {},
     "output_type": "execute_result"
    }
   ],
   "source": [
    "반지름 = 4\n",
    "원의넓이 = pi*반지름**2\n",
    "원의넓이"
   ]
  },
  {
   "cell_type": "code",
   "execution_count": 8,
   "metadata": {
    "colab": {
     "base_uri": "https://localhost:8080/"
    },
    "id": "12PUIEVrnYUl",
    "outputId": "fa46d503-0605-4b02-9451-22544f868db8"
   },
   "outputs": [
    {
     "name": "stdout",
     "output_type": "stream",
     "text": [
      "당신의 이름은 홍길동 입니다\n"
     ]
    }
   ],
   "source": [
    "이름 = \"홍길동\"\n",
    "print('당신의 이름은', 이름, '입니다')"
   ]
  },
  {
   "cell_type": "markdown",
   "metadata": {
    "id": "w3GcqpsVnYUo"
   },
   "source": [
    "# 활용"
   ]
  },
  {
   "cell_type": "code",
   "execution_count": 9,
   "metadata": {
    "colab": {
     "base_uri": "https://localhost:8080/"
    },
    "id": "Ht4Bw5LHnYUp",
    "outputId": "3c26e77a-ed46-4492-ccb2-6962c4f45f80"
   },
   "outputs": [
    {
     "name": "stdout",
     "output_type": "stream",
     "text": [
      "직사각형의 넓이는 30 입니다.\n"
     ]
    }
   ],
   "source": [
    "가로 = 3\n",
    "세로 = 10\n",
    "넓이 = 가로 * 세로\n",
    "print('직사각형의 넓이는', 넓이, '입니다.')"
   ]
  },
  {
   "cell_type": "markdown",
   "metadata": {
    "id": "41aY3BjLnYUs"
   },
   "source": [
    "* 여러개의 변수를 출력문에 사용하고 싶을때는 format을 이용하면 쉽게 사용할 수 있다. \n",
    "* 출력문 안에 {} 기호에 변수값이 순서대로 들어가게 된다. "
   ]
  },
  {
   "cell_type": "code",
   "execution_count": 10,
   "metadata": {
    "colab": {
     "base_uri": "https://localhost:8080/"
    },
    "id": "u1vZucX5nYUt",
    "outputId": "a74741d0-6906-4069-dd04-3589a6069120"
   },
   "outputs": [
    {
     "name": "stdout",
     "output_type": "stream",
     "text": [
      "가로 3cm, 세로10cm 인 직사각형의 넓이는 30 입니다. \n"
     ]
    }
   ],
   "source": [
    "print('가로 {}cm, 세로{}cm 인 직사각형의 넓이는 {} 입니다. '.format(가로, 세로, 넓이))"
   ]
  },
  {
   "cell_type": "markdown",
   "metadata": {
    "id": "CNlFhztWnYUw"
   },
   "source": [
    "* 여러줄을 출력할 때는 \"\"\" 또는 '''을 사용한다"
   ]
  },
  {
   "cell_type": "code",
   "execution_count": 11,
   "metadata": {
    "colab": {
     "base_uri": "https://localhost:8080/"
    },
    "id": "fhtZrWAunYUx",
    "outputId": "0e606a7e-cc7f-4156-c6ca-d7621229d546"
   },
   "outputs": [
    {
     "name": "stdout",
     "output_type": "stream",
     "text": [
      "\n",
      "오늘의 메뉴\n",
      "    떡갈비\n",
      "    보쌈\n",
      "    순대    \n",
      "\n"
     ]
    }
   ],
   "source": [
    "print('''\n",
    "오늘의 메뉴\n",
    "    떡갈비\n",
    "    보쌈\n",
    "    순대    \n",
    "''')"
   ]
  },
  {
   "cell_type": "markdown",
   "metadata": {
    "id": "irI0jPHRnYU0"
   },
   "source": [
    "* 큰수를 코딩할 때는 과학적 표기법을 활용하면 오류를 줄일 수 있다. \n",
    "* e뒤에 0의 개수를 적어주면 되고, -를 붙이면 소수점 자리수가 된다"
   ]
  },
  {
   "cell_type": "code",
   "execution_count": 12,
   "metadata": {
    "colab": {
     "base_uri": "https://localhost:8080/"
    },
    "id": "JdCSQnpVnYU0",
    "outputId": "ef655b38-b2b4-439f-a26f-a3fca4f8f2b4"
   },
   "outputs": [
    {
     "data": {
      "text/plain": [
       "100000000"
      ]
     },
     "execution_count": 12,
     "metadata": {},
     "output_type": "execute_result"
    }
   ],
   "source": [
    "sales = 100000000\n",
    "sales"
   ]
  },
  {
   "cell_type": "code",
   "execution_count": 13,
   "metadata": {
    "colab": {
     "base_uri": "https://localhost:8080/"
    },
    "id": "vJqmwauYnYU3",
    "outputId": "db346ffa-66b9-4af5-e35a-b8674b441e1d"
   },
   "outputs": [
    {
     "data": {
      "text/plain": [
       "123000000.0"
      ]
     },
     "execution_count": 13,
     "metadata": {},
     "output_type": "execute_result"
    }
   ],
   "source": [
    "sales2 = 1.23e8\n",
    "sales2"
   ]
  },
  {
   "cell_type": "code",
   "execution_count": 14,
   "metadata": {
    "colab": {
     "base_uri": "https://localhost:8080/"
    },
    "id": "QPlcSBK2nYU6",
    "outputId": "35518b92-53fb-4d70-c5b1-9b7a78bd1f21"
   },
   "outputs": [
    {
     "name": "stdout",
     "output_type": "stream",
     "text": [
      "0.0123\n"
     ]
    }
   ],
   "source": [
    "소수점 = 1.23e-2\n",
    "print(소수점)"
   ]
  },
  {
   "cell_type": "code",
   "execution_count": 15,
   "metadata": {
    "colab": {
     "base_uri": "https://localhost:8080/"
    },
    "id": "Om8Wto1NnYU9",
    "outputId": "547bb93f-83a3-4d8e-8c68-acc44bc89d68"
   },
   "outputs": [
    {
     "name": "stdout",
     "output_type": "stream",
     "text": [
      "당신의 자산은 12300000000.0원 입니다\n"
     ]
    }
   ],
   "source": [
    "print('당신의 자산은 {}원 입니다'.format(1.23e10))"
   ]
  },
  {
   "cell_type": "code",
   "execution_count": null,
   "metadata": {
    "id": "Yzf5-4dknYVA"
   },
   "outputs": [],
   "source": []
  }
 ],
 "metadata": {
  "colab": {
   "collapsed_sections": [],
   "include_colab_link": true,
   "name": "2_1_Variable.ipynb",
   "provenance": []
  },
  "kernelspec": {
   "display_name": "Python 3",
   "language": "python",
   "name": "python3"
  },
  "language_info": {
   "codemirror_mode": {
    "name": "ipython",
    "version": 3
   },
   "file_extension": ".py",
   "mimetype": "text/x-python",
   "name": "python",
   "nbconvert_exporter": "python",
   "pygments_lexer": "ipython3",
   "version": "3.7.9"
  }
 },
 "nbformat": 4,
 "nbformat_minor": 1
}
