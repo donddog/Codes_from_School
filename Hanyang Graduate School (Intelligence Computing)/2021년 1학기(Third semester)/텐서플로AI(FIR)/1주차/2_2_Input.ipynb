{
 "cells": [
  {
   "cell_type": "markdown",
   "metadata": {
    "colab_type": "text",
    "id": "view-in-github"
   },
   "source": [
    "<a href=\"https://colab.research.google.com/github/joohoshin/TensorflowAI/blob/main/2_2_Input.ipynb\" target=\"_parent\"><img src=\"https://colab.research.google.com/assets/colab-badge.svg\" alt=\"Open In Colab\"/></a>"
   ]
  },
  {
   "cell_type": "markdown",
   "metadata": {
    "collapsed": true,
    "id": "Hc89fL2cx9oC"
   },
   "source": [
    "# Input\n",
    "* input() 명령을 사용하면 컴퓨터에 값을 입력할 수 있습니다. \n",
    "* 입력받은 값은 문자로 저장됩니다. "
   ]
  },
  {
   "cell_type": "code",
   "execution_count": 2,
   "metadata": {
    "colab": {
     "base_uri": "https://localhost:8080/",
     "height": 53
    },
    "id": "myYfw1Tyx9oD",
    "outputId": "c612fc89-6fd6-41c4-faae-31d261b609f8"
   },
   "outputs": [
    {
     "name": "stdout",
     "output_type": "stream",
     "text": [
      "Hello\n"
     ]
    },
    {
     "data": {
      "text/plain": [
       "'Hello'"
      ]
     },
     "execution_count": 2,
     "metadata": {},
     "output_type": "execute_result"
    }
   ],
   "source": [
    "input()"
   ]
  },
  {
   "cell_type": "code",
   "execution_count": 3,
   "metadata": {
    "colab": {
     "base_uri": "https://localhost:8080/"
    },
    "id": "CLQIb7FCx9oJ",
    "outputId": "f0a37290-c7ca-4989-b31d-043a356ff823"
   },
   "outputs": [
    {
     "name": "stdout",
     "output_type": "stream",
     "text": [
      "id를 입력하세요: 1k1k1\n"
     ]
    }
   ],
   "source": [
    "id = input('id를 입력하세요: ')"
   ]
  },
  {
   "cell_type": "code",
   "execution_count": 4,
   "metadata": {
    "colab": {
     "base_uri": "https://localhost:8080/"
    },
    "id": "leEyr16dx9oN",
    "outputId": "16d3546c-ef39-44e9-b3f8-ff53beeeb421"
   },
   "outputs": [
    {
     "name": "stdout",
     "output_type": "stream",
     "text": [
      "1k1k1\n"
     ]
    }
   ],
   "source": [
    "print(id)"
   ]
  },
  {
   "cell_type": "markdown",
   "metadata": {
    "id": "JxSRx6Qex9oQ"
   },
   "source": [
    "# Data Type\n",
    "* input으로 저장된 값은 문자로 저장이 되므로 문자를 숫자로 바꾸어야 계산이 됩니다. \n",
    "* str(): 문자로 변경합니다. string의 약자입니다. \n",
    "* int(): 정수로 변경합니다. integer의 약자입니다. \n",
    "* float(): 실수로 변경합니다. \n",
    "* type() 명령을 통해 변수나 값의 데이터 타입을 확인할 수 있습니다. "
   ]
  },
  {
   "cell_type": "code",
   "execution_count": 5,
   "metadata": {
    "colab": {
     "base_uri": "https://localhost:8080/"
    },
    "id": "Juon7uKpx9oR",
    "outputId": "98e9a471-6ddc-4bd3-8cda-7ed9c0890f3b"
   },
   "outputs": [
    {
     "name": "stdout",
     "output_type": "stream",
     "text": [
      "당신의 키는 몇 cm 입니까? 200\n"
     ]
    }
   ],
   "source": [
    "키 = input('당신의 키는 몇 cm 입니까? ')"
   ]
  },
  {
   "cell_type": "code",
   "execution_count": 6,
   "metadata": {
    "colab": {
     "base_uri": "https://localhost:8080/",
     "height": 35
    },
    "id": "jPdlqIHjx9oU",
    "outputId": "21120a64-a0fa-40c9-af7b-2c207538f656"
   },
   "outputs": [
    {
     "data": {
      "text/plain": [
       "'200'"
      ]
     },
     "execution_count": 6,
     "metadata": {},
     "output_type": "execute_result"
    }
   ],
   "source": [
    "키"
   ]
  },
  {
   "cell_type": "code",
   "execution_count": 7,
   "metadata": {
    "colab": {
     "base_uri": "https://localhost:8080/"
    },
    "id": "PbgHN8rCx9oY",
    "outputId": "8f5f9d7d-649e-4963-f644-82c58d6cdda5"
   },
   "outputs": [
    {
     "data": {
      "text/plain": [
       "str"
      ]
     },
     "execution_count": 7,
     "metadata": {},
     "output_type": "execute_result"
    }
   ],
   "source": [
    "type(키)"
   ]
  },
  {
   "cell_type": "code",
   "execution_count": 8,
   "metadata": {
    "colab": {
     "base_uri": "https://localhost:8080/",
     "height": 35
    },
    "id": "0NguYMowx9oc",
    "outputId": "372257f7-40ae-4a1b-ef3a-85fab8f7250a"
   },
   "outputs": [
    {
     "data": {
      "text/plain": [
       "'2003'"
      ]
     },
     "execution_count": 8,
     "metadata": {},
     "output_type": "execute_result"
    }
   ],
   "source": [
    "키 + '3'"
   ]
  },
  {
   "cell_type": "markdown",
   "metadata": {
    "id": "MVaeG9Z5x9oi"
   },
   "source": [
    "* 숫자 연산을 하려면 문자인 입력값을 정수나 실수로 변경을 해야합니다. "
   ]
  },
  {
   "cell_type": "code",
   "execution_count": 9,
   "metadata": {
    "colab": {
     "base_uri": "https://localhost:8080/"
    },
    "id": "_30n-_s6x9oi",
    "outputId": "d7ccf36f-4a42-49c7-a061-5407d98a61db"
   },
   "outputs": [
    {
     "name": "stdout",
     "output_type": "stream",
     "text": [
      "당신은 평균보다 25.0cm 큽니다.\n"
     ]
    }
   ],
   "source": [
    "평균키 = 175\n",
    "차이 = float(키) - 평균키\n",
    "\n",
    "print('당신은 평균보다 {}cm 큽니다.'.format(차이))"
   ]
  },
  {
   "cell_type": "markdown",
   "metadata": {
    "id": "6mtbkNPlx9ol"
   },
   "source": [
    "# 주석\n",
    "* 작성한 코드에 설명을 달기 위해서는 실행하지 않게 하는 것이 필요합니다. \n",
    "* Sharp 기호 뒤의 적힌 부분은 실행되지 않습니다. "
   ]
  },
  {
   "cell_type": "code",
   "execution_count": 10,
   "metadata": {
    "colab": {
     "base_uri": "https://localhost:8080/"
    },
    "id": "g-1R0tS0x9ol",
    "outputId": "6d3e9f7f-8dce-4d94-b920-4df194d1b6b2"
   },
   "outputs": [
    {
     "name": "stdout",
     "output_type": "stream",
     "text": [
      "good-bye\n"
     ]
    }
   ],
   "source": [
    "#print('hello')\n",
    "print('good-bye')"
   ]
  },
  {
   "cell_type": "markdown",
   "metadata": {
    "id": "QFhoEQ24x9oo"
   },
   "source": [
    "* 여러 줄 주석은 ''' 또는 \"\"\"를 사용합니다. "
   ]
  },
  {
   "cell_type": "code",
   "execution_count": 11,
   "metadata": {
    "colab": {
     "base_uri": "https://localhost:8080/"
    },
    "id": "dVKQrCVGx9oo",
    "outputId": "ef4bcaee-9ce2-41d0-e1b4-8819574e3e89"
   },
   "outputs": [
    {
     "name": "stdout",
     "output_type": "stream",
     "text": [
      "1000\n"
     ]
    }
   ],
   "source": [
    "'''\n",
    "print(10)\n",
    "print(100)\n",
    "'''\n",
    "print(1000)"
   ]
  },
  {
   "cell_type": "markdown",
   "metadata": {
    "id": "xIm9Ee-Lx9ow"
   },
   "source": [
    "# 활용"
   ]
  },
  {
   "cell_type": "code",
   "execution_count": 12,
   "metadata": {
    "colab": {
     "base_uri": "https://localhost:8080/"
    },
    "id": "CBhRy0Ffx9ox",
    "outputId": "2843d437-cfa1-4e04-a83d-3117aab4b79a"
   },
   "outputs": [
    {
     "name": "stdout",
     "output_type": "stream",
     "text": [
      "id를 입력하세요: 1k1k1k\n",
      "비밀번호를 입력하세요: 129381907409\n",
      "1k1k1k님 반갑습니다.\n",
      "\n",
      "이번달 수입은 얼마인가요? (만원) 00000000\n",
      "1k1k1k님 수입이 -1000만원이 증가하였습니다.\n"
     ]
    }
   ],
   "source": [
    "id = input('id를 입력하세요: ')\n",
    "pw = input('비밀번호를 입력하세요: ')\n",
    "\n",
    "print('{}님 반갑습니다.'.format(id))\n",
    "print()  #빈줄 삽입\n",
    "\n",
    "수입 = input('이번달 수입은 얼마인가요? (만원) ')\n",
    "지난달 = 1000\n",
    "\n",
    "print('{}님 수입이 {}만원이 증가하였습니다.'.format(id, int(수입)-지난달)) #입력값을 숫자로 변경"
   ]
  },
  {
   "cell_type": "code",
   "execution_count": null,
   "metadata": {
    "id": "loMt-aS1x9o0"
   },
   "outputs": [],
   "source": []
  }
 ],
 "metadata": {
  "colab": {
   "include_colab_link": true,
   "name": "2_2_Input.ipynb",
   "provenance": []
  },
  "kernelspec": {
   "display_name": "Python 3",
   "language": "python",
   "name": "python3"
  },
  "language_info": {
   "codemirror_mode": {
    "name": "ipython",
    "version": 3
   },
   "file_extension": ".py",
   "mimetype": "text/x-python",
   "name": "python",
   "nbconvert_exporter": "python",
   "pygments_lexer": "ipython3",
   "version": "3.7.9"
  }
 },
 "nbformat": 4,
 "nbformat_minor": 1
}
