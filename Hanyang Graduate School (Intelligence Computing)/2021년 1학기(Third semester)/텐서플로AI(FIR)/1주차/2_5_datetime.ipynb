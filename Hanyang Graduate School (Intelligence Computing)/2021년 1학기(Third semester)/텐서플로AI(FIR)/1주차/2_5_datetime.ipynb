{
 "cells": [
  {
   "cell_type": "markdown",
   "metadata": {
    "colab_type": "text",
    "id": "view-in-github"
   },
   "source": [
    "<a href=\"https://colab.research.google.com/github/joohoshin/TensorflowAI/blob/main/2_5_datetime.ipynb\" target=\"_parent\"><img src=\"https://colab.research.google.com/assets/colab-badge.svg\" alt=\"Open In Colab\"/></a>"
   ]
  },
  {
   "cell_type": "markdown",
   "metadata": {
    "id": "s5yq-RKQ8KXf"
   },
   "source": [
    "# 날짜 다루기\n",
    "* https://www.programiz.com/python-programming/datetime\n",
    "* 파이썬에서는 datetime 라이브러리를 사용하여 날짜 및 시간을 다룬다. "
   ]
  },
  {
   "cell_type": "code",
   "execution_count": 1,
   "metadata": {
    "id": "bZm8LjFu8KXg"
   },
   "outputs": [],
   "source": [
    "from datetime import datetime"
   ]
  },
  {
   "cell_type": "markdown",
   "metadata": {
    "id": "LrKM-oTV8KXk"
   },
   "source": [
    "* datetime 라이브러리의 datetime 타입은 날짜와 시간을 모두 저장합니다\n",
    "* now()를 이용하여 현재 시간을 가져올 수 있습니다"
   ]
  },
  {
   "cell_type": "code",
   "execution_count": 2,
   "metadata": {
    "colab": {
     "base_uri": "https://localhost:8080/"
    },
    "id": "wGMWrZ5O8KXk",
    "outputId": "981e78fd-2e5f-46d0-e718-6916ea076ad2"
   },
   "outputs": [
    {
     "name": "stdout",
     "output_type": "stream",
     "text": [
      "2021-03-09 20:44:28.757752\n"
     ]
    },
    {
     "data": {
      "text/plain": [
       "datetime.datetime(2021, 3, 9, 20, 44, 28, 757752)"
      ]
     },
     "execution_count": 2,
     "metadata": {},
     "output_type": "execute_result"
    }
   ],
   "source": [
    "print(datetime.now())\n",
    "datetime.now()"
   ]
  },
  {
   "cell_type": "code",
   "execution_count": 3,
   "metadata": {
    "colab": {
     "base_uri": "https://localhost:8080/"
    },
    "id": "bbshtfGi8KXo",
    "outputId": "08908e6b-b6b2-4b62-db3c-77ca4b7d30b2"
   },
   "outputs": [
    {
     "data": {
      "text/plain": [
       "datetime.datetime"
      ]
     },
     "execution_count": 3,
     "metadata": {},
     "output_type": "execute_result"
    }
   ],
   "source": [
    "t = datetime.now()\n",
    "type(t)"
   ]
  },
  {
   "cell_type": "markdown",
   "metadata": {
    "id": "OPEDJy1f8KXr"
   },
   "source": [
    "* 날짜를 입력하여 직접 만들수 있습니다"
   ]
  },
  {
   "cell_type": "code",
   "execution_count": 4,
   "metadata": {
    "colab": {
     "base_uri": "https://localhost:8080/"
    },
    "id": "-GIlf5W48KXs",
    "outputId": "16050620-d216-4520-eaa7-d4639840996e"
   },
   "outputs": [
    {
     "name": "stdout",
     "output_type": "stream",
     "text": [
      "강의시작일: 2020-03-15 00:00:00\n",
      "퀴즈: 2020-04-24 11:00:00\n"
     ]
    }
   ],
   "source": [
    "강의시작일 = datetime(2020,3,15)\n",
    "print('강의시작일: {}'.format(강의시작일))\n",
    "\n",
    "퀴즈시간 = datetime(2020, 4, 24, 11, 0 )\n",
    "print('퀴즈: {}'.format(퀴즈시간))"
   ]
  },
  {
   "cell_type": "markdown",
   "metadata": {
    "id": "k2AGs9ln8KXv"
   },
   "source": [
    "* 날짜만 가져올 때는 date(), 시간만 가져올 때는 time()을 사용하면 됩니다 "
   ]
  },
  {
   "cell_type": "code",
   "execution_count": 5,
   "metadata": {
    "colab": {
     "base_uri": "https://localhost:8080/"
    },
    "id": "unq_tnS38KXv",
    "outputId": "d072807c-37a3-4e01-cc01-6c8cc7155bd4"
   },
   "outputs": [
    {
     "name": "stdout",
     "output_type": "stream",
     "text": [
      "2020-04-24\n",
      "11:00:00\n"
     ]
    }
   ],
   "source": [
    "퀴즈날짜 = 퀴즈시간.date()\n",
    "print(퀴즈날짜)\n",
    "\n",
    "퀴즈시작시간 = 퀴즈시간.time()\n",
    "print(퀴즈시작시간)"
   ]
  },
  {
   "cell_type": "markdown",
   "metadata": {
    "id": "Y_F2BQg-8KXx"
   },
   "source": [
    "* 문자로부터 변환도 가능합니다. 이때에는 어떤 모양인지 입력이 필요합니다\n",
    "* 이때에는 strptime() 을 사용합니다. \n",
    "* %Y는 네자리 년도, %y는 2자리 연도를 의미, %m은 월, %d는 일을 의미합니다. "
   ]
  },
  {
   "cell_type": "code",
   "execution_count": 6,
   "metadata": {
    "colab": {
     "base_uri": "https://localhost:8080/"
    },
    "id": "GcU_WX1D8KXy",
    "outputId": "82a151d2-6c5d-4167-d556-5f46e28610bb"
   },
   "outputs": [
    {
     "name": "stdout",
     "output_type": "stream",
     "text": [
      "2020-06-23 00:00:00\n"
     ]
    },
    {
     "data": {
      "text/plain": [
       "datetime.datetime"
      ]
     },
     "execution_count": 6,
     "metadata": {},
     "output_type": "execute_result"
    }
   ],
   "source": [
    "date1 = '2020-6-23'\n",
    "강의종료일1 = datetime.strptime(date1, '%Y-%m-%d')\n",
    "print(강의종료일1)\n",
    "type(강의종료일1)"
   ]
  },
  {
   "cell_type": "code",
   "execution_count": 7,
   "metadata": {
    "colab": {
     "base_uri": "https://localhost:8080/"
    },
    "id": "h7yWBS3g8KX0",
    "outputId": "29681d91-429b-4c1c-cc0c-6b7bb2923a73"
   },
   "outputs": [
    {
     "name": "stdout",
     "output_type": "stream",
     "text": [
      "2020-06-23 00:00:00\n"
     ]
    }
   ],
   "source": [
    "date2 = '200623'\n",
    "강의종료일2 = datetime.strptime(date2, '%y%m%d')\n",
    "print(강의종료일2)"
   ]
  },
  {
   "cell_type": "markdown",
   "metadata": {
    "id": "Ygu-bUEb8KX2"
   },
   "source": [
    "* 문자로 변환시에는 strftime()을 사용합니다"
   ]
  },
  {
   "cell_type": "code",
   "execution_count": 8,
   "metadata": {
    "colab": {
     "base_uri": "https://localhost:8080/",
     "height": 34
    },
    "id": "yfk7OWvk8KX3",
    "outputId": "4286f3a6-1da7-45a1-c5ad-72dfc1376a6d"
   },
   "outputs": [
    {
     "data": {
      "text/plain": [
       "datetime.datetime"
      ]
     },
     "execution_count": 8,
     "metadata": {},
     "output_type": "execute_result"
    }
   ],
   "source": [
    "type(강의종료일2)"
   ]
  },
  {
   "cell_type": "code",
   "execution_count": 9,
   "metadata": {
    "id": "7infkTUc8KX5"
   },
   "outputs": [],
   "source": [
    "str_date = 강의종료일2.strftime('%Y-%m-%d')"
   ]
  },
  {
   "cell_type": "code",
   "execution_count": 10,
   "metadata": {
    "colab": {
     "base_uri": "https://localhost:8080/"
    },
    "id": "1WnAtoOE8KYA",
    "outputId": "46063a0b-df93-4c76-ac0d-6ae843fda1ee"
   },
   "outputs": [
    {
     "data": {
      "text/plain": [
       "str"
      ]
     },
     "execution_count": 10,
     "metadata": {},
     "output_type": "execute_result"
    }
   ],
   "source": [
    "type(str_date)"
   ]
  },
  {
   "cell_type": "code",
   "execution_count": 11,
   "metadata": {
    "colab": {
     "base_uri": "https://localhost:8080/"
    },
    "id": "M4b56T-v8KYC",
    "outputId": "e96722cc-58fc-4952-e426-5bb94910bfc3"
   },
   "outputs": [
    {
     "name": "stdout",
     "output_type": "stream",
     "text": [
      "2020-06-23\n"
     ]
    }
   ],
   "source": [
    "print(str_date)"
   ]
  },
  {
   "cell_type": "code",
   "execution_count": 12,
   "metadata": {
    "colab": {
     "base_uri": "https://localhost:8080/"
    },
    "id": "OINTxhiK8KYF",
    "outputId": "89febe62-1076-45d9-e563-d14d9edc142a"
   },
   "outputs": [
    {
     "name": "stdout",
     "output_type": "stream",
     "text": [
      "2020/06/23\n"
     ]
    }
   ],
   "source": [
    "str_date2 = 강의종료일2.strftime('%Y/%m/%d')\n",
    "print(str_date2)"
   ]
  },
  {
   "cell_type": "markdown",
   "metadata": {
    "id": "yQotHjIJ8KYH"
   },
   "source": [
    "### 날짜 연산\n",
    "* timedelta 함수를 사용합니다\n"
   ]
  },
  {
   "cell_type": "code",
   "execution_count": 13,
   "metadata": {
    "id": "J1NpJOHC8KYI"
   },
   "outputs": [],
   "source": [
    "from datetime import timedelta, datetime   # from 라이브러리명 import 가져올 함수명"
   ]
  },
  {
   "cell_type": "code",
   "execution_count": 14,
   "metadata": {
    "id": "3Pf_uisH8KYJ"
   },
   "outputs": [],
   "source": [
    "강의시작일 = datetime(2020,3,15)\n",
    "date1 = '2020-06-23'\n",
    "강의종료일 = datetime.strptime(date1, '%Y-%m-%d')"
   ]
  },
  {
   "cell_type": "code",
   "execution_count": 15,
   "metadata": {
    "colab": {
     "base_uri": "https://localhost:8080/"
    },
    "id": "R_n9hosb8KYL",
    "outputId": "8cd4f251-ed20-4af4-ba70-dbe2c51ef324"
   },
   "outputs": [
    {
     "name": "stdout",
     "output_type": "stream",
     "text": [
      "100 days, 0:00:00\n"
     ]
    }
   ],
   "source": [
    "print(강의종료일 - 강의시작일)"
   ]
  },
  {
   "cell_type": "code",
   "execution_count": 16,
   "metadata": {
    "id": "BHm38EH48KYN"
   },
   "outputs": [],
   "source": [
    "t=강의종료일 - 강의시작일"
   ]
  },
  {
   "cell_type": "code",
   "execution_count": 17,
   "metadata": {
    "colab": {
     "base_uri": "https://localhost:8080/"
    },
    "id": "Vw_ih3jz8KYP",
    "outputId": "ad6b386a-4fa3-4c17-d775-daa40b2fa170"
   },
   "outputs": [
    {
     "data": {
      "text/plain": [
       "datetime.timedelta"
      ]
     },
     "execution_count": 17,
     "metadata": {},
     "output_type": "execute_result"
    }
   ],
   "source": [
    "type(t)"
   ]
  },
  {
   "cell_type": "code",
   "execution_count": 18,
   "metadata": {
    "colab": {
     "base_uri": "https://localhost:8080/"
    },
    "id": "PmPrZXkC8KYS",
    "outputId": "730aca95-d3b7-4996-c720-0d52553a1c6d"
   },
   "outputs": [
    {
     "name": "stdout",
     "output_type": "stream",
     "text": [
      "100\n"
     ]
    },
    {
     "data": {
      "text/plain": [
       "int"
      ]
     },
     "execution_count": 18,
     "metadata": {},
     "output_type": "execute_result"
    }
   ],
   "source": [
    "days = t.days\n",
    "print(days)\n",
    "type(days)"
   ]
  },
  {
   "cell_type": "code",
   "execution_count": 19,
   "metadata": {
    "id": "rcdqCmJZ8KYU"
   },
   "outputs": [],
   "source": [
    "퀴즈시작 = datetime(2020,4,24,11)\n",
    "퀴즈종료 = datetime(2020,4,24,13)\n",
    "t= 퀴즈종료 - 퀴즈시작"
   ]
  },
  {
   "cell_type": "code",
   "execution_count": 20,
   "metadata": {
    "colab": {
     "base_uri": "https://localhost:8080/"
    },
    "id": "miJV18iF8KYV",
    "outputId": "7d563112-fe29-406f-8b0b-f75a373a6738"
   },
   "outputs": [
    {
     "data": {
      "text/plain": [
       "7200"
      ]
     },
     "execution_count": 20,
     "metadata": {},
     "output_type": "execute_result"
    }
   ],
   "source": [
    "t.seconds"
   ]
  },
  {
   "cell_type": "code",
   "execution_count": 21,
   "metadata": {
    "colab": {
     "base_uri": "https://localhost:8080/"
    },
    "id": "CA9BK8zq8KYX",
    "outputId": "06912cc1-fc88-44e1-95f8-311b2a823a71"
   },
   "outputs": [
    {
     "name": "stdout",
     "output_type": "stream",
     "text": [
      "시험시간은 2 시간입니다. \n"
     ]
    }
   ],
   "source": [
    "print('시험시간은 {} 시간입니다. '.format(t.seconds//3600))"
   ]
  },
  {
   "cell_type": "markdown",
   "metadata": {
    "id": "j0aTUY0a8KYZ"
   },
   "source": [
    "* weekday() 함수를 사용해서 요일을 가져올 수 있습니다. 월:0 ~일:6"
   ]
  },
  {
   "cell_type": "code",
   "execution_count": 22,
   "metadata": {
    "colab": {
     "base_uri": "https://localhost:8080/"
    },
    "id": "1vYNIsFw8KYa",
    "outputId": "06137115-8e2f-4529-a716-f2e3ab8e690d"
   },
   "outputs": [
    {
     "data": {
      "text/plain": [
       "4"
      ]
     },
     "execution_count": 22,
     "metadata": {},
     "output_type": "execute_result"
    }
   ],
   "source": [
    "퀴즈시작.weekday()"
   ]
  },
  {
   "cell_type": "markdown",
   "metadata": {
    "id": "0Ma1SBWs8KYb"
   },
   "source": [
    "# 활용\n",
    "* D - day를 알려주는 코드를 만들어봅시다"
   ]
  },
  {
   "cell_type": "code",
   "execution_count": 23,
   "metadata": {
    "id": "NTiFl9X88KYc"
   },
   "outputs": [],
   "source": [
    "from datetime import datetime, timedelta"
   ]
  },
  {
   "cell_type": "code",
   "execution_count": 24,
   "metadata": {
    "colab": {
     "base_uri": "https://localhost:8080/"
    },
    "id": "ljlk_Dni8KYe",
    "outputId": "1d488d77-eb26-461b-841b-6e3053c5e442"
   },
   "outputs": [
    {
     "name": "stdout",
     "output_type": "stream",
     "text": [
      "당신에게 중요한 날은? 2022-03-01\n",
      "언제인가요? (Ex 2021-01-01) 2022-03-01\n"
     ]
    }
   ],
   "source": [
    "d_day = input('당신에게 중요한 날은? ')\n",
    "d_date = input('언제인가요? (Ex 2021-01-01) ')"
   ]
  },
  {
   "cell_type": "code",
   "execution_count": 25,
   "metadata": {
    "colab": {
     "base_uri": "https://localhost:8080/",
     "height": 35
    },
    "id": "gbd2GogI8KYi",
    "outputId": "1ad8b156-7cb7-4493-997e-0d6b775e280a"
   },
   "outputs": [
    {
     "data": {
      "text/plain": [
       "'2022-03-01'"
      ]
     },
     "execution_count": 25,
     "metadata": {},
     "output_type": "execute_result"
    }
   ],
   "source": [
    "d_date"
   ]
  },
  {
   "cell_type": "code",
   "execution_count": 26,
   "metadata": {
    "id": "bYC7CSmR8KYk"
   },
   "outputs": [],
   "source": [
    "date = datetime.strptime(d_date, '%Y-%m-%d')"
   ]
  },
  {
   "cell_type": "code",
   "execution_count": 27,
   "metadata": {
    "id": "Z44XUeIj8KYm"
   },
   "outputs": [],
   "source": [
    "today = datetime.now()"
   ]
  },
  {
   "cell_type": "code",
   "execution_count": 28,
   "metadata": {
    "colab": {
     "base_uri": "https://localhost:8080/"
    },
    "id": "IYKoBFdI8KYo",
    "outputId": "85479ab4-fd48-4b60-aac3-0df388da0515"
   },
   "outputs": [
    {
     "data": {
      "text/plain": [
       "datetime.datetime(2021, 3, 9, 20, 45, 6, 541519)"
      ]
     },
     "execution_count": 28,
     "metadata": {},
     "output_type": "execute_result"
    }
   ],
   "source": [
    "today"
   ]
  },
  {
   "cell_type": "code",
   "execution_count": 29,
   "metadata": {
    "id": "DTrhrY1e8KYq"
   },
   "outputs": [],
   "source": [
    "n_day = (date-today).days"
   ]
  },
  {
   "cell_type": "code",
   "execution_count": 30,
   "metadata": {
    "colab": {
     "base_uri": "https://localhost:8080/"
    },
    "id": "DYOjMEp98KYs",
    "outputId": "a93148dc-c025-4e81-9cc1-d980e21b35a5"
   },
   "outputs": [
    {
     "name": "stdout",
     "output_type": "stream",
     "text": [
      "2022-03-01: 356일 남았습니다. \n"
     ]
    }
   ],
   "source": [
    "if n_day==0:\n",
    "    print('{}: 바로 오늘입니다. '.format(d_day))\n",
    "elif n_day>0:\n",
    "    print('{}: {}일 남았습니다. '.format(d_day, n_day))\n",
    "elif n_day<0:\n",
    "    print('{}: {}일 지났습니다. '.format(d_day, -n_day))"
   ]
  },
  {
   "cell_type": "code",
   "execution_count": null,
   "metadata": {
    "id": "t8eNPXJS8KYu"
   },
   "outputs": [],
   "source": []
  }
 ],
 "metadata": {
  "colab": {
   "include_colab_link": true,
   "name": "2_5_datetime.ipynb",
   "provenance": []
  },
  "kernelspec": {
   "display_name": "Python 3",
   "language": "python",
   "name": "python3"
  },
  "language_info": {
   "codemirror_mode": {
    "name": "ipython",
    "version": 3
   },
   "file_extension": ".py",
   "mimetype": "text/x-python",
   "name": "python",
   "nbconvert_exporter": "python",
   "pygments_lexer": "ipython3",
   "version": "3.7.9"
  }
 },
 "nbformat": 4,
 "nbformat_minor": 1
}
