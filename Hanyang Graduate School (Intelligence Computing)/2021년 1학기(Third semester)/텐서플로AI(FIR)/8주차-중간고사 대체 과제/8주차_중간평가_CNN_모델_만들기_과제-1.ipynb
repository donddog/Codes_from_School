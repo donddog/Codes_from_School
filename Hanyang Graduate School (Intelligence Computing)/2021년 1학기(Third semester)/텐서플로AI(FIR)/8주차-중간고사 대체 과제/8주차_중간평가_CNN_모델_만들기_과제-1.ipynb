version https://git-lfs.github.com/spec/v1
oid sha256:61199bdb36f15c0a3a9c646f54245f03b13d10b6432fe50e5df97af0c26df6ac
size 47837
