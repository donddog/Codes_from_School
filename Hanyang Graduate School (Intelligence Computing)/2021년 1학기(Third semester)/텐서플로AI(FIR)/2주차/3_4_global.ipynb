{
 "cells": [
  {
   "cell_type": "markdown",
   "metadata": {
    "colab_type": "text",
    "id": "view-in-github"
   },
   "source": [
    "<a href=\"https://colab.research.google.com/github/joohoshin/TensorflowAI/blob/main/3_4_global.ipynb\" target=\"_parent\"><img src=\"https://colab.research.google.com/assets/colab-badge.svg\" alt=\"Open In Colab\"/></a>"
   ]
  },
  {
   "cell_type": "markdown",
   "metadata": {
    "id": "wDlpc3u17t8M"
   },
   "source": [
    "# 전역변수/ 지역변수\n",
    "\n",
    "함수 안에 선언된 변수는 함수 내에서만 유효합니다. \n",
    "함수 밖에 선언된 변수를 사용하려면 global 키워드를 사용합니다. "
   ]
  },
  {
   "cell_type": "code",
   "execution_count": 1,
   "metadata": {
    "id": "yuIxhhHUZu8Y"
   },
   "outputs": [],
   "source": [
    "points = 0\n",
    "\n",
    "def point_up(point):\n",
    "    points += point\n",
    "\n",
    "def point_down(point):\n",
    "    points -=point"
   ]
  },
  {
   "cell_type": "code",
   "execution_count": 2,
   "metadata": {
    "colab": {
     "base_uri": "https://localhost:8080/",
     "height": 307
    },
    "id": "wXSMmuYcZ0ri",
    "outputId": "8052a44a-81bf-46d3-c451-23d8005bd8f5"
   },
   "outputs": [
    {
     "ename": "UnboundLocalError",
     "evalue": "local variable 'points' referenced before assignment",
     "output_type": "error",
     "traceback": [
      "\u001b[1;31m---------------------------------------------------------------------------\u001b[0m",
      "\u001b[1;31mUnboundLocalError\u001b[0m                         Traceback (most recent call last)",
      "\u001b[1;32m<ipython-input-2-f969ed0cf81a>\u001b[0m in \u001b[0;36m<module>\u001b[1;34m\u001b[0m\n\u001b[1;32m----> 1\u001b[1;33m \u001b[0mpoint_up\u001b[0m\u001b[1;33m(\u001b[0m\u001b[1;36m100\u001b[0m\u001b[1;33m)\u001b[0m \u001b[1;31m#error\u001b[0m\u001b[1;33m\u001b[0m\u001b[1;33m\u001b[0m\u001b[0m\n\u001b[0m",
      "\u001b[1;32m<ipython-input-1-db1561e63428>\u001b[0m in \u001b[0;36mpoint_up\u001b[1;34m(point)\u001b[0m\n\u001b[0;32m      2\u001b[0m \u001b[1;33m\u001b[0m\u001b[0m\n\u001b[0;32m      3\u001b[0m \u001b[1;32mdef\u001b[0m \u001b[0mpoint_up\u001b[0m\u001b[1;33m(\u001b[0m\u001b[0mpoint\u001b[0m\u001b[1;33m)\u001b[0m\u001b[1;33m:\u001b[0m\u001b[1;33m\u001b[0m\u001b[1;33m\u001b[0m\u001b[0m\n\u001b[1;32m----> 4\u001b[1;33m     \u001b[0mpoints\u001b[0m \u001b[1;33m+=\u001b[0m \u001b[0mpoint\u001b[0m\u001b[1;33m\u001b[0m\u001b[1;33m\u001b[0m\u001b[0m\n\u001b[0m\u001b[0;32m      5\u001b[0m \u001b[1;33m\u001b[0m\u001b[0m\n\u001b[0;32m      6\u001b[0m \u001b[1;32mdef\u001b[0m \u001b[0mpoint_down\u001b[0m\u001b[1;33m(\u001b[0m\u001b[0mpoint\u001b[0m\u001b[1;33m)\u001b[0m\u001b[1;33m:\u001b[0m\u001b[1;33m\u001b[0m\u001b[1;33m\u001b[0m\u001b[0m\n",
      "\u001b[1;31mUnboundLocalError\u001b[0m: local variable 'points' referenced before assignment"
     ]
    }
   ],
   "source": [
    "point_up(100) #error"
   ]
  },
  {
   "cell_type": "markdown",
   "metadata": {
    "id": "XAUP1m9m8bC4"
   },
   "source": [
    "위의 오류는 함수내에서 증가시키는 points 변수가 함수 내에서 선언된 적이 없어서 입니다. \n",
    "\n",
    "함수 밖의 변수라는 것을 알려주기 위해서는 global 키워드를 사용합니다."
   ]
  },
  {
   "cell_type": "code",
   "execution_count": 3,
   "metadata": {
    "id": "IuXGoOKZ8PXl"
   },
   "outputs": [],
   "source": [
    "points = 0\n",
    "\n",
    "def point_up(point):\n",
    "    global points\n",
    "    points += point\n",
    "\n",
    "def point_down(point):\n",
    "    global points\n",
    "    points -=point"
   ]
  },
  {
   "cell_type": "code",
   "execution_count": 4,
   "metadata": {
    "id": "ZJXj0an-8scF"
   },
   "outputs": [],
   "source": [
    "point_up(100)"
   ]
  },
  {
   "cell_type": "code",
   "execution_count": 5,
   "metadata": {
    "colab": {
     "base_uri": "https://localhost:8080/"
    },
    "id": "635ns0Mg8t8s",
    "outputId": "a6b607c9-f927-4576-fc38-6ffd15f3f140"
   },
   "outputs": [
    {
     "data": {
      "text/plain": [
       "100"
      ]
     },
     "execution_count": 5,
     "metadata": {},
     "output_type": "execute_result"
    }
   ],
   "source": [
    "points"
   ]
  },
  {
   "cell_type": "code",
   "execution_count": 6,
   "metadata": {
    "id": "SLZHwGx08ver"
   },
   "outputs": [],
   "source": [
    "point_down(50)"
   ]
  },
  {
   "cell_type": "code",
   "execution_count": 7,
   "metadata": {
    "colab": {
     "base_uri": "https://localhost:8080/"
    },
    "id": "j9oWpMQi8xfj",
    "outputId": "575a45c9-545a-4c85-9333-05398afef9f9"
   },
   "outputs": [
    {
     "data": {
      "text/plain": [
       "50"
      ]
     },
     "execution_count": 7,
     "metadata": {},
     "output_type": "execute_result"
    }
   ],
   "source": [
    "points"
   ]
  },
  {
   "cell_type": "markdown",
   "metadata": {
    "id": "XTbE_yVI9IQF"
   },
   "source": [
    "list, dictionary 의 경우에는 global 키워드를 사용하지 않아도 함수 내에 선언된게 없으면, 함수 밖의 전역변수를 인식합니다"
   ]
  },
  {
   "cell_type": "code",
   "execution_count": 8,
   "metadata": {
    "id": "Xz1swXQ78yyD"
   },
   "outputs": [],
   "source": [
    "points = {'user1':0}\n",
    "\n",
    "def point_up(point):\n",
    "    points['user1'] += point\n",
    "\n",
    "def point_down(point):\n",
    "    points['user1'] -=point"
   ]
  },
  {
   "cell_type": "code",
   "execution_count": 9,
   "metadata": {
    "id": "q2haIk2w8_WD"
   },
   "outputs": [],
   "source": [
    "point_up(100)"
   ]
  },
  {
   "cell_type": "code",
   "execution_count": 10,
   "metadata": {
    "colab": {
     "base_uri": "https://localhost:8080/"
    },
    "id": "kQgcqDts9EX7",
    "outputId": "430e3ad4-1a7a-41bc-c462-3ae976336f73"
   },
   "outputs": [
    {
     "data": {
      "text/plain": [
       "100"
      ]
     },
     "execution_count": 10,
     "metadata": {},
     "output_type": "execute_result"
    }
   ],
   "source": [
    "points['user1']"
   ]
  },
  {
   "cell_type": "code",
   "execution_count": 11,
   "metadata": {
    "id": "9AEM-cgx9FwK"
   },
   "outputs": [],
   "source": [
    "points = [0]\n",
    "\n",
    "def point_up(point):\n",
    "    points[0] += point\n",
    "\n",
    "def point_down(point):\n",
    "    points[0] -=point"
   ]
  },
  {
   "cell_type": "code",
   "execution_count": 12,
   "metadata": {
    "id": "0FT4KFWg9clg"
   },
   "outputs": [],
   "source": [
    "point_up(100)"
   ]
  },
  {
   "cell_type": "code",
   "execution_count": 13,
   "metadata": {
    "colab": {
     "base_uri": "https://localhost:8080/"
    },
    "id": "x6EnmLgr9_Ve",
    "outputId": "7ce65f3e-d3b9-4a3b-fab6-68e251668a5f"
   },
   "outputs": [
    {
     "data": {
      "text/plain": [
       "[100]"
      ]
     },
     "execution_count": 13,
     "metadata": {},
     "output_type": "execute_result"
    }
   ],
   "source": [
    "points"
   ]
  },
  {
   "cell_type": "code",
   "execution_count": 14,
   "metadata": {
    "colab": {
     "base_uri": "https://localhost:8080/"
    },
    "id": "CNBpME6J-Ae0",
    "outputId": "2fd318cf-3bda-4b7b-8fb8-a47b5b00b4d6"
   },
   "outputs": [
    {
     "data": {
      "text/plain": [
       "100"
      ]
     },
     "execution_count": 14,
     "metadata": {},
     "output_type": "execute_result"
    }
   ],
   "source": [
    "points[0]"
   ]
  },
  {
   "cell_type": "code",
   "execution_count": null,
   "metadata": {
    "id": "sbgt_WPI-JB-"
   },
   "outputs": [],
   "source": []
  }
 ],
 "metadata": {
  "colab": {
   "collapsed_sections": [],
   "include_colab_link": true,
   "name": "3_4_global.ipynb",
   "provenance": []
  },
  "kernelspec": {
   "display_name": "Python 3",
   "language": "python",
   "name": "python3"
  },
  "language_info": {
   "codemirror_mode": {
    "name": "ipython",
    "version": 3
   },
   "file_extension": ".py",
   "mimetype": "text/x-python",
   "name": "python",
   "nbconvert_exporter": "python",
   "pygments_lexer": "ipython3",
   "version": "3.7.9"
  }
 },
 "nbformat": 4,
 "nbformat_minor": 1
}
