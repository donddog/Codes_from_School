{
 "cells": [
  {
   "cell_type": "markdown",
   "metadata": {
    "colab_type": "text",
    "id": "view-in-github"
   },
   "source": [
    "<a href=\"https://colab.research.google.com/github/joohoshin/TensorflowAI/blob/main/4_3_Pandas.ipynb\" target=\"_parent\"><img src=\"https://colab.research.google.com/assets/colab-badge.svg\" alt=\"Open In Colab\"/></a>"
   ]
  },
  {
   "cell_type": "markdown",
   "metadata": {
    "id": "YWzaZGIO83IE"
   },
   "source": [
    "# Pandas\n",
    "* pandas 는 파이썬에서 엑셀처럼 데이터를 다룰 수 있게 해주는 라이브러리입니다. \n",
    "* 통계툴에서 출발한 R의 DataFrame을 참고하여 만든 라이브러리입니다. \n",
    "* https://pandas.pydata.org/\n",
    "\n",
    "### 파이썬이 머신러닝/딥러닝에 강점을 가지게 된 이유중의 하나입니다. "
   ]
  },
  {
   "cell_type": "markdown",
   "metadata": {
    "id": "6agQP0j683IF"
   },
   "source": [
    "* Numpy가 list와 유사하며, 연산에 강점을 가졌다면, \n",
    "* Pandas는 dictionary와 유사하다고 생각하면 쉽습니다. (인덱스에 이름 가능함)"
   ]
  },
  {
   "cell_type": "code",
   "execution_count": 1,
   "metadata": {
    "id": "lRpjKklB83IG"
   },
   "outputs": [],
   "source": [
    "import pandas as pd  # pandas 라이브러리 불러오기"
   ]
  },
  {
   "cell_type": "markdown",
   "metadata": {
    "id": "6cvPfCXG83IJ"
   },
   "source": [
    "* 1차원 배열 형태는 Series라고 부르며, 리스트나 딕셔너리에서 만들수 있습니다\n",
    "* 리스트에서 만들때는 인덱스가 0부터 자동 부여됩니다"
   ]
  },
  {
   "cell_type": "code",
   "execution_count": 2,
   "metadata": {
    "colab": {
     "base_uri": "https://localhost:8080/"
    },
    "id": "Ls35oxIw83IK",
    "outputId": "26711e7a-e23d-4f80-c1e1-6f6876c9f6f8"
   },
   "outputs": [
    {
     "name": "stdout",
     "output_type": "stream",
     "text": [
      "<class 'pandas.core.series.Series'> \n",
      "\n",
      "0    100\n",
      "1     80\n",
      "2     90\n",
      "3     80\n",
      "4    150\n",
      "dtype: int64\n"
     ]
    }
   ],
   "source": [
    "sales = pd.Series([100,80,90,80,150])\n",
    "print(type(sales), \"\\n\")\n",
    "print(sales)"
   ]
  },
  {
   "cell_type": "markdown",
   "metadata": {
    "id": "vGN76SfN83IN"
   },
   "source": [
    "* Dictionary에서 만들면 dict의 키값이 인덱스가 됩니다"
   ]
  },
  {
   "cell_type": "code",
   "execution_count": 3,
   "metadata": {
    "colab": {
     "base_uri": "https://localhost:8080/"
    },
    "id": "Ok5fWT7W83IO",
    "outputId": "a7fe230d-a2c0-4f38-be61-eb7b06dfa699"
   },
   "outputs": [
    {
     "data": {
      "text/plain": [
       "3월    100\n",
       "4월     80\n",
       "5월     90\n",
       "6월     80\n",
       "7월    150\n",
       "dtype: int64"
      ]
     },
     "execution_count": 3,
     "metadata": {},
     "output_type": "execute_result"
    }
   ],
   "source": [
    "sales2 = pd.Series({'3월':100, '4월':80, '5월':90, '6월':80, '7월':150})\n",
    "sales2\n",
    "#type(sales2)"
   ]
  },
  {
   "cell_type": "markdown",
   "metadata": {
    "id": "Kc_9CL2R83IQ"
   },
   "source": [
    "### DataFrame\n",
    "* 2차 배열 형태를 데이터프레임이라고 하며, \n",
    "* 인덱스(행의 이름)와 column 값을 가집니다"
   ]
  },
  {
   "cell_type": "code",
   "execution_count": 4,
   "metadata": {
    "id": "yACQp3rs83IR"
   },
   "outputs": [],
   "source": [
    "students=[\n",
    "     {'id':123, '화학':80, '영어':60, '공창컴':100},\n",
    "     {'id':122, '화학':100, '영어':90, '공창컴':90},\n",
    "     {'id':112, '화학':40, '영어':70, '공창컴':60}   \n",
    "]"
   ]
  },
  {
   "cell_type": "code",
   "execution_count": 5,
   "metadata": {
    "id": "JjdxPrnw83IT"
   },
   "outputs": [],
   "source": [
    "students_df = pd.DataFrame(students)  # 대소문자 구별 주의하세요"
   ]
  },
  {
   "cell_type": "code",
   "execution_count": 6,
   "metadata": {
    "colab": {
     "base_uri": "https://localhost:8080/",
     "height": 141
    },
    "id": "f7VzzVck83IV",
    "outputId": "4f58d21c-c58c-4147-fdc7-8b66efc66923"
   },
   "outputs": [
    {
     "data": {
      "text/html": [
       "<div>\n",
       "<style scoped>\n",
       "    .dataframe tbody tr th:only-of-type {\n",
       "        vertical-align: middle;\n",
       "    }\n",
       "\n",
       "    .dataframe tbody tr th {\n",
       "        vertical-align: top;\n",
       "    }\n",
       "\n",
       "    .dataframe thead th {\n",
       "        text-align: right;\n",
       "    }\n",
       "</style>\n",
       "<table border=\"1\" class=\"dataframe\">\n",
       "  <thead>\n",
       "    <tr style=\"text-align: right;\">\n",
       "      <th></th>\n",
       "      <th>id</th>\n",
       "      <th>화학</th>\n",
       "      <th>영어</th>\n",
       "      <th>공창컴</th>\n",
       "    </tr>\n",
       "  </thead>\n",
       "  <tbody>\n",
       "    <tr>\n",
       "      <th>0</th>\n",
       "      <td>123</td>\n",
       "      <td>80</td>\n",
       "      <td>60</td>\n",
       "      <td>100</td>\n",
       "    </tr>\n",
       "    <tr>\n",
       "      <th>1</th>\n",
       "      <td>122</td>\n",
       "      <td>100</td>\n",
       "      <td>90</td>\n",
       "      <td>90</td>\n",
       "    </tr>\n",
       "    <tr>\n",
       "      <th>2</th>\n",
       "      <td>112</td>\n",
       "      <td>40</td>\n",
       "      <td>70</td>\n",
       "      <td>60</td>\n",
       "    </tr>\n",
       "  </tbody>\n",
       "</table>\n",
       "</div>"
      ],
      "text/plain": [
       "    id   화학  영어  공창컴\n",
       "0  123   80  60  100\n",
       "1  122  100  90   90\n",
       "2  112   40  70   60"
      ]
     },
     "execution_count": 6,
     "metadata": {},
     "output_type": "execute_result"
    }
   ],
   "source": [
    "students_df"
   ]
  },
  {
   "cell_type": "markdown",
   "metadata": {
    "id": "LfGfu0cz83IY"
   },
   "source": [
    "### csv 파일로 손쉽게 저장, 읽기\n",
    "* csv 파일은 comma separated value의 약자로서 데이터를 ,로 구분하여 저장합니다\n",
    "* 엑셀에서도 손쉽게 열리고 저장가능합니다. \n",
    "* 기본은 utf-8 encoding 이며, 윈도우의 경우 한글 포함된 데이터는 cp949 encoding을 사용하여 저장합니다"
   ]
  },
  {
   "cell_type": "markdown",
   "metadata": {
    "id": "ljy0jDke83IY"
   },
   "source": [
    "* 저장은 .to_csv('파일이름.csv', encoding = 'cp949')\n",
    "* 저장 시에 동일 파일이 열려있는 경우에는 오류가 발생하므로 파일을 닫고 저장하여야 합니다. "
   ]
  },
  {
   "cell_type": "code",
   "execution_count": 7,
   "metadata": {
    "id": "NNnMCeBy83IZ"
   },
   "outputs": [],
   "source": [
    "students_df.to_csv('students.csv', encoding = 'cp949')"
   ]
  },
  {
   "cell_type": "markdown",
   "metadata": {
    "id": "05eZk-fD83Ib"
   },
   "source": [
    "* 저장 시에 인덱스도 함께 저장이 됩니다. \n",
    "* 인덱스를 저장하지 않는 경우에는 index=False 옵션을 추가합니다. "
   ]
  },
  {
   "cell_type": "code",
   "execution_count": 8,
   "metadata": {
    "id": "xlNZMUCX83Ib"
   },
   "outputs": [],
   "source": [
    "students_df.to_csv('students_no_index.csv', encoding = 'cp949', index = False)"
   ]
  },
  {
   "cell_type": "markdown",
   "metadata": {
    "id": "zjHXSmv683Id"
   },
   "source": [
    "* 파일 읽기는 pd.read_csv('파일명', encoding = 'cp949')를 사용합니다 "
   ]
  },
  {
   "cell_type": "code",
   "execution_count": 9,
   "metadata": {
    "id": "laYZUTYj83Id"
   },
   "outputs": [],
   "source": [
    "s_df = pd.read_csv('students_no_index.csv', encoding = 'cp949')"
   ]
  },
  {
   "cell_type": "code",
   "execution_count": 10,
   "metadata": {
    "colab": {
     "base_uri": "https://localhost:8080/",
     "height": 141
    },
    "id": "iQlxDzns83If",
    "outputId": "8060de83-559f-4cbd-c91f-a96be68eccac"
   },
   "outputs": [
    {
     "data": {
      "text/html": [
       "<div>\n",
       "<style scoped>\n",
       "    .dataframe tbody tr th:only-of-type {\n",
       "        vertical-align: middle;\n",
       "    }\n",
       "\n",
       "    .dataframe tbody tr th {\n",
       "        vertical-align: top;\n",
       "    }\n",
       "\n",
       "    .dataframe thead th {\n",
       "        text-align: right;\n",
       "    }\n",
       "</style>\n",
       "<table border=\"1\" class=\"dataframe\">\n",
       "  <thead>\n",
       "    <tr style=\"text-align: right;\">\n",
       "      <th></th>\n",
       "      <th>id</th>\n",
       "      <th>화학</th>\n",
       "      <th>영어</th>\n",
       "      <th>공창컴</th>\n",
       "    </tr>\n",
       "  </thead>\n",
       "  <tbody>\n",
       "    <tr>\n",
       "      <th>0</th>\n",
       "      <td>123</td>\n",
       "      <td>80</td>\n",
       "      <td>60</td>\n",
       "      <td>100</td>\n",
       "    </tr>\n",
       "    <tr>\n",
       "      <th>1</th>\n",
       "      <td>122</td>\n",
       "      <td>100</td>\n",
       "      <td>90</td>\n",
       "      <td>90</td>\n",
       "    </tr>\n",
       "    <tr>\n",
       "      <th>2</th>\n",
       "      <td>112</td>\n",
       "      <td>40</td>\n",
       "      <td>70</td>\n",
       "      <td>60</td>\n",
       "    </tr>\n",
       "  </tbody>\n",
       "</table>\n",
       "</div>"
      ],
      "text/plain": [
       "    id   화학  영어  공창컴\n",
       "0  123   80  60  100\n",
       "1  122  100  90   90\n",
       "2  112   40  70   60"
      ]
     },
     "execution_count": 10,
     "metadata": {},
     "output_type": "execute_result"
    }
   ],
   "source": [
    "s_df"
   ]
  },
  {
   "cell_type": "markdown",
   "metadata": {
    "id": "pB3pSkaH-xF7"
   },
   "source": [
    "### colab에서는 어디서 확인하나?\n"
   ]
  },
  {
   "cell_type": "markdown",
   "metadata": {
    "id": "QXNA4tu3_xBt"
   },
   "source": [
    "*   colab은 리눅스 환경(ubuntu)에서 실행되며, \n",
    "*   OS 명령을 사용할 때는 코드 셀에서 !뒤에 OS 명령을 사용하면 된다. \n",
    "\n"
   ]
  },
  {
   "cell_type": "code",
   "execution_count": null,
   "metadata": {
    "colab": {
     "base_uri": "https://localhost:8080/"
    },
    "id": "RbR81gLx83Ih",
    "outputId": "032ced85-de4a-47b1-f535-38ae5f23fdb4"
   },
   "outputs": [],
   "source": [
    "ls # 현재 폴더에 있는 파일 확인"
   ]
  },
  {
   "cell_type": "code",
   "execution_count": null,
   "metadata": {
    "colab": {
     "base_uri": "https://localhost:8080/"
    },
    "id": "VKZOEOlZ-3s4",
    "outputId": "3fae62fc-6342-482f-8d0a-56688ce71207"
   },
   "outputs": [],
   "source": [
    "pwd # 현재 경로 확인"
   ]
  },
  {
   "cell_type": "code",
   "execution_count": null,
   "metadata": {
    "id": "Gt8mxAnVAO-E"
   },
   "outputs": [],
   "source": []
  }
 ],
 "metadata": {
  "colab": {
   "collapsed_sections": [],
   "include_colab_link": true,
   "name": "4_3_Pandas.ipynb",
   "provenance": []
  },
  "kernelspec": {
   "display_name": "Python 3",
   "language": "python",
   "name": "python3"
  },
  "language_info": {
   "codemirror_mode": {
    "name": "ipython",
    "version": 3
   },
   "file_extension": ".py",
   "mimetype": "text/x-python",
   "name": "python",
   "nbconvert_exporter": "python",
   "pygments_lexer": "ipython3",
   "version": "3.7.9"
  }
 },
 "nbformat": 4,
 "nbformat_minor": 1
}
