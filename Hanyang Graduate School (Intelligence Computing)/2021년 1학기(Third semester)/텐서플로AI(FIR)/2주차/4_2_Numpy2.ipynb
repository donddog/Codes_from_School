{
 "cells": [
  {
   "cell_type": "markdown",
   "metadata": {
    "colab_type": "text",
    "id": "view-in-github"
   },
   "source": [
    "<a href=\"https://colab.research.google.com/github/joohoshin/TensorflowAI/blob/main/4_2_Numpy2.ipynb\" target=\"_parent\"><img src=\"https://colab.research.google.com/assets/colab-badge.svg\" alt=\"Open In Colab\"/></a>"
   ]
  },
  {
   "cell_type": "markdown",
   "metadata": {
    "id": "hl1m_GHM7mEJ"
   },
   "source": [
    "# 배열 자동 생성\n",
    "* random을 통해서 자동으로 생성가능함\n",
    "* randint(start, end, size = (row size, column size)) 형태로 사용 (end는 포함되지 않음)"
   ]
  },
  {
   "cell_type": "code",
   "execution_count": 1,
   "metadata": {
    "id": "DTaWkS187mEK"
   },
   "outputs": [],
   "source": [
    "import numpy as np"
   ]
  },
  {
   "cell_type": "code",
   "execution_count": 2,
   "metadata": {
    "colab": {
     "base_uri": "https://localhost:8080/"
    },
    "id": "AvK2vzub7mEN",
    "outputId": "c9793f9f-12fc-4622-bfd1-e98fd059729c"
   },
   "outputs": [
    {
     "name": "stdout",
     "output_type": "stream",
     "text": [
      "[[4 3 6]\n",
      " [5 4 1]] \n",
      "\n",
      "[2 4 8 3 3 9 3 2 3 4]\n"
     ]
    }
   ],
   "source": [
    "arr1 = np.random.randint(0,10, size=(2,3))\n",
    "print(arr1, \"\\n\")\n",
    "\n",
    "arr2 = np.random.randint(0,10, size = 10)\n",
    "print(arr2)"
   ]
  },
  {
   "cell_type": "markdown",
   "metadata": {
    "id": "V-qYANcR7mEQ"
   },
   "source": [
    "* rand(row size, column size)는 0~1 사이의 값을 랜덤 선택 (1은 미포함)\n"
   ]
  },
  {
   "cell_type": "code",
   "execution_count": 3,
   "metadata": {
    "colab": {
     "base_uri": "https://localhost:8080/"
    },
    "id": "QZ8owffg7mER",
    "outputId": "a1232f64-e603-4af2-dc5f-0eab0e4a0412"
   },
   "outputs": [
    {
     "name": "stdout",
     "output_type": "stream",
     "text": [
      "[[0.26837337 0.97954232 0.36427511]\n",
      " [0.24994081 0.19194915 0.16823577]\n",
      " [0.38691823 0.93722798 0.17541084]\n",
      " [0.72402269 0.09749065 0.70798156]\n",
      " [0.69005464 0.72197806 0.9568282 ]]\n"
     ]
    }
   ],
   "source": [
    "arr3 = np.random.rand(5,3)\n",
    "\n",
    "print(arr3)"
   ]
  },
  {
   "cell_type": "code",
   "execution_count": 4,
   "metadata": {
    "colab": {
     "base_uri": "https://localhost:8080/"
    },
    "id": "yQT2kZVX7mEW",
    "outputId": "cd83ef1a-e1bf-4211-c0bb-05c63a4d4040"
   },
   "outputs": [
    {
     "name": "stdout",
     "output_type": "stream",
     "text": [
      "[[0.6379291  0.63307277 0.4024194 ]\n",
      " [0.9548933  0.26909911 0.1255286 ]\n",
      " [0.07249021 0.02933102 0.57248182]\n",
      " [0.71042579 0.93422871 0.05341375]\n",
      " [0.24089625 0.21304567 0.58490936]]\n"
     ]
    }
   ],
   "source": [
    "arr4 = np.random.rand(5,3)\n",
    "\n",
    "print(arr4)"
   ]
  },
  {
   "cell_type": "markdown",
   "metadata": {
    "id": "z5AZUifD7mEY"
   },
   "source": [
    "* 그 외에도 여러가지 행렬 연산 기능이 있음\n",
    "* https://www.bogotobogo.com/python/python_numpy_matrix_tutorial.php"
   ]
  },
  {
   "cell_type": "markdown",
   "metadata": {
    "id": "5ctMD3kj7mEY"
   },
   "source": [
    "##### 주요 통계값\n",
    "* 리스트와 마찬가지로 min(), count() 등 되며\n",
    "* 평균 및 표준편차도 쉽게 구할 수 있다 mean(), std() "
   ]
  },
  {
   "cell_type": "code",
   "execution_count": 5,
   "metadata": {
    "colab": {
     "base_uri": "https://localhost:8080/"
    },
    "id": "ZRFj0k7Y7mEZ",
    "outputId": "41b73276-45bb-4f96-ee40-23ac3f37d737"
   },
   "outputs": [
    {
     "name": "stdout",
     "output_type": "stream",
     "text": [
      "sum : 6.43\n",
      "min : 0.03\n",
      "max : 0.95\n",
      "mean : 0.43\n",
      "std : 0.30\n",
      "var : 0.09\n"
     ]
    }
   ],
   "source": [
    "print(\"sum : %.2f\" % arr4.sum())\n",
    "print(\"min : %.2f\" % arr4.min())\n",
    "print(\"max : %.2f\" % arr4.max())\n",
    "print(\"mean : %.2f\" % arr4.mean())\n",
    "print(\"std : %.2f\" % arr4.std())\n",
    "print(\"var : %.2f\" % arr4.var())"
   ]
  },
  {
   "cell_type": "markdown",
   "metadata": {
    "id": "Rl4j2f7y7mEb"
   },
   "source": [
    "##### 특정 범위 가져오기\n",
    "* arr[start:end:step]으로 특정 범위 데이터를 가져올 수 있다\n",
    "  (end 는 미포함)\n",
    "* 리스트와 동일함"
   ]
  },
  {
   "cell_type": "code",
   "execution_count": 6,
   "metadata": {
    "colab": {
     "base_uri": "https://localhost:8080/"
    },
    "id": "DhT9SrDM7mEc",
    "outputId": "7e7d32d0-f234-48da-c388-d54d82e41b85"
   },
   "outputs": [
    {
     "name": "stdout",
     "output_type": "stream",
     "text": [
      "[0 1 3 9 2 5 2 9 5 3]\n"
     ]
    }
   ],
   "source": [
    "arr5 = np.random.randint(10, size = 10)\n",
    "\n",
    "print(arr5)"
   ]
  },
  {
   "cell_type": "code",
   "execution_count": 7,
   "metadata": {
    "colab": {
     "base_uri": "https://localhost:8080/"
    },
    "id": "bN5HGCvi7mEf",
    "outputId": "3ec2b0bc-fd86-4182-cc12-cd5b50f89d2b"
   },
   "outputs": [
    {
     "data": {
      "text/plain": [
       "array([0, 1, 3, 9, 2])"
      ]
     },
     "execution_count": 7,
     "metadata": {},
     "output_type": "execute_result"
    }
   ],
   "source": [
    "arr5[:5] "
   ]
  },
  {
   "cell_type": "code",
   "execution_count": 8,
   "metadata": {
    "colab": {
     "base_uri": "https://localhost:8080/"
    },
    "id": "OD-Y9MfH7mEi",
    "outputId": "d694ceb2-4bbd-4cc2-8402-51a2f9edc0de"
   },
   "outputs": [
    {
     "data": {
      "text/plain": [
       "array([1, 3])"
      ]
     },
     "execution_count": 8,
     "metadata": {},
     "output_type": "execute_result"
    }
   ],
   "source": [
    "arr5[1:3]"
   ]
  },
  {
   "cell_type": "code",
   "execution_count": null,
   "metadata": {
    "id": "1SkSn9vR7mEk"
   },
   "outputs": [],
   "source": []
  }
 ],
 "metadata": {
  "colab": {
   "collapsed_sections": [],
   "include_colab_link": true,
   "name": "4_2_Numpy2.ipynb",
   "provenance": []
  },
  "kernelspec": {
   "display_name": "Python 3",
   "language": "python",
   "name": "python3"
  },
  "language_info": {
   "codemirror_mode": {
    "name": "ipython",
    "version": 3
   },
   "file_extension": ".py",
   "mimetype": "text/x-python",
   "name": "python",
   "nbconvert_exporter": "python",
   "pygments_lexer": "ipython3",
   "version": "3.7.9"
  }
 },
 "nbformat": 4,
 "nbformat_minor": 1
}
