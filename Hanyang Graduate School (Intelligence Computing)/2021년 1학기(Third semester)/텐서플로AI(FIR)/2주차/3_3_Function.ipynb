{
 "cells": [
  {
   "cell_type": "markdown",
   "metadata": {
    "colab_type": "text",
    "id": "view-in-github"
   },
   "source": [
    "<a href=\"https://colab.research.google.com/github/joohoshin/TensorflowAI/blob/main/3_3_Function.ipynb\" target=\"_parent\"><img src=\"https://colab.research.google.com/assets/colab-badge.svg\" alt=\"Open In Colab\"/></a>"
   ]
  },
  {
   "cell_type": "markdown",
   "metadata": {
    "collapsed": true,
    "id": "re6qoRpXHVi-"
   },
   "source": [
    "# Function\n",
    "* 함수를 만들어서 반복작업을 쉽도록 만든다. \n",
    "* def 함수명(입력변수):\n",
    "     - 실행문"
   ]
  },
  {
   "cell_type": "code",
   "execution_count": 1,
   "metadata": {
    "id": "gpSQTl-lHVjA"
   },
   "outputs": [],
   "source": [
    "def 직사각형넓이(가로, 세로):\n",
    "    area = 가로 * 세로\n",
    "    print(area)"
   ]
  },
  {
   "cell_type": "code",
   "execution_count": 2,
   "metadata": {
    "colab": {
     "base_uri": "https://localhost:8080/"
    },
    "id": "OCUvsHJAHVjJ",
    "outputId": "c5ed02fa-440c-4150-ad70-5d718e275f95"
   },
   "outputs": [
    {
     "name": "stdout",
     "output_type": "stream",
     "text": [
      "200\n"
     ]
    }
   ],
   "source": [
    "직사각형넓이(10,20)"
   ]
  },
  {
   "cell_type": "code",
   "execution_count": 3,
   "metadata": {
    "colab": {
     "base_uri": "https://localhost:8080/"
    },
    "id": "Q0boJ38lHVjP",
    "outputId": "c7169e26-0b4b-49c4-ff5a-9e85f5cb21c3"
   },
   "outputs": [
    {
     "name": "stdout",
     "output_type": "stream",
     "text": [
      "30000\n"
     ]
    }
   ],
   "source": [
    "직사각형넓이(100,300)"
   ]
  },
  {
   "cell_type": "markdown",
   "metadata": {
    "id": "-g5M-gVgHVjT"
   },
   "source": [
    "* return 반환값을 적어주면 함수의 값을 변수로 넘겨받아서 사용할 수 있다"
   ]
  },
  {
   "cell_type": "code",
   "execution_count": 4,
   "metadata": {
    "id": "tU16PbxQHVjX"
   },
   "outputs": [],
   "source": [
    "def BMI(체중, 신장):\n",
    "    return 체중/(신장/100)**2"
   ]
  },
  {
   "cell_type": "code",
   "execution_count": 5,
   "metadata": {
    "id": "XNZnzrwytwMT"
   },
   "outputs": [],
   "source": [
    "a=BMI(70, 170)"
   ]
  },
  {
   "cell_type": "code",
   "execution_count": 6,
   "metadata": {
    "colab": {
     "base_uri": "https://localhost:8080/"
    },
    "id": "XOz2OZKut6Qv",
    "outputId": "962c7cb2-ecca-4020-ff54-048d4adec55a"
   },
   "outputs": [
    {
     "name": "stdout",
     "output_type": "stream",
     "text": [
      "24.221453287197235\n"
     ]
    }
   ],
   "source": [
    "print(a)"
   ]
  },
  {
   "cell_type": "code",
   "execution_count": 7,
   "metadata": {},
   "outputs": [
    {
     "name": "stdout",
     "output_type": "stream",
     "text": [
      "24\n"
     ]
    }
   ],
   "source": [
    "print(int(a))"
   ]
  },
  {
   "cell_type": "code",
   "execution_count": 8,
   "metadata": {
    "colab": {
     "base_uri": "https://localhost:8080/"
    },
    "id": "VBeAqdJit-52",
    "outputId": "6eaff9c4-9917-449b-e795-9f651fa5df2b"
   },
   "outputs": [
    {
     "name": "stdout",
     "output_type": "stream",
     "text": [
      "30000\n"
     ]
    }
   ],
   "source": [
    "b = 직사각형넓이(100,300)"
   ]
  },
  {
   "cell_type": "code",
   "execution_count": 9,
   "metadata": {
    "colab": {
     "base_uri": "https://localhost:8080/"
    },
    "id": "Quz2-MixuDbA",
    "outputId": "a3b2638d-4dc2-4e76-8431-46cc5e37cd34"
   },
   "outputs": [
    {
     "name": "stdout",
     "output_type": "stream",
     "text": [
      "None\n"
     ]
    }
   ],
   "source": [
    "print(b)"
   ]
  },
  {
   "cell_type": "code",
   "execution_count": 10,
   "metadata": {
    "colab": {
     "base_uri": "https://localhost:8080/"
    },
    "id": "szeLg8KoHVjb",
    "outputId": "e8164881-810b-4dd6-cdc4-fb34b8bfb8fa"
   },
   "outputs": [
    {
     "name": "stdout",
     "output_type": "stream",
     "text": [
      "bmi1이 더 큽니다\n"
     ]
    }
   ],
   "source": [
    "bmi1 = BMI(80, 175)\n",
    "bmi2 = BMI(60, 180)\n",
    "\n",
    "if bmi1>bmi2: \n",
    "    print('bmi1이 더 큽니다')\n",
    "else: \n",
    "    print('bmi2가 더 큽니다 ')"
   ]
  },
  {
   "cell_type": "markdown",
   "metadata": {
    "id": "2bnd1y30HVje"
   },
   "source": [
    "* ??함수명 을 사용하면 함수의 도움말이나 함수의 코드가 나온다"
   ]
  },
  {
   "cell_type": "code",
   "execution_count": 11,
   "metadata": {
    "id": "9fMRymUeHVjf"
   },
   "outputs": [],
   "source": [
    "??print"
   ]
  },
  {
   "cell_type": "code",
   "execution_count": 12,
   "metadata": {
    "id": "57Y0ekiEHVji"
   },
   "outputs": [],
   "source": [
    "??BMI"
   ]
  },
  {
   "cell_type": "markdown",
   "metadata": {
    "id": "zh0nxeNVHVjn"
   },
   "source": [
    "# 활용: 숫자의 합을 구하는 함수 만들기"
   ]
  },
  {
   "cell_type": "markdown",
   "metadata": {
    "id": "Wz6MCGCeHVjn"
   },
   "source": [
    "* 함수 미 사용시"
   ]
  },
  {
   "cell_type": "code",
   "execution_count": 13,
   "metadata": {
    "colab": {
     "base_uri": "https://localhost:8080/"
    },
    "id": "FgEi9WDeHVjo",
    "outputId": "e0cf89ed-d3b6-41fd-d7f4-cc98ab8d6b13"
   },
   "outputs": [
    {
     "name": "stdout",
     "output_type": "stream",
     "text": [
      "5050\n"
     ]
    }
   ],
   "source": [
    "start_num = 1\n",
    "end_num = 100\n",
    "sum_ = 0\n",
    "\n",
    "for i in range(start_num, end_num+1):\n",
    "    sum_ += i\n",
    "    \n",
    "print(sum_)"
   ]
  },
  {
   "cell_type": "markdown",
   "metadata": {
    "id": "z60gtVAQHVjr"
   },
   "source": [
    "* 함수 사용 시"
   ]
  },
  {
   "cell_type": "code",
   "execution_count": 14,
   "metadata": {
    "id": "4uItfbUTHVjr"
   },
   "outputs": [],
   "source": [
    "def sum_num(start_num, end_num):\n",
    "    sum_=0\n",
    "    \n",
    "    for i in range(start_num, end_num+1):\n",
    "        sum_ += i\n",
    "        \n",
    "    return sum_"
   ]
  },
  {
   "cell_type": "code",
   "execution_count": 15,
   "metadata": {
    "colab": {
     "base_uri": "https://localhost:8080/"
    },
    "id": "ScYn2PHkvThV",
    "outputId": "857561f4-8989-4718-b462-0cfaef8dcd06"
   },
   "outputs": [
    {
     "name": "stdout",
     "output_type": "stream",
     "text": [
      "sum1이 큽니다\n"
     ]
    }
   ],
   "source": [
    "sum1 = sum_num(1,100)\n",
    "sum2 = sum_num(50, 110)\n",
    "\n",
    "if sum1> sum2:\n",
    "    print('sum1이 큽니다')\n",
    "else: print('sum2가 큽니다')"
   ]
  },
  {
   "cell_type": "markdown",
   "metadata": {
    "id": "IADw5ED-HVju"
   },
   "source": [
    "* 함수사용 , 입력한 숫자의 배수 합계 구하기"
   ]
  },
  {
   "cell_type": "code",
   "execution_count": 16,
   "metadata": {
    "colab": {
     "base_uri": "https://localhost:8080/"
    },
    "id": "k1Fo72-jHVju",
    "outputId": "1adf2a7a-000f-4110-e696-b2162f384fd3"
   },
   "outputs": [
    {
     "name": "stdout",
     "output_type": "stream",
     "text": [
      "총합계는 63\n"
     ]
    }
   ],
   "source": [
    "def sum_num2(start_num, end_num, n):\n",
    "    sum_=0\n",
    "    \n",
    "    for i in range(start_num, end_num+1):\n",
    "        if i % n==0:\n",
    "            #print(i)\n",
    "            sum_ += i\n",
    "            \n",
    "    return sum_\n",
    "\n",
    "sum1 = sum_num2(1,20,3)\n",
    "\n",
    "print('총합계는',sum1)"
   ]
  },
  {
   "cell_type": "code",
   "execution_count": 17,
   "metadata": {
    "colab": {
     "base_uri": "https://localhost:8080/"
    },
    "id": "KACBKTxpHVjx",
    "outputId": "9706693e-799c-407f-d7e3-5220ff2f1aa8"
   },
   "outputs": [
    {
     "name": "stdout",
     "output_type": "stream",
     "text": [
      "sum2 합계 71071\n"
     ]
    }
   ],
   "source": [
    "sum2 = sum_num2(3,1000, 7)\n",
    "\n",
    "print('sum2 합계', sum2)"
   ]
  },
  {
   "cell_type": "markdown",
   "metadata": {
    "id": "gpqDRLO8HmOD"
   },
   "source": [
    "*   리턴값은 2개 이상도 가능합니다. "
   ]
  },
  {
   "cell_type": "code",
   "execution_count": 18,
   "metadata": {
    "colab": {
     "base_uri": "https://localhost:8080/"
    },
    "id": "2-oLX8BKHVjz",
    "outputId": "396fe108-09d1-4c60-fe67-b531bf4e0f62"
   },
   "outputs": [
    {
     "name": "stdout",
     "output_type": "stream",
     "text": [
      "총합계는 63 배수의 개수는 6\n"
     ]
    }
   ],
   "source": [
    "def sum_num3(start_num, end_num, n):\n",
    "    sum_=0\n",
    "    cnt = 0\n",
    "    \n",
    "    for i in range(start_num, end_num+1):\n",
    "        if i % n==0:\n",
    "            #print(i)\n",
    "            sum_ += i\n",
    "            cnt += 1\n",
    "    return sum_, cnt\n",
    "\n",
    "sum3, cnt = sum_num3(1,20,3)\n",
    "\n",
    "print('총합계는',sum3, '배수의 개수는', cnt)"
   ]
  },
  {
   "cell_type": "code",
   "execution_count": null,
   "metadata": {
    "id": "c4i5_43kHqtn"
   },
   "outputs": [],
   "source": []
  }
 ],
 "metadata": {
  "colab": {
   "collapsed_sections": [],
   "include_colab_link": true,
   "name": "3_3_Function.ipynb",
   "provenance": []
  },
  "kernelspec": {
   "display_name": "Python 3",
   "language": "python",
   "name": "python3"
  },
  "language_info": {
   "codemirror_mode": {
    "name": "ipython",
    "version": 3
   },
   "file_extension": ".py",
   "mimetype": "text/x-python",
   "name": "python",
   "nbconvert_exporter": "python",
   "pygments_lexer": "ipython3",
   "version": "3.7.9"
  }
 },
 "nbformat": 4,
 "nbformat_minor": 1
}
