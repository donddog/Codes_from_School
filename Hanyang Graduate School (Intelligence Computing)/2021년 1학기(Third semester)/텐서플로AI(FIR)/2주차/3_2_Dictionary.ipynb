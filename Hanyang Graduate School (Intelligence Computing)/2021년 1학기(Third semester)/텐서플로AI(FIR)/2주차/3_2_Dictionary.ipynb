{
 "cells": [
  {
   "cell_type": "markdown",
   "metadata": {
    "colab_type": "text",
    "id": "view-in-github"
   },
   "source": [
    "<a href=\"https://colab.research.google.com/github/joohoshin/TensorflowAI/blob/main/3_2_Dictionary.ipynb\" target=\"_parent\"><img src=\"https://colab.research.google.com/assets/colab-badge.svg\" alt=\"Open In Colab\"/></a>"
   ]
  },
  {
   "cell_type": "markdown",
   "metadata": {
    "collapsed": true,
    "id": "ucbir7DpQQSx"
   },
   "source": [
    "# Dictionary\n",
    "* 여러 값을 저장할 수 있으며, 이름: 값 형대로 저장할 수 있음\n",
    "* {} 기호를 사용하며, 리스트와 동일하게 값 구분은 ,를 사용함"
   ]
  },
  {
   "cell_type": "code",
   "execution_count": 1,
   "metadata": {
    "colab": {
     "base_uri": "https://localhost:8080/"
    },
    "id": "aX7eL979QQSy",
    "outputId": "94cdda8e-41b9-47f6-a218-e695e2de12bd"
   },
   "outputs": [
    {
     "data": {
      "text/plain": [
       "{'손흥민': '000-1111', '박지성': '0000-1234', '메시': '00-0000-1111'}"
      ]
     },
     "execution_count": 1,
     "metadata": {},
     "output_type": "execute_result"
    }
   ],
   "source": [
    "전화번호 = {'손흥민':'000-1111', '박지성':'0000-1234', '메시':'00-0000-1111'}\n",
    "전화번호"
   ]
  },
  {
   "cell_type": "markdown",
   "metadata": {
    "id": "O0_DEKDVQQS3"
   },
   "source": [
    "* 값은 이름(key)를 [  ]안에 넣어서 가져온다\n",
    "* key는 중복하여 사용할 수 없다. "
   ]
  },
  {
   "cell_type": "code",
   "execution_count": 2,
   "metadata": {
    "colab": {
     "base_uri": "https://localhost:8080/",
     "height": 36
    },
    "id": "XIbCxtyFQQS3",
    "outputId": "72fb5d04-ec94-4cdc-caef-52b7b9c70667"
   },
   "outputs": [
    {
     "data": {
      "text/plain": [
       "'0000-1234'"
      ]
     },
     "execution_count": 2,
     "metadata": {},
     "output_type": "execute_result"
    }
   ],
   "source": [
    "전화번호['박지성']"
   ]
  },
  {
   "cell_type": "markdown",
   "metadata": {
    "id": "baX4TugFQQS7"
   },
   "source": [
    "* 추가할 때는 변수명[key] = 값"
   ]
  },
  {
   "cell_type": "code",
   "execution_count": 3,
   "metadata": {
    "colab": {
     "base_uri": "https://localhost:8080/"
    },
    "id": "VeEX8VncQQS7",
    "outputId": "3379d639-5399-45df-c67e-4af9fe4c478a"
   },
   "outputs": [
    {
     "data": {
      "text/plain": [
       "{'손흥민': '000-1111',\n",
       " '박지성': '0000-1234',\n",
       " '메시': '00-0000-1111',\n",
       " '호날두': '00-0011-1111'}"
      ]
     },
     "execution_count": 3,
     "metadata": {},
     "output_type": "execute_result"
    }
   ],
   "source": [
    "전화번호['호날두']='00-0011-1111'\n",
    "전화번호"
   ]
  },
  {
   "cell_type": "markdown",
   "metadata": {
    "id": "-DkzC6bOQQS_"
   },
   "source": [
    "* 삭제는 리스트와 동일하게 del을 사용"
   ]
  },
  {
   "cell_type": "code",
   "execution_count": 4,
   "metadata": {
    "colab": {
     "base_uri": "https://localhost:8080/"
    },
    "id": "50gAeltMQQS_",
    "outputId": "cbfdee60-a044-4098-c7bc-d9202d9970d7"
   },
   "outputs": [
    {
     "data": {
      "text/plain": [
       "{'손흥민': '000-1111', '메시': '00-0000-1111', '호날두': '00-0011-1111'}"
      ]
     },
     "execution_count": 4,
     "metadata": {},
     "output_type": "execute_result"
    }
   ],
   "source": [
    "del 전화번호['박지성']\n",
    "전화번호"
   ]
  },
  {
   "cell_type": "markdown",
   "metadata": {
    "id": "1h1jD_WdQQTC"
   },
   "source": [
    "# 활용: 메모장"
   ]
  },
  {
   "cell_type": "code",
   "execution_count": 5,
   "metadata": {
    "colab": {
     "base_uri": "https://localhost:8080/"
    },
    "id": "PYMF2qnxQQTD",
    "outputId": "9c66928d-dd9d-4220-95bc-ddfb8c46af63"
   },
   "outputs": [
    {
     "name": "stdout",
     "output_type": "stream",
     "text": [
      "메모장 프로그램 1.0 \n",
      "\n",
      "0: 종료, 1:메모추가, 2:메모읽기, 3: 메모삭제 >> 123\n",
      "잘못입력하였습니다. \n",
      "\n",
      "0: 종료, 1:메모추가, 2:메모읽기, 3: 메모삭제 >> 1\n",
      "제목을 입력하세요. >> 234\n",
      "내용을 입력하세요. >> 2\n",
      "\n",
      "0: 종료, 1:메모추가, 2:메모읽기, 3: 메모삭제 >> 2\n",
      "{'234': '2'}\n",
      "\n",
      "0: 종료, 1:메모추가, 2:메모읽기, 3: 메모삭제 >> 123\n",
      "잘못입력하였습니다. \n",
      "\n",
      "0: 종료, 1:메모추가, 2:메모읽기, 3: 메모삭제 >> 3\n",
      "삭제하고 싶은 제목을 입력하세요 >> 234\n",
      "\n",
      "0: 종료, 1:메모추가, 2:메모읽기, 3: 메모삭제 >> 2\n",
      "{}\n",
      "\n",
      "0: 종료, 1:메모추가, 2:메모읽기, 3: 메모삭제 >> 0\n",
      "프로그램이 종료되었습니다. \n"
     ]
    }
   ],
   "source": [
    "memo = {}\n",
    "\n",
    "print('메모장 프로그램 1.0 ')\n",
    "while True:\n",
    "    print()\n",
    "    menu = input('0: 종료, 1:메모추가, 2:메모읽기, 3: 메모삭제 >> ')\n",
    "    if menu =='0': break\n",
    "    elif menu=='1':\n",
    "        title = input('제목을 입력하세요. >> ')\n",
    "        body = input('내용을 입력하세요. >> ')\n",
    "        memo[title] = body\n",
    "    elif menu=='2':\n",
    "        print(memo)\n",
    "    elif menu=='3':\n",
    "        title = input('삭제하고 싶은 제목을 입력하세요 >> ')\n",
    "        del memo[title]\n",
    "    else:\n",
    "        print('잘못입력하였습니다. ')\n",
    "print('프로그램이 종료되었습니다. ')"
   ]
  },
  {
   "cell_type": "code",
   "execution_count": null,
   "metadata": {
    "id": "lAOv8ou7QQTH"
   },
   "outputs": [],
   "source": []
  }
 ],
 "metadata": {
  "colab": {
   "collapsed_sections": [],
   "include_colab_link": true,
   "name": "3_2_Dictionary.ipynb",
   "provenance": []
  },
  "kernelspec": {
   "display_name": "Python 3",
   "language": "python",
   "name": "python3"
  },
  "language_info": {
   "codemirror_mode": {
    "name": "ipython",
    "version": 3
   },
   "file_extension": ".py",
   "mimetype": "text/x-python",
   "name": "python",
   "nbconvert_exporter": "python",
   "pygments_lexer": "ipython3",
   "version": "3.7.9"
  }
 },
 "nbformat": 4,
 "nbformat_minor": 1
}
