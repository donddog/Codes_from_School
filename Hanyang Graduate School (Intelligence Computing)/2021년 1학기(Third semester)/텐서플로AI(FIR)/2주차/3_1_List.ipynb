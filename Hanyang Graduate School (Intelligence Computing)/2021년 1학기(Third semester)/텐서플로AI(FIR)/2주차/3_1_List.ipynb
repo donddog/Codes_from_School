{
 "cells": [
  {
   "cell_type": "markdown",
   "metadata": {
    "colab_type": "text",
    "id": "view-in-github"
   },
   "source": [
    "<a href=\"https://colab.research.google.com/github/joohoshin/TensorflowAI/blob/main/3_1_List.ipynb\" target=\"_parent\"><img src=\"https://colab.research.google.com/assets/colab-badge.svg\" alt=\"Open In Colab\"/></a>"
   ]
  },
  {
   "cell_type": "markdown",
   "metadata": {
    "id": "RKguPBH_QPDI"
   },
   "source": [
    "# List\n",
    "* 한개의 변수명에 여러개의 값을 저장할 수 있습니다. \n",
    "* [  ] 기호 안에 값을 넣어줍니다.  comma 로 값들을 구분합니다. "
   ]
  },
  {
   "cell_type": "code",
   "execution_count": 1,
   "metadata": {
    "colab": {
     "base_uri": "https://localhost:8080/"
    },
    "id": "XrQ8rirnQPDJ",
    "outputId": "7dbb30d5-f5c1-456b-d628-087795560987"
   },
   "outputs": [
    {
     "data": {
      "text/plain": [
       "['red', 'blue', 'black']"
      ]
     },
     "execution_count": 1,
     "metadata": {},
     "output_type": "execute_result"
    }
   ],
   "source": [
    "colors = ['red', 'blue', 'black']\n",
    "colors"
   ]
  },
  {
   "cell_type": "code",
   "execution_count": 2,
   "metadata": {
    "colab": {
     "base_uri": "https://localhost:8080/"
    },
    "id": "JwHJs58zQPDS",
    "outputId": "1919249c-1363-40b2-bbe3-e6d69530199d"
   },
   "outputs": [
    {
     "data": {
      "text/plain": [
       "[1, 3, 5, 7, 11]"
      ]
     },
     "execution_count": 2,
     "metadata": {},
     "output_type": "execute_result"
    }
   ],
   "source": [
    "prime_numbers = [1,3,5,7,11]\n",
    "prime_numbers"
   ]
  },
  {
   "cell_type": "markdown",
   "metadata": {
    "id": "Ne6PFLFhQPDW"
   },
   "source": [
    "* 리스트의 특정 값을 불러올 때는 변수명[1]과 같이 불러옵니다. \n",
    "* 주의할 점은 첫번째 값이 0부터 시작한다는 것입니다"
   ]
  },
  {
   "cell_type": "code",
   "execution_count": 3,
   "metadata": {
    "colab": {
     "base_uri": "https://localhost:8080/"
    },
    "id": "Cw19IuePQPDX",
    "outputId": "6bbda2c7-6cf3-4878-c393-7f290d2b937a"
   },
   "outputs": [
    {
     "data": {
      "text/plain": [
       "3"
      ]
     },
     "execution_count": 3,
     "metadata": {},
     "output_type": "execute_result"
    }
   ],
   "source": [
    "prime_numbers[1]"
   ]
  },
  {
   "cell_type": "code",
   "execution_count": 4,
   "metadata": {
    "colab": {
     "base_uri": "https://localhost:8080/"
    },
    "id": "7lWzgTxVQPDa",
    "outputId": "76bef527-668d-47eb-a0de-c9a2358c57ae"
   },
   "outputs": [
    {
     "data": {
      "text/plain": [
       "1"
      ]
     },
     "execution_count": 4,
     "metadata": {},
     "output_type": "execute_result"
    }
   ],
   "source": [
    "prime_numbers[0]"
   ]
  },
  {
   "cell_type": "markdown",
   "metadata": {
    "id": "qASmSP8bQPDd"
   },
   "source": [
    "* 마지막 항목은 -1입니다. 뒤에서 두번째 항목은 -2입니다."
   ]
  },
  {
   "cell_type": "code",
   "execution_count": 5,
   "metadata": {
    "colab": {
     "base_uri": "https://localhost:8080/"
    },
    "id": "mioji-M6QPDe",
    "outputId": "f606fb12-8679-4bab-f27c-6eb34ccdfb19"
   },
   "outputs": [
    {
     "data": {
      "text/plain": [
       "11"
      ]
     },
     "execution_count": 5,
     "metadata": {},
     "output_type": "execute_result"
    }
   ],
   "source": [
    "prime_numbers[-1]"
   ]
  },
  {
   "cell_type": "markdown",
   "metadata": {
    "id": "u-c4fPzDQPDh"
   },
   "source": [
    "* 항목추가하기: .append()"
   ]
  },
  {
   "cell_type": "code",
   "execution_count": 6,
   "metadata": {
    "colab": {
     "base_uri": "https://localhost:8080/"
    },
    "id": "9DfUS4rkQPDi",
    "outputId": "e948b651-c83d-4ad5-a94a-14e67af2de8f"
   },
   "outputs": [
    {
     "data": {
      "text/plain": [
       "[1, 3, 5, 7, 11, 13]"
      ]
     },
     "execution_count": 6,
     "metadata": {},
     "output_type": "execute_result"
    }
   ],
   "source": [
    "prime_numbers.append(13)\n",
    "prime_numbers"
   ]
  },
  {
   "cell_type": "markdown",
   "metadata": {
    "id": "V1JpvIOoQPDm"
   },
   "source": [
    "* 항목 삭제하기: del을 사용하여 변수를 삭제하거나, 특정 값을 삭제할 수 있습니다. "
   ]
  },
  {
   "cell_type": "code",
   "execution_count": 7,
   "metadata": {
    "colab": {
     "base_uri": "https://localhost:8080/"
    },
    "id": "jpP4X0TCQPDm",
    "outputId": "ae210a45-48b8-4252-a447-7ea70a5501a3"
   },
   "outputs": [
    {
     "data": {
      "text/plain": [
       "[3, 5, 7, 11, 13]"
      ]
     },
     "execution_count": 7,
     "metadata": {},
     "output_type": "execute_result"
    }
   ],
   "source": [
    "del prime_numbers[0]\n",
    "prime_numbers"
   ]
  },
  {
   "cell_type": "code",
   "execution_count": 8,
   "metadata": {
    "colab": {
     "base_uri": "https://localhost:8080/",
     "height": 213
    },
    "id": "OIMuJ7eMQPDp",
    "outputId": "5f506703-11a7-4616-b5a9-6406d82a518c"
   },
   "outputs": [
    {
     "ename": "NameError",
     "evalue": "name 'prime_numbers' is not defined",
     "output_type": "error",
     "traceback": [
      "\u001b[1;31m---------------------------------------------------------------------------\u001b[0m",
      "\u001b[1;31mNameError\u001b[0m                                 Traceback (most recent call last)",
      "\u001b[1;32m<ipython-input-8-6eb33dc5e631>\u001b[0m in \u001b[0;36m<module>\u001b[1;34m\u001b[0m\n\u001b[0;32m      2\u001b[0m \u001b[1;33m\u001b[0m\u001b[0m\n\u001b[0;32m      3\u001b[0m \u001b[1;32mdel\u001b[0m \u001b[0mprime_numbers\u001b[0m\u001b[1;33m\u001b[0m\u001b[1;33m\u001b[0m\u001b[0m\n\u001b[1;32m----> 4\u001b[1;33m \u001b[0mprime_numbers\u001b[0m\u001b[1;33m\u001b[0m\u001b[1;33m\u001b[0m\u001b[0m\n\u001b[0m",
      "\u001b[1;31mNameError\u001b[0m: name 'prime_numbers' is not defined"
     ]
    }
   ],
   "source": [
    "# 변수 삭제하면 오류가 발생하는 것을 보여줍니다. \n",
    "\n",
    "del prime_numbers\n",
    "prime_numbers"
   ]
  },
  {
   "cell_type": "markdown",
   "metadata": {
    "id": "tWt2-wY9QPDt"
   },
   "source": [
    "* 리스트에는 여러 데이터 타입을 저장할 수 있습니다. \n",
    "* 리스트 안에 리스트 저장도 됩니다."
   ]
  },
  {
   "cell_type": "code",
   "execution_count": 9,
   "metadata": {
    "id": "Cponf3K8QPDt"
   },
   "outputs": [],
   "source": [
    "mixed_list=[1,2,'파이썬', True, [3,4,5]]"
   ]
  },
  {
   "cell_type": "code",
   "execution_count": 10,
   "metadata": {
    "colab": {
     "base_uri": "https://localhost:8080/"
    },
    "id": "4ZptalemQPDw",
    "outputId": "cff09903-864c-47f2-9677-345377d0b451"
   },
   "outputs": [
    {
     "data": {
      "text/plain": [
       "[1, 2, '파이썬', True, [3, 4, 5]]"
      ]
     },
     "execution_count": 10,
     "metadata": {},
     "output_type": "execute_result"
    }
   ],
   "source": [
    "mixed_list"
   ]
  },
  {
   "cell_type": "code",
   "execution_count": 11,
   "metadata": {
    "colab": {
     "base_uri": "https://localhost:8080/"
    },
    "id": "IgfoAU4yQPDz",
    "outputId": "d3fc8ec4-c56c-47b3-8a06-3930530c8070"
   },
   "outputs": [
    {
     "data": {
      "text/plain": [
       "[3, 4, 5]"
      ]
     },
     "execution_count": 11,
     "metadata": {},
     "output_type": "execute_result"
    }
   ],
   "source": [
    "mixed_list[4]"
   ]
  },
  {
   "cell_type": "code",
   "execution_count": 12,
   "metadata": {
    "colab": {
     "base_uri": "https://localhost:8080/"
    },
    "id": "9n-QURsmQPD3",
    "outputId": "f4d5d794-dec6-412f-e622-5d28a073bc1b"
   },
   "outputs": [
    {
     "data": {
      "text/plain": [
       "5"
      ]
     },
     "execution_count": 12,
     "metadata": {},
     "output_type": "execute_result"
    }
   ],
   "source": [
    "mixed_list[4][2]"
   ]
  },
  {
   "cell_type": "markdown",
   "metadata": {
    "id": "sTc3HcPlQPD5"
   },
   "source": [
    "* 항목의 개수 확인은 len()을 사용합니다. "
   ]
  },
  {
   "cell_type": "code",
   "execution_count": 13,
   "metadata": {
    "colab": {
     "base_uri": "https://localhost:8080/"
    },
    "id": "yXg_tVesQPD6",
    "outputId": "8f392577-bbc5-454c-b4f9-bb35c5423e9c"
   },
   "outputs": [
    {
     "data": {
      "text/plain": [
       "5"
      ]
     },
     "execution_count": 13,
     "metadata": {},
     "output_type": "execute_result"
    }
   ],
   "source": [
    "len(mixed_list)"
   ]
  },
  {
   "cell_type": "markdown",
   "metadata": {
    "id": "OLBtnwYLQPD9"
   },
   "source": [
    "* 오름차순 정렬은 sort, 내림차순은 reverse를 사용합니다"
   ]
  },
  {
   "cell_type": "code",
   "execution_count": 14,
   "metadata": {
    "id": "bUZ7_JKbQPD-"
   },
   "outputs": [],
   "source": [
    "list1 = [3,5,10,-1]"
   ]
  },
  {
   "cell_type": "code",
   "execution_count": 15,
   "metadata": {
    "colab": {
     "base_uri": "https://localhost:8080/"
    },
    "id": "LnqCMjxuQPEA",
    "outputId": "d2f3d706-9cbf-47b9-edc3-256d2164b9c1"
   },
   "outputs": [
    {
     "data": {
      "text/plain": [
       "[-1, 3, 5, 10]"
      ]
     },
     "execution_count": 15,
     "metadata": {},
     "output_type": "execute_result"
    }
   ],
   "source": [
    "list1.sort()\n",
    "list1"
   ]
  },
  {
   "cell_type": "code",
   "execution_count": 16,
   "metadata": {
    "colab": {
     "base_uri": "https://localhost:8080/"
    },
    "id": "ZUN_PCtcQPED",
    "outputId": "a8b6ee6a-582d-4db3-f517-7c9cc0f888fa"
   },
   "outputs": [
    {
     "data": {
      "text/plain": [
       "[10, 5, 3, -1]"
      ]
     },
     "execution_count": 16,
     "metadata": {},
     "output_type": "execute_result"
    }
   ],
   "source": [
    "list1.reverse()\n",
    "list1"
   ]
  },
  {
   "cell_type": "markdown",
   "metadata": {
    "id": "f3IMkEiJQPEG"
   },
   "source": [
    "# 활용: 메모장 예제"
   ]
  },
  {
   "cell_type": "code",
   "execution_count": 17,
   "metadata": {
    "colab": {
     "base_uri": "https://localhost:8080/"
    },
    "id": "oaNuc0TlQPEG",
    "outputId": "3034c103-bb9a-419c-cbe4-5bd97609fedd"
   },
   "outputs": [
    {
     "name": "stdout",
     "output_type": "stream",
     "text": [
      "0:종료, 1: 메모추가, 2:메모보기 >> 123\n",
      "메뉴 번호를 잘못입력하였습니다. \n",
      "0:종료, 1: 메모추가, 2:메모보기 >> 1\n",
      "메모를 입력하세요 >> 123\n",
      "0:종료, 1: 메모추가, 2:메모보기 >> 2\n",
      "['123']\n",
      "0:종료, 1: 메모추가, 2:메모보기 >> 0\n"
     ]
    }
   ],
   "source": [
    "memo = [] #[] 안에 값이 없으면 빈 리스트가 생성됨\n",
    "\n",
    "for i in range(100): \n",
    "    menu = input('0:종료, 1: 메모추가, 2:메모보기 >> ')\n",
    "    if menu=='0': break\n",
    "    elif menu=='1': \n",
    "        new_memo = input('메모를 입력하세요 >> ')\n",
    "        memo.append(new_memo)\n",
    "    elif menu=='2':        \n",
    "        print(memo)\n",
    "    else:\n",
    "        print('메뉴 번호를 잘못입력하였습니다. ')            \n"
   ]
  },
  {
   "cell_type": "code",
   "execution_count": null,
   "metadata": {
    "id": "V1FnXRinQPEJ"
   },
   "outputs": [],
   "source": []
  }
 ],
 "metadata": {
  "colab": {
   "collapsed_sections": [],
   "include_colab_link": true,
   "name": "3_1_List.ipynb",
   "provenance": []
  },
  "kernelspec": {
   "display_name": "Python 3",
   "language": "python",
   "name": "python3"
  },
  "language_info": {
   "codemirror_mode": {
    "name": "ipython",
    "version": 3
   },
   "file_extension": ".py",
   "mimetype": "text/x-python",
   "name": "python",
   "nbconvert_exporter": "python",
   "pygments_lexer": "ipython3",
   "version": "3.7.9"
  }
 },
 "nbformat": 4,
 "nbformat_minor": 1
}
