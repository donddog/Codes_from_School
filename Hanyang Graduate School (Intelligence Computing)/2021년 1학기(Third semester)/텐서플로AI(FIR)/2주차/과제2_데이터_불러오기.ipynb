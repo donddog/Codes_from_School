{
 "cells": [
  {
   "cell_type": "code",
   "execution_count": 1,
   "metadata": {},
   "outputs": [],
   "source": [
    "import pandas as pd"
   ]
  },
  {
   "cell_type": "code",
   "execution_count": 2,
   "metadata": {},
   "outputs": [
    {
     "name": "stderr",
     "output_type": "stream",
     "text": [
      "C:\\Anaconda\\lib\\site-packages\\IPython\\core\\interactiveshell.py:3147: DtypeWarning: Columns (3) have mixed types.Specify dtype option on import or set low_memory=False.\n",
      "  interactivity=interactivity, compiler=compiler, result=result)\n"
     ]
    }
   ],
   "source": [
    "dataset01 = pd.read_csv(\"archive/IMDb movies.csv\", encoding='utf-8')"
   ]
  },
  {
   "cell_type": "code",
   "execution_count": 3,
   "metadata": {},
   "outputs": [
    {
     "data": {
      "text/html": [
       "<div>\n",
       "<style scoped>\n",
       "    .dataframe tbody tr th:only-of-type {\n",
       "        vertical-align: middle;\n",
       "    }\n",
       "\n",
       "    .dataframe tbody tr th {\n",
       "        vertical-align: top;\n",
       "    }\n",
       "\n",
       "    .dataframe thead th {\n",
       "        text-align: right;\n",
       "    }\n",
       "</style>\n",
       "<table border=\"1\" class=\"dataframe\">\n",
       "  <thead>\n",
       "    <tr style=\"text-align: right;\">\n",
       "      <th></th>\n",
       "      <th>imdb_title_id</th>\n",
       "      <th>title</th>\n",
       "      <th>original_title</th>\n",
       "      <th>year</th>\n",
       "      <th>date_published</th>\n",
       "      <th>genre</th>\n",
       "      <th>duration</th>\n",
       "      <th>country</th>\n",
       "      <th>language</th>\n",
       "      <th>director</th>\n",
       "      <th>...</th>\n",
       "      <th>actors</th>\n",
       "      <th>description</th>\n",
       "      <th>avg_vote</th>\n",
       "      <th>votes</th>\n",
       "      <th>budget</th>\n",
       "      <th>usa_gross_income</th>\n",
       "      <th>worlwide_gross_income</th>\n",
       "      <th>metascore</th>\n",
       "      <th>reviews_from_users</th>\n",
       "      <th>reviews_from_critics</th>\n",
       "    </tr>\n",
       "  </thead>\n",
       "  <tbody>\n",
       "    <tr>\n",
       "      <th>0</th>\n",
       "      <td>tt0000009</td>\n",
       "      <td>Miss Jerry</td>\n",
       "      <td>Miss Jerry</td>\n",
       "      <td>1894</td>\n",
       "      <td>1894-10-09</td>\n",
       "      <td>Romance</td>\n",
       "      <td>45</td>\n",
       "      <td>USA</td>\n",
       "      <td>None</td>\n",
       "      <td>Alexander Black</td>\n",
       "      <td>...</td>\n",
       "      <td>Blanche Bayliss, William Courtenay, Chauncey D...</td>\n",
       "      <td>The adventures of a female reporter in the 1890s.</td>\n",
       "      <td>5.9</td>\n",
       "      <td>154</td>\n",
       "      <td>NaN</td>\n",
       "      <td>NaN</td>\n",
       "      <td>NaN</td>\n",
       "      <td>NaN</td>\n",
       "      <td>1.0</td>\n",
       "      <td>2.0</td>\n",
       "    </tr>\n",
       "    <tr>\n",
       "      <th>1</th>\n",
       "      <td>tt0000574</td>\n",
       "      <td>The Story of the Kelly Gang</td>\n",
       "      <td>The Story of the Kelly Gang</td>\n",
       "      <td>1906</td>\n",
       "      <td>1906-12-26</td>\n",
       "      <td>Biography, Crime, Drama</td>\n",
       "      <td>70</td>\n",
       "      <td>Australia</td>\n",
       "      <td>None</td>\n",
       "      <td>Charles Tait</td>\n",
       "      <td>...</td>\n",
       "      <td>Elizabeth Tait, John Tait, Norman Campbell, Be...</td>\n",
       "      <td>True story of notorious Australian outlaw Ned ...</td>\n",
       "      <td>6.1</td>\n",
       "      <td>589</td>\n",
       "      <td>$ 2250</td>\n",
       "      <td>NaN</td>\n",
       "      <td>NaN</td>\n",
       "      <td>NaN</td>\n",
       "      <td>7.0</td>\n",
       "      <td>7.0</td>\n",
       "    </tr>\n",
       "    <tr>\n",
       "      <th>2</th>\n",
       "      <td>tt0001892</td>\n",
       "      <td>Den sorte drøm</td>\n",
       "      <td>Den sorte drøm</td>\n",
       "      <td>1911</td>\n",
       "      <td>1911-08-19</td>\n",
       "      <td>Drama</td>\n",
       "      <td>53</td>\n",
       "      <td>Germany, Denmark</td>\n",
       "      <td>NaN</td>\n",
       "      <td>Urban Gad</td>\n",
       "      <td>...</td>\n",
       "      <td>Asta Nielsen, Valdemar Psilander, Gunnar Helse...</td>\n",
       "      <td>Two men of high rank are both wooing the beaut...</td>\n",
       "      <td>5.8</td>\n",
       "      <td>188</td>\n",
       "      <td>NaN</td>\n",
       "      <td>NaN</td>\n",
       "      <td>NaN</td>\n",
       "      <td>NaN</td>\n",
       "      <td>5.0</td>\n",
       "      <td>2.0</td>\n",
       "    </tr>\n",
       "    <tr>\n",
       "      <th>3</th>\n",
       "      <td>tt0002101</td>\n",
       "      <td>Cleopatra</td>\n",
       "      <td>Cleopatra</td>\n",
       "      <td>1912</td>\n",
       "      <td>1912-11-13</td>\n",
       "      <td>Drama, History</td>\n",
       "      <td>100</td>\n",
       "      <td>USA</td>\n",
       "      <td>English</td>\n",
       "      <td>Charles L. Gaskill</td>\n",
       "      <td>...</td>\n",
       "      <td>Helen Gardner, Pearl Sindelar, Miss Fielding, ...</td>\n",
       "      <td>The fabled queen of Egypt's affair with Roman ...</td>\n",
       "      <td>5.2</td>\n",
       "      <td>446</td>\n",
       "      <td>$ 45000</td>\n",
       "      <td>NaN</td>\n",
       "      <td>NaN</td>\n",
       "      <td>NaN</td>\n",
       "      <td>25.0</td>\n",
       "      <td>3.0</td>\n",
       "    </tr>\n",
       "    <tr>\n",
       "      <th>4</th>\n",
       "      <td>tt0002130</td>\n",
       "      <td>L'Inferno</td>\n",
       "      <td>L'Inferno</td>\n",
       "      <td>1911</td>\n",
       "      <td>1911-03-06</td>\n",
       "      <td>Adventure, Drama, Fantasy</td>\n",
       "      <td>68</td>\n",
       "      <td>Italy</td>\n",
       "      <td>Italian</td>\n",
       "      <td>Francesco Bertolini, Adolfo Padovan</td>\n",
       "      <td>...</td>\n",
       "      <td>Salvatore Papa, Arturo Pirovano, Giuseppe de L...</td>\n",
       "      <td>Loosely adapted from Dante's Divine Comedy and...</td>\n",
       "      <td>7.0</td>\n",
       "      <td>2237</td>\n",
       "      <td>NaN</td>\n",
       "      <td>NaN</td>\n",
       "      <td>NaN</td>\n",
       "      <td>NaN</td>\n",
       "      <td>31.0</td>\n",
       "      <td>14.0</td>\n",
       "    </tr>\n",
       "  </tbody>\n",
       "</table>\n",
       "<p>5 rows × 22 columns</p>\n",
       "</div>"
      ],
      "text/plain": [
       "  imdb_title_id                        title               original_title  \\\n",
       "0     tt0000009                   Miss Jerry                   Miss Jerry   \n",
       "1     tt0000574  The Story of the Kelly Gang  The Story of the Kelly Gang   \n",
       "2     tt0001892               Den sorte drøm               Den sorte drøm   \n",
       "3     tt0002101                    Cleopatra                    Cleopatra   \n",
       "4     tt0002130                    L'Inferno                    L'Inferno   \n",
       "\n",
       "   year date_published                      genre  duration           country  \\\n",
       "0  1894     1894-10-09                    Romance        45               USA   \n",
       "1  1906     1906-12-26    Biography, Crime, Drama        70         Australia   \n",
       "2  1911     1911-08-19                      Drama        53  Germany, Denmark   \n",
       "3  1912     1912-11-13             Drama, History       100               USA   \n",
       "4  1911     1911-03-06  Adventure, Drama, Fantasy        68             Italy   \n",
       "\n",
       "  language                             director  ...  \\\n",
       "0     None                      Alexander Black  ...   \n",
       "1     None                         Charles Tait  ...   \n",
       "2      NaN                            Urban Gad  ...   \n",
       "3  English                   Charles L. Gaskill  ...   \n",
       "4  Italian  Francesco Bertolini, Adolfo Padovan  ...   \n",
       "\n",
       "                                              actors  \\\n",
       "0  Blanche Bayliss, William Courtenay, Chauncey D...   \n",
       "1  Elizabeth Tait, John Tait, Norman Campbell, Be...   \n",
       "2  Asta Nielsen, Valdemar Psilander, Gunnar Helse...   \n",
       "3  Helen Gardner, Pearl Sindelar, Miss Fielding, ...   \n",
       "4  Salvatore Papa, Arturo Pirovano, Giuseppe de L...   \n",
       "\n",
       "                                         description avg_vote votes   budget  \\\n",
       "0  The adventures of a female reporter in the 1890s.      5.9   154      NaN   \n",
       "1  True story of notorious Australian outlaw Ned ...      6.1   589   $ 2250   \n",
       "2  Two men of high rank are both wooing the beaut...      5.8   188      NaN   \n",
       "3  The fabled queen of Egypt's affair with Roman ...      5.2   446  $ 45000   \n",
       "4  Loosely adapted from Dante's Divine Comedy and...      7.0  2237      NaN   \n",
       "\n",
       "   usa_gross_income worlwide_gross_income metascore reviews_from_users  \\\n",
       "0               NaN                   NaN       NaN                1.0   \n",
       "1               NaN                   NaN       NaN                7.0   \n",
       "2               NaN                   NaN       NaN                5.0   \n",
       "3               NaN                   NaN       NaN               25.0   \n",
       "4               NaN                   NaN       NaN               31.0   \n",
       "\n",
       "   reviews_from_critics  \n",
       "0                   2.0  \n",
       "1                   7.0  \n",
       "2                   2.0  \n",
       "3                   3.0  \n",
       "4                  14.0  \n",
       "\n",
       "[5 rows x 22 columns]"
      ]
     },
     "execution_count": 3,
     "metadata": {},
     "output_type": "execute_result"
    }
   ],
   "source": [
    "dataset01.head(5)"
   ]
  },
  {
   "cell_type": "code",
   "execution_count": 4,
   "metadata": {},
   "outputs": [
    {
     "data": {
      "text/plain": [
       "Index(['imdb_title_id', 'title', 'original_title', 'year', 'date_published',\n",
       "       'genre', 'duration', 'country', 'language', 'director', 'writer',\n",
       "       'production_company', 'actors', 'description', 'avg_vote', 'votes',\n",
       "       'budget', 'usa_gross_income', 'worlwide_gross_income', 'metascore',\n",
       "       'reviews_from_users', 'reviews_from_critics'],\n",
       "      dtype='object')"
      ]
     },
     "execution_count": 4,
     "metadata": {},
     "output_type": "execute_result"
    }
   ],
   "source": [
    "dataset01.columns"
   ]
  },
  {
   "cell_type": "code",
   "execution_count": 5,
   "metadata": {},
   "outputs": [
    {
     "data": {
      "text/plain": [
       "array([['tt0000009', 'Miss Jerry', 'Miss Jerry', ..., nan, 1.0, 2.0],\n",
       "       ['tt0000574', 'The Story of the Kelly Gang',\n",
       "        'The Story of the Kelly Gang', ..., nan, 7.0, 7.0],\n",
       "       ['tt0001892', 'Den sorte drøm', 'Den sorte drøm', ..., nan, 5.0,\n",
       "        2.0],\n",
       "       ...,\n",
       "       ['tt9911774', 'Padmavyuhathile Abhimanyu',\n",
       "        'Padmavyuhathile Abhimanyu', ..., nan, nan, nan],\n",
       "       ['tt9914286', 'Sokagin Çocuklari', 'Sokagin Çocuklari', ..., nan,\n",
       "        nan, nan],\n",
       "       ['tt9914942', 'La vida sense la Sara Amat',\n",
       "        'La vida sense la Sara Amat', ..., nan, nan, 2.0]], dtype=object)"
      ]
     },
     "execution_count": 5,
     "metadata": {},
     "output_type": "execute_result"
    }
   ],
   "source": [
    "dataset01.values"
   ]
  },
  {
   "cell_type": "code",
   "execution_count": 6,
   "metadata": {},
   "outputs": [
    {
     "data": {
      "text/plain": [
       "(85855, 22)"
      ]
     },
     "execution_count": 6,
     "metadata": {},
     "output_type": "execute_result"
    }
   ],
   "source": [
    "dataset01.shape"
   ]
  },
  {
   "cell_type": "code",
   "execution_count": 7,
   "metadata": {},
   "outputs": [
    {
     "data": {
      "text/plain": [
       "RangeIndex(start=0, stop=85855, step=1)"
      ]
     },
     "execution_count": 7,
     "metadata": {},
     "output_type": "execute_result"
    }
   ],
   "source": [
    "dataset01.index"
   ]
  },
  {
   "cell_type": "code",
   "execution_count": 8,
   "metadata": {},
   "outputs": [
    {
     "data": {
      "text/plain": [
       "array(['None', nan, 'English', ..., 'Persian, Urdu',\n",
       "       'English, Swiss German, German',\n",
       "       'English, Polish, Russian, German'], dtype=object)"
      ]
     },
     "execution_count": 8,
     "metadata": {},
     "output_type": "execute_result"
    }
   ],
   "source": [
    "dataset01['language'].unique()"
   ]
  },
  {
   "cell_type": "code",
   "execution_count": 9,
   "metadata": {},
   "outputs": [
    {
     "data": {
      "text/plain": [
       "English                                               35939\n",
       "French                                                 3903\n",
       "Spanish                                                2831\n",
       "Japanese                                               2826\n",
       "Italian                                                2731\n",
       "                                                      ...  \n",
       "Russian, Polish, Latvian, English, French, Flemish        1\n",
       "English, Persian, Greek, Arabic, Latin                    1\n",
       "German, Swiss German, Italian, English                    1\n",
       "English, Spanish, Latin, French                           1\n",
       "English, German, Polish, Hebrew                           1\n",
       "Name: language, Length: 4377, dtype: int64"
      ]
     },
     "execution_count": 9,
     "metadata": {},
     "output_type": "execute_result"
    }
   ],
   "source": [
    "dataset01['language'].value_counts()"
   ]
  },
  {
   "cell_type": "code",
   "execution_count": 10,
   "metadata": {},
   "outputs": [
    {
     "data": {
      "text/html": [
       "<div>\n",
       "<style scoped>\n",
       "    .dataframe tbody tr th:only-of-type {\n",
       "        vertical-align: middle;\n",
       "    }\n",
       "\n",
       "    .dataframe tbody tr th {\n",
       "        vertical-align: top;\n",
       "    }\n",
       "\n",
       "    .dataframe thead th {\n",
       "        text-align: right;\n",
       "    }\n",
       "</style>\n",
       "<table border=\"1\" class=\"dataframe\">\n",
       "  <thead>\n",
       "    <tr style=\"text-align: right;\">\n",
       "      <th></th>\n",
       "      <th>imdb_title_id</th>\n",
       "      <th>title</th>\n",
       "      <th>original_title</th>\n",
       "      <th>year</th>\n",
       "      <th>date_published</th>\n",
       "      <th>genre</th>\n",
       "      <th>duration</th>\n",
       "      <th>country</th>\n",
       "      <th>language</th>\n",
       "      <th>director</th>\n",
       "      <th>...</th>\n",
       "      <th>actors</th>\n",
       "      <th>description</th>\n",
       "      <th>avg_vote</th>\n",
       "      <th>votes</th>\n",
       "      <th>budget</th>\n",
       "      <th>usa_gross_income</th>\n",
       "      <th>worlwide_gross_income</th>\n",
       "      <th>metascore</th>\n",
       "      <th>reviews_from_users</th>\n",
       "      <th>reviews_from_critics</th>\n",
       "    </tr>\n",
       "  </thead>\n",
       "  <tbody>\n",
       "    <tr>\n",
       "      <th>51533</th>\n",
       "      <td>tt0926132</td>\n",
       "      <td>Road to Red</td>\n",
       "      <td>Road to Red</td>\n",
       "      <td>2020</td>\n",
       "      <td>2020-01-03</td>\n",
       "      <td>Action, Adventure, Horror</td>\n",
       "      <td>120</td>\n",
       "      <td>USA, Portugal</td>\n",
       "      <td>English</td>\n",
       "      <td>Tito da Costa</td>\n",
       "      <td>...</td>\n",
       "      <td>Sean Gray, Chris Blasman, Renee Dorian, Michae...</td>\n",
       "      <td>A surf-skate action-thriller about five best f...</td>\n",
       "      <td>4.2</td>\n",
       "      <td>472</td>\n",
       "      <td>$ 3000000</td>\n",
       "      <td>NaN</td>\n",
       "      <td>NaN</td>\n",
       "      <td>NaN</td>\n",
       "      <td>8.0</td>\n",
       "      <td>1.0</td>\n",
       "    </tr>\n",
       "    <tr>\n",
       "      <th>52039</th>\n",
       "      <td>tt0983946</td>\n",
       "      <td>Fantasy Island</td>\n",
       "      <td>Fantasy Island</td>\n",
       "      <td>2020</td>\n",
       "      <td>2020-02-13</td>\n",
       "      <td>Action, Adventure, Fantasy</td>\n",
       "      <td>109</td>\n",
       "      <td>USA</td>\n",
       "      <td>English</td>\n",
       "      <td>Jeff Wadlow</td>\n",
       "      <td>...</td>\n",
       "      <td>Michael Peña, Maggie Q, Lucy Hale, Austin Stow...</td>\n",
       "      <td>When the owner and operator of a luxurious isl...</td>\n",
       "      <td>4.9</td>\n",
       "      <td>26823</td>\n",
       "      <td>$ 7000000</td>\n",
       "      <td>$ 26441782</td>\n",
       "      <td>$ 47315959</td>\n",
       "      <td>22.0</td>\n",
       "      <td>635.0</td>\n",
       "      <td>154.0</td>\n",
       "    </tr>\n",
       "    <tr>\n",
       "      <th>52245</th>\n",
       "      <td>tt10003008</td>\n",
       "      <td>The Rental</td>\n",
       "      <td>The Rental</td>\n",
       "      <td>2020</td>\n",
       "      <td>2020-07-24</td>\n",
       "      <td>Horror, Thriller</td>\n",
       "      <td>88</td>\n",
       "      <td>USA</td>\n",
       "      <td>English</td>\n",
       "      <td>Dave Franco</td>\n",
       "      <td>...</td>\n",
       "      <td>Dan Stevens, Alison Brie, Sheila Vand, Jeremy ...</td>\n",
       "      <td>Two couples rent a vacation home for what shou...</td>\n",
       "      <td>5.7</td>\n",
       "      <td>9453</td>\n",
       "      <td>NaN</td>\n",
       "      <td>$ 1561048</td>\n",
       "      <td>$ 2113008</td>\n",
       "      <td>63.0</td>\n",
       "      <td>233.0</td>\n",
       "      <td>133.0</td>\n",
       "    </tr>\n",
       "    <tr>\n",
       "      <th>52271</th>\n",
       "      <td>tt10022990</td>\n",
       "      <td>Seeru</td>\n",
       "      <td>Seeru</td>\n",
       "      <td>2020</td>\n",
       "      <td>2020-02-07</td>\n",
       "      <td>Action, Drama</td>\n",
       "      <td>123</td>\n",
       "      <td>India</td>\n",
       "      <td>Tamil</td>\n",
       "      <td>Rathina Shiva, Sami Rajalingam</td>\n",
       "      <td>...</td>\n",
       "      <td>Jiiva, Navdeep, Riya Suman, Varun, Sathish, R....</td>\n",
       "      <td>A guy from a small-town takes on a ruthless cr...</td>\n",
       "      <td>5.4</td>\n",
       "      <td>224</td>\n",
       "      <td>NaN</td>\n",
       "      <td>NaN</td>\n",
       "      <td>NaN</td>\n",
       "      <td>NaN</td>\n",
       "      <td>6.0</td>\n",
       "      <td>3.0</td>\n",
       "    </tr>\n",
       "    <tr>\n",
       "      <th>52272</th>\n",
       "      <td>tt10023024</td>\n",
       "      <td>Love Aaj Kal</td>\n",
       "      <td>Love Aaj Kal</td>\n",
       "      <td>2020</td>\n",
       "      <td>2020-02-14</td>\n",
       "      <td>Drama, Romance</td>\n",
       "      <td>142</td>\n",
       "      <td>India</td>\n",
       "      <td>Hindi</td>\n",
       "      <td>Imtiaz Ali</td>\n",
       "      <td>...</td>\n",
       "      <td>Kartik Aaryan, Sara Ali Khan, Randeep Hooda, A...</td>\n",
       "      <td>Two different individuals on a journey of love...</td>\n",
       "      <td>5.0</td>\n",
       "      <td>6292</td>\n",
       "      <td>NaN</td>\n",
       "      <td>NaN</td>\n",
       "      <td>$ 5120794</td>\n",
       "      <td>NaN</td>\n",
       "      <td>682.0</td>\n",
       "      <td>20.0</td>\n",
       "    </tr>\n",
       "  </tbody>\n",
       "</table>\n",
       "<p>5 rows × 22 columns</p>\n",
       "</div>"
      ],
      "text/plain": [
       "      imdb_title_id           title  original_title  year date_published  \\\n",
       "51533     tt0926132     Road to Red     Road to Red  2020     2020-01-03   \n",
       "52039     tt0983946  Fantasy Island  Fantasy Island  2020     2020-02-13   \n",
       "52245    tt10003008      The Rental      The Rental  2020     2020-07-24   \n",
       "52271    tt10022990           Seeru           Seeru  2020     2020-02-07   \n",
       "52272    tt10023024    Love Aaj Kal    Love Aaj Kal  2020     2020-02-14   \n",
       "\n",
       "                            genre  duration        country language  \\\n",
       "51533   Action, Adventure, Horror       120  USA, Portugal  English   \n",
       "52039  Action, Adventure, Fantasy       109            USA  English   \n",
       "52245            Horror, Thriller        88            USA  English   \n",
       "52271               Action, Drama       123          India    Tamil   \n",
       "52272              Drama, Romance       142          India    Hindi   \n",
       "\n",
       "                             director  ...  \\\n",
       "51533                   Tito da Costa  ...   \n",
       "52039                     Jeff Wadlow  ...   \n",
       "52245                     Dave Franco  ...   \n",
       "52271  Rathina Shiva, Sami Rajalingam  ...   \n",
       "52272                      Imtiaz Ali  ...   \n",
       "\n",
       "                                                  actors  \\\n",
       "51533  Sean Gray, Chris Blasman, Renee Dorian, Michae...   \n",
       "52039  Michael Peña, Maggie Q, Lucy Hale, Austin Stow...   \n",
       "52245  Dan Stevens, Alison Brie, Sheila Vand, Jeremy ...   \n",
       "52271  Jiiva, Navdeep, Riya Suman, Varun, Sathish, R....   \n",
       "52272  Kartik Aaryan, Sara Ali Khan, Randeep Hooda, A...   \n",
       "\n",
       "                                             description avg_vote  votes  \\\n",
       "51533  A surf-skate action-thriller about five best f...      4.2    472   \n",
       "52039  When the owner and operator of a luxurious isl...      4.9  26823   \n",
       "52245  Two couples rent a vacation home for what shou...      5.7   9453   \n",
       "52271  A guy from a small-town takes on a ruthless cr...      5.4    224   \n",
       "52272  Two different individuals on a journey of love...      5.0   6292   \n",
       "\n",
       "          budget  usa_gross_income worlwide_gross_income metascore  \\\n",
       "51533  $ 3000000               NaN                   NaN       NaN   \n",
       "52039  $ 7000000        $ 26441782            $ 47315959      22.0   \n",
       "52245        NaN         $ 1561048             $ 2113008      63.0   \n",
       "52271        NaN               NaN                   NaN       NaN   \n",
       "52272        NaN               NaN             $ 5120794       NaN   \n",
       "\n",
       "      reviews_from_users  reviews_from_critics  \n",
       "51533                8.0                   1.0  \n",
       "52039              635.0                 154.0  \n",
       "52245              233.0                 133.0  \n",
       "52271                6.0                   3.0  \n",
       "52272              682.0                  20.0  \n",
       "\n",
       "[5 rows x 22 columns]"
      ]
     },
     "execution_count": 10,
     "metadata": {},
     "output_type": "execute_result"
    }
   ],
   "source": [
    "dataset01[dataset01['year'] == 2020].head()"
   ]
  },
  {
   "cell_type": "code",
   "execution_count": 11,
   "metadata": {},
   "outputs": [
    {
     "data": {
      "text/plain": [
       "808"
      ]
     },
     "execution_count": 11,
     "metadata": {},
     "output_type": "execute_result"
    }
   ],
   "source": [
    "dataset01['duration'].max()"
   ]
  },
  {
   "cell_type": "code",
   "execution_count": 12,
   "metadata": {},
   "outputs": [
    {
     "data": {
      "text/plain": [
       "41"
      ]
     },
     "execution_count": 12,
     "metadata": {},
     "output_type": "execute_result"
    }
   ],
   "source": [
    "dataset01['duration'].min()"
   ]
  },
  {
   "cell_type": "code",
   "execution_count": 13,
   "metadata": {},
   "outputs": [
    {
     "data": {
      "text/plain": [
       "96.0"
      ]
     },
     "execution_count": 13,
     "metadata": {},
     "output_type": "execute_result"
    }
   ],
   "source": [
    "dataset01['duration'].median()"
   ]
  },
  {
   "cell_type": "code",
   "execution_count": 14,
   "metadata": {},
   "outputs": [
    {
     "data": {
      "text/plain": [
       "'TV Movie 2019'"
      ]
     },
     "execution_count": 14,
     "metadata": {},
     "output_type": "execute_result"
    }
   ],
   "source": [
    "dataset01['date_published'].max()"
   ]
  },
  {
   "cell_type": "code",
   "execution_count": 15,
   "metadata": {},
   "outputs": [
    {
     "data": {
      "text/plain": [
       "'1894-10-09'"
      ]
     },
     "execution_count": 15,
     "metadata": {},
     "output_type": "execute_result"
    }
   ],
   "source": [
    "dataset01['date_published'].min()"
   ]
  },
  {
   "cell_type": "code",
   "execution_count": 16,
   "metadata": {},
   "outputs": [
    {
     "name": "stdout",
     "output_type": "stream",
     "text": [
      "<class 'pandas.core.frame.DataFrame'>\n",
      "RangeIndex: 85855 entries, 0 to 85854\n",
      "Data columns (total 22 columns):\n",
      " #   Column                 Non-Null Count  Dtype  \n",
      "---  ------                 --------------  -----  \n",
      " 0   imdb_title_id          85855 non-null  object \n",
      " 1   title                  85855 non-null  object \n",
      " 2   original_title         85855 non-null  object \n",
      " 3   year                   85855 non-null  object \n",
      " 4   date_published         85855 non-null  object \n",
      " 5   genre                  85855 non-null  object \n",
      " 6   duration               85855 non-null  int64  \n",
      " 7   country                85791 non-null  object \n",
      " 8   language               85022 non-null  object \n",
      " 9   director               85768 non-null  object \n",
      " 10  writer                 84283 non-null  object \n",
      " 11  production_company     81400 non-null  object \n",
      " 12  actors                 85786 non-null  object \n",
      " 13  description            83740 non-null  object \n",
      " 14  avg_vote               85855 non-null  float64\n",
      " 15  votes                  85855 non-null  int64  \n",
      " 16  budget                 23710 non-null  object \n",
      " 17  usa_gross_income       15326 non-null  object \n",
      " 18  worlwide_gross_income  31016 non-null  object \n",
      " 19  metascore              13305 non-null  float64\n",
      " 20  reviews_from_users     78258 non-null  float64\n",
      " 21  reviews_from_critics   74058 non-null  float64\n",
      "dtypes: float64(4), int64(2), object(16)\n",
      "memory usage: 14.4+ MB\n"
     ]
    }
   ],
   "source": [
    "dataset01.info()"
   ]
  },
  {
   "cell_type": "code",
   "execution_count": 17,
   "metadata": {},
   "outputs": [
    {
     "data": {
      "text/plain": [
       "count    13305.000000\n",
       "mean        55.896881\n",
       "std         17.784874\n",
       "min          1.000000\n",
       "25%         43.000000\n",
       "50%         57.000000\n",
       "75%         69.000000\n",
       "max        100.000000\n",
       "Name: metascore, dtype: float64"
      ]
     },
     "execution_count": 17,
     "metadata": {},
     "output_type": "execute_result"
    }
   ],
   "source": [
    "dataset01['metascore'].describe()"
   ]
  },
  {
   "cell_type": "code",
   "execution_count": 18,
   "metadata": {},
   "outputs": [
    {
     "data": {
      "text/plain": [
       "count         23710\n",
       "unique         4642\n",
       "top       $ 1000000\n",
       "freq            758\n",
       "Name: budget, dtype: object"
      ]
     },
     "execution_count": 18,
     "metadata": {},
     "output_type": "execute_result"
    }
   ],
   "source": [
    "dataset01['budget'].describe()"
   ]
  },
  {
   "cell_type": "code",
   "execution_count": 19,
   "metadata": {},
   "outputs": [
    {
     "data": {
      "text/html": [
       "<div>\n",
       "<style scoped>\n",
       "    .dataframe tbody tr th:only-of-type {\n",
       "        vertical-align: middle;\n",
       "    }\n",
       "\n",
       "    .dataframe tbody tr th {\n",
       "        vertical-align: top;\n",
       "    }\n",
       "\n",
       "    .dataframe thead th {\n",
       "        text-align: right;\n",
       "    }\n",
       "</style>\n",
       "<table border=\"1\" class=\"dataframe\">\n",
       "  <thead>\n",
       "    <tr style=\"text-align: right;\">\n",
       "      <th></th>\n",
       "      <th>imdb_title_id</th>\n",
       "      <th>title</th>\n",
       "      <th>original_title</th>\n",
       "      <th>year</th>\n",
       "      <th>date_published</th>\n",
       "      <th>genre</th>\n",
       "      <th>duration</th>\n",
       "      <th>country</th>\n",
       "      <th>language</th>\n",
       "      <th>director</th>\n",
       "      <th>...</th>\n",
       "      <th>actors</th>\n",
       "      <th>description</th>\n",
       "      <th>avg_vote</th>\n",
       "      <th>votes</th>\n",
       "      <th>budget</th>\n",
       "      <th>usa_gross_income</th>\n",
       "      <th>worlwide_gross_income</th>\n",
       "      <th>metascore</th>\n",
       "      <th>reviews_from_users</th>\n",
       "      <th>reviews_from_critics</th>\n",
       "    </tr>\n",
       "  </thead>\n",
       "  <tbody>\n",
       "    <tr>\n",
       "      <th>53280</th>\n",
       "      <td>tt10620868</td>\n",
       "      <td>#Saraitda</td>\n",
       "      <td>#Saraitda</td>\n",
       "      <td>2020</td>\n",
       "      <td>2020-09-08</td>\n",
       "      <td>Action, Drama, Horror</td>\n",
       "      <td>98</td>\n",
       "      <td>South Korea</td>\n",
       "      <td>Korean</td>\n",
       "      <td>Il Cho</td>\n",
       "      <td>...</td>\n",
       "      <td>Ah-In Yoo, Shin-Hye Park, Hyun-Wook Lee, Bae-s...</td>\n",
       "      <td>The rapid spread of an unknown infection has l...</td>\n",
       "      <td>6.2</td>\n",
       "      <td>2043</td>\n",
       "      <td>NaN</td>\n",
       "      <td>NaN</td>\n",
       "      <td>$ 13450928</td>\n",
       "      <td>NaN</td>\n",
       "      <td>38.0</td>\n",
       "      <td>7.0</td>\n",
       "    </tr>\n",
       "    <tr>\n",
       "      <th>54767</th>\n",
       "      <td>tt11566164</td>\n",
       "      <td>Secret Zoo</td>\n",
       "      <td>Secret Zoo</td>\n",
       "      <td>2020</td>\n",
       "      <td>2020-01-15</td>\n",
       "      <td>Comedy</td>\n",
       "      <td>118</td>\n",
       "      <td>South Korea</td>\n",
       "      <td>Korean</td>\n",
       "      <td>Jae-gon Son</td>\n",
       "      <td>...</td>\n",
       "      <td>Jae-hong Ahn, So-ra Kang, Yeong-gyu Park, Seon...</td>\n",
       "      <td>A lawyer is suckered into running a zoo that h...</td>\n",
       "      <td>6.2</td>\n",
       "      <td>548</td>\n",
       "      <td>NaN</td>\n",
       "      <td>NaN</td>\n",
       "      <td>$ 9457317</td>\n",
       "      <td>NaN</td>\n",
       "      <td>6.0</td>\n",
       "      <td>15.0</td>\n",
       "    </tr>\n",
       "    <tr>\n",
       "      <th>54846</th>\n",
       "      <td>tt11649614</td>\n",
       "      <td>Hiteumaen</td>\n",
       "      <td>Hiteumaen</td>\n",
       "      <td>2020</td>\n",
       "      <td>2020-01-22</td>\n",
       "      <td>Action, Comedy</td>\n",
       "      <td>110</td>\n",
       "      <td>South Korea</td>\n",
       "      <td>Korean</td>\n",
       "      <td>Won-sub Choi</td>\n",
       "      <td>...</td>\n",
       "      <td>Woo-seul-hye Hwang, Jun-ho Jeong, Sang-Woo Kwo...</td>\n",
       "      <td>While heavily drunk, an unsuccessful comic boo...</td>\n",
       "      <td>6.3</td>\n",
       "      <td>701</td>\n",
       "      <td>NaN</td>\n",
       "      <td>NaN</td>\n",
       "      <td>$ 17601351</td>\n",
       "      <td>NaN</td>\n",
       "      <td>9.0</td>\n",
       "      <td>6.0</td>\n",
       "    </tr>\n",
       "    <tr>\n",
       "      <th>54882</th>\n",
       "      <td>tt11697690</td>\n",
       "      <td>Domangchin yeoja</td>\n",
       "      <td>Domangchin yeoja</td>\n",
       "      <td>2020</td>\n",
       "      <td>2020-09-30</td>\n",
       "      <td>Drama</td>\n",
       "      <td>77</td>\n",
       "      <td>South Korea</td>\n",
       "      <td>Korean</td>\n",
       "      <td>Sang-soo Hong</td>\n",
       "      <td>...</td>\n",
       "      <td>Min-hee Kim, Hae-hyo Kwon, Eun-mi Lee, Seon-mi...</td>\n",
       "      <td>While her husband is on a business trip, Gamhe...</td>\n",
       "      <td>6.9</td>\n",
       "      <td>234</td>\n",
       "      <td>NaN</td>\n",
       "      <td>NaN</td>\n",
       "      <td>NaN</td>\n",
       "      <td>81.0</td>\n",
       "      <td>NaN</td>\n",
       "      <td>20.0</td>\n",
       "    </tr>\n",
       "    <tr>\n",
       "      <th>54931</th>\n",
       "      <td>tt11727052</td>\n",
       "      <td>The Closet</td>\n",
       "      <td>The Closet</td>\n",
       "      <td>2020</td>\n",
       "      <td>2020-02-05</td>\n",
       "      <td>Horror, Mystery</td>\n",
       "      <td>97</td>\n",
       "      <td>South Korea</td>\n",
       "      <td>Korean</td>\n",
       "      <td>Kwang-bin Kim</td>\n",
       "      <td>...</td>\n",
       "      <td>Jung-woo Ha, Yool Heo, Nam-gil Kim, Si-ah Kim,...</td>\n",
       "      <td>After Sang-Won's daughter Yi-Na goes missing i...</td>\n",
       "      <td>5.7</td>\n",
       "      <td>666</td>\n",
       "      <td>NaN</td>\n",
       "      <td>NaN</td>\n",
       "      <td>$ 8603389</td>\n",
       "      <td>NaN</td>\n",
       "      <td>9.0</td>\n",
       "      <td>16.0</td>\n",
       "    </tr>\n",
       "    <tr>\n",
       "      <th>55020</th>\n",
       "      <td>tt11777040</td>\n",
       "      <td>Sanyangeui sigan</td>\n",
       "      <td>Sanyangeui sigan</td>\n",
       "      <td>2020</td>\n",
       "      <td>2020-04-23</td>\n",
       "      <td>Action, Crime, Drama</td>\n",
       "      <td>134</td>\n",
       "      <td>South Korea</td>\n",
       "      <td>Korean</td>\n",
       "      <td>Sung-hyun Yoon</td>\n",
       "      <td>...</td>\n",
       "      <td>Lee Jehoon, Jae-hong Ahn, Woo-sik Choi, Jung-m...</td>\n",
       "      <td>In the near future, a financial crisis will hi...</td>\n",
       "      <td>6.3</td>\n",
       "      <td>2646</td>\n",
       "      <td>NaN</td>\n",
       "      <td>NaN</td>\n",
       "      <td>NaN</td>\n",
       "      <td>NaN</td>\n",
       "      <td>52.0</td>\n",
       "      <td>40.0</td>\n",
       "    </tr>\n",
       "    <tr>\n",
       "      <th>56030</th>\n",
       "      <td>tt12491064</td>\n",
       "      <td>Intruder</td>\n",
       "      <td>Intruder</td>\n",
       "      <td>2020</td>\n",
       "      <td>2020-06-04</td>\n",
       "      <td>Mystery, Thriller</td>\n",
       "      <td>102</td>\n",
       "      <td>South Korea</td>\n",
       "      <td>Korean</td>\n",
       "      <td>Sohn Won-Pyung</td>\n",
       "      <td>...</td>\n",
       "      <td>Mu-Yeol Kim, Ji-Hyo Song</td>\n",
       "      <td>Seo-Jin is a popular architect. He suffers fro...</td>\n",
       "      <td>6.0</td>\n",
       "      <td>484</td>\n",
       "      <td>KRW 6500000000</td>\n",
       "      <td>NaN</td>\n",
       "      <td>$ 4747858</td>\n",
       "      <td>NaN</td>\n",
       "      <td>16.0</td>\n",
       "      <td>4.0</td>\n",
       "    </tr>\n",
       "  </tbody>\n",
       "</table>\n",
       "<p>7 rows × 22 columns</p>\n",
       "</div>"
      ],
      "text/plain": [
       "      imdb_title_id             title    original_title  year date_published  \\\n",
       "53280    tt10620868         #Saraitda         #Saraitda  2020     2020-09-08   \n",
       "54767    tt11566164        Secret Zoo        Secret Zoo  2020     2020-01-15   \n",
       "54846    tt11649614         Hiteumaen         Hiteumaen  2020     2020-01-22   \n",
       "54882    tt11697690  Domangchin yeoja  Domangchin yeoja  2020     2020-09-30   \n",
       "54931    tt11727052        The Closet        The Closet  2020     2020-02-05   \n",
       "55020    tt11777040  Sanyangeui sigan  Sanyangeui sigan  2020     2020-04-23   \n",
       "56030    tt12491064          Intruder          Intruder  2020     2020-06-04   \n",
       "\n",
       "                       genre  duration      country language        director  \\\n",
       "53280  Action, Drama, Horror        98  South Korea   Korean          Il Cho   \n",
       "54767                 Comedy       118  South Korea   Korean     Jae-gon Son   \n",
       "54846         Action, Comedy       110  South Korea   Korean    Won-sub Choi   \n",
       "54882                  Drama        77  South Korea   Korean   Sang-soo Hong   \n",
       "54931        Horror, Mystery        97  South Korea   Korean   Kwang-bin Kim   \n",
       "55020   Action, Crime, Drama       134  South Korea   Korean  Sung-hyun Yoon   \n",
       "56030      Mystery, Thriller       102  South Korea   Korean  Sohn Won-Pyung   \n",
       "\n",
       "       ...                                             actors  \\\n",
       "53280  ...  Ah-In Yoo, Shin-Hye Park, Hyun-Wook Lee, Bae-s...   \n",
       "54767  ...  Jae-hong Ahn, So-ra Kang, Yeong-gyu Park, Seon...   \n",
       "54846  ...  Woo-seul-hye Hwang, Jun-ho Jeong, Sang-Woo Kwo...   \n",
       "54882  ...  Min-hee Kim, Hae-hyo Kwon, Eun-mi Lee, Seon-mi...   \n",
       "54931  ...  Jung-woo Ha, Yool Heo, Nam-gil Kim, Si-ah Kim,...   \n",
       "55020  ...  Lee Jehoon, Jae-hong Ahn, Woo-sik Choi, Jung-m...   \n",
       "56030  ...                           Mu-Yeol Kim, Ji-Hyo Song   \n",
       "\n",
       "                                             description avg_vote votes  \\\n",
       "53280  The rapid spread of an unknown infection has l...      6.2  2043   \n",
       "54767  A lawyer is suckered into running a zoo that h...      6.2   548   \n",
       "54846  While heavily drunk, an unsuccessful comic boo...      6.3   701   \n",
       "54882  While her husband is on a business trip, Gamhe...      6.9   234   \n",
       "54931  After Sang-Won's daughter Yi-Na goes missing i...      5.7   666   \n",
       "55020  In the near future, a financial crisis will hi...      6.3  2646   \n",
       "56030  Seo-Jin is a popular architect. He suffers fro...      6.0   484   \n",
       "\n",
       "               budget  usa_gross_income worlwide_gross_income metascore  \\\n",
       "53280             NaN               NaN            $ 13450928       NaN   \n",
       "54767             NaN               NaN             $ 9457317       NaN   \n",
       "54846             NaN               NaN            $ 17601351       NaN   \n",
       "54882             NaN               NaN                   NaN      81.0   \n",
       "54931             NaN               NaN             $ 8603389       NaN   \n",
       "55020             NaN               NaN                   NaN       NaN   \n",
       "56030  KRW 6500000000               NaN             $ 4747858       NaN   \n",
       "\n",
       "      reviews_from_users  reviews_from_critics  \n",
       "53280               38.0                   7.0  \n",
       "54767                6.0                  15.0  \n",
       "54846                9.0                   6.0  \n",
       "54882                NaN                  20.0  \n",
       "54931                9.0                  16.0  \n",
       "55020               52.0                  40.0  \n",
       "56030               16.0                   4.0  \n",
       "\n",
       "[7 rows x 22 columns]"
      ]
     },
     "execution_count": 19,
     "metadata": {},
     "output_type": "execute_result"
    }
   ],
   "source": [
    "dataset01[(dataset01['language'] == 'Korean') & (dataset01['year'] == 2020)]"
   ]
  },
  {
   "cell_type": "code",
   "execution_count": 20,
   "metadata": {},
   "outputs": [
    {
     "data": {
      "text/plain": [
       "<bound method Series.sort_index of 2017             3223\n",
       "2018             3182\n",
       "2016             2992\n",
       "2015             2764\n",
       "2014             2517\n",
       "                 ... \n",
       "1894                1\n",
       "1978                1\n",
       "1964                1\n",
       "TV Movie 2019       1\n",
       "1976                1\n",
       "Name: year, Length: 168, dtype: int64>"
      ]
     },
     "execution_count": 20,
     "metadata": {},
     "output_type": "execute_result"
    }
   ],
   "source": [
    "dataset01['year'].value_counts().sort_index"
   ]
  },
  {
   "cell_type": "code",
   "execution_count": null,
   "metadata": {},
   "outputs": [],
   "source": []
  },
  {
   "cell_type": "code",
   "execution_count": null,
   "metadata": {},
   "outputs": [],
   "source": []
  }
 ],
 "metadata": {
  "kernelspec": {
   "display_name": "Python 3",
   "language": "python",
   "name": "python3"
  },
  "language_info": {
   "codemirror_mode": {
    "name": "ipython",
    "version": 3
   },
   "file_extension": ".py",
   "mimetype": "text/x-python",
   "name": "python",
   "nbconvert_exporter": "python",
   "pygments_lexer": "ipython3",
   "version": "3.7.9"
  }
 },
 "nbformat": 4,
 "nbformat_minor": 4
}
