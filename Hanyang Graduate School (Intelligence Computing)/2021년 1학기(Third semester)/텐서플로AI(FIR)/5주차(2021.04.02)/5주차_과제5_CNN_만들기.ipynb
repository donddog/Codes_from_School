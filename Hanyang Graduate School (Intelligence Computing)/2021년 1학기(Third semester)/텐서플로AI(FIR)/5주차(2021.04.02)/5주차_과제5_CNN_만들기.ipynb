version https://git-lfs.github.com/spec/v1
oid sha256:6700e86d9f321ef3253bf521fd83b3523804f5d3559cd65e5a4b4adb64350aa2
size 158747
